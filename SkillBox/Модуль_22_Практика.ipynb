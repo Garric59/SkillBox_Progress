{
 "nbformat": 4,
 "nbformat_minor": 0,
 "metadata": {
  "colab": {
   "name": "Модуль 22. Практика.ipynb",
   "provenance": []
  },
  "kernelspec": {
   "name": "python3",
   "display_name": "Python 3"
  },
  "language_info": {
   "name": "python"
  }
 },
 "cells": [
  {
   "cell_type": "markdown",
   "source": [
    "## Практическая работа"
   ],
   "metadata": {
    "id": "Ce0YMaG7Q0-o",
    "pycharm": {
     "name": "#%% md\n"
    }
   }
  },
  {
   "cell_type": "markdown",
   "source": [
    "В этой практической работе четыре обязательные задачи.\n",
    "\n",
    "*Обязательные задачи* нужно сделать для того, чтобы проверить, что вы действительно усвоили материал модуля. Сдайте их на проверку.\n",
    "\n",
    "Удачи!"
   ],
   "metadata": {
    "id": "xkOj0F_FRCJm",
    "pycharm": {
     "name": "#%% md\n"
    }
   }
  },
  {
   "cell_type": "markdown",
   "source": [
    "Цели практической работы: \n",
    "\n",
    "\n",
    "1.   Потренироваться в обучении моделей деревьев решений.\n",
    "2.   Потренироваться в обучении моделей случайного леса. \n",
    "3.   Научиться оценивать качество моделей с помошью Accuracy и confusion matrix.\n",
    "4.   Научиться увеличивать качество моделей с помощью тюнинга параметров.\n",
    "\n",
    "\n"
   ],
   "metadata": {
    "id": "Yt4v4ba7RWA3",
    "pycharm": {
     "name": "#%% md\n"
    }
   }
  },
  {
   "cell_type": "markdown",
   "source": [
    "Что оценивается:\n",
    "\n",
    "*   Все пункты и критерия приёмки задания выполнены.\n",
    "*   Удаление колонок по результатам feature_importance и определения типов производится с помощью кода, а не перечислением их вручную.\n",
    "\n",
    "\n"
   ],
   "metadata": {
    "id": "nPwfq2fISXIk",
    "pycharm": {
     "name": "#%% md\n"
    }
   }
  },
  {
   "cell_type": "markdown",
   "source": [
    "## Обязательные задачи"
   ],
   "metadata": {
    "id": "50fXtdd_R7c5",
    "pycharm": {
     "name": "#%% md\n"
    }
   }
  },
  {
   "cell_type": "markdown",
   "source": [
    "### Описание датасета:\n",
    "- `id`: идентификатор записи;\n",
    "- `is_manufacturer_name`: признак производителя автомобиля;\n",
    "\n",
    "- `region_*`: регион;\n",
    "- `x0_*`: тип топлива;\n",
    "- `manufacturer_*`: производитель;\n",
    "- `short_model_*`: сокращённая модель автомобиля;\n",
    "- `title_status_*`: статус;\n",
    "- `transmission_*`: коробка передач;\n",
    "- `state_*`: штат;\n",
    "- `age_category_*`: возрастная категория автомобиля;\n",
    "\n",
    "- `std_scaled_odometer`: количество пройденных миль (после стандартизации);\n",
    "- `year_std`: год выпуска (после стандартизации);\n",
    "- `lat_std`: широта (после стандартизации);\n",
    "- `long_std`: долгота (после стандартизации);\n",
    "- `odometer/price_std`: отношение стоимости к пробегу автомобиля (после стандартизации);\n",
    "- `desc_len_std`: количество символов в тексте объявления о продаже (после стандартизации);\n",
    "- `model_in_desc_std`: количество наименований модели автомобиля в тексте объявления о продаже (после стандартизации);\n",
    "- `model_len_std`: длина наименования автомобиля (после стандартизации);\n",
    "- `model_word_count_std`: количество слов в наименовании автомобиля (после стандартизации);\n",
    "- `month_std`: номер месяца размещения объявления о продаже автомобиля (после стандартизации);\n",
    "- `dayofweek_std`: день недели размещения объявления о продаже автомобиля (после стандартизации);\n",
    "- `diff_years_std`: количество лет между годом производства автомобиля и годом размещения объявления о продаже автомобиля (после стандартизации);\n",
    "\n",
    "- `price`: стоимость;\n",
    "- `price_category`: категория цены."
   ],
   "metadata": {
    "id": "iy6tzmQfsqgr",
    "pycharm": {
     "name": "#%% md\n"
    }
   }
  },
  {
   "cell_type": "markdown",
   "source": [
    "0. *Подготовка базовой модели*\n",
    "\n",
    "Обучите простую модель классификации с помощью DecisionTreeClassifier на данных из датасета vehicles_dataset_prepared.csv. Для этого сделайте следующие шаги:\n",
    "\n",
    "1. Обучите модель дерева решений с зафиксированным random_state на тренировочной выборке.\n",
    "2. Сделайте предикт на тестовой выборке.\n",
    "3. Замерьте точность на тестовой выборке и выведите матрицу ошибок. \n",
    "4. Удалите фичи с нулевыми весами по feature_importance из тренировочной и тестовой выборок.\n",
    "5. Заново обучите модель и измерьте качество."
   ],
   "metadata": {
    "id": "rGEsBMqETF2f",
    "pycharm": {
     "name": "#%% md\n"
    }
   }
  },
  {
   "cell_type": "code",
   "execution_count": 1,
   "metadata": {
    "id": "pylwtir8Qzrk",
    "pycharm": {
     "name": "#%%\n"
    }
   },
   "outputs": [
    {
     "name": "stdout",
     "output_type": "stream",
     "text": [
      "Wall time: 372 ms\n"
     ]
    }
   ],
   "source": [
    "%%time\n",
    "from turtle import color\n",
    "import pandas as pd\n",
    "import seaborn as sns\n",
    "import numpy as np\n",
    "import matplotlib.pyplot as plt\n",
    "from sklearn.tree import DecisionTreeClassifier\n",
    "from sklearn.model_selection import train_test_split\n",
    "from sklearn.metrics import accuracy_score, confusion_matrix "
   ]
  },
  {
   "cell_type": "code",
   "source": [
    "%%time\n",
    "df = pd.read_csv('data/vehicles_dataset_prepared.csv')\n",
    "\n",
    "df_prepared = df.copy()\n",
    "df_prepared = df_prepared.drop(['price', 'odometer/price_std'], axis=1)\n",
    "\n",
    "x = df_prepared.drop(['price_category'], axis=1)\n",
    "y = df_prepared['price_category']\n",
    "\n",
    "x_train, x_test, y_train, y_test = train_test_split(x, y, test_size=0.3, random_state=42)"
   ],
   "metadata": {
    "id": "IOdbt33LS4RP",
    "pycharm": {
     "name": "#%%\n"
    }
   },
   "execution_count": 2,
   "outputs": [
    {
     "name": "stdout",
     "output_type": "stream",
     "text": [
      "Wall time: 2.24 s\n"
     ]
    }
   ]
  },
  {
   "cell_type": "code",
   "execution_count": 3,
   "outputs": [
    {
     "name": "stdout",
     "output_type": "stream",
     "text": [
      "1.0\n",
      "0.6704781704781705\n",
      "Wall time: 729 ms\n"
     ]
    }
   ],
   "source": [
    "%%time\n",
    "# Создаем экземпляр класса модели DecisionTreeClassifier\n",
    "clf = DecisionTreeClassifier()\n",
    "# Обучим модель с параметрами по умолчанию\n",
    "clf.fit(x_train, y_train)\n",
    "# запишем в переменную clf_predict результат работы модели на тестовых данных и данных на которых модель обучалась\n",
    "clf_predict_tr = clf.predict(x_train)\n",
    "clf_predict_ts = clf.predict(x_test)\n",
    "# Посмотрим качество модели по метрике accuracy_score\n",
    "print(accuracy_score(y_train, clf_predict_tr))\n",
    "print(accuracy_score(y_test, clf_predict_ts))"
   ],
   "metadata": {
    "collapsed": false,
    "pycharm": {
     "name": "#%%\n"
    }
   }
  },
  {
   "cell_type": "code",
   "execution_count": 4,
   "outputs": [
    {
     "name": "stdout",
     "output_type": "stream",
     "text": [
      "Wall time: 10 ms\n"
     ]
    }
   ],
   "source": [
    "%%time\n",
    "# Удалиv фичи с нулевыми весами по feature_importance из тренировочной и тестовой выборок.\n",
    "# Определим веса\n",
    "f_imp_list = list(zip(x_train.columns, clf.feature_importances_))\n",
    "# Создадим список фич с нулевыми весами, для удаления из набора данных\n",
    "drop_column = [x[0] for x in f_imp_list if(x[1]== .0)]\n",
    "# Удалим столбцы dataFrame c нулевыми весами из обучающей и тестовой выборок\n",
    "x_train_clean = x_train.drop(drop_column, axis=1)\n",
    "x_test_clean = x_test.drop(drop_column, axis=1)"
   ],
   "metadata": {
    "collapsed": false,
    "pycharm": {
     "name": "#%%\n"
    }
   }
  },
  {
   "cell_type": "code",
   "execution_count": 5,
   "outputs": [
    {
     "name": "stdout",
     "output_type": "stream",
     "text": [
      "1.0\n",
      "0.6715176715176715\n",
      "Wall time: 310 ms\n"
     ]
    }
   ],
   "source": [
    "%%time\n",
    "# Создаем новый экземпляр класса модели DecisionTreeClassifier\n",
    "clf2 = DecisionTreeClassifier()\n",
    "# Обучим новую модель с параметрами по умолчанию на очищенных данных\n",
    "clf2.fit(x_train_clean, y_train)\n",
    "# запишем в переменную clf_predict результат работы модели на тестовых данных и данных на которых модель обучалась\n",
    "clf_predict_tr2 = clf2.predict(x_train_clean)\n",
    "clf_predict_ts2 = clf2.predict(x_test_clean)\n",
    "# Посмотрим качество модели по метрике accuracy_score\n",
    "print(accuracy_score(y_train, clf_predict_tr2))\n",
    "print(accuracy_score(y_test, clf_predict_ts2))"
   ],
   "metadata": {
    "collapsed": false,
    "pycharm": {
     "name": "#%%\n"
    }
   }
  },
  {
   "cell_type": "markdown",
   "source": [
    "После очистки данных от фичей с нулевыми весами, *accuracy_score* не значительно снизился, но выросла скорость работы модели"
   ],
   "metadata": {
    "collapsed": false,
    "pycharm": {
     "name": "#%% md\n"
    }
   }
  },
  {
   "cell_type": "markdown",
   "source": [
    "1. *Подготовка модели случайного леса*\n",
    "\n",
    "Обучите простую модель классификации с помощью RandomForestClassifier. Для этого сделайте следующие шаги:\n",
    "1. На новых урезанных семплах тренировочной и тестовой выборок обучите модель случайного леса с зафиксированным random_state=50. \n",
    "\n",
    "2. Сделайте предикт и посчитайте точность модели и матрицу ошибок. Сравните с предыдущей моделью дерева решений. Есть ли случаи, когда модель из пункта 1 отрабатывает лучше, чем модель случайного леса?"
   ],
   "metadata": {
    "id": "SgN87pCNe9Sp",
    "pycharm": {
     "name": "#%% md\n"
    }
   }
  },
  {
   "cell_type": "code",
   "source": [
    "%%time\n",
    "# Импортируем модуль\n",
    "from sklearn.ensemble import RandomForestClassifier"
   ],
   "metadata": {
    "id": "V-8MUDTbfxdS",
    "pycharm": {
     "name": "#%%\n"
    }
   },
   "execution_count": 6,
   "outputs": [
    {
     "name": "stdout",
     "output_type": "stream",
     "text": [
      "Wall time: 30 ms\n"
     ]
    }
   ]
  },
  {
   "cell_type": "code",
   "execution_count": 7,
   "outputs": [
    {
     "name": "stdout",
     "output_type": "stream",
     "text": [
      "1.0\n",
      "0.7435897435897436\n",
      "Wall time: 2.23 s\n"
     ]
    }
   ],
   "source": [
    "%%time\n",
    "# ОБУЧИМ БАЗОВУЮ МОДЕЛЬ\n",
    "# Создаем экземпляр класса модели RandomForestClassifier\n",
    "rfc = RandomForestClassifier(random_state=42)\n",
    "# Обучим модель с параметрами по умолчанию\n",
    "rfc.fit(x_train_clean, y_train)\n",
    "# запишем в переменную clf_predict результат работы модели на тестовых данных и данных на которых модель обучалась\n",
    "rfc_predict_tr = rfc.predict(x_train_clean)\n",
    "rfc_predict_ts = rfc.predict(x_test_clean)\n",
    "# Посмотрим качество модели по метрике accuracy_score\n",
    "print(accuracy_score(y_train, rfc_predict_tr))\n",
    "print(accuracy_score(y_test, rfc_predict_ts))"
   ],
   "metadata": {
    "collapsed": false,
    "pycharm": {
     "name": "#%%\n"
    }
   }
  },
  {
   "cell_type": "markdown",
   "source": [
    "2. *Тюнинг модели случайного леса*\n",
    "\n",
    "Увеличьте точность модели на тестовом датасете RandomForestClassifier c помощью тюнинга параметров.\n",
    "\n",
    "Параметры, которые можно настраивать для увеличения точности:\n",
    "\n",
    "```\n",
    "    `bootstrap'\n",
    "    'max_depth'\n",
    "    'max_features'\n",
    "    'min_samples_leaf'\n",
    "    'min_samples_split'\n",
    "    'random_state'\n",
    "    'n_estimators'\n",
    "\n",
    "```\n",
    "\n",
    "\n",
    "\n",
    "С описанием каждого из параметров можно ознакомиться в документации:\n",
    "\n",
    "\n",
    "https://scikit-learn.org/stable/modules/generated/sklearn.ensemble.RandomForestClassifier.html\n",
    "\n",
    "Задание засчитывается, если значение метрики строго выше 0,76 на тестовом датасете."
   ],
   "metadata": {
    "collapsed": false,
    "pycharm": {
     "name": "#%% md\n"
    }
   }
  },
  {
   "cell_type": "markdown",
   "source": [
    "n_estimators — число «деревьев» в «случайном лесу».\n",
    "max_features — число признаков для выбора расщепления.\n",
    "max_depth — максимальная глубина деревьев.\n",
    "min_samples_split — минимальное число объектов, необходимое для того, чтобы узел дерева мог бы расщепиться.\n",
    "min_samples_leaf — минимальное число объектов в листьях.\n",
    "bootstrap — использование для построения деревьев подвыборки с возвращением."
   ],
   "metadata": {
    "collapsed": false,
    "pycharm": {
     "name": "#%% md\n"
    }
   }
  },
  {
   "cell_type": "code",
   "source": [
    "# Посмотрим на параметры модели и соxраним в переменную\n",
    "rfc_param = rfc.get_params()\n",
    "rfc_param"
   ],
   "metadata": {
    "id": "idrArCdef3nr",
    "pycharm": {
     "name": "#%%\n"
    }
   },
   "execution_count": 8,
   "outputs": [
    {
     "data": {
      "text/plain": "{'bootstrap': True,\n 'ccp_alpha': 0.0,\n 'class_weight': None,\n 'criterion': 'gini',\n 'max_depth': None,\n 'max_features': 'sqrt',\n 'max_leaf_nodes': None,\n 'max_samples': None,\n 'min_impurity_decrease': 0.0,\n 'min_samples_leaf': 1,\n 'min_samples_split': 2,\n 'min_weight_fraction_leaf': 0.0,\n 'n_estimators': 100,\n 'n_jobs': None,\n 'oob_score': False,\n 'random_state': 42,\n 'verbose': 0,\n 'warm_start': False}"
     },
     "execution_count": 8,
     "metadata": {},
     "output_type": "execute_result"
    }
   ]
  },
  {
   "cell_type": "code",
   "execution_count": 9,
   "outputs": [
    {
     "name": "stdout",
     "output_type": "stream",
     "text": [
      "Fitting 3 folds for each of 100 candidates, totalling 300 fits\n",
      "Wall time: 6min 42s\n"
     ]
    },
    {
     "data": {
      "text/plain": "{'n_estimators': 900,\n 'max_features': 'log2',\n 'max_depth': 63,\n 'bootstrap': False}"
     },
     "execution_count": 9,
     "metadata": {},
     "output_type": "execute_result"
    }
   ],
   "source": [
    "%%time\n",
    "# Создаем экземпляр класса модели RandomForestClassifier\n",
    "rfc2 = RandomForestClassifier()\n",
    "# Оптимизация гиперпараметров методом перебора по сетке. Используем RandomizedSearchCV, который позволяет довольно грубо исследовать широкие диапазоны значений.\n",
    "from sklearn.model_selection import RandomizedSearchCV\n",
    "n_estimators = [int(x) for x in np.linspace(start = 100, stop = 1000, num = 10)]\n",
    "max_features = ['log2', 'sqrt']\n",
    "max_depth = [int(x) for x in np.linspace(start = 1, stop = 100, num = 60)]\n",
    "#min_samples_split = [int(x) for x in np.linspace(start = 2, stop = 50, num = 10)]\n",
    "#min_samples_leaf = [int(x) for x in np.linspace(start = 2, stop = 50, num = 10)]\n",
    "bootstrap = [True, False]\n",
    "param_dist = {'n_estimators': n_estimators,\n",
    "              'max_features': max_features,\n",
    "              'max_depth': max_depth,\n",
    "              #'min_samples_split': min_samples_split,\n",
    "              #'min_samples_leaf': min_samples_leaf,\n",
    "              'bootstrap': bootstrap}\n",
    "rs = RandomizedSearchCV(rfc2,\n",
    "                        param_dist,\n",
    "                        n_iter = 100,\n",
    "                        cv = 3,\n",
    "                        verbose = 1,\n",
    "                        n_jobs=-1,\n",
    "                        random_state=42)\n",
    "rs.fit(x_train_clean, y_train)\n",
    "rs.best_params_"
   ],
   "metadata": {
    "collapsed": false,
    "pycharm": {
     "name": "#%%\n"
    }
   }
  },
  {
   "cell_type": "code",
   "execution_count": 10,
   "outputs": [
    {
     "name": "stdout",
     "output_type": "stream",
     "text": [
      "Wall time: 3 ms\n"
     ]
    },
    {
     "data": {
      "text/plain": "  param_n_estimators param_max_features param_max_depth param_bootstrap  \\\n0                900               log2              63           False   \n1                800               log2              59           False   \n2                900               log2              86           False   \n3                500               log2              69           False   \n4               1000               log2              49           False   \n5                600               log2              53           False   \n6               1000               log2              42           False   \n7                300               log2              53           False   \n8                300               log2              63           False   \n9                200               log2              94           False   \n\n   mean_test_score  rank_test_score  \n0         0.761772                1  \n1         0.760732                2  \n2         0.759693                3  \n3         0.759099                4  \n4         0.758801                5  \n5         0.758653                6  \n6         0.758356                7  \n7         0.758059                8  \n8         0.757613                9  \n9         0.756128               10  ",
      "text/html": "<div>\n<style scoped>\n    .dataframe tbody tr th:only-of-type {\n        vertical-align: middle;\n    }\n\n    .dataframe tbody tr th {\n        vertical-align: top;\n    }\n\n    .dataframe thead th {\n        text-align: right;\n    }\n</style>\n<table border=\"1\" class=\"dataframe\">\n  <thead>\n    <tr style=\"text-align: right;\">\n      <th></th>\n      <th>param_n_estimators</th>\n      <th>param_max_features</th>\n      <th>param_max_depth</th>\n      <th>param_bootstrap</th>\n      <th>mean_test_score</th>\n      <th>rank_test_score</th>\n    </tr>\n  </thead>\n  <tbody>\n    <tr>\n      <th>0</th>\n      <td>900</td>\n      <td>log2</td>\n      <td>63</td>\n      <td>False</td>\n      <td>0.761772</td>\n      <td>1</td>\n    </tr>\n    <tr>\n      <th>1</th>\n      <td>800</td>\n      <td>log2</td>\n      <td>59</td>\n      <td>False</td>\n      <td>0.760732</td>\n      <td>2</td>\n    </tr>\n    <tr>\n      <th>2</th>\n      <td>900</td>\n      <td>log2</td>\n      <td>86</td>\n      <td>False</td>\n      <td>0.759693</td>\n      <td>3</td>\n    </tr>\n    <tr>\n      <th>3</th>\n      <td>500</td>\n      <td>log2</td>\n      <td>69</td>\n      <td>False</td>\n      <td>0.759099</td>\n      <td>4</td>\n    </tr>\n    <tr>\n      <th>4</th>\n      <td>1000</td>\n      <td>log2</td>\n      <td>49</td>\n      <td>False</td>\n      <td>0.758801</td>\n      <td>5</td>\n    </tr>\n    <tr>\n      <th>5</th>\n      <td>600</td>\n      <td>log2</td>\n      <td>53</td>\n      <td>False</td>\n      <td>0.758653</td>\n      <td>6</td>\n    </tr>\n    <tr>\n      <th>6</th>\n      <td>1000</td>\n      <td>log2</td>\n      <td>42</td>\n      <td>False</td>\n      <td>0.758356</td>\n      <td>7</td>\n    </tr>\n    <tr>\n      <th>7</th>\n      <td>300</td>\n      <td>log2</td>\n      <td>53</td>\n      <td>False</td>\n      <td>0.758059</td>\n      <td>8</td>\n    </tr>\n    <tr>\n      <th>8</th>\n      <td>300</td>\n      <td>log2</td>\n      <td>63</td>\n      <td>False</td>\n      <td>0.757613</td>\n      <td>9</td>\n    </tr>\n    <tr>\n      <th>9</th>\n      <td>200</td>\n      <td>log2</td>\n      <td>94</td>\n      <td>False</td>\n      <td>0.756128</td>\n      <td>10</td>\n    </tr>\n  </tbody>\n</table>\n</div>"
     },
     "execution_count": 10,
     "metadata": {},
     "output_type": "execute_result"
    }
   ],
   "source": [
    "%%time\n",
    "#Посмотрим на параметры и результаты работы алгоритма RandomizedSearchCV. Для этого преобразуем в DataFrame для удобства\n",
    "rs_df = pd.DataFrame(rs.cv_results_).sort_values('rank_test_score').reset_index(drop=True)\n",
    "rs_df = rs_df.drop([\n",
    "    'mean_fit_time',\n",
    "    'std_fit_time',\n",
    "    'mean_score_time',\n",
    "    'std_score_time',\n",
    "    'params',\n",
    "    'split0_test_score',\n",
    "    'split1_test_score',\n",
    "    'split2_test_score',\n",
    "    'std_test_score'],\n",
    "    axis=1)\n",
    "rs_df.head(10)"
   ],
   "metadata": {
    "collapsed": false,
    "pycharm": {
     "name": "#%%\n"
    }
   }
  },
  {
   "cell_type": "code",
   "execution_count": 11,
   "outputs": [
    {
     "name": "stdout",
     "output_type": "stream",
     "text": [
      "Wall time: 1.23 s\n"
     ]
    }
   ],
   "source": [
    "%%time\n",
    "#оценить созданные модели на проверочных данных\n",
    "y_pred_baseline = rfc.predict(x_test_clean)\n",
    "y_pred_rs = rs.best_estimator_.predict(x_test_clean)"
   ],
   "metadata": {
    "collapsed": false,
    "pycharm": {
     "name": "#%%\n"
    }
   }
  },
  {
   "cell_type": "code",
   "execution_count": 12,
   "outputs": [
    {
     "data": {
      "text/plain": "        predicted 0  predicted 1  predicted 2\nhigh            803           34          160\nmedium           14          784          155\nlow             173          204          559",
      "text/html": "<div>\n<style scoped>\n    .dataframe tbody tr th:only-of-type {\n        vertical-align: middle;\n    }\n\n    .dataframe tbody tr th {\n        vertical-align: top;\n    }\n\n    .dataframe thead th {\n        text-align: right;\n    }\n</style>\n<table border=\"1\" class=\"dataframe\">\n  <thead>\n    <tr style=\"text-align: right;\">\n      <th></th>\n      <th>predicted 0</th>\n      <th>predicted 1</th>\n      <th>predicted 2</th>\n    </tr>\n  </thead>\n  <tbody>\n    <tr>\n      <th>high</th>\n      <td>803</td>\n      <td>34</td>\n      <td>160</td>\n    </tr>\n    <tr>\n      <th>medium</th>\n      <td>14</td>\n      <td>784</td>\n      <td>155</td>\n    </tr>\n    <tr>\n      <th>low</th>\n      <td>173</td>\n      <td>204</td>\n      <td>559</td>\n    </tr>\n  </tbody>\n</table>\n</div>"
     },
     "metadata": {},
     "output_type": "display_data"
    },
    {
     "data": {
      "text/plain": "'Baseline DecisionTreeClassifier accuracy_score'"
     },
     "metadata": {},
     "output_type": "display_data"
    },
    {
     "data": {
      "text/plain": "0.7435897435897436"
     },
     "metadata": {},
     "output_type": "display_data"
    },
    {
     "data": {
      "text/plain": "        predicted 0  predicted 1  predicted 2\nhigh            809           33          155\nmedium           12          800          141\nlow             140          200          596",
      "text/html": "<div>\n<style scoped>\n    .dataframe tbody tr th:only-of-type {\n        vertical-align: middle;\n    }\n\n    .dataframe tbody tr th {\n        vertical-align: top;\n    }\n\n    .dataframe thead th {\n        text-align: right;\n    }\n</style>\n<table border=\"1\" class=\"dataframe\">\n  <thead>\n    <tr style=\"text-align: right;\">\n      <th></th>\n      <th>predicted 0</th>\n      <th>predicted 1</th>\n      <th>predicted 2</th>\n    </tr>\n  </thead>\n  <tbody>\n    <tr>\n      <th>high</th>\n      <td>809</td>\n      <td>33</td>\n      <td>155</td>\n    </tr>\n    <tr>\n      <th>medium</th>\n      <td>12</td>\n      <td>800</td>\n      <td>141</td>\n    </tr>\n    <tr>\n      <th>low</th>\n      <td>140</td>\n      <td>200</td>\n      <td>596</td>\n    </tr>\n  </tbody>\n</table>\n</div>"
     },
     "metadata": {},
     "output_type": "display_data"
    },
    {
     "data": {
      "text/plain": "'Random Forest RandomizedSearchCV accuracy_score'"
     },
     "metadata": {},
     "output_type": "display_data"
    },
    {
     "data": {
      "text/plain": "0.764033264033264"
     },
     "metadata": {},
     "output_type": "display_data"
    },
    {
     "name": "stdout",
     "output_type": "stream",
     "text": [
      "Wall time: 40 ms\n"
     ]
    }
   ],
   "source": [
    "%%time\n",
    "#Создадим матрицы ошибок для моделей и узнаем о том, как хорошо каждая из них способна предсказывать\n",
    "conf_matrix_baseline = pd.DataFrame(confusion_matrix(y_test, y_pred_baseline), index = ['high', 'medium', 'low'], columns = ['predicted 0', 'predicted 1', 'predicted 2'])\n",
    "conf_matrix_rs = pd.DataFrame(confusion_matrix(y_test, y_pred_rs), index = ['high', 'medium', 'low'], columns = ['predicted 0', 'predicted 1', 'predicted 2'])\n",
    "display(conf_matrix_baseline)\n",
    "display('Baseline DecisionTreeClassifier accuracy_score', accuracy_score(y_test, y_pred_baseline))\n",
    "display(conf_matrix_rs)\n",
    "display('Random Forest RandomizedSearchCV accuracy_score', accuracy_score(y_test, y_pred_rs))"
   ],
   "metadata": {
    "collapsed": false,
    "pycharm": {
     "name": "#%%\n"
    }
   }
  },
  {
   "cell_type": "markdown",
   "source": [
    "3. *Анализ влияния фичей на модель*\n",
    "\n",
    "Во всех задачах до вы работали над подготовленным датасетом, где фичи были заранее извлечены из текстовых переменных, отскейлены и пропущены через One Hot Encoder. Сравним, какой была бы предсказательная способность модели, если бы мы использовали только сырые данные из исходного датасета. Для этого проделайте следующие шаги:\n",
    "\n",
    "1. Загрузите датасет `vehicles_dataset_old.csv`.\n",
    "2. Удалите из него переменную `price` и все строковые колонки. Дерево решений и случайный лес не умеют самостоятельно работать со строковыми значениями.\n",
    "3. Сформируйте x_train и x_test так же, как они были сформированы в предыдущих заданиях.\n",
    "4. Обучите свою лучшую модель случайного леса на новых данных и замерьте качество. Убедитесь, что оно ухудшилось.\n",
    "5. Найдите три фичи, которые лучшим образом повлияли на предсказательную способность модели."
   ],
   "metadata": {
    "id": "IZaDD5F9h9iu",
    "pycharm": {
     "name": "#%% md\n"
    }
   }
  },
  {
   "cell_type": "code",
   "source": [
    "%%time\n",
    "#Загрузим сырые данне\n",
    "df_old = pd.read_csv('data/vehicles_dataset_old.csv')\n",
    "df_old.head()"
   ],
   "metadata": {
    "colab": {
     "base_uri": "https://localhost:8080/",
     "height": 530
    },
    "id": "ZU1RX06Fh-FM",
    "outputId": "b6e57d99-ced6-453f-b59a-1da6b37d9f67",
    "pycharm": {
     "name": "#%%\n"
    }
   },
   "execution_count": 13,
   "outputs": [
    {
     "name": "stdout",
     "output_type": "stream",
     "text": [
      "Wall time: 511 ms\n"
     ]
    },
    {
     "data": {
      "text/plain": "           id                                                url  \\\n0  7308295377  https://chattanooga.craigslist.org/ctd/d/chatt...   \n1  7316380095  https://newjersey.craigslist.org/ctd/d/carlsta...   \n2  7313733749  https://reno.craigslist.org/ctd/d/atlanta-2017...   \n3  7308210929  https://fayetteville.craigslist.org/ctd/d/rale...   \n4  7303797340  https://knoxville.craigslist.org/ctd/d/knoxvil...   \n\n         region                           region_url  price  year  \\\n0   chattanooga   https://chattanooga.craigslist.org  54990  2020   \n1  north jersey     https://newjersey.craigslist.org  16942  2016   \n2  reno / tahoe          https://reno.craigslist.org  35590  2017   \n3  fayetteville  https://fayetteville.craigslist.org  14500  2013   \n4     knoxville     https://knoxville.craigslist.org  14590  2012   \n\n  manufacturer                   model    fuel  odometer title_status  \\\n0          ram  2500 crew cab big horn  diesel     27442        clean   \n1         ford    explorer 4wd 4dr xlt   other     60023        clean   \n2   volkswagen        golf r hatchback     gas     14048        clean   \n3       toyota                    rav4     gas    117291        clean   \n4          bmw  1 series 128i coupe 2d   other     80465        clean   \n\n  transmission                                          image_url  \\\n0        other  https://images.craigslist.org/00N0N_1xMPvfxRAI...   \n1    automatic  https://images.craigslist.org/00x0x_26jl9F0cnL...   \n2        other  https://images.craigslist.org/00y0y_eeZjWeiSfb...   \n3    automatic  https://images.craigslist.org/00606_iGe5iXidib...   \n4        other  https://images.craigslist.org/00F0F_5UAXmOzC18...   \n\n                                         description state        lat  \\\n0  Carvana is the safer way to buy a car During t...    tn  35.060000   \n1  ***Call Us for more information at: 201-635-14...    nj  40.821805   \n2  Carvana is the safer way to buy a car During t...    ca  33.779214   \n3  2013 Toyota RAV4 XLE 4dr SUV     Offered by: R...    nc  35.715954   \n4  Carvana is the safer way to buy a car During t...    tn  35.970000   \n\n        long              posting_date price_category  \\\n0 -85.250000  2021-04-17T12:30:50-0400           high   \n1 -74.061962  2021-05-03T15:40:21-0400         medium   \n2 -84.411811  2021-04-28T03:52:20-0700           high   \n3 -78.655304  2021-04-17T10:08:57-0400         medium   \n4 -83.940000  2021-04-08T15:10:56-0400         medium   \n\n                        date  \n0  2021-04-17 16:30:50+00:00  \n1  2021-05-03 19:40:21+00:00  \n2  2021-04-28 10:52:20+00:00  \n3  2021-04-17 14:08:57+00:00  \n4  2021-04-08 19:10:56+00:00  ",
      "text/html": "<div>\n<style scoped>\n    .dataframe tbody tr th:only-of-type {\n        vertical-align: middle;\n    }\n\n    .dataframe tbody tr th {\n        vertical-align: top;\n    }\n\n    .dataframe thead th {\n        text-align: right;\n    }\n</style>\n<table border=\"1\" class=\"dataframe\">\n  <thead>\n    <tr style=\"text-align: right;\">\n      <th></th>\n      <th>id</th>\n      <th>url</th>\n      <th>region</th>\n      <th>region_url</th>\n      <th>price</th>\n      <th>year</th>\n      <th>manufacturer</th>\n      <th>model</th>\n      <th>fuel</th>\n      <th>odometer</th>\n      <th>title_status</th>\n      <th>transmission</th>\n      <th>image_url</th>\n      <th>description</th>\n      <th>state</th>\n      <th>lat</th>\n      <th>long</th>\n      <th>posting_date</th>\n      <th>price_category</th>\n      <th>date</th>\n    </tr>\n  </thead>\n  <tbody>\n    <tr>\n      <th>0</th>\n      <td>7308295377</td>\n      <td>https://chattanooga.craigslist.org/ctd/d/chatt...</td>\n      <td>chattanooga</td>\n      <td>https://chattanooga.craigslist.org</td>\n      <td>54990</td>\n      <td>2020</td>\n      <td>ram</td>\n      <td>2500 crew cab big horn</td>\n      <td>diesel</td>\n      <td>27442</td>\n      <td>clean</td>\n      <td>other</td>\n      <td>https://images.craigslist.org/00N0N_1xMPvfxRAI...</td>\n      <td>Carvana is the safer way to buy a car During t...</td>\n      <td>tn</td>\n      <td>35.060000</td>\n      <td>-85.250000</td>\n      <td>2021-04-17T12:30:50-0400</td>\n      <td>high</td>\n      <td>2021-04-17 16:30:50+00:00</td>\n    </tr>\n    <tr>\n      <th>1</th>\n      <td>7316380095</td>\n      <td>https://newjersey.craigslist.org/ctd/d/carlsta...</td>\n      <td>north jersey</td>\n      <td>https://newjersey.craigslist.org</td>\n      <td>16942</td>\n      <td>2016</td>\n      <td>ford</td>\n      <td>explorer 4wd 4dr xlt</td>\n      <td>other</td>\n      <td>60023</td>\n      <td>clean</td>\n      <td>automatic</td>\n      <td>https://images.craigslist.org/00x0x_26jl9F0cnL...</td>\n      <td>***Call Us for more information at: 201-635-14...</td>\n      <td>nj</td>\n      <td>40.821805</td>\n      <td>-74.061962</td>\n      <td>2021-05-03T15:40:21-0400</td>\n      <td>medium</td>\n      <td>2021-05-03 19:40:21+00:00</td>\n    </tr>\n    <tr>\n      <th>2</th>\n      <td>7313733749</td>\n      <td>https://reno.craigslist.org/ctd/d/atlanta-2017...</td>\n      <td>reno / tahoe</td>\n      <td>https://reno.craigslist.org</td>\n      <td>35590</td>\n      <td>2017</td>\n      <td>volkswagen</td>\n      <td>golf r hatchback</td>\n      <td>gas</td>\n      <td>14048</td>\n      <td>clean</td>\n      <td>other</td>\n      <td>https://images.craigslist.org/00y0y_eeZjWeiSfb...</td>\n      <td>Carvana is the safer way to buy a car During t...</td>\n      <td>ca</td>\n      <td>33.779214</td>\n      <td>-84.411811</td>\n      <td>2021-04-28T03:52:20-0700</td>\n      <td>high</td>\n      <td>2021-04-28 10:52:20+00:00</td>\n    </tr>\n    <tr>\n      <th>3</th>\n      <td>7308210929</td>\n      <td>https://fayetteville.craigslist.org/ctd/d/rale...</td>\n      <td>fayetteville</td>\n      <td>https://fayetteville.craigslist.org</td>\n      <td>14500</td>\n      <td>2013</td>\n      <td>toyota</td>\n      <td>rav4</td>\n      <td>gas</td>\n      <td>117291</td>\n      <td>clean</td>\n      <td>automatic</td>\n      <td>https://images.craigslist.org/00606_iGe5iXidib...</td>\n      <td>2013 Toyota RAV4 XLE 4dr SUV     Offered by: R...</td>\n      <td>nc</td>\n      <td>35.715954</td>\n      <td>-78.655304</td>\n      <td>2021-04-17T10:08:57-0400</td>\n      <td>medium</td>\n      <td>2021-04-17 14:08:57+00:00</td>\n    </tr>\n    <tr>\n      <th>4</th>\n      <td>7303797340</td>\n      <td>https://knoxville.craigslist.org/ctd/d/knoxvil...</td>\n      <td>knoxville</td>\n      <td>https://knoxville.craigslist.org</td>\n      <td>14590</td>\n      <td>2012</td>\n      <td>bmw</td>\n      <td>1 series 128i coupe 2d</td>\n      <td>other</td>\n      <td>80465</td>\n      <td>clean</td>\n      <td>other</td>\n      <td>https://images.craigslist.org/00F0F_5UAXmOzC18...</td>\n      <td>Carvana is the safer way to buy a car During t...</td>\n      <td>tn</td>\n      <td>35.970000</td>\n      <td>-83.940000</td>\n      <td>2021-04-08T15:10:56-0400</td>\n      <td>medium</td>\n      <td>2021-04-08 19:10:56+00:00</td>\n    </tr>\n  </tbody>\n</table>\n</div>"
     },
     "execution_count": 13,
     "metadata": {},
     "output_type": "execute_result"
    }
   ]
  },
  {
   "cell_type": "code",
   "execution_count": 14,
   "outputs": [
    {
     "name": "stdout",
     "output_type": "stream",
     "text": [
      "<class 'pandas.core.frame.DataFrame'>\n",
      "RangeIndex: 9619 entries, 0 to 9618\n",
      "Data columns (total 20 columns):\n",
      " #   Column          Non-Null Count  Dtype  \n",
      "---  ------          --------------  -----  \n",
      " 0   id              9619 non-null   int64  \n",
      " 1   url             9619 non-null   object \n",
      " 2   region          9619 non-null   object \n",
      " 3   region_url      9619 non-null   object \n",
      " 4   price           9619 non-null   int64  \n",
      " 5   year            9619 non-null   int64  \n",
      " 6   manufacturer    9619 non-null   object \n",
      " 7   model           9619 non-null   object \n",
      " 8   fuel            9619 non-null   object \n",
      " 9   odometer        9619 non-null   int64  \n",
      " 10  title_status    9619 non-null   object \n",
      " 11  transmission    9619 non-null   object \n",
      " 12  image_url       9619 non-null   object \n",
      " 13  description     9619 non-null   object \n",
      " 14  state           9619 non-null   object \n",
      " 15  lat             9619 non-null   float64\n",
      " 16  long            9619 non-null   float64\n",
      " 17  posting_date    9619 non-null   object \n",
      " 18  price_category  9619 non-null   object \n",
      " 19  date            9619 non-null   object \n",
      "dtypes: float64(2), int64(4), object(14)\n",
      "memory usage: 1.5+ MB\n",
      "Wall time: 15 ms\n"
     ]
    }
   ],
   "source": [
    "%%time\n",
    "#Посмотрим на типы переменных с помощью метода info\n",
    "df_old.info()"
   ],
   "metadata": {
    "collapsed": false,
    "pycharm": {
     "name": "#%%\n"
    }
   }
  },
  {
   "cell_type": "code",
   "source": [
    "%%time\n",
    "#Удалим лишние переменные из нашего набора данных\n",
    "#Посмотрим размерность DataFrame\n",
    "display(df_old.shape)\n",
    "#Удалим переменную price\n",
    "df_old_edit = df_old.drop(['price'], axis=1)\n",
    "#Посмотрим размерность DataFram-а\n",
    "display(df_old_edit.shape)"
   ],
   "metadata": {
    "id": "zfvSGcFlqi-j",
    "pycharm": {
     "name": "#%%\n"
    }
   },
   "execution_count": 15,
   "outputs": [
    {
     "data": {
      "text/plain": "(9619, 20)"
     },
     "metadata": {},
     "output_type": "display_data"
    },
    {
     "data": {
      "text/plain": "(9619, 19)"
     },
     "metadata": {},
     "output_type": "display_data"
    },
    {
     "name": "stdout",
     "output_type": "stream",
     "text": [
      "Wall time: 6 ms\n"
     ]
    }
   ]
  },
  {
   "cell_type": "code",
   "execution_count": 16,
   "outputs": [
    {
     "data": {
      "text/plain": "Index(['id', 'url', 'region', 'region_url', 'year', 'manufacturer', 'model',\n       'fuel', 'odometer', 'title_status', 'transmission', 'image_url',\n       'description', 'state', 'lat', 'long', 'posting_date', 'price_category',\n       'date'],\n      dtype='object')"
     },
     "execution_count": 16,
     "metadata": {},
     "output_type": "execute_result"
    }
   ],
   "source": [
    "df_old_edit.columns"
   ],
   "metadata": {
    "collapsed": false,
    "pycharm": {
     "name": "#%%\n"
    }
   }
  },
  {
   "cell_type": "code",
   "execution_count": 17,
   "outputs": [
    {
     "data": {
      "text/plain": "((9619, 18), (9619,))"
     },
     "execution_count": 17,
     "metadata": {},
     "output_type": "execute_result"
    }
   ],
   "source": [
    "#Отделим целевую переменную\n",
    "y = df_old_edit['price_category']\n",
    "X = df_old_edit.drop(['price_category'], axis=1)\n",
    "X.shape, y.shape"
   ],
   "metadata": {
    "collapsed": false,
    "pycharm": {
     "name": "#%%\n"
    }
   }
  },
  {
   "cell_type": "code",
   "execution_count": 18,
   "outputs": [
    {
     "data": {
      "text/plain": "Index(['url', 'region', 'region_url', 'manufacturer', 'model', 'fuel',\n       'title_status', 'transmission', 'image_url', 'description', 'state',\n       'posting_date', 'date'],\n      dtype='object')"
     },
     "metadata": {},
     "output_type": "display_data"
    },
    {
     "name": "stdout",
     "output_type": "stream",
     "text": [
      "Wall time: 5 ms\n"
     ]
    }
   ],
   "source": [
    "%%time\n",
    "#Получим список не числовых переменных\n",
    "object_columns = X.select_dtypes(['object']).columns\n",
    "display(object_columns)"
   ],
   "metadata": {
    "collapsed": false,
    "pycharm": {
     "name": "#%%\n"
    }
   }
  },
  {
   "cell_type": "code",
   "execution_count": 19,
   "outputs": [
    {
     "data": {
      "text/plain": "(9619, 5)"
     },
     "metadata": {},
     "output_type": "display_data"
    },
    {
     "name": "stdout",
     "output_type": "stream",
     "text": [
      "Wall time: 3 ms\n"
     ]
    }
   ],
   "source": [
    "%%time\n",
    "#Удалим все не числовые переменные\n",
    "X = X.drop(object_columns, axis=1)\n",
    "#Посмотрим размерность DataFram-а\n",
    "display(X.shape)"
   ],
   "metadata": {
    "collapsed": false,
    "pycharm": {
     "name": "#%%\n"
    }
   }
  },
  {
   "cell_type": "code",
   "execution_count": 20,
   "outputs": [
    {
     "name": "stdout",
     "output_type": "stream",
     "text": [
      "Wall time: 0 ns\n"
     ]
    },
    {
     "data": {
      "text/plain": "           id  year  odometer        lat       long\n0  7308295377  2020     27442  35.060000 -85.250000\n1  7316380095  2016     60023  40.821805 -74.061962\n2  7313733749  2017     14048  33.779214 -84.411811\n3  7308210929  2013    117291  35.715954 -78.655304\n4  7303797340  2012     80465  35.970000 -83.940000",
      "text/html": "<div>\n<style scoped>\n    .dataframe tbody tr th:only-of-type {\n        vertical-align: middle;\n    }\n\n    .dataframe tbody tr th {\n        vertical-align: top;\n    }\n\n    .dataframe thead th {\n        text-align: right;\n    }\n</style>\n<table border=\"1\" class=\"dataframe\">\n  <thead>\n    <tr style=\"text-align: right;\">\n      <th></th>\n      <th>id</th>\n      <th>year</th>\n      <th>odometer</th>\n      <th>lat</th>\n      <th>long</th>\n    </tr>\n  </thead>\n  <tbody>\n    <tr>\n      <th>0</th>\n      <td>7308295377</td>\n      <td>2020</td>\n      <td>27442</td>\n      <td>35.060000</td>\n      <td>-85.250000</td>\n    </tr>\n    <tr>\n      <th>1</th>\n      <td>7316380095</td>\n      <td>2016</td>\n      <td>60023</td>\n      <td>40.821805</td>\n      <td>-74.061962</td>\n    </tr>\n    <tr>\n      <th>2</th>\n      <td>7313733749</td>\n      <td>2017</td>\n      <td>14048</td>\n      <td>33.779214</td>\n      <td>-84.411811</td>\n    </tr>\n    <tr>\n      <th>3</th>\n      <td>7308210929</td>\n      <td>2013</td>\n      <td>117291</td>\n      <td>35.715954</td>\n      <td>-78.655304</td>\n    </tr>\n    <tr>\n      <th>4</th>\n      <td>7303797340</td>\n      <td>2012</td>\n      <td>80465</td>\n      <td>35.970000</td>\n      <td>-83.940000</td>\n    </tr>\n  </tbody>\n</table>\n</div>"
     },
     "execution_count": 20,
     "metadata": {},
     "output_type": "execute_result"
    }
   ],
   "source": [
    "%%time\n",
    "X.head()"
   ],
   "metadata": {
    "collapsed": false,
    "pycharm": {
     "name": "#%%\n"
    }
   }
  },
  {
   "cell_type": "code",
   "execution_count": 21,
   "outputs": [
    {
     "name": "stdout",
     "output_type": "stream",
     "text": [
      "Wall time: 8 ms\n"
     ]
    }
   ],
   "source": [
    "%%time\n",
    "#Разделим на обучающую и тестовую выборки\n",
    "x_train, x_test, y_train, y_test = train_test_split(X, y, test_size=0.3, random_state=42)"
   ],
   "metadata": {
    "collapsed": false,
    "pycharm": {
     "name": "#%%\n"
    }
   }
  },
  {
   "cell_type": "code",
   "execution_count": 22,
   "outputs": [
    {
     "data": {
      "text/plain": "RandomForestClassifier(bootstrap=False, max_depth=63, max_features='log2',\n                       n_estimators=900)",
      "text/html": "<style>#sk-container-id-1 {color: black;background-color: white;}#sk-container-id-1 pre{padding: 0;}#sk-container-id-1 div.sk-toggleable {background-color: white;}#sk-container-id-1 label.sk-toggleable__label {cursor: pointer;display: block;width: 100%;margin-bottom: 0;padding: 0.3em;box-sizing: border-box;text-align: center;}#sk-container-id-1 label.sk-toggleable__label-arrow:before {content: \"▸\";float: left;margin-right: 0.25em;color: #696969;}#sk-container-id-1 label.sk-toggleable__label-arrow:hover:before {color: black;}#sk-container-id-1 div.sk-estimator:hover label.sk-toggleable__label-arrow:before {color: black;}#sk-container-id-1 div.sk-toggleable__content {max-height: 0;max-width: 0;overflow: hidden;text-align: left;background-color: #f0f8ff;}#sk-container-id-1 div.sk-toggleable__content pre {margin: 0.2em;color: black;border-radius: 0.25em;background-color: #f0f8ff;}#sk-container-id-1 input.sk-toggleable__control:checked~div.sk-toggleable__content {max-height: 200px;max-width: 100%;overflow: auto;}#sk-container-id-1 input.sk-toggleable__control:checked~label.sk-toggleable__label-arrow:before {content: \"▾\";}#sk-container-id-1 div.sk-estimator input.sk-toggleable__control:checked~label.sk-toggleable__label {background-color: #d4ebff;}#sk-container-id-1 div.sk-label input.sk-toggleable__control:checked~label.sk-toggleable__label {background-color: #d4ebff;}#sk-container-id-1 input.sk-hidden--visually {border: 0;clip: rect(1px 1px 1px 1px);clip: rect(1px, 1px, 1px, 1px);height: 1px;margin: -1px;overflow: hidden;padding: 0;position: absolute;width: 1px;}#sk-container-id-1 div.sk-estimator {font-family: monospace;background-color: #f0f8ff;border: 1px dotted black;border-radius: 0.25em;box-sizing: border-box;margin-bottom: 0.5em;}#sk-container-id-1 div.sk-estimator:hover {background-color: #d4ebff;}#sk-container-id-1 div.sk-parallel-item::after {content: \"\";width: 100%;border-bottom: 1px solid gray;flex-grow: 1;}#sk-container-id-1 div.sk-label:hover label.sk-toggleable__label {background-color: #d4ebff;}#sk-container-id-1 div.sk-serial::before {content: \"\";position: absolute;border-left: 1px solid gray;box-sizing: border-box;top: 0;bottom: 0;left: 50%;z-index: 0;}#sk-container-id-1 div.sk-serial {display: flex;flex-direction: column;align-items: center;background-color: white;padding-right: 0.2em;padding-left: 0.2em;position: relative;}#sk-container-id-1 div.sk-item {position: relative;z-index: 1;}#sk-container-id-1 div.sk-parallel {display: flex;align-items: stretch;justify-content: center;background-color: white;position: relative;}#sk-container-id-1 div.sk-item::before, #sk-container-id-1 div.sk-parallel-item::before {content: \"\";position: absolute;border-left: 1px solid gray;box-sizing: border-box;top: 0;bottom: 0;left: 50%;z-index: -1;}#sk-container-id-1 div.sk-parallel-item {display: flex;flex-direction: column;z-index: 1;position: relative;background-color: white;}#sk-container-id-1 div.sk-parallel-item:first-child::after {align-self: flex-end;width: 50%;}#sk-container-id-1 div.sk-parallel-item:last-child::after {align-self: flex-start;width: 50%;}#sk-container-id-1 div.sk-parallel-item:only-child::after {width: 0;}#sk-container-id-1 div.sk-dashed-wrapped {border: 1px dashed gray;margin: 0 0.4em 0.5em 0.4em;box-sizing: border-box;padding-bottom: 0.4em;background-color: white;}#sk-container-id-1 div.sk-label label {font-family: monospace;font-weight: bold;display: inline-block;line-height: 1.2em;}#sk-container-id-1 div.sk-label-container {text-align: center;}#sk-container-id-1 div.sk-container {/* jupyter's `normalize.less` sets `[hidden] { display: none; }` but bootstrap.min.css set `[hidden] { display: none !important; }` so we also need the `!important` here to be able to override the default hidden behavior on the sphinx rendered scikit-learn.org. See: https://github.com/scikit-learn/scikit-learn/issues/21755 */display: inline-block !important;position: relative;}#sk-container-id-1 div.sk-text-repr-fallback {display: none;}</style><div id=\"sk-container-id-1\" class=\"sk-top-container\"><div class=\"sk-text-repr-fallback\"><pre>RandomForestClassifier(bootstrap=False, max_depth=63, max_features=&#x27;log2&#x27;,\n                       n_estimators=900)</pre><b>In a Jupyter environment, please rerun this cell to show the HTML representation or trust the notebook. <br />On GitHub, the HTML representation is unable to render, please try loading this page with nbviewer.org.</b></div><div class=\"sk-container\" hidden><div class=\"sk-item\"><div class=\"sk-estimator sk-toggleable\"><input class=\"sk-toggleable__control sk-hidden--visually\" id=\"sk-estimator-id-1\" type=\"checkbox\" checked><label for=\"sk-estimator-id-1\" class=\"sk-toggleable__label sk-toggleable__label-arrow\">RandomForestClassifier</label><div class=\"sk-toggleable__content\"><pre>RandomForestClassifier(bootstrap=False, max_depth=63, max_features=&#x27;log2&#x27;,\n                       n_estimators=900)</pre></div></div></div></div></div>"
     },
     "execution_count": 22,
     "metadata": {},
     "output_type": "execute_result"
    }
   ],
   "source": [
    "rs_2 = rs.best_estimator_\n",
    "rs_2.fit(x_train, y_train)"
   ],
   "metadata": {
    "collapsed": false,
    "pycharm": {
     "name": "#%%\n"
    }
   }
  },
  {
   "cell_type": "code",
   "execution_count": 23,
   "outputs": [
    {
     "name": "stdout",
     "output_type": "stream",
     "text": [
      "Wall time: 652 ms\n"
     ]
    }
   ],
   "source": [
    "%%time\n",
    "#оценить созданные модели на проверочных данных\n",
    "y_pred_rs_2 = rs_2.predict(x_test)"
   ],
   "metadata": {
    "collapsed": false,
    "pycharm": {
     "name": "#%%\n"
    }
   }
  },
  {
   "cell_type": "code",
   "execution_count": 24,
   "outputs": [
    {
     "data": {
      "text/plain": "        predicted 0  predicted 1  predicted 2\nhigh            809           33          155\nmedium           12          800          141\nlow             140          200          596",
      "text/html": "<div>\n<style scoped>\n    .dataframe tbody tr th:only-of-type {\n        vertical-align: middle;\n    }\n\n    .dataframe tbody tr th {\n        vertical-align: top;\n    }\n\n    .dataframe thead th {\n        text-align: right;\n    }\n</style>\n<table border=\"1\" class=\"dataframe\">\n  <thead>\n    <tr style=\"text-align: right;\">\n      <th></th>\n      <th>predicted 0</th>\n      <th>predicted 1</th>\n      <th>predicted 2</th>\n    </tr>\n  </thead>\n  <tbody>\n    <tr>\n      <th>high</th>\n      <td>809</td>\n      <td>33</td>\n      <td>155</td>\n    </tr>\n    <tr>\n      <th>medium</th>\n      <td>12</td>\n      <td>800</td>\n      <td>141</td>\n    </tr>\n    <tr>\n      <th>low</th>\n      <td>140</td>\n      <td>200</td>\n      <td>596</td>\n    </tr>\n  </tbody>\n</table>\n</div>"
     },
     "metadata": {},
     "output_type": "display_data"
    },
    {
     "data": {
      "text/plain": "'Random Forest RandomizedSearchCV accuracy_score'"
     },
     "metadata": {},
     "output_type": "display_data"
    },
    {
     "data": {
      "text/plain": "0.764033264033264"
     },
     "metadata": {},
     "output_type": "display_data"
    },
    {
     "data": {
      "text/plain": "        predicted 0  predicted 1  predicted 2\nhigh            690           76          231\nmedium           48          698          207\nlow             272          234          430",
      "text/html": "<div>\n<style scoped>\n    .dataframe tbody tr th:only-of-type {\n        vertical-align: middle;\n    }\n\n    .dataframe tbody tr th {\n        vertical-align: top;\n    }\n\n    .dataframe thead th {\n        text-align: right;\n    }\n</style>\n<table border=\"1\" class=\"dataframe\">\n  <thead>\n    <tr style=\"text-align: right;\">\n      <th></th>\n      <th>predicted 0</th>\n      <th>predicted 1</th>\n      <th>predicted 2</th>\n    </tr>\n  </thead>\n  <tbody>\n    <tr>\n      <th>high</th>\n      <td>690</td>\n      <td>76</td>\n      <td>231</td>\n    </tr>\n    <tr>\n      <th>medium</th>\n      <td>48</td>\n      <td>698</td>\n      <td>207</td>\n    </tr>\n    <tr>\n      <th>low</th>\n      <td>272</td>\n      <td>234</td>\n      <td>430</td>\n    </tr>\n  </tbody>\n</table>\n</div>"
     },
     "metadata": {},
     "output_type": "display_data"
    },
    {
     "data": {
      "text/plain": "'Random Forest RandomizedSearchCV No Scaler data accuracy_score'"
     },
     "metadata": {},
     "output_type": "display_data"
    },
    {
     "data": {
      "text/plain": "0.6299376299376299"
     },
     "metadata": {},
     "output_type": "display_data"
    },
    {
     "name": "stdout",
     "output_type": "stream",
     "text": [
      "Wall time: 35 ms\n"
     ]
    }
   ],
   "source": [
    "%%time\n",
    "#Создадим матрицы ошибок для моделей и узнаем о том, как хорошо каждая из них способна предсказывать\n",
    "conf_matrix_rs = pd.DataFrame(confusion_matrix(y_test, y_pred_rs), index = ['high', 'medium', 'low'], columns = ['predicted 0', 'predicted 1', 'predicted 2'])\n",
    "conf_matrix_rs_2 = pd.DataFrame(confusion_matrix(y_test, y_pred_rs_2), index = ['high', 'medium', 'low'], columns = ['predicted 0', 'predicted 1', 'predicted 2'])\n",
    "display(conf_matrix_rs)\n",
    "display('Random Forest RandomizedSearchCV accuracy_score', accuracy_score(y_test, y_pred_rs))\n",
    "display(conf_matrix_rs_2)\n",
    "display('Random Forest RandomizedSearchCV No Scaler data accuracy_score', accuracy_score(y_test, y_pred_rs_2))"
   ],
   "metadata": {
    "collapsed": false,
    "pycharm": {
     "name": "#%%\n"
    }
   }
  },
  {
   "cell_type": "code",
   "execution_count": 53,
   "outputs": [
    {
     "data": {
      "text/plain": "<Figure size 1152x576 with 1 Axes>",
      "image/png": "[encoded data removed]"
     },
     "metadata": {},
     "output_type": "display_data"
    }
   ],
   "source": [
    "fig, axs = plt.subplots()\n",
    "fig.set_size_inches(16,8)\n",
    "\n",
    "sorted_idx = rs_2.feature_importances_.argsort()\n",
    "sns.barplot(x=X.columns[sorted_idx], y=rs_2.feature_importances_[sorted_idx], color='coral')\n",
    "axs.set_ylim([.01,.28])\n",
    "axs.set_title(label = 'Feature Importance', size=15, weight='bold')\n",
    "axs.hlines(.167, 0,4)\n",
    "plt.xlabel(\"Random Forest Feature Importance\")\n",
    "plt.show()"
   ],
   "metadata": {
    "collapsed": false,
    "pycharm": {
     "name": "#%%\n"
    }
   }
  },
  {
   "cell_type": "markdown",
   "source": [
    "#### Три фичи, которые лучшим образом повлияли на предсказательную способность модели: odometer, year и id"
   ],
   "metadata": {
    "collapsed": false,
    "pycharm": {
     "name": "#%% md\n"
    }
   }
  }
 ]
}