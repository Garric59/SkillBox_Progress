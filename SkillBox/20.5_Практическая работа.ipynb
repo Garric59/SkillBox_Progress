{
 "cells": [
  {
   "cell_type": "markdown",
   "id": "20d02d60",
   "metadata": {
    "id": "20d02d60",
    "pycharm": {
     "name": "#%% md\n"
    }
   },
   "source": [
    "# Feature Engineering. Практическая работа"
   ]
  },
  {
   "cell_type": "markdown",
   "id": "zy6qaMPhyAZd",
   "metadata": {
    "id": "zy6qaMPhyAZd",
    "pycharm": {
     "name": "#%% md\n"
    }
   },
   "source": [
    "Сдаётся на проверку."
   ]
  },
  {
   "cell_type": "markdown",
   "id": "df9d0fa3",
   "metadata": {
    "id": "df9d0fa3",
    "pycharm": {
     "name": "#%% md\n"
    }
   },
   "source": [
    "## Цели практической работы\n",
    "1. Потренироваться генерировать дополнительные признаки с помощью lambda-функций.\n",
    "2. Потренироваться генерировать дополнительные строковые признаки.\n",
    "3. Познакомиться с обработкой данных с помощью библиотеки Scikit-learn.\n",
    "4. Научиться нормализовывать количественные признаки.\n",
    "5. Научиться применять кодирование категориальных переменных.\n",
    "6. Научиться выделять признаки из временнЫх переменных.\n",
    "7. Подготовить датасет к этапу моделирования."
   ]
  },
  {
   "cell_type": "markdown",
   "id": "c4a1bdf2",
   "metadata": {
    "id": "c4a1bdf2",
    "pycharm": {
     "name": "#%% md\n"
    }
   },
   "source": [
    "## Что входит в практическую работу\n",
    "1. Загрузить датасет и ознакомиться с ним.\n",
    "2. Сгенерировать дополнительные признаки для этапа моделирования, используя lambda-функции и функции над строками.\n",
    "3. Нормализовать количественные признаки.\n",
    "4. Применить кодирование категориальных переменных.\n",
    "5. Выделить признаки из временнЫх переменных."
   ]
  },
  {
   "cell_type": "markdown",
   "id": "cefde751",
   "metadata": {
    "id": "cefde751",
    "pycharm": {
     "name": "#%% md\n"
    }
   },
   "source": [
    "## Что оценивается\n",
    "- Программа выдаёт верный ответ на заданном наборе данных.\n",
    "- Описаны причины выбранного решения, если требуется.\n",
    "- Код читабелен: переменным даны осмысленные названия, соблюдены отступы и правила расстановки пробелов.\n",
    "- При построении графиков название и оси подписаны, выведена легенда, если требуется. \n",
    "- Репозиторий проекта содержит осмысленные коммиты, содержащие конкретные реализованные фичи, ветки названы согласно назначению, лишние файлы не хранятся в репозитории.\n",
    "- В репозитории проекта соблюдена иерархия директорий согласно списку модулей и содержащихся в них тем.\n",
    "- Репозиторий проекта содержит файлы с данными, полученными в результате выполнения практической работы.\n"
   ]
  },
  {
   "cell_type": "markdown",
   "id": "d8cc2cfd",
   "metadata": {
    "id": "d8cc2cfd",
    "pycharm": {
     "name": "#%% md\n"
    }
   },
   "source": [
    "## Как отправить работу на проверку\n",
    "Сдайте практическую работу этого модуля через систему контроля версий Git сервиса Skillbox GitLab. После загрузки работы на проверку напишите об этом в личном кабинете своему проверяющему куратору.\n"
   ]
  },
  {
   "cell_type": "markdown",
   "id": "3092d4ea",
   "metadata": {
    "id": "3092d4ea",
    "pycharm": {
     "name": "#%% md\n"
    }
   },
   "source": [
    "## Задача\n",
    "\n",
    "Мы продолжим исследовать и готовить данные для этапа моделирования.\n",
    "\n",
    "Вам предстоит работать с небольшой выборкой из коллекции подержанных автомобилей, выставленных на продажу в Соединённых Штатах, представленной в файле `data/vehicles_dataset_upd.csv`. На этих данных вы построите первую модель классификации, определяющую категорию цены подержанного автомобиля в зависимости от характеристик транспортного средства.\n",
    "\n",
    "В этой практической работе вы продолжите генерировать дополнительные признаки и завершите подготовку датасета для этапа моделирования.\n",
    "\n",
    "## Описание датасета:\n",
    "- `id`: идентификатор записи;\n",
    "- `url`: URL-записи о продаже;\n",
    "- `region`: регион;\n",
    "- `region_url`: URL региона;\n",
    "- `price`: стоимость;\n",
    "- `year`: год выпуска;\n",
    "- `manufacturer`: производитель;\n",
    "- `model`: модель;\n",
    "- `condition`: состояние;\n",
    "- `cylinders`: количество цилиндров;\n",
    "- `fuel`: тип топлива;\n",
    "- `odometer`: количество пройденных миль;\n",
    "- `title_status`: статус;\n",
    "- `transmission`: коробка передач;\n",
    "- `VIN`: идентификационный номер;\n",
    "- `drive`: тип привода;\n",
    "- `size`: размер;\n",
    "- `type`: кузов;\n",
    "- `paint_color`: цвет;\n",
    "- `image_url`: URL изображения;\n",
    "- `description`: указанное описание;\n",
    "- `county`: страна;\n",
    "- `state`: штат;\n",
    "- `lat`: широта;\n",
    "- `long`: долгота;\n",
    "- `posting_date`: дата размещения объявления о продаже;\n",
    "- `price_category`: категория цены.\n"
   ]
  },
  {
   "cell_type": "code",
   "execution_count": 1,
   "id": "859c4d2b",
   "metadata": {
    "ExecuteTime": {
     "end_time": "2022-02-23T19:39:15.915860Z",
     "start_time": "2022-02-23T19:39:15.902436Z"
    },
    "id": "859c4d2b",
    "pycharm": {
     "name": "#%%\n"
    }
   },
   "outputs": [],
   "source": [
    "# Импортируем необходимые библиотеки\n",
    "import pandas as pd\n",
    "import matplotlib.pyplot as plt\n",
    "import numpy as np\n",
    "from sklearn.preprocessing import OneHotEncoder\n",
    "from sklearn.preprocessing import StandardScaler"
   ]
  },
  {
   "cell_type": "markdown",
   "id": "a98b05f6",
   "metadata": {
    "id": "a98b05f6",
    "pycharm": {
     "name": "#%% md\n"
    }
   },
   "source": [
    "### Задача 1. Построение признаков из строк\n",
    "\n",
    "1. Загрузите датасет из `data/vehicles_dataset_upd6.csv`, выведите первые 5 записей и список колонок."
   ]
  },
  {
   "cell_type": "code",
   "execution_count": 2,
   "id": "d536ad11",
   "metadata": {
    "ExecuteTime": {
     "end_time": "2022-03-15T22:40:23.588946Z",
     "start_time": "2022-03-15T22:40:23.585461Z"
    },
    "id": "d536ad11",
    "pycharm": {
     "name": "#%%\n"
    }
   },
   "outputs": [
    {
     "data": {
      "text/plain": "           id                                                url  \\\n0  7308295377  https://chattanooga.craigslist.org/ctd/d/chatt...   \n1  7316380095  https://newjersey.craigslist.org/ctd/d/carlsta...   \n2  7313733749  https://reno.craigslist.org/ctd/d/atlanta-2017...   \n3  7308210929  https://fayetteville.craigslist.org/ctd/d/rale...   \n4  7303797340  https://knoxville.craigslist.org/ctd/d/knoxvil...   \n\n         region                           region_url  price  year  \\\n0   chattanooga   https://chattanooga.craigslist.org  54990  2020   \n1  north jersey     https://newjersey.craigslist.org  16942  2016   \n2  reno / tahoe          https://reno.craigslist.org  35590  2017   \n3  fayetteville  https://fayetteville.craigslist.org  14500  2013   \n4     knoxville     https://knoxville.craigslist.org  14590  2012   \n\n  manufacturer                   model    fuel  odometer  ... is_jeep  \\\n0          ram  2500 crew cab big horn  diesel     27442  ...       0   \n1         ford    explorer 4wd 4dr xlt   other     60023  ...       0   \n2   volkswagen        golf r hatchback     gas     14048  ...       0   \n3       toyota                    rav4     gas    117291  ...       0   \n4          bmw  1 series 128i coupe 2d   other     80465  ...       0   \n\n  is_honda is_nissan x0_diesel x0_electric  x0_gas  x0_hybrid x0_other  \\\n0        0         0       1.0         0.0     0.0        0.0      0.0   \n1        0         0       0.0         0.0     0.0        0.0      1.0   \n2        0         0       0.0         0.0     1.0        0.0      0.0   \n3        0         0       0.0         0.0     1.0        0.0      0.0   \n4        0         0       0.0         0.0     0.0        0.0      1.0   \n\n  std_scaled_odometer std_scaled_price  \n0           -1.079390         2.958509  \n1           -0.560115        -0.085826  \n2           -1.292863         1.406256  \n3            0.352621        -0.281218  \n4           -0.234311        -0.274017  \n\n[5 rows x 45 columns]",
      "text/html": "<div>\n<style scoped>\n    .dataframe tbody tr th:only-of-type {\n        vertical-align: middle;\n    }\n\n    .dataframe tbody tr th {\n        vertical-align: top;\n    }\n\n    .dataframe thead th {\n        text-align: right;\n    }\n</style>\n<table border=\"1\" class=\"dataframe\">\n  <thead>\n    <tr style=\"text-align: right;\">\n      <th></th>\n      <th>id</th>\n      <th>url</th>\n      <th>region</th>\n      <th>region_url</th>\n      <th>price</th>\n      <th>year</th>\n      <th>manufacturer</th>\n      <th>model</th>\n      <th>fuel</th>\n      <th>odometer</th>\n      <th>...</th>\n      <th>is_jeep</th>\n      <th>is_honda</th>\n      <th>is_nissan</th>\n      <th>x0_diesel</th>\n      <th>x0_electric</th>\n      <th>x0_gas</th>\n      <th>x0_hybrid</th>\n      <th>x0_other</th>\n      <th>std_scaled_odometer</th>\n      <th>std_scaled_price</th>\n    </tr>\n  </thead>\n  <tbody>\n    <tr>\n      <th>0</th>\n      <td>7308295377</td>\n      <td>https://chattanooga.craigslist.org/ctd/d/chatt...</td>\n      <td>chattanooga</td>\n      <td>https://chattanooga.craigslist.org</td>\n      <td>54990</td>\n      <td>2020</td>\n      <td>ram</td>\n      <td>2500 crew cab big horn</td>\n      <td>diesel</td>\n      <td>27442</td>\n      <td>...</td>\n      <td>0</td>\n      <td>0</td>\n      <td>0</td>\n      <td>1.0</td>\n      <td>0.0</td>\n      <td>0.0</td>\n      <td>0.0</td>\n      <td>0.0</td>\n      <td>-1.079390</td>\n      <td>2.958509</td>\n    </tr>\n    <tr>\n      <th>1</th>\n      <td>7316380095</td>\n      <td>https://newjersey.craigslist.org/ctd/d/carlsta...</td>\n      <td>north jersey</td>\n      <td>https://newjersey.craigslist.org</td>\n      <td>16942</td>\n      <td>2016</td>\n      <td>ford</td>\n      <td>explorer 4wd 4dr xlt</td>\n      <td>other</td>\n      <td>60023</td>\n      <td>...</td>\n      <td>0</td>\n      <td>0</td>\n      <td>0</td>\n      <td>0.0</td>\n      <td>0.0</td>\n      <td>0.0</td>\n      <td>0.0</td>\n      <td>1.0</td>\n      <td>-0.560115</td>\n      <td>-0.085826</td>\n    </tr>\n    <tr>\n      <th>2</th>\n      <td>7313733749</td>\n      <td>https://reno.craigslist.org/ctd/d/atlanta-2017...</td>\n      <td>reno / tahoe</td>\n      <td>https://reno.craigslist.org</td>\n      <td>35590</td>\n      <td>2017</td>\n      <td>volkswagen</td>\n      <td>golf r hatchback</td>\n      <td>gas</td>\n      <td>14048</td>\n      <td>...</td>\n      <td>0</td>\n      <td>0</td>\n      <td>0</td>\n      <td>0.0</td>\n      <td>0.0</td>\n      <td>1.0</td>\n      <td>0.0</td>\n      <td>0.0</td>\n      <td>-1.292863</td>\n      <td>1.406256</td>\n    </tr>\n    <tr>\n      <th>3</th>\n      <td>7308210929</td>\n      <td>https://fayetteville.craigslist.org/ctd/d/rale...</td>\n      <td>fayetteville</td>\n      <td>https://fayetteville.craigslist.org</td>\n      <td>14500</td>\n      <td>2013</td>\n      <td>toyota</td>\n      <td>rav4</td>\n      <td>gas</td>\n      <td>117291</td>\n      <td>...</td>\n      <td>0</td>\n      <td>0</td>\n      <td>0</td>\n      <td>0.0</td>\n      <td>0.0</td>\n      <td>1.0</td>\n      <td>0.0</td>\n      <td>0.0</td>\n      <td>0.352621</td>\n      <td>-0.281218</td>\n    </tr>\n    <tr>\n      <th>4</th>\n      <td>7303797340</td>\n      <td>https://knoxville.craigslist.org/ctd/d/knoxvil...</td>\n      <td>knoxville</td>\n      <td>https://knoxville.craigslist.org</td>\n      <td>14590</td>\n      <td>2012</td>\n      <td>bmw</td>\n      <td>1 series 128i coupe 2d</td>\n      <td>other</td>\n      <td>80465</td>\n      <td>...</td>\n      <td>0</td>\n      <td>0</td>\n      <td>0</td>\n      <td>0.0</td>\n      <td>0.0</td>\n      <td>0.0</td>\n      <td>0.0</td>\n      <td>1.0</td>\n      <td>-0.234311</td>\n      <td>-0.274017</td>\n    </tr>\n  </tbody>\n</table>\n<p>5 rows × 45 columns</p>\n</div>"
     },
     "execution_count": 2,
     "metadata": {},
     "output_type": "execute_result"
    }
   ],
   "source": [
    "# Загружаем данные\n",
    "df = pd.read_csv('data/vehicles_dataset_upd6.csv')\n",
    "df.head()"
   ]
  },
  {
   "cell_type": "code",
   "execution_count": 3,
   "outputs": [
    {
     "data": {
      "text/plain": "(9619, 45)"
     },
     "execution_count": 3,
     "metadata": {},
     "output_type": "execute_result"
    }
   ],
   "source": [
    "df.shape"
   ],
   "metadata": {
    "collapsed": false,
    "pycharm": {
     "name": "#%%\n"
    }
   }
  },
  {
   "cell_type": "markdown",
   "id": "c46630e3",
   "metadata": {
    "id": "c46630e3",
    "pycharm": {
     "name": "#%% md\n"
    }
   },
   "source": [
    "2. Выведите список значений и количество уникальных значений для модели автомобиля."
   ]
  },
  {
   "cell_type": "code",
   "execution_count": 4,
   "outputs": [
    {
     "data": {
      "text/plain": "(3341,)"
     },
     "execution_count": 4,
     "metadata": {},
     "output_type": "execute_result"
    }
   ],
   "source": [
    "# Kоличество уникальных значений для модели автомобиля\n",
    "df.model.unique().shape"
   ],
   "metadata": {
    "collapsed": false,
    "pycharm": {
     "name": "#%%\n"
    }
   }
  },
  {
   "cell_type": "code",
   "execution_count": 5,
   "id": "12c123d6",
   "metadata": {
    "ExecuteTime": {
     "end_time": "2022-03-15T22:40:29.330321Z",
     "start_time": "2022-03-15T22:40:29.326988Z"
    },
    "id": "12c123d6",
    "pycharm": {
     "name": "#%%\n"
    }
   },
   "outputs": [
    {
     "data": {
      "text/plain": "f-150                        145\nother                        107\nsilverado 1500               105\n1500                          99\ncamry                         76\n                            ... \nsierra1500 crewcab 4x4         1\ncorolla se                     1\nxc60 t6 inscription sport      1\nsilverado 1500 ls              1\na3 2.0t premium plus pzev      1\nName: model, Length: 3341, dtype: int64"
     },
     "execution_count": 5,
     "metadata": {},
     "output_type": "execute_result"
    }
   ],
   "source": [
    "# Список значений и количество уникальных значений для модели автомобиля\n",
    "df.model.value_counts()"
   ]
  },
  {
   "cell_type": "markdown",
   "id": "bcf1904b",
   "metadata": {
    "id": "bcf1904b",
    "pycharm": {
     "name": "#%% md\n"
    }
   },
   "source": [
    "3. Количество уникальных значений велико. Попробуем их сократить, оставив только первое слово в наименовании модели. С помощью lambda-функции и преобразования над строками создайте новый признак `short_model`, содержащий только первое слово из наименования модели, выведите его и количество получившихся уникальных значений."
   ]
  },
  {
   "cell_type": "code",
   "execution_count": 6,
   "id": "6de1d535",
   "metadata": {
    "ExecuteTime": {
     "end_time": "2022-03-15T22:40:30.465505Z",
     "start_time": "2022-03-15T22:40:30.460032Z"
    },
    "id": "6de1d535",
    "pycharm": {
     "name": "#%%\n"
    }
   },
   "outputs": [],
   "source": [
    "# Ваш код здесь\n",
    "df['short_model'] = df.model.apply(lambda x: x.lower().split(' ')[0])"
   ]
  },
  {
   "cell_type": "code",
   "execution_count": 7,
   "outputs": [
    {
     "data": {
      "text/plain": "(906,)"
     },
     "execution_count": 7,
     "metadata": {},
     "output_type": "execute_result"
    }
   ],
   "source": [
    "df.short_model.unique().shape"
   ],
   "metadata": {
    "collapsed": false,
    "pycharm": {
     "name": "#%%\n"
    }
   }
  },
  {
   "cell_type": "code",
   "execution_count": 8,
   "outputs": [
    {
     "data": {
      "text/plain": "silverado     392\n1500          205\nwrangler      204\ngrand         202\nf-150         197\n             ... \nxj8             1\nmitusbishi      1\ngl450           1\nsierra1500      1\ngs350           1\nName: short_model, Length: 906, dtype: int64"
     },
     "execution_count": 8,
     "metadata": {},
     "output_type": "execute_result"
    }
   ],
   "source": [
    "df.short_model.value_counts()"
   ],
   "metadata": {
    "collapsed": false,
    "pycharm": {
     "name": "#%%\n"
    }
   }
  },
  {
   "cell_type": "markdown",
   "id": "f8266e27",
   "metadata": {
    "ExecuteTime": {
     "end_time": "2022-01-28T23:12:51.463454Z",
     "start_time": "2022-01-28T23:12:51.458075Z"
    },
    "id": "f8266e27",
    "pycharm": {
     "name": "#%% md\n"
    }
   },
   "source": [
    "### Задача 2. Преобразование категориальных переменных\n",
    "\n",
    "1. Для категориальных переменных `short_model`, `transmission`, `region`, `manufacturer`, `state`, `title_status`, `age_category` распечатайте наименование категории и количество уникальных значений в ней.\n"
   ]
  },
  {
   "cell_type": "code",
   "execution_count": 9,
   "id": "a839bd7c",
   "metadata": {
    "ExecuteTime": {
     "end_time": "2022-03-15T22:40:31.559424Z",
     "start_time": "2022-03-15T22:40:31.552170Z"
    },
    "id": "a839bd7c",
    "pycharm": {
     "name": "#%%\n"
    }
   },
   "outputs": [
    {
     "name": "stdout",
     "output_type": "stream",
     "text": [
      "short_model 906\n",
      "transmission 3\n",
      "region 393\n",
      "manufacturer 40\n",
      "state 51\n",
      "title_status 6\n",
      "age_category 3\n"
     ]
    }
   ],
   "source": [
    "# Сохраним категориальные переменные short_model, transmission, region, manufacturer, state, title_status, age_category в отдельный список\n",
    "columns_categorical = ['short_model', 'transmission', 'region', 'manufacturer', 'state', 'title_status', 'age_category']\n",
    "# Наименование категории и количество уникальных значений в ней.\n",
    "for col in columns_categorical:\n",
    "    print(col, df[col].unique().shape[0])"
   ]
  },
  {
   "cell_type": "markdown",
   "id": "6d22ddcd",
   "metadata": {
    "id": "6d22ddcd",
    "pycharm": {
     "name": "#%% md\n"
    }
   },
   "source": [
    "2. Создайте датафрейм `data`, содержащий только выбранные категориальные переменные."
   ]
  },
  {
   "cell_type": "code",
   "execution_count": 10,
   "id": "c6fb4d53",
   "metadata": {
    "ExecuteTime": {
     "end_time": "2022-03-15T22:40:32.233510Z",
     "start_time": "2022-03-15T22:40:32.226777Z"
    },
    "id": "c6fb4d53",
    "pycharm": {
     "name": "#%%\n"
    }
   },
   "outputs": [
    {
     "data": {
      "text/plain": "     short_model transmission                   region manufacturer state  \\\n9614        rav4    automatic               chautauqua       toyota    ny   \n9615    wrangler        other               binghamton         jeep    ny   \n9616          a3    automatic                    salem         audi    or   \n9617     cayenne    automatic                  madison      porsche    wi   \n9618        1500        other  norfolk / hampton roads          ram    va   \n\n     title_status age_category  \n9614        clean          old  \n9615        clean      average  \n9616        clean      average  \n9617        clean          new  \n9618        clean          new  ",
      "text/html": "<div>\n<style scoped>\n    .dataframe tbody tr th:only-of-type {\n        vertical-align: middle;\n    }\n\n    .dataframe tbody tr th {\n        vertical-align: top;\n    }\n\n    .dataframe thead th {\n        text-align: right;\n    }\n</style>\n<table border=\"1\" class=\"dataframe\">\n  <thead>\n    <tr style=\"text-align: right;\">\n      <th></th>\n      <th>short_model</th>\n      <th>transmission</th>\n      <th>region</th>\n      <th>manufacturer</th>\n      <th>state</th>\n      <th>title_status</th>\n      <th>age_category</th>\n    </tr>\n  </thead>\n  <tbody>\n    <tr>\n      <th>9614</th>\n      <td>rav4</td>\n      <td>automatic</td>\n      <td>chautauqua</td>\n      <td>toyota</td>\n      <td>ny</td>\n      <td>clean</td>\n      <td>old</td>\n    </tr>\n    <tr>\n      <th>9615</th>\n      <td>wrangler</td>\n      <td>other</td>\n      <td>binghamton</td>\n      <td>jeep</td>\n      <td>ny</td>\n      <td>clean</td>\n      <td>average</td>\n    </tr>\n    <tr>\n      <th>9616</th>\n      <td>a3</td>\n      <td>automatic</td>\n      <td>salem</td>\n      <td>audi</td>\n      <td>or</td>\n      <td>clean</td>\n      <td>average</td>\n    </tr>\n    <tr>\n      <th>9617</th>\n      <td>cayenne</td>\n      <td>automatic</td>\n      <td>madison</td>\n      <td>porsche</td>\n      <td>wi</td>\n      <td>clean</td>\n      <td>new</td>\n    </tr>\n    <tr>\n      <th>9618</th>\n      <td>1500</td>\n      <td>other</td>\n      <td>norfolk / hampton roads</td>\n      <td>ram</td>\n      <td>va</td>\n      <td>clean</td>\n      <td>new</td>\n    </tr>\n  </tbody>\n</table>\n</div>"
     },
     "execution_count": 10,
     "metadata": {},
     "output_type": "execute_result"
    }
   ],
   "source": [
    "# Создаем новый датафрейм data, содержащий только выбранные категориальные переменные\n",
    "data = df[columns_categorical]\n",
    "data.tail()"
   ]
  },
  {
   "cell_type": "code",
   "execution_count": 11,
   "outputs": [
    {
     "data": {
      "text/plain": "(9619, 7)"
     },
     "execution_count": 11,
     "metadata": {},
     "output_type": "execute_result"
    }
   ],
   "source": [
    "data.shape"
   ],
   "metadata": {
    "collapsed": false,
    "pycharm": {
     "name": "#%%\n"
    }
   }
  },
  {
   "cell_type": "markdown",
   "id": "cac34814",
   "metadata": {
    "id": "cac34814",
    "pycharm": {
     "name": "#%% md\n"
    }
   },
   "source": [
    "3. Создайте объект класса OneHotEncoder, который будет отвечать за преобразование. Уточните, что на выходе должна быть неразреженная матрица."
   ]
  },
  {
   "cell_type": "code",
   "execution_count": 12,
   "id": "5c64ca58",
   "metadata": {
    "ExecuteTime": {
     "end_time": "2022-03-15T22:40:33.034009Z",
     "start_time": "2022-03-15T22:40:33.028764Z"
    },
    "id": "5c64ca58",
    "pycharm": {
     "name": "#%%\n"
    }
   },
   "outputs": [
    {
     "data": {
      "text/plain": "OneHotEncoder(sparse=False)"
     },
     "execution_count": 12,
     "metadata": {},
     "output_type": "execute_result"
    }
   ],
   "source": [
    "# Создаем объект класса OneHotEncoder\n",
    "ohe = OneHotEncoder(sparse=False)\n",
    "ohe"
   ]
  },
  {
   "cell_type": "markdown",
   "id": "26a44ecc",
   "metadata": {
    "id": "26a44ecc",
    "pycharm": {
     "name": "#%% md\n"
    }
   },
   "source": [
    "4. Идентифицируйте параметры преобразования на датафрейме с категориальными переменными."
   ]
  },
  {
   "cell_type": "code",
   "execution_count": 13,
   "id": "295f2ffc",
   "metadata": {
    "ExecuteTime": {
     "end_time": "2022-03-15T22:40:33.874311Z",
     "start_time": "2022-03-15T22:40:33.871463Z"
    },
    "id": "295f2ffc",
    "pycharm": {
     "name": "#%%\n"
    }
   },
   "outputs": [
    {
     "data": {
      "text/plain": "OneHotEncoder(sparse=False)"
     },
     "execution_count": 13,
     "metadata": {},
     "output_type": "execute_result"
    }
   ],
   "source": [
    "# Идентифицируем параметры преобразования\n",
    "ohe.fit(df[columns_categorical])"
   ]
  },
  {
   "cell_type": "markdown",
   "id": "e5504b8d",
   "metadata": {
    "id": "e5504b8d",
    "pycharm": {
     "name": "#%% md\n"
    }
   },
   "source": [
    "5. Примените преобразование для датафрейма с категориальными переменными и сохраните в новую переменную, распечатайте получившуюся матрицу и её размерность."
   ]
  },
  {
   "cell_type": "code",
   "execution_count": 14,
   "id": "10d8356c",
   "metadata": {
    "ExecuteTime": {
     "end_time": "2022-03-15T22:40:34.519702Z",
     "start_time": "2022-03-15T22:40:34.516796Z"
    },
    "id": "10d8356c",
    "pycharm": {
     "name": "#%%\n"
    }
   },
   "outputs": [
    {
     "data": {
      "text/plain": "array([[0., 0., 0., ..., 0., 1., 0.],\n       [0., 0., 0., ..., 0., 1., 0.],\n       [0., 0., 0., ..., 0., 1., 0.],\n       ...,\n       [0., 0., 0., ..., 1., 0., 0.],\n       [0., 0., 0., ..., 0., 1., 0.],\n       [0., 0., 0., ..., 0., 1., 0.]])"
     },
     "execution_count": 14,
     "metadata": {},
     "output_type": "execute_result"
    }
   ],
   "source": [
    "# Применим преобразование для датафрейма с категориальными переменными и сохраним в новую переменную\n",
    "ohe_data = ohe.transform(df[columns_categorical])\n",
    "ohe_data"
   ]
  },
  {
   "cell_type": "code",
   "execution_count": 15,
   "outputs": [
    {
     "data": {
      "text/plain": "(9619, 1402)"
     },
     "execution_count": 15,
     "metadata": {},
     "output_type": "execute_result"
    }
   ],
   "source": [
    "ohe_data.shape"
   ],
   "metadata": {
    "collapsed": false,
    "pycharm": {
     "name": "#%%\n"
    }
   }
  },
  {
   "cell_type": "markdown",
   "id": "490cf3fa",
   "metadata": {
    "id": "490cf3fa",
    "pycharm": {
     "name": "#%% md\n"
    }
   },
   "source": [
    "6. Выведите новые наименования признаков с помощью метода `get_feature_names_out`."
   ]
  },
  {
   "cell_type": "code",
   "execution_count": 135,
   "id": "a5ee48ea",
   "metadata": {
    "ExecuteTime": {
     "end_time": "2022-03-15T22:40:35.296004Z",
     "start_time": "2022-03-15T22:40:35.291879Z"
    },
    "id": "a5ee48ea",
    "pycharm": {
     "name": "#%%\n"
    }
   },
   "outputs": [
    {
     "data": {
      "text/plain": "array(['short_model_-benz', 'short_model_1', 'short_model_124', ...,\n       'age_category_average', 'age_category_new', 'age_category_old'],\n      dtype=object)"
     },
     "execution_count": 135,
     "metadata": {},
     "output_type": "execute_result"
    }
   ],
   "source": [
    "# Получим новые наименования признаков с помощью метода get_feature_names_out.\n",
    "ohe.get_feature_names_out()"
   ]
  },
  {
   "cell_type": "markdown",
   "id": "115aed73",
   "metadata": {
    "id": "115aed73",
    "pycharm": {
     "name": "#%% md\n"
    }
   },
   "source": [
    "7. Добавьте в исходный датафрейм получившиеся новые признаки, выведите первые 5 записей датафрейма и список колонок."
   ]
  },
  {
   "cell_type": "code",
   "execution_count": 138,
   "id": "0062ac07",
   "metadata": {
    "ExecuteTime": {
     "end_time": "2022-03-15T22:40:35.978083Z",
     "start_time": "2022-03-15T22:40:35.970249Z"
    },
    "id": "0062ac07",
    "pycharm": {
     "name": "#%%\n"
    }
   },
   "outputs": [
    {
     "name": "stderr",
     "output_type": "stream",
     "text": [
      "D:\\Users\\garri\\anaconda3\\lib\\site-packages\\sklearn\\utils\\deprecation.py:87: FutureWarning: Function get_feature_names is deprecated; get_feature_names is deprecated in 1.0 and will be removed in 1.2. Please use get_feature_names_out instead.\n",
      "  warnings.warn(msg, category=FutureWarning)\n"
     ]
    },
    {
     "data": {
      "text/plain": "           id                                                url  \\\n0  7308295377  https://chattanooga.craigslist.org/ctd/d/chatt...   \n1  7316380095  https://newjersey.craigslist.org/ctd/d/carlsta...   \n2  7313733749  https://reno.craigslist.org/ctd/d/atlanta-2017...   \n3  7308210929  https://fayetteville.craigslist.org/ctd/d/rale...   \n4  7303797340  https://knoxville.craigslist.org/ctd/d/knoxvil...   \n\n         region                           region_url  price  year  \\\n0   chattanooga   https://chattanooga.craigslist.org  54990  2020   \n1  north jersey     https://newjersey.craigslist.org  16942  2016   \n2  reno / tahoe          https://reno.craigslist.org  35590  2017   \n3  fayetteville  https://fayetteville.craigslist.org  14500  2013   \n4     knoxville     https://knoxville.craigslist.org  14590  2012   \n\n  manufacturer                   model    fuel  odometer  ... model_len_std  \\\n0          ram  2500 crew cab big horn  diesel     27442  ...      1.163032   \n1         ford    explorer 4wd 4dr xlt   other     60023  ...      0.932087   \n2   volkswagen        golf r hatchback     gas     14048  ...      0.470197   \n3       toyota                    rav4     gas    117291  ...     -0.915473   \n4          bmw  1 series 128i coupe 2d   other     80465  ...      1.163032   \n\n  model_word_count_std    lat_mm   long_mm month  dayofweek  diff_years  \\\n0             1.910669  0.341769  0.288699     4          5           1   \n1             1.235799  0.468665  0.333055     5          0           5   \n2             0.560930  0.313561  0.292022     4          2           4   \n3            -0.788810  0.356215  0.314844     4          5           8   \n4             1.910669  0.361810  0.293893     4          3           9   \n\n  month_std dayofweek_std diff_years_std  \n0 -0.615846      1.120284      -1.322394  \n1  1.623784     -1.374972      -0.695973  \n2 -0.615846     -0.376870      -0.852578  \n3 -0.615846      1.120284      -0.226157  \n4 -0.615846      0.122182      -0.069552  \n\n[5 rows x 1462 columns]",
      "text/html": "<div>\n<style scoped>\n    .dataframe tbody tr th:only-of-type {\n        vertical-align: middle;\n    }\n\n    .dataframe tbody tr th {\n        vertical-align: top;\n    }\n\n    .dataframe thead th {\n        text-align: right;\n    }\n</style>\n<table border=\"1\" class=\"dataframe\">\n  <thead>\n    <tr style=\"text-align: right;\">\n      <th></th>\n      <th>id</th>\n      <th>url</th>\n      <th>region</th>\n      <th>region_url</th>\n      <th>price</th>\n      <th>year</th>\n      <th>manufacturer</th>\n      <th>model</th>\n      <th>fuel</th>\n      <th>odometer</th>\n      <th>...</th>\n      <th>model_len_std</th>\n      <th>model_word_count_std</th>\n      <th>lat_mm</th>\n      <th>long_mm</th>\n      <th>month</th>\n      <th>dayofweek</th>\n      <th>diff_years</th>\n      <th>month_std</th>\n      <th>dayofweek_std</th>\n      <th>diff_years_std</th>\n    </tr>\n  </thead>\n  <tbody>\n    <tr>\n      <th>0</th>\n      <td>7308295377</td>\n      <td>https://chattanooga.craigslist.org/ctd/d/chatt...</td>\n      <td>chattanooga</td>\n      <td>https://chattanooga.craigslist.org</td>\n      <td>54990</td>\n      <td>2020</td>\n      <td>ram</td>\n      <td>2500 crew cab big horn</td>\n      <td>diesel</td>\n      <td>27442</td>\n      <td>...</td>\n      <td>1.163032</td>\n      <td>1.910669</td>\n      <td>0.341769</td>\n      <td>0.288699</td>\n      <td>4</td>\n      <td>5</td>\n      <td>1</td>\n      <td>-0.615846</td>\n      <td>1.120284</td>\n      <td>-1.322394</td>\n    </tr>\n    <tr>\n      <th>1</th>\n      <td>7316380095</td>\n      <td>https://newjersey.craigslist.org/ctd/d/carlsta...</td>\n      <td>north jersey</td>\n      <td>https://newjersey.craigslist.org</td>\n      <td>16942</td>\n      <td>2016</td>\n      <td>ford</td>\n      <td>explorer 4wd 4dr xlt</td>\n      <td>other</td>\n      <td>60023</td>\n      <td>...</td>\n      <td>0.932087</td>\n      <td>1.235799</td>\n      <td>0.468665</td>\n      <td>0.333055</td>\n      <td>5</td>\n      <td>0</td>\n      <td>5</td>\n      <td>1.623784</td>\n      <td>-1.374972</td>\n      <td>-0.695973</td>\n    </tr>\n    <tr>\n      <th>2</th>\n      <td>7313733749</td>\n      <td>https://reno.craigslist.org/ctd/d/atlanta-2017...</td>\n      <td>reno / tahoe</td>\n      <td>https://reno.craigslist.org</td>\n      <td>35590</td>\n      <td>2017</td>\n      <td>volkswagen</td>\n      <td>golf r hatchback</td>\n      <td>gas</td>\n      <td>14048</td>\n      <td>...</td>\n      <td>0.470197</td>\n      <td>0.560930</td>\n      <td>0.313561</td>\n      <td>0.292022</td>\n      <td>4</td>\n      <td>2</td>\n      <td>4</td>\n      <td>-0.615846</td>\n      <td>-0.376870</td>\n      <td>-0.852578</td>\n    </tr>\n    <tr>\n      <th>3</th>\n      <td>7308210929</td>\n      <td>https://fayetteville.craigslist.org/ctd/d/rale...</td>\n      <td>fayetteville</td>\n      <td>https://fayetteville.craigslist.org</td>\n      <td>14500</td>\n      <td>2013</td>\n      <td>toyota</td>\n      <td>rav4</td>\n      <td>gas</td>\n      <td>117291</td>\n      <td>...</td>\n      <td>-0.915473</td>\n      <td>-0.788810</td>\n      <td>0.356215</td>\n      <td>0.314844</td>\n      <td>4</td>\n      <td>5</td>\n      <td>8</td>\n      <td>-0.615846</td>\n      <td>1.120284</td>\n      <td>-0.226157</td>\n    </tr>\n    <tr>\n      <th>4</th>\n      <td>7303797340</td>\n      <td>https://knoxville.craigslist.org/ctd/d/knoxvil...</td>\n      <td>knoxville</td>\n      <td>https://knoxville.craigslist.org</td>\n      <td>14590</td>\n      <td>2012</td>\n      <td>bmw</td>\n      <td>1 series 128i coupe 2d</td>\n      <td>other</td>\n      <td>80465</td>\n      <td>...</td>\n      <td>1.163032</td>\n      <td>1.910669</td>\n      <td>0.361810</td>\n      <td>0.293893</td>\n      <td>4</td>\n      <td>3</td>\n      <td>9</td>\n      <td>-0.615846</td>\n      <td>0.122182</td>\n      <td>-0.069552</td>\n    </tr>\n  </tbody>\n</table>\n<p>5 rows × 1462 columns</p>\n</div>"
     },
     "execution_count": 138,
     "metadata": {},
     "output_type": "execute_result"
    }
   ],
   "source": [
    "# Добавим в исходный датафрейм получившиеся новые признаки\n",
    "df[ohe.get_feature_names()] = ohe_data\n",
    "df.head()"
   ]
  },
  {
   "cell_type": "markdown",
   "id": "4eddeddb",
   "metadata": {
    "id": "4eddeddb",
    "pycharm": {
     "name": "#%% md\n"
    }
   },
   "source": [
    "8. Посмотрите на результат обратного преобразования получившейся матрицы в исходные признаки, используйте `inverse_transform`."
   ]
  },
  {
   "cell_type": "code",
   "execution_count": 18,
   "id": "0f2613e6",
   "metadata": {
    "ExecuteTime": {
     "end_time": "2022-03-15T22:40:45.647004Z",
     "start_time": "2022-03-15T22:40:45.641686Z"
    },
    "id": "0f2613e6",
    "pycharm": {
     "name": "#%%\n"
    }
   },
   "outputs": [
    {
     "data": {
      "text/plain": "array([['2500', 'other', 'chattanooga', ..., 'tn', 'clean', 'new'],\n       ['explorer', 'automatic', 'north jersey', ..., 'nj', 'clean',\n        'new'],\n       ['golf', 'other', 'reno / tahoe', ..., 'ca', 'clean', 'new'],\n       ...,\n       ['a3', 'automatic', 'salem', ..., 'or', 'clean', 'average'],\n       ['cayenne', 'automatic', 'madison', ..., 'wi', 'clean', 'new'],\n       ['1500', 'other', 'norfolk / hampton roads', ..., 'va', 'clean',\n        'new']], dtype=object)"
     },
     "execution_count": 18,
     "metadata": {},
     "output_type": "execute_result"
    }
   ],
   "source": [
    "# Выведем результат обратного преобразования получившейся матрицы в исходные признаки, используем inverse_transform\n",
    "ohe.inverse_transform(ohe_data)"
   ]
  },
  {
   "cell_type": "markdown",
   "id": "29bad2c6",
   "metadata": {
    "id": "29bad2c6",
    "pycharm": {
     "name": "#%% md\n"
    }
   },
   "source": [
    "### Задача 3. Стандартизация данных\n",
    "\n",
    "1. Создайте переменную под количественные переменные `lat`, `long`, `year`, `odometer/price`, `desc_len`, `model_in_desc`, `model_len`, `model_word_count` и создайте датафрейм `data`, содержащий только выбранные количественные переменные.\n"
   ]
  },
  {
   "cell_type": "code",
   "execution_count": 19,
   "id": "ad704812",
   "metadata": {
    "ExecuteTime": {
     "end_time": "2022-03-15T22:40:45.881773Z",
     "start_time": "2022-03-15T22:40:45.875957Z"
    },
    "id": "ad704812",
    "pycharm": {
     "name": "#%%\n"
    }
   },
   "outputs": [
    {
     "data": {
      "text/plain": "            lat        long  year  odometer/price  desc_len  model_in_desc  \\\n9614  42.123900  -79.189500  2002       33.370412      1710              0   \n9615  43.216990  -77.755610  2008        7.835323       948              0   \n9616  44.925908 -122.982753  2011       16.696387       909              0   \n9617  43.029559  -89.397796  2015        1.941787      3644              0   \n9618  36.670000  -76.300000  2017        1.122882      4483              0   \n\n      model_len  model_word_count  \n9614          4                 1  \n9615          8                 1  \n9616         25                 5  \n9617          7                 1  \n9618         22                 5  ",
      "text/html": "<div>\n<style scoped>\n    .dataframe tbody tr th:only-of-type {\n        vertical-align: middle;\n    }\n\n    .dataframe tbody tr th {\n        vertical-align: top;\n    }\n\n    .dataframe thead th {\n        text-align: right;\n    }\n</style>\n<table border=\"1\" class=\"dataframe\">\n  <thead>\n    <tr style=\"text-align: right;\">\n      <th></th>\n      <th>lat</th>\n      <th>long</th>\n      <th>year</th>\n      <th>odometer/price</th>\n      <th>desc_len</th>\n      <th>model_in_desc</th>\n      <th>model_len</th>\n      <th>model_word_count</th>\n    </tr>\n  </thead>\n  <tbody>\n    <tr>\n      <th>9614</th>\n      <td>42.123900</td>\n      <td>-79.189500</td>\n      <td>2002</td>\n      <td>33.370412</td>\n      <td>1710</td>\n      <td>0</td>\n      <td>4</td>\n      <td>1</td>\n    </tr>\n    <tr>\n      <th>9615</th>\n      <td>43.216990</td>\n      <td>-77.755610</td>\n      <td>2008</td>\n      <td>7.835323</td>\n      <td>948</td>\n      <td>0</td>\n      <td>8</td>\n      <td>1</td>\n    </tr>\n    <tr>\n      <th>9616</th>\n      <td>44.925908</td>\n      <td>-122.982753</td>\n      <td>2011</td>\n      <td>16.696387</td>\n      <td>909</td>\n      <td>0</td>\n      <td>25</td>\n      <td>5</td>\n    </tr>\n    <tr>\n      <th>9617</th>\n      <td>43.029559</td>\n      <td>-89.397796</td>\n      <td>2015</td>\n      <td>1.941787</td>\n      <td>3644</td>\n      <td>0</td>\n      <td>7</td>\n      <td>1</td>\n    </tr>\n    <tr>\n      <th>9618</th>\n      <td>36.670000</td>\n      <td>-76.300000</td>\n      <td>2017</td>\n      <td>1.122882</td>\n      <td>4483</td>\n      <td>0</td>\n      <td>22</td>\n      <td>5</td>\n    </tr>\n  </tbody>\n</table>\n</div>"
     },
     "execution_count": 19,
     "metadata": {},
     "output_type": "execute_result"
    }
   ],
   "source": [
    "# Создаем новый лист с количественными переменными lat, long, year, odometer/price, desc_len, model_in_desc, model_len, model_word_count\n",
    "columns_quantitative = ['lat', 'long', 'year', 'odometer/price', 'desc_len', 'model_in_desc', 'model_len', 'model_word_count']\n",
    "# Создаем новый датафрейм data, содержащий только выбранные переменные\n",
    "data = df[columns_quantitative]\n",
    "data.tail()"
   ]
  },
  {
   "cell_type": "markdown",
   "id": "3e3704a7",
   "metadata": {
    "id": "3e3704a7",
    "pycharm": {
     "name": "#%% md\n"
    }
   },
   "source": [
    "2. Создайте объект `std_scaler` класса StandardScaler с параметрами по умолчанию, который будет отвечать за стандартизацию."
   ]
  },
  {
   "cell_type": "code",
   "execution_count": 20,
   "id": "7b8ab72c",
   "metadata": {
    "ExecuteTime": {
     "end_time": "2022-03-15T22:40:46.294618Z",
     "start_time": "2022-03-15T22:40:46.288462Z"
    },
    "id": "7b8ab72c",
    "pycharm": {
     "name": "#%%\n"
    }
   },
   "outputs": [
    {
     "data": {
      "text/plain": "StandardScaler()"
     },
     "execution_count": 20,
     "metadata": {},
     "output_type": "execute_result"
    }
   ],
   "source": [
    "# Создайем объект std_scaler класса StandardScaler с параметрами по умолчанию\n",
    "std_scaler = StandardScaler()\n",
    "std_scaler"
   ]
  },
  {
   "cell_type": "markdown",
   "id": "1630cfa2",
   "metadata": {
    "id": "1630cfa2",
    "pycharm": {
     "name": "#%% md\n"
    }
   },
   "source": [
    "3. Идентифицируйте параметры преобразования на датафрейме с количественными переменными."
   ]
  },
  {
   "cell_type": "code",
   "execution_count": 21,
   "id": "0cc2c08b",
   "metadata": {
    "ExecuteTime": {
     "end_time": "2022-03-15T22:40:46.338630Z",
     "start_time": "2022-03-15T22:40:46.333793Z"
    },
    "id": "0cc2c08b",
    "pycharm": {
     "name": "#%%\n"
    }
   },
   "outputs": [
    {
     "data": {
      "text/plain": "StandardScaler()"
     },
     "execution_count": 21,
     "metadata": {},
     "output_type": "execute_result"
    }
   ],
   "source": [
    "# Идентифицируем параметры преобразования\n",
    "std_scaler.fit(df[columns_quantitative])"
   ]
  },
  {
   "cell_type": "markdown",
   "id": "9ef7ff55",
   "metadata": {
    "id": "9ef7ff55",
    "pycharm": {
     "name": "#%% md\n"
    }
   },
   "source": [
    "4. Примените преобразование для датафрейма с количественными переменными и сохраните в новую переменную, распечатайте получившуюся матрицу и её размерность."
   ]
  },
  {
   "cell_type": "code",
   "execution_count": 22,
   "id": "cd141505",
   "metadata": {
    "ExecuteTime": {
     "end_time": "2022-03-15T22:40:46.389565Z",
     "start_time": "2022-03-15T22:40:46.380037Z"
    },
    "id": "cd141505",
    "pycharm": {
     "name": "#%%\n"
    }
   },
   "outputs": [
    {
     "data": {
      "text/plain": "array([[-0.61917248,  0.48424452,  1.32239376, ..., -0.15578836,\n         1.16303238,  1.91066901],\n       [ 0.38801429,  1.11079989,  0.69597272, ..., -0.15578836,\n         0.93208734,  1.23579936],\n       [-0.84305905,  0.531185  ,  0.85257798, ..., -0.15578836,\n         0.47019727,  0.56092971],\n       ...,\n       [ 1.10542805, -1.62887477, -0.08705357, ..., -0.15578836,\n         1.50944993,  1.91066901],\n       [ 0.7739386 ,  0.25195859,  0.53936746, ..., -0.15578836,\n        -0.56905538, -0.78880959],\n       [-0.33773799,  0.98546471,  0.85257798, ..., -0.15578836,\n         1.16303238,  1.91066901]])"
     },
     "execution_count": 22,
     "metadata": {},
     "output_type": "execute_result"
    }
   ],
   "source": [
    "# Применим преобразование для датафрейма с количественными переменными и сохраним в новую переменную\n",
    "std_scaler_data = std_scaler.transform(df[columns_quantitative])\n",
    "std_scaler_data"
   ]
  },
  {
   "cell_type": "code",
   "execution_count": 23,
   "outputs": [
    {
     "data": {
      "text/plain": "array(['lat', 'long', 'year', 'odometer/price', 'desc_len',\n       'model_in_desc', 'model_len', 'model_word_count'], dtype=object)"
     },
     "execution_count": 23,
     "metadata": {},
     "output_type": "execute_result"
    }
   ],
   "source": [
    "# Получим новые наименования признаков с помощью метода get_feature_names_out.\n",
    "std_scaler.get_feature_names_out()"
   ],
   "metadata": {
    "collapsed": false,
    "pycharm": {
     "name": "#%%\n"
    }
   }
  },
  {
   "cell_type": "markdown",
   "id": "68d44f88",
   "metadata": {
    "ExecuteTime": {
     "end_time": "2022-03-13T11:12:57.421096Z",
     "start_time": "2022-03-13T11:12:57.414865Z"
    },
    "id": "68d44f88",
    "pycharm": {
     "name": "#%% md\n"
    }
   },
   "source": [
    "5. Создайте наименования новых признаков по шаблону: `lat_std` для `lat` и так далее."
   ]
  },
  {
   "cell_type": "code",
   "execution_count": 24,
   "id": "013e66f2",
   "metadata": {
    "ExecuteTime": {
     "end_time": "2022-03-15T22:40:46.483299Z",
     "start_time": "2022-03-15T22:40:46.475050Z"
    },
    "id": "013e66f2",
    "pycharm": {
     "name": "#%%\n"
    }
   },
   "outputs": [
    {
     "data": {
      "text/plain": "['lat_std',\n 'long_std',\n 'year_std',\n 'odometer/price_std',\n 'desc_len_std',\n 'model_in_desc_std',\n 'model_len_std',\n 'model_word_count_std']"
     },
     "execution_count": 24,
     "metadata": {},
     "output_type": "execute_result"
    }
   ],
   "source": [
    "# Создаем наименования новых признаков по шаблону: lat_std для lat и запишим в новый список\n",
    "columns_quantitative_std = [x+'_std' for x in columns_quantitative]\n",
    "columns_quantitative_std"
   ]
  },
  {
   "cell_type": "markdown",
   "id": "490925bb",
   "metadata": {
    "ExecuteTime": {
     "end_time": "2022-03-13T11:13:15.167251Z",
     "start_time": "2022-03-13T11:13:15.161293Z"
    },
    "id": "490925bb",
    "pycharm": {
     "name": "#%% md\n"
    }
   },
   "source": [
    "6. Добавьте в исходный датафрейм получившиеся новые признаки, выведите первые 5 записей датафрейма и список колонок."
   ]
  },
  {
   "cell_type": "code",
   "execution_count": 25,
   "outputs": [
    {
     "data": {
      "text/plain": "           id                                                url  \\\n0  7308295377  https://chattanooga.craigslist.org/ctd/d/chatt...   \n1  7316380095  https://newjersey.craigslist.org/ctd/d/carlsta...   \n2  7313733749  https://reno.craigslist.org/ctd/d/atlanta-2017...   \n3  7308210929  https://fayetteville.craigslist.org/ctd/d/rale...   \n4  7303797340  https://knoxville.craigslist.org/ctd/d/knoxvil...   \n\n         region                           region_url  price  year  \\\n0   chattanooga   https://chattanooga.craigslist.org  54990  2020   \n1  north jersey     https://newjersey.craigslist.org  16942  2016   \n2  reno / tahoe          https://reno.craigslist.org  35590  2017   \n3  fayetteville  https://fayetteville.craigslist.org  14500  2013   \n4     knoxville     https://knoxville.craigslist.org  14590  2012   \n\n  manufacturer                   model    fuel  odometer  ... x6_new x6_old  \\\n0          ram  2500 crew cab big horn  diesel     27442  ...    1.0    0.0   \n1         ford    explorer 4wd 4dr xlt   other     60023  ...    1.0    0.0   \n2   volkswagen        golf r hatchback     gas     14048  ...    1.0    0.0   \n3       toyota                    rav4     gas    117291  ...    0.0    0.0   \n4          bmw  1 series 128i coupe 2d   other     80465  ...    0.0    0.0   \n\n    lat_std  long_std  year_std  odometer/price_std  desc_len_std  \\\n0 -0.619172  0.484245  1.322394           -0.510784      0.632075   \n1  0.388014  1.110800  0.695973           -0.402947     -0.646781   \n2 -0.843059  0.531185  0.852578           -0.514480      0.560744   \n3 -0.504509  0.853562  0.226157           -0.241883      0.180435   \n4 -0.460101  0.557607  0.069552           -0.333074      0.766366   \n\n  model_in_desc_std model_len_std model_word_count_std  \n0         -0.155788      1.163032             1.910669  \n1         -0.155788      0.932087             1.235799  \n2         -0.155788      0.470197             0.560930  \n3         -0.155788     -0.915473            -0.788810  \n4         -0.155788      1.163032             1.910669  \n\n[5 rows x 1454 columns]",
      "text/html": "<div>\n<style scoped>\n    .dataframe tbody tr th:only-of-type {\n        vertical-align: middle;\n    }\n\n    .dataframe tbody tr th {\n        vertical-align: top;\n    }\n\n    .dataframe thead th {\n        text-align: right;\n    }\n</style>\n<table border=\"1\" class=\"dataframe\">\n  <thead>\n    <tr style=\"text-align: right;\">\n      <th></th>\n      <th>id</th>\n      <th>url</th>\n      <th>region</th>\n      <th>region_url</th>\n      <th>price</th>\n      <th>year</th>\n      <th>manufacturer</th>\n      <th>model</th>\n      <th>fuel</th>\n      <th>odometer</th>\n      <th>...</th>\n      <th>x6_new</th>\n      <th>x6_old</th>\n      <th>lat_std</th>\n      <th>long_std</th>\n      <th>year_std</th>\n      <th>odometer/price_std</th>\n      <th>desc_len_std</th>\n      <th>model_in_desc_std</th>\n      <th>model_len_std</th>\n      <th>model_word_count_std</th>\n    </tr>\n  </thead>\n  <tbody>\n    <tr>\n      <th>0</th>\n      <td>7308295377</td>\n      <td>https://chattanooga.craigslist.org/ctd/d/chatt...</td>\n      <td>chattanooga</td>\n      <td>https://chattanooga.craigslist.org</td>\n      <td>54990</td>\n      <td>2020</td>\n      <td>ram</td>\n      <td>2500 crew cab big horn</td>\n      <td>diesel</td>\n      <td>27442</td>\n      <td>...</td>\n      <td>1.0</td>\n      <td>0.0</td>\n      <td>-0.619172</td>\n      <td>0.484245</td>\n      <td>1.322394</td>\n      <td>-0.510784</td>\n      <td>0.632075</td>\n      <td>-0.155788</td>\n      <td>1.163032</td>\n      <td>1.910669</td>\n    </tr>\n    <tr>\n      <th>1</th>\n      <td>7316380095</td>\n      <td>https://newjersey.craigslist.org/ctd/d/carlsta...</td>\n      <td>north jersey</td>\n      <td>https://newjersey.craigslist.org</td>\n      <td>16942</td>\n      <td>2016</td>\n      <td>ford</td>\n      <td>explorer 4wd 4dr xlt</td>\n      <td>other</td>\n      <td>60023</td>\n      <td>...</td>\n      <td>1.0</td>\n      <td>0.0</td>\n      <td>0.388014</td>\n      <td>1.110800</td>\n      <td>0.695973</td>\n      <td>-0.402947</td>\n      <td>-0.646781</td>\n      <td>-0.155788</td>\n      <td>0.932087</td>\n      <td>1.235799</td>\n    </tr>\n    <tr>\n      <th>2</th>\n      <td>7313733749</td>\n      <td>https://reno.craigslist.org/ctd/d/atlanta-2017...</td>\n      <td>reno / tahoe</td>\n      <td>https://reno.craigslist.org</td>\n      <td>35590</td>\n      <td>2017</td>\n      <td>volkswagen</td>\n      <td>golf r hatchback</td>\n      <td>gas</td>\n      <td>14048</td>\n      <td>...</td>\n      <td>1.0</td>\n      <td>0.0</td>\n      <td>-0.843059</td>\n      <td>0.531185</td>\n      <td>0.852578</td>\n      <td>-0.514480</td>\n      <td>0.560744</td>\n      <td>-0.155788</td>\n      <td>0.470197</td>\n      <td>0.560930</td>\n    </tr>\n    <tr>\n      <th>3</th>\n      <td>7308210929</td>\n      <td>https://fayetteville.craigslist.org/ctd/d/rale...</td>\n      <td>fayetteville</td>\n      <td>https://fayetteville.craigslist.org</td>\n      <td>14500</td>\n      <td>2013</td>\n      <td>toyota</td>\n      <td>rav4</td>\n      <td>gas</td>\n      <td>117291</td>\n      <td>...</td>\n      <td>0.0</td>\n      <td>0.0</td>\n      <td>-0.504509</td>\n      <td>0.853562</td>\n      <td>0.226157</td>\n      <td>-0.241883</td>\n      <td>0.180435</td>\n      <td>-0.155788</td>\n      <td>-0.915473</td>\n      <td>-0.788810</td>\n    </tr>\n    <tr>\n      <th>4</th>\n      <td>7303797340</td>\n      <td>https://knoxville.craigslist.org/ctd/d/knoxvil...</td>\n      <td>knoxville</td>\n      <td>https://knoxville.craigslist.org</td>\n      <td>14590</td>\n      <td>2012</td>\n      <td>bmw</td>\n      <td>1 series 128i coupe 2d</td>\n      <td>other</td>\n      <td>80465</td>\n      <td>...</td>\n      <td>0.0</td>\n      <td>0.0</td>\n      <td>-0.460101</td>\n      <td>0.557607</td>\n      <td>0.069552</td>\n      <td>-0.333074</td>\n      <td>0.766366</td>\n      <td>-0.155788</td>\n      <td>1.163032</td>\n      <td>1.910669</td>\n    </tr>\n  </tbody>\n</table>\n<p>5 rows × 1454 columns</p>\n</div>"
     },
     "execution_count": 25,
     "metadata": {},
     "output_type": "execute_result"
    }
   ],
   "source": [
    "# Добавим в исходный датафрейм получившиеся новые признаки\n",
    "df[columns_quantitative_std] = std_scaler_data\n",
    "df.head()"
   ],
   "metadata": {
    "collapsed": false,
    "pycharm": {
     "name": "#%%\n"
    }
   }
  },
  {
   "cell_type": "markdown",
   "id": "0a3146dd",
   "metadata": {
    "ExecuteTime": {
     "end_time": "2022-03-13T11:16:52.292837Z",
     "start_time": "2022-03-13T11:16:52.286868Z"
    },
    "id": "0a3146dd",
    "pycharm": {
     "name": "#%% md\n"
    }
   },
   "source": [
    "### Задача 4. MinMax-нормализация данных\n",
    "\n",
    "1. Импортируйте MinMaxScaler из `sklearn.preprocessing`."
   ]
  },
  {
   "cell_type": "code",
   "execution_count": 26,
   "id": "3db8afba",
   "metadata": {
    "ExecuteTime": {
     "end_time": "2022-03-15T22:40:46.701361Z",
     "start_time": "2022-03-15T22:40:46.695192Z"
    },
    "id": "3db8afba",
    "pycharm": {
     "name": "#%%\n"
    }
   },
   "outputs": [],
   "source": [
    "# Импортируем MinMaxScaler из `sklearn.preprocessing`\n",
    "from sklearn.preprocessing import MinMaxScaler\n"
   ]
  },
  {
   "cell_type": "markdown",
   "id": "d471557f",
   "metadata": {
    "id": "d471557f",
    "pycharm": {
     "name": "#%% md\n"
    }
   },
   "source": [
    "2. Создайте датафрейм, содержащий переменные `lat` и `long`."
   ]
  },
  {
   "cell_type": "code",
   "execution_count": 27,
   "id": "13859501",
   "metadata": {
    "ExecuteTime": {
     "end_time": "2022-03-15T22:40:46.732137Z",
     "start_time": "2022-03-15T22:40:46.725228Z"
    },
    "id": "13859501",
    "pycharm": {
     "name": "#%%\n"
    }
   },
   "outputs": [
    {
     "data": {
      "text/plain": "         lat       long\n0  35.060000 -85.250000\n1  40.821805 -74.061962\n2  33.779214 -84.411811\n3  35.715954 -78.655304\n4  35.970000 -83.940000",
      "text/html": "<div>\n<style scoped>\n    .dataframe tbody tr th:only-of-type {\n        vertical-align: middle;\n    }\n\n    .dataframe tbody tr th {\n        vertical-align: top;\n    }\n\n    .dataframe thead th {\n        text-align: right;\n    }\n</style>\n<table border=\"1\" class=\"dataframe\">\n  <thead>\n    <tr style=\"text-align: right;\">\n      <th></th>\n      <th>lat</th>\n      <th>long</th>\n    </tr>\n  </thead>\n  <tbody>\n    <tr>\n      <th>0</th>\n      <td>35.060000</td>\n      <td>-85.250000</td>\n    </tr>\n    <tr>\n      <th>1</th>\n      <td>40.821805</td>\n      <td>-74.061962</td>\n    </tr>\n    <tr>\n      <th>2</th>\n      <td>33.779214</td>\n      <td>-84.411811</td>\n    </tr>\n    <tr>\n      <th>3</th>\n      <td>35.715954</td>\n      <td>-78.655304</td>\n    </tr>\n    <tr>\n      <th>4</th>\n      <td>35.970000</td>\n      <td>-83.940000</td>\n    </tr>\n  </tbody>\n</table>\n</div>"
     },
     "execution_count": 27,
     "metadata": {},
     "output_type": "execute_result"
    }
   ],
   "source": [
    "# Создаем новый лист с количественными переменными lat, long, year, odometer/price, desc_len, model_in_desc, model_len, model_word_count\n",
    "columns_Lat_long = ['lat', 'long']\n",
    "# Создаем датафрейм, содержащий переменные lat и long.\n",
    "data = df[columns_Lat_long]\n",
    "data.head()"
   ]
  },
  {
   "cell_type": "markdown",
   "id": "0599fc35",
   "metadata": {
    "id": "0599fc35",
    "pycharm": {
     "name": "#%% md\n"
    }
   },
   "source": [
    "3. Повторите действия пунктов 2–6 из задачи 3 для добавления в исходный датафрейм признаков `lat_mm` и `long_mm`. Выведите получившийся датафрейм."
   ]
  },
  {
   "cell_type": "code",
   "execution_count": 28,
   "id": "26f2c546",
   "metadata": {
    "ExecuteTime": {
     "end_time": "2022-03-15T22:40:47.159782Z",
     "start_time": "2022-03-15T22:40:47.148971Z"
    },
    "id": "26f2c546",
    "pycharm": {
     "name": "#%%\n"
    }
   },
   "outputs": [
    {
     "data": {
      "text/plain": "           id                                                url  \\\n0  7308295377  https://chattanooga.craigslist.org/ctd/d/chatt...   \n1  7316380095  https://newjersey.craigslist.org/ctd/d/carlsta...   \n2  7313733749  https://reno.craigslist.org/ctd/d/atlanta-2017...   \n3  7308210929  https://fayetteville.craigslist.org/ctd/d/rale...   \n4  7303797340  https://knoxville.craigslist.org/ctd/d/knoxvil...   \n\n         region                           region_url  price  year  \\\n0   chattanooga   https://chattanooga.craigslist.org  54990  2020   \n1  north jersey     https://newjersey.craigslist.org  16942  2016   \n2  reno / tahoe          https://reno.craigslist.org  35590  2017   \n3  fayetteville  https://fayetteville.craigslist.org  14500  2013   \n4     knoxville     https://knoxville.craigslist.org  14590  2012   \n\n  manufacturer                   model    fuel  odometer  ...   lat_std  \\\n0          ram  2500 crew cab big horn  diesel     27442  ... -0.619172   \n1         ford    explorer 4wd 4dr xlt   other     60023  ...  0.388014   \n2   volkswagen        golf r hatchback     gas     14048  ... -0.843059   \n3       toyota                    rav4     gas    117291  ... -0.504509   \n4          bmw  1 series 128i coupe 2d   other     80465  ... -0.460101   \n\n   long_std  year_std odometer/price_std desc_len_std  model_in_desc_std  \\\n0  0.484245  1.322394          -0.510784     0.632075          -0.155788   \n1  1.110800  0.695973          -0.402947    -0.646781          -0.155788   \n2  0.531185  0.852578          -0.514480     0.560744          -0.155788   \n3  0.853562  0.226157          -0.241883     0.180435          -0.155788   \n4  0.557607  0.069552          -0.333074     0.766366          -0.155788   \n\n   model_len_std model_word_count_std    lat_mm   long_mm  \n0       1.163032             1.910669  0.341769  0.288699  \n1       0.932087             1.235799  0.468665  0.333055  \n2       0.470197             0.560930  0.313561  0.292022  \n3      -0.915473            -0.788810  0.356215  0.314844  \n4       1.163032             1.910669  0.361810  0.293893  \n\n[5 rows x 1456 columns]",
      "text/html": "<div>\n<style scoped>\n    .dataframe tbody tr th:only-of-type {\n        vertical-align: middle;\n    }\n\n    .dataframe tbody tr th {\n        vertical-align: top;\n    }\n\n    .dataframe thead th {\n        text-align: right;\n    }\n</style>\n<table border=\"1\" class=\"dataframe\">\n  <thead>\n    <tr style=\"text-align: right;\">\n      <th></th>\n      <th>id</th>\n      <th>url</th>\n      <th>region</th>\n      <th>region_url</th>\n      <th>price</th>\n      <th>year</th>\n      <th>manufacturer</th>\n      <th>model</th>\n      <th>fuel</th>\n      <th>odometer</th>\n      <th>...</th>\n      <th>lat_std</th>\n      <th>long_std</th>\n      <th>year_std</th>\n      <th>odometer/price_std</th>\n      <th>desc_len_std</th>\n      <th>model_in_desc_std</th>\n      <th>model_len_std</th>\n      <th>model_word_count_std</th>\n      <th>lat_mm</th>\n      <th>long_mm</th>\n    </tr>\n  </thead>\n  <tbody>\n    <tr>\n      <th>0</th>\n      <td>7308295377</td>\n      <td>https://chattanooga.craigslist.org/ctd/d/chatt...</td>\n      <td>chattanooga</td>\n      <td>https://chattanooga.craigslist.org</td>\n      <td>54990</td>\n      <td>2020</td>\n      <td>ram</td>\n      <td>2500 crew cab big horn</td>\n      <td>diesel</td>\n      <td>27442</td>\n      <td>...</td>\n      <td>-0.619172</td>\n      <td>0.484245</td>\n      <td>1.322394</td>\n      <td>-0.510784</td>\n      <td>0.632075</td>\n      <td>-0.155788</td>\n      <td>1.163032</td>\n      <td>1.910669</td>\n      <td>0.341769</td>\n      <td>0.288699</td>\n    </tr>\n    <tr>\n      <th>1</th>\n      <td>7316380095</td>\n      <td>https://newjersey.craigslist.org/ctd/d/carlsta...</td>\n      <td>north jersey</td>\n      <td>https://newjersey.craigslist.org</td>\n      <td>16942</td>\n      <td>2016</td>\n      <td>ford</td>\n      <td>explorer 4wd 4dr xlt</td>\n      <td>other</td>\n      <td>60023</td>\n      <td>...</td>\n      <td>0.388014</td>\n      <td>1.110800</td>\n      <td>0.695973</td>\n      <td>-0.402947</td>\n      <td>-0.646781</td>\n      <td>-0.155788</td>\n      <td>0.932087</td>\n      <td>1.235799</td>\n      <td>0.468665</td>\n      <td>0.333055</td>\n    </tr>\n    <tr>\n      <th>2</th>\n      <td>7313733749</td>\n      <td>https://reno.craigslist.org/ctd/d/atlanta-2017...</td>\n      <td>reno / tahoe</td>\n      <td>https://reno.craigslist.org</td>\n      <td>35590</td>\n      <td>2017</td>\n      <td>volkswagen</td>\n      <td>golf r hatchback</td>\n      <td>gas</td>\n      <td>14048</td>\n      <td>...</td>\n      <td>-0.843059</td>\n      <td>0.531185</td>\n      <td>0.852578</td>\n      <td>-0.514480</td>\n      <td>0.560744</td>\n      <td>-0.155788</td>\n      <td>0.470197</td>\n      <td>0.560930</td>\n      <td>0.313561</td>\n      <td>0.292022</td>\n    </tr>\n    <tr>\n      <th>3</th>\n      <td>7308210929</td>\n      <td>https://fayetteville.craigslist.org/ctd/d/rale...</td>\n      <td>fayetteville</td>\n      <td>https://fayetteville.craigslist.org</td>\n      <td>14500</td>\n      <td>2013</td>\n      <td>toyota</td>\n      <td>rav4</td>\n      <td>gas</td>\n      <td>117291</td>\n      <td>...</td>\n      <td>-0.504509</td>\n      <td>0.853562</td>\n      <td>0.226157</td>\n      <td>-0.241883</td>\n      <td>0.180435</td>\n      <td>-0.155788</td>\n      <td>-0.915473</td>\n      <td>-0.788810</td>\n      <td>0.356215</td>\n      <td>0.314844</td>\n    </tr>\n    <tr>\n      <th>4</th>\n      <td>7303797340</td>\n      <td>https://knoxville.craigslist.org/ctd/d/knoxvil...</td>\n      <td>knoxville</td>\n      <td>https://knoxville.craigslist.org</td>\n      <td>14590</td>\n      <td>2012</td>\n      <td>bmw</td>\n      <td>1 series 128i coupe 2d</td>\n      <td>other</td>\n      <td>80465</td>\n      <td>...</td>\n      <td>-0.460101</td>\n      <td>0.557607</td>\n      <td>0.069552</td>\n      <td>-0.333074</td>\n      <td>0.766366</td>\n      <td>-0.155788</td>\n      <td>1.163032</td>\n      <td>1.910669</td>\n      <td>0.361810</td>\n      <td>0.293893</td>\n    </tr>\n  </tbody>\n</table>\n<p>5 rows × 1456 columns</p>\n</div>"
     },
     "execution_count": 28,
     "metadata": {},
     "output_type": "execute_result"
    }
   ],
   "source": [
    "# Создайем объект minMax_scaler класса MinMaxScaler с параметрами по умолчанию\n",
    "minMax_scaler = MinMaxScaler()\n",
    "minMax_scaler\n",
    "# Идентифицируем параметры преобразования\n",
    "minMax_scaler.fit(df[columns_Lat_long])\n",
    "# Применим преобразование для датафрейма с количественными переменными и сохраним в новую переменную\n",
    "minMax_scaler_data = minMax_scaler.transform(df[columns_Lat_long])\n",
    "# Создаем наименования новых признаков по шаблону: lat_std для lat и запишим в новый список\n",
    "columns_Lat_long_std = [x+'_mm' for x in columns_Lat_long]\n",
    "# Добавим в исходный датафрейм получившиеся новые признаки\n",
    "df[columns_Lat_long_std] = minMax_scaler_data\n",
    "df.head()"
   ]
  },
  {
   "cell_type": "markdown",
   "id": "71044c34",
   "metadata": {
    "id": "71044c34",
    "pycharm": {
     "name": "#%% md\n"
    }
   },
   "source": [
    "4. Создайте переменную под географические признаки `lat`, `lat_std`, `lat_mm`, `long`, `long_std`, `long_mm` и выведите их. Посмотрите на различия в значениях для исходных признаков и нормализованных с помощью стандартизации и MinMax-преобразования. "
   ]
  },
  {
   "cell_type": "code",
   "execution_count": 29,
   "id": "27642284",
   "metadata": {
    "ExecuteTime": {
     "end_time": "2022-03-15T22:40:47.408669Z",
     "start_time": "2022-03-15T22:40:47.402057Z"
    },
    "id": "27642284",
    "pycharm": {
     "name": "#%%\n"
    }
   },
   "outputs": [
    {
     "data": {
      "text/plain": "            lat   lat_std    lat_mm        long  long_std   long_mm\n0     35.060000 -0.619172  0.341769  -85.250000  0.484245  0.288699\n1     40.821805  0.388014  0.468665  -74.061962  1.110800  0.333055\n2     33.779214 -0.843059  0.313561  -84.411811  0.531185  0.292022\n3     35.715954 -0.504509  0.356215  -78.655304  0.853562  0.314844\n4     35.970000 -0.460101  0.361810  -83.940000  0.557607  0.293893\n...         ...       ...       ...         ...       ...       ...\n9614  42.123900  0.615626  0.497341  -79.189500  0.823646  0.312727\n9615  43.216990  0.806702  0.521415  -77.755610  0.903947  0.318411\n9616  44.925908  1.105428  0.559052 -122.982753 -1.628875  0.139104\n9617  43.029559  0.773939  0.517287  -89.397796  0.251959  0.272255\n9618  36.670000 -0.337738  0.377227  -76.300000  0.985465  0.324182\n\n[9619 rows x 6 columns]",
      "text/html": "<div>\n<style scoped>\n    .dataframe tbody tr th:only-of-type {\n        vertical-align: middle;\n    }\n\n    .dataframe tbody tr th {\n        vertical-align: top;\n    }\n\n    .dataframe thead th {\n        text-align: right;\n    }\n</style>\n<table border=\"1\" class=\"dataframe\">\n  <thead>\n    <tr style=\"text-align: right;\">\n      <th></th>\n      <th>lat</th>\n      <th>lat_std</th>\n      <th>lat_mm</th>\n      <th>long</th>\n      <th>long_std</th>\n      <th>long_mm</th>\n    </tr>\n  </thead>\n  <tbody>\n    <tr>\n      <th>0</th>\n      <td>35.060000</td>\n      <td>-0.619172</td>\n      <td>0.341769</td>\n      <td>-85.250000</td>\n      <td>0.484245</td>\n      <td>0.288699</td>\n    </tr>\n    <tr>\n      <th>1</th>\n      <td>40.821805</td>\n      <td>0.388014</td>\n      <td>0.468665</td>\n      <td>-74.061962</td>\n      <td>1.110800</td>\n      <td>0.333055</td>\n    </tr>\n    <tr>\n      <th>2</th>\n      <td>33.779214</td>\n      <td>-0.843059</td>\n      <td>0.313561</td>\n      <td>-84.411811</td>\n      <td>0.531185</td>\n      <td>0.292022</td>\n    </tr>\n    <tr>\n      <th>3</th>\n      <td>35.715954</td>\n      <td>-0.504509</td>\n      <td>0.356215</td>\n      <td>-78.655304</td>\n      <td>0.853562</td>\n      <td>0.314844</td>\n    </tr>\n    <tr>\n      <th>4</th>\n      <td>35.970000</td>\n      <td>-0.460101</td>\n      <td>0.361810</td>\n      <td>-83.940000</td>\n      <td>0.557607</td>\n      <td>0.293893</td>\n    </tr>\n    <tr>\n      <th>...</th>\n      <td>...</td>\n      <td>...</td>\n      <td>...</td>\n      <td>...</td>\n      <td>...</td>\n      <td>...</td>\n    </tr>\n    <tr>\n      <th>9614</th>\n      <td>42.123900</td>\n      <td>0.615626</td>\n      <td>0.497341</td>\n      <td>-79.189500</td>\n      <td>0.823646</td>\n      <td>0.312727</td>\n    </tr>\n    <tr>\n      <th>9615</th>\n      <td>43.216990</td>\n      <td>0.806702</td>\n      <td>0.521415</td>\n      <td>-77.755610</td>\n      <td>0.903947</td>\n      <td>0.318411</td>\n    </tr>\n    <tr>\n      <th>9616</th>\n      <td>44.925908</td>\n      <td>1.105428</td>\n      <td>0.559052</td>\n      <td>-122.982753</td>\n      <td>-1.628875</td>\n      <td>0.139104</td>\n    </tr>\n    <tr>\n      <th>9617</th>\n      <td>43.029559</td>\n      <td>0.773939</td>\n      <td>0.517287</td>\n      <td>-89.397796</td>\n      <td>0.251959</td>\n      <td>0.272255</td>\n    </tr>\n    <tr>\n      <th>9618</th>\n      <td>36.670000</td>\n      <td>-0.337738</td>\n      <td>0.377227</td>\n      <td>-76.300000</td>\n      <td>0.985465</td>\n      <td>0.324182</td>\n    </tr>\n  </tbody>\n</table>\n<p>9619 rows × 6 columns</p>\n</div>"
     },
     "execution_count": 29,
     "metadata": {},
     "output_type": "execute_result"
    }
   ],
   "source": [
    "# Создаем новый лист под географические признаки lat, lat_std, lat_mm, long, long_std, long_mm\n",
    "columns_Lat_long = ['lat', 'lat_std', 'lat_mm', 'long', 'long_std', 'long_mm']\n",
    "df[columns_Lat_long]"
   ]
  },
  {
   "cell_type": "markdown",
   "id": "ef219d5f",
   "metadata": {
    "id": "ef219d5f",
    "pycharm": {
     "name": "#%% md\n"
    }
   },
   "source": [
    "5. Выведите описательные статистики для всех географических признаков. Посмотрите на различия в статистиках для исходных признаков и нормализованных с помощью стандартизации и MinMax-преобразования."
   ]
  },
  {
   "cell_type": "code",
   "execution_count": 30,
   "id": "453b92ff",
   "metadata": {
    "ExecuteTime": {
     "end_time": "2022-03-15T22:40:47.738681Z",
     "start_time": "2022-03-15T22:40:47.730698Z"
    },
    "id": "453b92ff",
    "pycharm": {
     "name": "#%%\n"
    }
   },
   "outputs": [
    {
     "data": {
      "text/plain": "               lat       lat_std       lat_mm         long      long_std  \\\ncount  9619.000000  9.619000e+03  9619.000000  9619.000000  9.619000e+03   \nmean     38.602095  2.108662e-16     0.419779   -93.896875 -4.267993e-16   \nstd       5.720989  1.000052e+00     0.125997    17.857352  1.000052e+00   \nmin      19.541726 -3.331829e+00     0.000000  -158.069300 -3.593801e+00   \n25%      34.920000 -6.436450e-01     0.338685  -106.944340 -7.306875e-01   \n50%      39.300000  1.219966e-01     0.435149   -87.845800  3.388739e-01   \n75%      42.382100  6.607601e-01     0.503028   -80.678711  7.402470e-01   \nmax      64.947500  4.605283e+00     1.000000    94.163200  1.053179e+01   \n\n           long_mm  \ncount  9619.000000  \nmean      0.254418  \nstd       0.070797  \nmin       0.000000  \n25%       0.202690  \n50%       0.278408  \n75%       0.306822  \nmax       1.000000  ",
      "text/html": "<div>\n<style scoped>\n    .dataframe tbody tr th:only-of-type {\n        vertical-align: middle;\n    }\n\n    .dataframe tbody tr th {\n        vertical-align: top;\n    }\n\n    .dataframe thead th {\n        text-align: right;\n    }\n</style>\n<table border=\"1\" class=\"dataframe\">\n  <thead>\n    <tr style=\"text-align: right;\">\n      <th></th>\n      <th>lat</th>\n      <th>lat_std</th>\n      <th>lat_mm</th>\n      <th>long</th>\n      <th>long_std</th>\n      <th>long_mm</th>\n    </tr>\n  </thead>\n  <tbody>\n    <tr>\n      <th>count</th>\n      <td>9619.000000</td>\n      <td>9.619000e+03</td>\n      <td>9619.000000</td>\n      <td>9619.000000</td>\n      <td>9.619000e+03</td>\n      <td>9619.000000</td>\n    </tr>\n    <tr>\n      <th>mean</th>\n      <td>38.602095</td>\n      <td>2.108662e-16</td>\n      <td>0.419779</td>\n      <td>-93.896875</td>\n      <td>-4.267993e-16</td>\n      <td>0.254418</td>\n    </tr>\n    <tr>\n      <th>std</th>\n      <td>5.720989</td>\n      <td>1.000052e+00</td>\n      <td>0.125997</td>\n      <td>17.857352</td>\n      <td>1.000052e+00</td>\n      <td>0.070797</td>\n    </tr>\n    <tr>\n      <th>min</th>\n      <td>19.541726</td>\n      <td>-3.331829e+00</td>\n      <td>0.000000</td>\n      <td>-158.069300</td>\n      <td>-3.593801e+00</td>\n      <td>0.000000</td>\n    </tr>\n    <tr>\n      <th>25%</th>\n      <td>34.920000</td>\n      <td>-6.436450e-01</td>\n      <td>0.338685</td>\n      <td>-106.944340</td>\n      <td>-7.306875e-01</td>\n      <td>0.202690</td>\n    </tr>\n    <tr>\n      <th>50%</th>\n      <td>39.300000</td>\n      <td>1.219966e-01</td>\n      <td>0.435149</td>\n      <td>-87.845800</td>\n      <td>3.388739e-01</td>\n      <td>0.278408</td>\n    </tr>\n    <tr>\n      <th>75%</th>\n      <td>42.382100</td>\n      <td>6.607601e-01</td>\n      <td>0.503028</td>\n      <td>-80.678711</td>\n      <td>7.402470e-01</td>\n      <td>0.306822</td>\n    </tr>\n    <tr>\n      <th>max</th>\n      <td>64.947500</td>\n      <td>4.605283e+00</td>\n      <td>1.000000</td>\n      <td>94.163200</td>\n      <td>1.053179e+01</td>\n      <td>1.000000</td>\n    </tr>\n  </tbody>\n</table>\n</div>"
     },
     "execution_count": 30,
     "metadata": {},
     "output_type": "execute_result"
    }
   ],
   "source": [
    "# Ваш код здесь\n",
    "df[columns_Lat_long].describe()"
   ]
  },
  {
   "cell_type": "code",
   "execution_count": 31,
   "outputs": [
    {
     "name": "stdout",
     "output_type": "stream",
     "text": [
      "<class 'pandas.core.frame.DataFrame'>\n",
      "RangeIndex: 9619 entries, 0 to 9618\n",
      "Data columns (total 6 columns):\n",
      " #   Column    Non-Null Count  Dtype  \n",
      "---  ------    --------------  -----  \n",
      " 0   lat       9619 non-null   float64\n",
      " 1   lat_std   9619 non-null   float64\n",
      " 2   lat_mm    9619 non-null   float64\n",
      " 3   long      9619 non-null   float64\n",
      " 4   long_std  9619 non-null   float64\n",
      " 5   long_mm   9619 non-null   float64\n",
      "dtypes: float64(6)\n",
      "memory usage: 451.0 KB\n"
     ]
    }
   ],
   "source": [
    "# Ваш код здесь\n",
    "df[columns_Lat_long].info()"
   ],
   "metadata": {
    "collapsed": false,
    "pycharm": {
     "name": "#%%\n"
    }
   }
  },
  {
   "cell_type": "markdown",
   "id": "efac5751",
   "metadata": {
    "id": "efac5751",
    "pycharm": {
     "name": "#%% md\n"
    }
   },
   "source": [
    "6. Выведите матрицу корреляций для всех географических признаков, чтобы убедиться, что нормализация признаков сохранила свойства исходных признаков."
   ]
  },
  {
   "cell_type": "code",
   "execution_count": 32,
   "outputs": [
    {
     "data": {
      "text/plain": "               lat   lat_std    lat_mm      long  long_std   long_mm\nlat       1.000000  1.000000  1.000000 -0.134596 -0.134596 -0.134596\nlat_std   1.000000  1.000000  1.000000 -0.134596 -0.134596 -0.134596\nlat_mm    1.000000  1.000000  1.000000 -0.134596 -0.134596 -0.134596\nlong     -0.134596 -0.134596 -0.134596  1.000000  1.000000  1.000000\nlong_std -0.134596 -0.134596 -0.134596  1.000000  1.000000  1.000000\nlong_mm  -0.134596 -0.134596 -0.134596  1.000000  1.000000  1.000000",
      "text/html": "<div>\n<style scoped>\n    .dataframe tbody tr th:only-of-type {\n        vertical-align: middle;\n    }\n\n    .dataframe tbody tr th {\n        vertical-align: top;\n    }\n\n    .dataframe thead th {\n        text-align: right;\n    }\n</style>\n<table border=\"1\" class=\"dataframe\">\n  <thead>\n    <tr style=\"text-align: right;\">\n      <th></th>\n      <th>lat</th>\n      <th>lat_std</th>\n      <th>lat_mm</th>\n      <th>long</th>\n      <th>long_std</th>\n      <th>long_mm</th>\n    </tr>\n  </thead>\n  <tbody>\n    <tr>\n      <th>lat</th>\n      <td>1.000000</td>\n      <td>1.000000</td>\n      <td>1.000000</td>\n      <td>-0.134596</td>\n      <td>-0.134596</td>\n      <td>-0.134596</td>\n    </tr>\n    <tr>\n      <th>lat_std</th>\n      <td>1.000000</td>\n      <td>1.000000</td>\n      <td>1.000000</td>\n      <td>-0.134596</td>\n      <td>-0.134596</td>\n      <td>-0.134596</td>\n    </tr>\n    <tr>\n      <th>lat_mm</th>\n      <td>1.000000</td>\n      <td>1.000000</td>\n      <td>1.000000</td>\n      <td>-0.134596</td>\n      <td>-0.134596</td>\n      <td>-0.134596</td>\n    </tr>\n    <tr>\n      <th>long</th>\n      <td>-0.134596</td>\n      <td>-0.134596</td>\n      <td>-0.134596</td>\n      <td>1.000000</td>\n      <td>1.000000</td>\n      <td>1.000000</td>\n    </tr>\n    <tr>\n      <th>long_std</th>\n      <td>-0.134596</td>\n      <td>-0.134596</td>\n      <td>-0.134596</td>\n      <td>1.000000</td>\n      <td>1.000000</td>\n      <td>1.000000</td>\n    </tr>\n    <tr>\n      <th>long_mm</th>\n      <td>-0.134596</td>\n      <td>-0.134596</td>\n      <td>-0.134596</td>\n      <td>1.000000</td>\n      <td>1.000000</td>\n      <td>1.000000</td>\n    </tr>\n  </tbody>\n</table>\n</div>"
     },
     "execution_count": 32,
     "metadata": {},
     "output_type": "execute_result"
    }
   ],
   "source": [
    "# Построим матрицу корреляций для всех географических признаков\n",
    "df[columns_Lat_long].corr()"
   ],
   "metadata": {
    "collapsed": false,
    "pycharm": {
     "name": "#%%\n"
    }
   }
  },
  {
   "cell_type": "code",
   "execution_count": 33,
   "id": "10bcd5c8",
   "metadata": {
    "ExecuteTime": {
     "end_time": "2022-03-15T22:40:47.841822Z",
     "start_time": "2022-03-15T22:40:47.835737Z"
    },
    "id": "10bcd5c8",
    "pycharm": {
     "name": "#%%\n"
    }
   },
   "outputs": [
    {
     "data": {
      "text/plain": "<pandas.io.formats.style.Styler at 0x2cb5a232df0>",
      "text/html": "<style type=\"text/css\">\n#T_a9e4b_row0_col0, #T_a9e4b_row0_col1, #T_a9e4b_row0_col2, #T_a9e4b_row1_col0, #T_a9e4b_row1_col1, #T_a9e4b_row1_col2, #T_a9e4b_row2_col0, #T_a9e4b_row2_col1, #T_a9e4b_row2_col2, #T_a9e4b_row3_col3, #T_a9e4b_row3_col4, #T_a9e4b_row3_col5, #T_a9e4b_row4_col3, #T_a9e4b_row4_col4, #T_a9e4b_row4_col5, #T_a9e4b_row5_col3, #T_a9e4b_row5_col4, #T_a9e4b_row5_col5 {\n  background-color: #b40426;\n  color: #f1f1f1;\n}\n#T_a9e4b_row0_col3, #T_a9e4b_row0_col4, #T_a9e4b_row0_col5, #T_a9e4b_row1_col3, #T_a9e4b_row1_col4, #T_a9e4b_row1_col5, #T_a9e4b_row2_col3, #T_a9e4b_row2_col4, #T_a9e4b_row2_col5, #T_a9e4b_row3_col0, #T_a9e4b_row3_col1, #T_a9e4b_row3_col2, #T_a9e4b_row4_col0, #T_a9e4b_row4_col1, #T_a9e4b_row4_col2, #T_a9e4b_row5_col0, #T_a9e4b_row5_col1, #T_a9e4b_row5_col2 {\n  background-color: #3b4cc0;\n  color: #f1f1f1;\n}\n</style>\n<table id=\"T_a9e4b_\">\n  <thead>\n    <tr>\n      <th class=\"blank level0\" >&nbsp;</th>\n      <th class=\"col_heading level0 col0\" >lat</th>\n      <th class=\"col_heading level0 col1\" >lat_std</th>\n      <th class=\"col_heading level0 col2\" >lat_mm</th>\n      <th class=\"col_heading level0 col3\" >long</th>\n      <th class=\"col_heading level0 col4\" >long_std</th>\n      <th class=\"col_heading level0 col5\" >long_mm</th>\n    </tr>\n  </thead>\n  <tbody>\n    <tr>\n      <th id=\"T_a9e4b_level0_row0\" class=\"row_heading level0 row0\" >lat</th>\n      <td id=\"T_a9e4b_row0_col0\" class=\"data row0 col0\" >1.000000</td>\n      <td id=\"T_a9e4b_row0_col1\" class=\"data row0 col1\" >1.000000</td>\n      <td id=\"T_a9e4b_row0_col2\" class=\"data row0 col2\" >1.000000</td>\n      <td id=\"T_a9e4b_row0_col3\" class=\"data row0 col3\" >-0.134596</td>\n      <td id=\"T_a9e4b_row0_col4\" class=\"data row0 col4\" >-0.134596</td>\n      <td id=\"T_a9e4b_row0_col5\" class=\"data row0 col5\" >-0.134596</td>\n    </tr>\n    <tr>\n      <th id=\"T_a9e4b_level0_row1\" class=\"row_heading level0 row1\" >lat_std</th>\n      <td id=\"T_a9e4b_row1_col0\" class=\"data row1 col0\" >1.000000</td>\n      <td id=\"T_a9e4b_row1_col1\" class=\"data row1 col1\" >1.000000</td>\n      <td id=\"T_a9e4b_row1_col2\" class=\"data row1 col2\" >1.000000</td>\n      <td id=\"T_a9e4b_row1_col3\" class=\"data row1 col3\" >-0.134596</td>\n      <td id=\"T_a9e4b_row1_col4\" class=\"data row1 col4\" >-0.134596</td>\n      <td id=\"T_a9e4b_row1_col5\" class=\"data row1 col5\" >-0.134596</td>\n    </tr>\n    <tr>\n      <th id=\"T_a9e4b_level0_row2\" class=\"row_heading level0 row2\" >lat_mm</th>\n      <td id=\"T_a9e4b_row2_col0\" class=\"data row2 col0\" >1.000000</td>\n      <td id=\"T_a9e4b_row2_col1\" class=\"data row2 col1\" >1.000000</td>\n      <td id=\"T_a9e4b_row2_col2\" class=\"data row2 col2\" >1.000000</td>\n      <td id=\"T_a9e4b_row2_col3\" class=\"data row2 col3\" >-0.134596</td>\n      <td id=\"T_a9e4b_row2_col4\" class=\"data row2 col4\" >-0.134596</td>\n      <td id=\"T_a9e4b_row2_col5\" class=\"data row2 col5\" >-0.134596</td>\n    </tr>\n    <tr>\n      <th id=\"T_a9e4b_level0_row3\" class=\"row_heading level0 row3\" >long</th>\n      <td id=\"T_a9e4b_row3_col0\" class=\"data row3 col0\" >-0.134596</td>\n      <td id=\"T_a9e4b_row3_col1\" class=\"data row3 col1\" >-0.134596</td>\n      <td id=\"T_a9e4b_row3_col2\" class=\"data row3 col2\" >-0.134596</td>\n      <td id=\"T_a9e4b_row3_col3\" class=\"data row3 col3\" >1.000000</td>\n      <td id=\"T_a9e4b_row3_col4\" class=\"data row3 col4\" >1.000000</td>\n      <td id=\"T_a9e4b_row3_col5\" class=\"data row3 col5\" >1.000000</td>\n    </tr>\n    <tr>\n      <th id=\"T_a9e4b_level0_row4\" class=\"row_heading level0 row4\" >long_std</th>\n      <td id=\"T_a9e4b_row4_col0\" class=\"data row4 col0\" >-0.134596</td>\n      <td id=\"T_a9e4b_row4_col1\" class=\"data row4 col1\" >-0.134596</td>\n      <td id=\"T_a9e4b_row4_col2\" class=\"data row4 col2\" >-0.134596</td>\n      <td id=\"T_a9e4b_row4_col3\" class=\"data row4 col3\" >1.000000</td>\n      <td id=\"T_a9e4b_row4_col4\" class=\"data row4 col4\" >1.000000</td>\n      <td id=\"T_a9e4b_row4_col5\" class=\"data row4 col5\" >1.000000</td>\n    </tr>\n    <tr>\n      <th id=\"T_a9e4b_level0_row5\" class=\"row_heading level0 row5\" >long_mm</th>\n      <td id=\"T_a9e4b_row5_col0\" class=\"data row5 col0\" >-0.134596</td>\n      <td id=\"T_a9e4b_row5_col1\" class=\"data row5 col1\" >-0.134596</td>\n      <td id=\"T_a9e4b_row5_col2\" class=\"data row5 col2\" >-0.134596</td>\n      <td id=\"T_a9e4b_row5_col3\" class=\"data row5 col3\" >1.000000</td>\n      <td id=\"T_a9e4b_row5_col4\" class=\"data row5 col4\" >1.000000</td>\n      <td id=\"T_a9e4b_row5_col5\" class=\"data row5 col5\" >1.000000</td>\n    </tr>\n  </tbody>\n</table>\n"
     },
     "execution_count": 33,
     "metadata": {},
     "output_type": "execute_result"
    }
   ],
   "source": [
    "# Графический вид с цифрами\n",
    "corr = df[columns_Lat_long].corr()\n",
    "corr.style.background_gradient(cmap='coolwarm', axis=None)"
   ]
  },
  {
   "cell_type": "code",
   "execution_count": 34,
   "outputs": [
    {
     "data": {
      "text/plain": "<AxesSubplot:>"
     },
     "execution_count": 34,
     "metadata": {},
     "output_type": "execute_result"
    },
    {
     "data": {
      "text/plain": "<Figure size 432x288 with 2 Axes>",
      "image/png": "[encoded data removed]"
     },
     "metadata": {},
     "output_type": "display_data"
    }
   ],
   "source": [
    "# Графический вид\n",
    "import seaborn as sns\n",
    "sns.heatmap(corr,\n",
    "            xticklabels=corr.columns.values,\n",
    "            yticklabels=corr.columns.values)"
   ],
   "metadata": {
    "collapsed": false,
    "pycharm": {
     "name": "#%%\n"
    }
   }
  },
  {
   "cell_type": "markdown",
   "id": "f87792e8",
   "metadata": {
    "ExecuteTime": {
     "end_time": "2022-03-13T12:00:09.641795Z",
     "start_time": "2022-03-13T12:00:09.636474Z"
    },
    "id": "f87792e8",
    "pycharm": {
     "name": "#%% md\n"
    }
   },
   "source": [
    "### Задача 5. Признаки на основе дат\n",
    "\n",
    "1. Выведите по отдельности колонки `posting_date` и `date`. "
   ]
  },
  {
   "cell_type": "code",
   "execution_count": 73,
   "id": "1cf0cc30",
   "metadata": {
    "ExecuteTime": {
     "end_time": "2022-03-15T22:40:48.879395Z",
     "start_time": "2022-03-15T22:40:48.875098Z"
    },
    "id": "1cf0cc30",
    "pycharm": {
     "name": "#%%\n"
    }
   },
   "outputs": [
    {
     "name": "stdout",
     "output_type": "stream",
     "text": [
      "Wall time: 0 ns\n"
     ]
    },
    {
     "data": {
      "text/plain": "0       2021-04-17T12:30:50-0400\n1       2021-05-03T15:40:21-0400\n2       2021-04-28T03:52:20-0700\n3       2021-04-17T10:08:57-0400\n4       2021-04-08T15:10:56-0400\n                  ...           \n9614    2021-04-10T16:33:57-0400\n9615    2021-05-03T09:36:30-0400\n9616    2021-04-22T12:14:01-0700\n9617    2021-04-14T09:14:42-0500\n9618    2021-04-24T13:50:49-0400\nName: posting_date, Length: 9619, dtype: object"
     },
     "execution_count": 73,
     "metadata": {},
     "output_type": "execute_result"
    }
   ],
   "source": [
    "%%time\n",
    "# Выведем по отдельности колонки posting_date и date\n",
    "df.posting_date"
   ]
  },
  {
   "cell_type": "code",
   "execution_count": 45,
   "outputs": [
    {
     "data": {
      "text/plain": "0       2021-04-17 16:30:50+00:00\n1       2021-05-03 19:40:21+00:00\n2       2021-04-28 10:52:20+00:00\n3       2021-04-17 14:08:57+00:00\n4       2021-04-08 19:10:56+00:00\n                  ...            \n9614    2021-04-10 20:33:57+00:00\n9615    2021-05-03 13:36:30+00:00\n9616    2021-04-22 19:14:01+00:00\n9617    2021-04-14 14:14:42+00:00\n9618    2021-04-24 17:50:49+00:00\nName: date, Length: 9619, dtype: object"
     },
     "execution_count": 45,
     "metadata": {},
     "output_type": "execute_result"
    }
   ],
   "source": [
    "df.date"
   ],
   "metadata": {
    "collapsed": false,
    "pycharm": {
     "name": "#%%\n"
    }
   }
  },
  {
   "cell_type": "markdown",
   "id": "a154545f",
   "metadata": {
    "id": "a154545f",
    "pycharm": {
     "name": "#%% md\n"
    }
   },
   "source": [
    "2. Ранее преобразованная колонка `date` после сохранения в файл и загрузки из него содержит данные в строковом формате, поэтому измените её тип c помощью `pd.to_datetime`."
   ]
  },
  {
   "cell_type": "code",
   "execution_count": 75,
   "id": "a196635b",
   "metadata": {
    "ExecuteTime": {
     "end_time": "2022-03-15T22:49:02.356258Z",
     "start_time": "2022-03-15T22:49:02.315893Z"
    },
    "pycharm": {
     "name": "#%%\n"
    }
   },
   "outputs": [
    {
     "name": "stdout",
     "output_type": "stream",
     "text": [
      "Wall time: 9 ms\n"
     ]
    },
    {
     "data": {
      "text/plain": "0      2021-04-17 16:30:50+00:00\n1      2021-05-03 19:40:21+00:00\n2      2021-04-28 10:52:20+00:00\n3      2021-04-17 14:08:57+00:00\n4      2021-04-08 19:10:56+00:00\n                  ...           \n9614   2021-04-10 20:33:57+00:00\n9615   2021-05-03 13:36:30+00:00\n9616   2021-04-22 19:14:01+00:00\n9617   2021-04-14 14:14:42+00:00\n9618   2021-04-24 17:50:49+00:00\nName: date, Length: 9619, dtype: datetime64[ns, UTC]"
     },
     "execution_count": 75,
     "metadata": {},
     "output_type": "execute_result"
    }
   ],
   "source": [
    "%%time\n",
    "# изменим тип переменной date c помощью pd.to_datetime.\n",
    "df.date = pd.to_datetime(df['date'])\n",
    "df.date"
   ]
  },
  {
   "cell_type": "markdown",
   "id": "c9b3e6f1",
   "metadata": {
    "id": "c9b3e6f1",
    "pycharm": {
     "name": "#%% md\n"
    }
   },
   "source": [
    "3. Несколькими способами извлеките номер месяца продажи автомобиля:\n",
    "\n",
    "3.1 Из переменной `posting_date` с помощью lambda-функции и операций над строками."
   ]
  },
  {
   "cell_type": "code",
   "execution_count": 76,
   "id": "7fb35f85",
   "metadata": {
    "ExecuteTime": {
     "end_time": "2022-03-15T22:40:51.380851Z",
     "start_time": "2022-03-15T22:40:51.369103Z"
    },
    "id": "7fb35f85",
    "pycharm": {
     "name": "#%%\n"
    }
   },
   "outputs": [
    {
     "name": "stdout",
     "output_type": "stream",
     "text": [
      "Wall time: 920 ms\n"
     ]
    },
    {
     "data": {
      "text/plain": "0       04\n1       05\n2       04\n3       04\n4       04\n        ..\n9614    04\n9615    05\n9616    04\n9617    04\n9618    04\nLength: 9619, dtype: object"
     },
     "execution_count": 76,
     "metadata": {},
     "output_type": "execute_result"
    }
   ],
   "source": [
    "%%time\n",
    "# Извлекаем номер месяца продажи автомобиля с помощью lambda-функции и операций над строками\n",
    "df.apply(lambda x: x.posting_date[5:7], axis=1)"
   ]
  },
  {
   "cell_type": "markdown",
   "id": "3218fd7e",
   "metadata": {
    "id": "3218fd7e",
    "pycharm": {
     "name": "#%% md\n"
    }
   },
   "source": [
    "3.2 Из переменной `date` с помощью с помощью lambda-функции и метода `month`."
   ]
  },
  {
   "cell_type": "code",
   "execution_count": 77,
   "id": "4fd839cb",
   "metadata": {
    "ExecuteTime": {
     "end_time": "2022-03-15T22:40:54.064285Z",
     "start_time": "2022-03-15T22:40:54.057551Z"
    },
    "id": "4fd839cb",
    "pycharm": {
     "name": "#%%\n"
    }
   },
   "outputs": [
    {
     "name": "stdout",
     "output_type": "stream",
     "text": [
      "Wall time: 750 ms\n"
     ]
    },
    {
     "data": {
      "text/plain": "0       4\n1       5\n2       4\n3       4\n4       4\n       ..\n9614    4\n9615    5\n9616    4\n9617    4\n9618    4\nLength: 9619, dtype: int64"
     },
     "execution_count": 77,
     "metadata": {},
     "output_type": "execute_result"
    }
   ],
   "source": [
    "%%time\n",
    "#  Извлекаем номер месяца из переменной date с помощью lambda-функции и метода month\n",
    "df.apply(lambda x: x.date.month, axis=1)"
   ]
  },
  {
   "cell_type": "markdown",
   "id": "4000edd6",
   "metadata": {
    "ExecuteTime": {
     "end_time": "2022-03-13T12:25:21.228094Z",
     "start_time": "2022-03-13T12:25:21.223060Z"
    },
    "id": "4000edd6",
    "pycharm": {
     "name": "#%% md\n"
    }
   },
   "source": [
    "3.3 Из переменной `date` с помощью с помощью `dt` и метода `month`."
   ]
  },
  {
   "cell_type": "code",
   "execution_count": 78,
   "id": "b4112009",
   "metadata": {
    "ExecuteTime": {
     "end_time": "2022-03-15T22:40:55.768506Z",
     "start_time": "2022-03-15T22:40:55.764567Z"
    },
    "id": "b4112009",
    "pycharm": {
     "name": "#%%\n"
    }
   },
   "outputs": [
    {
     "name": "stdout",
     "output_type": "stream",
     "text": [
      "Wall time: 2 ms\n"
     ]
    },
    {
     "data": {
      "text/plain": "0       4\n1       5\n2       4\n3       4\n4       4\n       ..\n9614    4\n9615    5\n9616    4\n9617    4\n9618    4\nName: date, Length: 9619, dtype: int64"
     },
     "execution_count": 78,
     "metadata": {},
     "output_type": "execute_result"
    }
   ],
   "source": [
    "%%time\n",
    "#  Извлекаем номер месяца из переменной date с помощью dt и метода month\n",
    "df.date.dt.month"
   ]
  },
  {
   "cell_type": "markdown",
   "id": "4c79c093",
   "metadata": {
    "id": "4c79c093",
    "pycharm": {
     "name": "#%% md\n"
    }
   },
   "source": [
    "4. Создайте любым из способов 3.2 или 3.3 признак `month`, обозначающий номер месяца размещения объявления о продаже автомобиля, и распечатайте его."
   ]
  },
  {
   "cell_type": "code",
   "execution_count": 82,
   "id": "a6f217a1",
   "metadata": {
    "ExecuteTime": {
     "end_time": "2022-03-15T22:40:55.808808Z",
     "start_time": "2022-03-15T22:40:55.801804Z"
    },
    "id": "a6f217a1",
    "pycharm": {
     "name": "#%%\n"
    }
   },
   "outputs": [
    {
     "name": "stdout",
     "output_type": "stream",
     "text": [
      "0       4\n",
      "1       5\n",
      "2       4\n",
      "3       4\n",
      "4       4\n",
      "       ..\n",
      "9614    4\n",
      "9615    5\n",
      "9616    4\n",
      "9617    4\n",
      "9618    4\n",
      "Name: month, Length: 9619, dtype: int64\n",
      "Wall time: 2 ms\n"
     ]
    }
   ],
   "source": [
    "%%time\n",
    "#  Извлекаем номер месяца из переменной date с помощью dt и метода month\n",
    "df['month'] = df.date.dt.month\n",
    "print(df.month)"
   ]
  },
  {
   "cell_type": "markdown",
   "id": "c855e481",
   "metadata": {
    "id": "c855e481",
    "pycharm": {
     "name": "#%% md\n"
    }
   },
   "source": [
    "5. Создайте признак `dayofweek`, обозначающий день недели размещения объявления о продаже автомобиля, и распечатайте его."
   ]
  },
  {
   "cell_type": "code",
   "execution_count": 85,
   "id": "ceda59b0",
   "metadata": {
    "ExecuteTime": {
     "end_time": "2022-03-15T22:40:55.838752Z",
     "start_time": "2022-03-15T22:40:55.833582Z"
    },
    "id": "ceda59b0",
    "pycharm": {
     "name": "#%%\n"
    }
   },
   "outputs": [
    {
     "name": "stdout",
     "output_type": "stream",
     "text": [
      "0       5\n",
      "1       0\n",
      "2       2\n",
      "3       5\n",
      "4       3\n",
      "       ..\n",
      "9614    5\n",
      "9615    0\n",
      "9616    3\n",
      "9617    2\n",
      "9618    5\n",
      "Name: dayofweek, Length: 9619, dtype: int64\n",
      "Wall time: 3 ms\n"
     ]
    }
   ],
   "source": [
    "%%time\n",
    "# Получим и сохраним в новую переменную 'dayofweek' день недели размещения объявления о продаже автомобиля\n",
    "df['dayofweek'] = df.date.dt.dayofweek\n",
    "print(df.dayofweek)"
   ]
  },
  {
   "cell_type": "markdown",
   "id": "53253b00",
   "metadata": {
    "id": "53253b00",
    "pycharm": {
     "name": "#%% md\n"
    }
   },
   "source": [
    "6. Создайте признак `diff_years`, обозначающий количество лет между годом производства автомобиля и годом размещения объявления о продаже автомобиля, и распечатайте его. Дополнительные корректировки не применяйте."
   ]
  },
  {
   "cell_type": "code",
   "execution_count": 86,
   "id": "c5b0ec88",
   "metadata": {
    "ExecuteTime": {
     "end_time": "2022-03-15T22:40:56.791095Z",
     "start_time": "2022-03-15T22:40:56.787550Z"
    },
    "id": "c5b0ec88",
    "pycharm": {
     "name": "#%%\n"
    }
   },
   "outputs": [
    {
     "name": "stdout",
     "output_type": "stream",
     "text": [
      "0        1\n",
      "1        5\n",
      "2        4\n",
      "3        8\n",
      "4        9\n",
      "        ..\n",
      "9614    19\n",
      "9615    13\n",
      "9616    10\n",
      "9617     6\n",
      "9618     4\n",
      "Name: diff_years, Length: 9619, dtype: int64\n",
      "Wall time: 4 ms\n"
     ]
    }
   ],
   "source": [
    "%%time\n",
    "# Получим и сохраним в новую переменную 'diff_years' количество лет между годом производства автомобиля и годом размещения объявления о продаже автомобиля\n",
    "df['diff_years'] = df.date.dt.year - df.year\n",
    "print(df.diff_years)"
   ]
  },
  {
   "cell_type": "code",
   "execution_count": 88,
   "outputs": [
    {
     "data": {
      "text/plain": "           id                                                url  \\\n0  7308295377  https://chattanooga.craigslist.org/ctd/d/chatt...   \n1  7316380095  https://newjersey.craigslist.org/ctd/d/carlsta...   \n2  7313733749  https://reno.craigslist.org/ctd/d/atlanta-2017...   \n3  7308210929  https://fayetteville.craigslist.org/ctd/d/rale...   \n4  7303797340  https://knoxville.craigslist.org/ctd/d/knoxvil...   \n\n         region                           region_url  price  year  \\\n0   chattanooga   https://chattanooga.craigslist.org  54990  2020   \n1  north jersey     https://newjersey.craigslist.org  16942  2016   \n2  reno / tahoe          https://reno.craigslist.org  35590  2017   \n3  fayetteville  https://fayetteville.craigslist.org  14500  2013   \n4     knoxville     https://knoxville.craigslist.org  14590  2012   \n\n  manufacturer                   model    fuel  odometer  ...  \\\n0          ram  2500 crew cab big horn  diesel     27442  ...   \n1         ford    explorer 4wd 4dr xlt   other     60023  ...   \n2   volkswagen        golf r hatchback     gas     14048  ...   \n3       toyota                    rav4     gas    117291  ...   \n4          bmw  1 series 128i coupe 2d   other     80465  ...   \n\n  odometer/price_std desc_len_std model_in_desc_std model_len_std  \\\n0          -0.510784     0.632075         -0.155788      1.163032   \n1          -0.402947    -0.646781         -0.155788      0.932087   \n2          -0.514480     0.560744         -0.155788      0.470197   \n3          -0.241883     0.180435         -0.155788     -0.915473   \n4          -0.333074     0.766366         -0.155788      1.163032   \n\n  model_word_count_std    lat_mm   long_mm month dayofweek diff_years  \n0             1.910669  0.341769  0.288699     4         5          1  \n1             1.235799  0.468665  0.333055     5         0          5  \n2             0.560930  0.313561  0.292022     4         2          4  \n3            -0.788810  0.356215  0.314844     4         5          8  \n4             1.910669  0.361810  0.293893     4         3          9  \n\n[5 rows x 1459 columns]",
      "text/html": "<div>\n<style scoped>\n    .dataframe tbody tr th:only-of-type {\n        vertical-align: middle;\n    }\n\n    .dataframe tbody tr th {\n        vertical-align: top;\n    }\n\n    .dataframe thead th {\n        text-align: right;\n    }\n</style>\n<table border=\"1\" class=\"dataframe\">\n  <thead>\n    <tr style=\"text-align: right;\">\n      <th></th>\n      <th>id</th>\n      <th>url</th>\n      <th>region</th>\n      <th>region_url</th>\n      <th>price</th>\n      <th>year</th>\n      <th>manufacturer</th>\n      <th>model</th>\n      <th>fuel</th>\n      <th>odometer</th>\n      <th>...</th>\n      <th>odometer/price_std</th>\n      <th>desc_len_std</th>\n      <th>model_in_desc_std</th>\n      <th>model_len_std</th>\n      <th>model_word_count_std</th>\n      <th>lat_mm</th>\n      <th>long_mm</th>\n      <th>month</th>\n      <th>dayofweek</th>\n      <th>diff_years</th>\n    </tr>\n  </thead>\n  <tbody>\n    <tr>\n      <th>0</th>\n      <td>7308295377</td>\n      <td>https://chattanooga.craigslist.org/ctd/d/chatt...</td>\n      <td>chattanooga</td>\n      <td>https://chattanooga.craigslist.org</td>\n      <td>54990</td>\n      <td>2020</td>\n      <td>ram</td>\n      <td>2500 crew cab big horn</td>\n      <td>diesel</td>\n      <td>27442</td>\n      <td>...</td>\n      <td>-0.510784</td>\n      <td>0.632075</td>\n      <td>-0.155788</td>\n      <td>1.163032</td>\n      <td>1.910669</td>\n      <td>0.341769</td>\n      <td>0.288699</td>\n      <td>4</td>\n      <td>5</td>\n      <td>1</td>\n    </tr>\n    <tr>\n      <th>1</th>\n      <td>7316380095</td>\n      <td>https://newjersey.craigslist.org/ctd/d/carlsta...</td>\n      <td>north jersey</td>\n      <td>https://newjersey.craigslist.org</td>\n      <td>16942</td>\n      <td>2016</td>\n      <td>ford</td>\n      <td>explorer 4wd 4dr xlt</td>\n      <td>other</td>\n      <td>60023</td>\n      <td>...</td>\n      <td>-0.402947</td>\n      <td>-0.646781</td>\n      <td>-0.155788</td>\n      <td>0.932087</td>\n      <td>1.235799</td>\n      <td>0.468665</td>\n      <td>0.333055</td>\n      <td>5</td>\n      <td>0</td>\n      <td>5</td>\n    </tr>\n    <tr>\n      <th>2</th>\n      <td>7313733749</td>\n      <td>https://reno.craigslist.org/ctd/d/atlanta-2017...</td>\n      <td>reno / tahoe</td>\n      <td>https://reno.craigslist.org</td>\n      <td>35590</td>\n      <td>2017</td>\n      <td>volkswagen</td>\n      <td>golf r hatchback</td>\n      <td>gas</td>\n      <td>14048</td>\n      <td>...</td>\n      <td>-0.514480</td>\n      <td>0.560744</td>\n      <td>-0.155788</td>\n      <td>0.470197</td>\n      <td>0.560930</td>\n      <td>0.313561</td>\n      <td>0.292022</td>\n      <td>4</td>\n      <td>2</td>\n      <td>4</td>\n    </tr>\n    <tr>\n      <th>3</th>\n      <td>7308210929</td>\n      <td>https://fayetteville.craigslist.org/ctd/d/rale...</td>\n      <td>fayetteville</td>\n      <td>https://fayetteville.craigslist.org</td>\n      <td>14500</td>\n      <td>2013</td>\n      <td>toyota</td>\n      <td>rav4</td>\n      <td>gas</td>\n      <td>117291</td>\n      <td>...</td>\n      <td>-0.241883</td>\n      <td>0.180435</td>\n      <td>-0.155788</td>\n      <td>-0.915473</td>\n      <td>-0.788810</td>\n      <td>0.356215</td>\n      <td>0.314844</td>\n      <td>4</td>\n      <td>5</td>\n      <td>8</td>\n    </tr>\n    <tr>\n      <th>4</th>\n      <td>7303797340</td>\n      <td>https://knoxville.craigslist.org/ctd/d/knoxvil...</td>\n      <td>knoxville</td>\n      <td>https://knoxville.craigslist.org</td>\n      <td>14590</td>\n      <td>2012</td>\n      <td>bmw</td>\n      <td>1 series 128i coupe 2d</td>\n      <td>other</td>\n      <td>80465</td>\n      <td>...</td>\n      <td>-0.333074</td>\n      <td>0.766366</td>\n      <td>-0.155788</td>\n      <td>1.163032</td>\n      <td>1.910669</td>\n      <td>0.361810</td>\n      <td>0.293893</td>\n      <td>4</td>\n      <td>3</td>\n      <td>9</td>\n    </tr>\n  </tbody>\n</table>\n<p>5 rows × 1459 columns</p>\n</div>"
     },
     "execution_count": 88,
     "metadata": {},
     "output_type": "execute_result"
    }
   ],
   "source": [
    "# проверим\n",
    "df.head()"
   ],
   "metadata": {
    "collapsed": false,
    "pycharm": {
     "name": "#%%\n"
    }
   }
  },
  {
   "cell_type": "markdown",
   "id": "d3a54316",
   "metadata": {
    "id": "d3a54316",
    "pycharm": {
     "name": "#%% md\n"
    }
   },
   "source": [
    "7. Примените стандартизацию к новым признаками и сохраните результат в новые признаки вида `month_std`."
   ]
  },
  {
   "cell_type": "code",
   "execution_count": 89,
   "id": "8b2c2e19",
   "metadata": {
    "ExecuteTime": {
     "end_time": "2022-03-15T22:40:57.928930Z",
     "start_time": "2022-03-15T22:40:57.925925Z"
    },
    "id": "8b2c2e19",
    "pycharm": {
     "name": "#%%\n"
    }
   },
   "outputs": [
    {
     "data": {
      "text/plain": "           id                                                url  \\\n0  7308295377  https://chattanooga.craigslist.org/ctd/d/chatt...   \n1  7316380095  https://newjersey.craigslist.org/ctd/d/carlsta...   \n2  7313733749  https://reno.craigslist.org/ctd/d/atlanta-2017...   \n3  7308210929  https://fayetteville.craigslist.org/ctd/d/rale...   \n4  7303797340  https://knoxville.craigslist.org/ctd/d/knoxvil...   \n\n         region                           region_url  price  year  \\\n0   chattanooga   https://chattanooga.craigslist.org  54990  2020   \n1  north jersey     https://newjersey.craigslist.org  16942  2016   \n2  reno / tahoe          https://reno.craigslist.org  35590  2017   \n3  fayetteville  https://fayetteville.craigslist.org  14500  2013   \n4     knoxville     https://knoxville.craigslist.org  14590  2012   \n\n  manufacturer                   model    fuel  odometer  ... model_len_std  \\\n0          ram  2500 crew cab big horn  diesel     27442  ...      1.163032   \n1         ford    explorer 4wd 4dr xlt   other     60023  ...      0.932087   \n2   volkswagen        golf r hatchback     gas     14048  ...      0.470197   \n3       toyota                    rav4     gas    117291  ...     -0.915473   \n4          bmw  1 series 128i coupe 2d   other     80465  ...      1.163032   \n\n  model_word_count_std    lat_mm   long_mm month  dayofweek  diff_years  \\\n0             1.910669  0.341769  0.288699     4          5           1   \n1             1.235799  0.468665  0.333055     5          0           5   \n2             0.560930  0.313561  0.292022     4          2           4   \n3            -0.788810  0.356215  0.314844     4          5           8   \n4             1.910669  0.361810  0.293893     4          3           9   \n\n  month_std dayofweek_std diff_years_std  \n0 -0.615846      1.120284      -1.322394  \n1  1.623784     -1.374972      -0.695973  \n2 -0.615846     -0.376870      -0.852578  \n3 -0.615846      1.120284      -0.226157  \n4 -0.615846      0.122182      -0.069552  \n\n[5 rows x 1462 columns]",
      "text/html": "<div>\n<style scoped>\n    .dataframe tbody tr th:only-of-type {\n        vertical-align: middle;\n    }\n\n    .dataframe tbody tr th {\n        vertical-align: top;\n    }\n\n    .dataframe thead th {\n        text-align: right;\n    }\n</style>\n<table border=\"1\" class=\"dataframe\">\n  <thead>\n    <tr style=\"text-align: right;\">\n      <th></th>\n      <th>id</th>\n      <th>url</th>\n      <th>region</th>\n      <th>region_url</th>\n      <th>price</th>\n      <th>year</th>\n      <th>manufacturer</th>\n      <th>model</th>\n      <th>fuel</th>\n      <th>odometer</th>\n      <th>...</th>\n      <th>model_len_std</th>\n      <th>model_word_count_std</th>\n      <th>lat_mm</th>\n      <th>long_mm</th>\n      <th>month</th>\n      <th>dayofweek</th>\n      <th>diff_years</th>\n      <th>month_std</th>\n      <th>dayofweek_std</th>\n      <th>diff_years_std</th>\n    </tr>\n  </thead>\n  <tbody>\n    <tr>\n      <th>0</th>\n      <td>7308295377</td>\n      <td>https://chattanooga.craigslist.org/ctd/d/chatt...</td>\n      <td>chattanooga</td>\n      <td>https://chattanooga.craigslist.org</td>\n      <td>54990</td>\n      <td>2020</td>\n      <td>ram</td>\n      <td>2500 crew cab big horn</td>\n      <td>diesel</td>\n      <td>27442</td>\n      <td>...</td>\n      <td>1.163032</td>\n      <td>1.910669</td>\n      <td>0.341769</td>\n      <td>0.288699</td>\n      <td>4</td>\n      <td>5</td>\n      <td>1</td>\n      <td>-0.615846</td>\n      <td>1.120284</td>\n      <td>-1.322394</td>\n    </tr>\n    <tr>\n      <th>1</th>\n      <td>7316380095</td>\n      <td>https://newjersey.craigslist.org/ctd/d/carlsta...</td>\n      <td>north jersey</td>\n      <td>https://newjersey.craigslist.org</td>\n      <td>16942</td>\n      <td>2016</td>\n      <td>ford</td>\n      <td>explorer 4wd 4dr xlt</td>\n      <td>other</td>\n      <td>60023</td>\n      <td>...</td>\n      <td>0.932087</td>\n      <td>1.235799</td>\n      <td>0.468665</td>\n      <td>0.333055</td>\n      <td>5</td>\n      <td>0</td>\n      <td>5</td>\n      <td>1.623784</td>\n      <td>-1.374972</td>\n      <td>-0.695973</td>\n    </tr>\n    <tr>\n      <th>2</th>\n      <td>7313733749</td>\n      <td>https://reno.craigslist.org/ctd/d/atlanta-2017...</td>\n      <td>reno / tahoe</td>\n      <td>https://reno.craigslist.org</td>\n      <td>35590</td>\n      <td>2017</td>\n      <td>volkswagen</td>\n      <td>golf r hatchback</td>\n      <td>gas</td>\n      <td>14048</td>\n      <td>...</td>\n      <td>0.470197</td>\n      <td>0.560930</td>\n      <td>0.313561</td>\n      <td>0.292022</td>\n      <td>4</td>\n      <td>2</td>\n      <td>4</td>\n      <td>-0.615846</td>\n      <td>-0.376870</td>\n      <td>-0.852578</td>\n    </tr>\n    <tr>\n      <th>3</th>\n      <td>7308210929</td>\n      <td>https://fayetteville.craigslist.org/ctd/d/rale...</td>\n      <td>fayetteville</td>\n      <td>https://fayetteville.craigslist.org</td>\n      <td>14500</td>\n      <td>2013</td>\n      <td>toyota</td>\n      <td>rav4</td>\n      <td>gas</td>\n      <td>117291</td>\n      <td>...</td>\n      <td>-0.915473</td>\n      <td>-0.788810</td>\n      <td>0.356215</td>\n      <td>0.314844</td>\n      <td>4</td>\n      <td>5</td>\n      <td>8</td>\n      <td>-0.615846</td>\n      <td>1.120284</td>\n      <td>-0.226157</td>\n    </tr>\n    <tr>\n      <th>4</th>\n      <td>7303797340</td>\n      <td>https://knoxville.craigslist.org/ctd/d/knoxvil...</td>\n      <td>knoxville</td>\n      <td>https://knoxville.craigslist.org</td>\n      <td>14590</td>\n      <td>2012</td>\n      <td>bmw</td>\n      <td>1 series 128i coupe 2d</td>\n      <td>other</td>\n      <td>80465</td>\n      <td>...</td>\n      <td>1.163032</td>\n      <td>1.910669</td>\n      <td>0.361810</td>\n      <td>0.293893</td>\n      <td>4</td>\n      <td>3</td>\n      <td>9</td>\n      <td>-0.615846</td>\n      <td>0.122182</td>\n      <td>-0.069552</td>\n    </tr>\n  </tbody>\n</table>\n<p>5 rows × 1462 columns</p>\n</div>"
     },
     "execution_count": 89,
     "metadata": {},
     "output_type": "execute_result"
    }
   ],
   "source": [
    "# Создайем объект minMax_scaler класса MinMaxScaler с параметрами по умолчанию\n",
    "stdScaler = StandardScaler()\n",
    "# Идентифицируем параметры преобразования\n",
    "stdScaler.fit(df[['month','dayofweek','diff_years']])\n",
    "# Применим преобразование для датафрейма с количественными переменными и сохраним в новую переменную\n",
    "stdScaler_data = stdScaler.transform(df[['month','dayofweek','diff_years']])\n",
    "# Создаем наименования новых признаков по шаблону: month_std для month и запишим в новый список\n",
    "columns_dat_std = [x + '_std' for x in ['month','dayofweek','diff_years']]\n",
    "# Добавим в исходный датафрейм получившиеся новые признаки\n",
    "df[columns_dat_std] = stdScaler_data\n",
    "df.head()"
   ]
  },
  {
   "cell_type": "markdown",
   "id": "aba80393",
   "metadata": {
    "ExecuteTime": {
     "end_time": "2022-03-13T12:36:22.108423Z",
     "start_time": "2022-03-13T12:36:22.103687Z"
    },
    "id": "aba80393",
    "pycharm": {
     "name": "#%% md\n"
    }
   },
   "source": [
    "### Задача 6. Сохранение датафрейма для этапа моделирования\n",
    "\n",
    "1. Удалите колонки, которые были исходными для формирования признаков, а также новые признаки, которые были добавлены с целью обучения.  Сохраните новый датафрейм в переменную `df_prepared`."
   ]
  },
  {
   "cell_type": "code",
   "execution_count": 93,
   "id": "58ab4836",
   "metadata": {
    "ExecuteTime": {
     "end_time": "2022-03-15T22:41:00.072365Z",
     "start_time": "2022-03-15T22:41:00.064841Z"
    },
    "id": "58ab4836",
    "pycharm": {
     "name": "#%%\n"
    }
   },
   "outputs": [
    {
     "data": {
      "text/plain": "           id  price price_category  is_audi  is_ford  is_chevrolet  \\\n0  7308295377  54990           high        0        0             0   \n1  7316380095  16942         medium        0        1             0   \n2  7313733749  35590           high        0        0             0   \n3  7308210929  14500         medium        0        0             0   \n4  7303797340  14590         medium        0        0             0   \n\n   is_toyota  is_jeep  is_honda  is_nissan  ...   lat_std  long_std  year_std  \\\n0          0        0         0          0  ... -0.619172  0.484245  1.322394   \n1          0        0         0          0  ...  0.388014  1.110800  0.695973   \n2          0        0         0          0  ... -0.843059  0.531185  0.852578   \n3          1        0         0          0  ... -0.504509  0.853562  0.226157   \n4          0        0         0          0  ... -0.460101  0.557607  0.069552   \n\n   desc_len_std  model_in_desc_std  model_len_std  model_word_count_std  \\\n0      0.632075          -0.155788       1.163032              1.910669   \n1     -0.646781          -0.155788       0.932087              1.235799   \n2      0.560744          -0.155788       0.470197              0.560930   \n3      0.180435          -0.155788      -0.915473             -0.788810   \n4      0.766366          -0.155788       1.163032              1.910669   \n\n   month_std  dayofweek_std  diff_years_std  \n0  -0.615846       1.120284       -1.322394  \n1   1.623784      -1.374972       -0.695973  \n2  -0.615846      -0.376870       -0.852578  \n3  -0.615846       1.120284       -0.226157  \n4  -0.615846       0.122182       -0.069552  \n\n[5 rows x 1426 columns]",
      "text/html": "<div>\n<style scoped>\n    .dataframe tbody tr th:only-of-type {\n        vertical-align: middle;\n    }\n\n    .dataframe tbody tr th {\n        vertical-align: top;\n    }\n\n    .dataframe thead th {\n        text-align: right;\n    }\n</style>\n<table border=\"1\" class=\"dataframe\">\n  <thead>\n    <tr style=\"text-align: right;\">\n      <th></th>\n      <th>id</th>\n      <th>price</th>\n      <th>price_category</th>\n      <th>is_audi</th>\n      <th>is_ford</th>\n      <th>is_chevrolet</th>\n      <th>is_toyota</th>\n      <th>is_jeep</th>\n      <th>is_honda</th>\n      <th>is_nissan</th>\n      <th>...</th>\n      <th>lat_std</th>\n      <th>long_std</th>\n      <th>year_std</th>\n      <th>desc_len_std</th>\n      <th>model_in_desc_std</th>\n      <th>model_len_std</th>\n      <th>model_word_count_std</th>\n      <th>month_std</th>\n      <th>dayofweek_std</th>\n      <th>diff_years_std</th>\n    </tr>\n  </thead>\n  <tbody>\n    <tr>\n      <th>0</th>\n      <td>7308295377</td>\n      <td>54990</td>\n      <td>high</td>\n      <td>0</td>\n      <td>0</td>\n      <td>0</td>\n      <td>0</td>\n      <td>0</td>\n      <td>0</td>\n      <td>0</td>\n      <td>...</td>\n      <td>-0.619172</td>\n      <td>0.484245</td>\n      <td>1.322394</td>\n      <td>0.632075</td>\n      <td>-0.155788</td>\n      <td>1.163032</td>\n      <td>1.910669</td>\n      <td>-0.615846</td>\n      <td>1.120284</td>\n      <td>-1.322394</td>\n    </tr>\n    <tr>\n      <th>1</th>\n      <td>7316380095</td>\n      <td>16942</td>\n      <td>medium</td>\n      <td>0</td>\n      <td>1</td>\n      <td>0</td>\n      <td>0</td>\n      <td>0</td>\n      <td>0</td>\n      <td>0</td>\n      <td>...</td>\n      <td>0.388014</td>\n      <td>1.110800</td>\n      <td>0.695973</td>\n      <td>-0.646781</td>\n      <td>-0.155788</td>\n      <td>0.932087</td>\n      <td>1.235799</td>\n      <td>1.623784</td>\n      <td>-1.374972</td>\n      <td>-0.695973</td>\n    </tr>\n    <tr>\n      <th>2</th>\n      <td>7313733749</td>\n      <td>35590</td>\n      <td>high</td>\n      <td>0</td>\n      <td>0</td>\n      <td>0</td>\n      <td>0</td>\n      <td>0</td>\n      <td>0</td>\n      <td>0</td>\n      <td>...</td>\n      <td>-0.843059</td>\n      <td>0.531185</td>\n      <td>0.852578</td>\n      <td>0.560744</td>\n      <td>-0.155788</td>\n      <td>0.470197</td>\n      <td>0.560930</td>\n      <td>-0.615846</td>\n      <td>-0.376870</td>\n      <td>-0.852578</td>\n    </tr>\n    <tr>\n      <th>3</th>\n      <td>7308210929</td>\n      <td>14500</td>\n      <td>medium</td>\n      <td>0</td>\n      <td>0</td>\n      <td>0</td>\n      <td>1</td>\n      <td>0</td>\n      <td>0</td>\n      <td>0</td>\n      <td>...</td>\n      <td>-0.504509</td>\n      <td>0.853562</td>\n      <td>0.226157</td>\n      <td>0.180435</td>\n      <td>-0.155788</td>\n      <td>-0.915473</td>\n      <td>-0.788810</td>\n      <td>-0.615846</td>\n      <td>1.120284</td>\n      <td>-0.226157</td>\n    </tr>\n    <tr>\n      <th>4</th>\n      <td>7303797340</td>\n      <td>14590</td>\n      <td>medium</td>\n      <td>0</td>\n      <td>0</td>\n      <td>0</td>\n      <td>0</td>\n      <td>0</td>\n      <td>0</td>\n      <td>0</td>\n      <td>...</td>\n      <td>-0.460101</td>\n      <td>0.557607</td>\n      <td>0.069552</td>\n      <td>0.766366</td>\n      <td>-0.155788</td>\n      <td>1.163032</td>\n      <td>1.910669</td>\n      <td>-0.615846</td>\n      <td>0.122182</td>\n      <td>-0.069552</td>\n    </tr>\n  </tbody>\n</table>\n<p>5 rows × 1426 columns</p>\n</div>"
     },
     "execution_count": 93,
     "metadata": {},
     "output_type": "execute_result"
    }
   ],
   "source": [
    "# Допишите код\n",
    "\n",
    "columns_for_drop = ['year', 'url', 'region', 'region_url', 'manufacturer',\n",
    "                    'model', 'fuel', 'odometer', 'title_status', 'transmission',\n",
    "                    'image_url', 'description', 'state', 'lat', 'long', 'posting_date',\n",
    "                    'odometer_km', 'odometer/price', 'region_new', 'region_corrected', 'manufacturer_model',\n",
    "                    'desc_len', 'model_in_desc', 'price_k$', 'age_category', 'model_len', 'model_word_count',\n",
    "                    'short_model', 'lat_mm', 'long_mm', 'date', 'std_scaled_price',\n",
    "                    'month', 'dayofweek', 'diff_years',\n",
    "                    'odometer/price_std']\n",
    "#Создадим новый dataframe очищенный от исходных переменных\n",
    "df_prepared = df.drop(columns_for_drop,axis=1)\n",
    "df_prepared.head()"
   ]
  },
  {
   "cell_type": "markdown",
   "id": "f120eaaa",
   "metadata": {
    "id": "f120eaaa",
    "pycharm": {
     "name": "#%% md\n"
    }
   },
   "source": [
    "2. Распечатайте оставшийся список колонок и размерность финального датафрейма."
   ]
  },
  {
   "cell_type": "code",
   "execution_count": 109,
   "id": "13fb36c3",
   "metadata": {
    "ExecuteTime": {
     "end_time": "2022-03-15T22:41:03.176389Z",
     "start_time": "2022-03-15T22:41:03.172474Z"
    },
    "id": "13fb36c3",
    "pycharm": {
     "name": "#%%\n"
    }
   },
   "outputs": [
    {
     "name": "stdout",
     "output_type": "stream",
     "text": [
      "Список колонок:  ['id', 'price', 'price_category', 'is_audi', 'is_ford', 'is_chevrolet', 'is_toyota', 'is_jeep', 'is_honda', 'is_nissan', 'x0_diesel', 'x0_electric', 'x0_gas', 'x0_hybrid', 'x0_other', 'std_scaled_odometer', 'x0_-benz', 'x0_1', 'x0_124', 'x0_128i', 'x0_135i', 'x0_1500', 'x0_163869', 'x0_1928', 'x0_1951', 'x0_1954', 'x0_1960s', 'x0_1966', 'x0_1968', 'x0_1972', 'x0_1977', 'x0_1978', 'x0_198.5', 'x0_1988', 'x0_1994', 'x0_1999', 'x0_2', 'x0_200', 'x0_2000', 'x0_2002', 'x0_2006', 'x0_2007', 'x0_2008', 'x0_2009', 'x0_2012', 'x0_2015', 'x0_2016', 'x0_2017', 'x0_2018', 'x0_210', 'x0_240', 'x0_2500', 'x0_2500hd', 'x0_280zx', 'x0_3', 'x0_3-series', 'x0_3-window', 'x0_3.2', 'x0_300', 'x0_300-series', 'x0_300c', 'x0_300s', 'x0_300zx', 'x0_3100', 'x0_318i', 'x0_320i', 'x0_323i', 'x0_325ci', 'x0_325i', 'x0_325is', 'x0_325xi', 'x0_328', 'x0_328ci', 'x0_328d', 'x0_328i', 'x0_328xi', 'x0_330i', 'x0_330xi', 'x0_335i', 'x0_335xi', 'x0_350', 'x0_3500', 'x0_3500hd', 'x0_350z', 'x0_370z', 'x0_380sl', 'x0_3i', 'x0_4', 'x0_4-runner', 'x0_428', 'x0_430i', 'x0_435i', 'x0_440xi', 'x0_4500', 'x0_4runner', 'x0_4x4', 'x0_5', 'x0_5-series', 'x0_50', 'x0_500', 'x0_500c', 'x0_500l', 'x0_500x', 'x0_525i', 'x0_528i', 'x0_528xi', 'x0_530', 'x0_530i', 'x0_535i', 'x0_535xi', 'x0_540i', 'x0_545i', 'x0_5500', 'x0_5500hd', 'x0_550i', 'x0_5th', 'x0_6', 'x0_640', 'x0_645ci', 'x0_650i', 'x0_650xi', 'x0_7', 'x0_750', 'x0_750i', 'x0_750xi', 'x0_86', 'x0_911', 'x0_914', 'x0_928', 'x0_944', 'x0_a-class', 'x0_a3', 'x0_a3,', 'x0_a4', 'x0_a5', 'x0_a6', 'x0_a7', 'x0_a8', 'x0_acadia', 'x0_accent', 'x0_accord', 'x0_acuarea', 'x0_acura*', 'x0_all', 'x0_allante', 'x0_allroad', 'x0_altima', 'x0_am', 'x0_amc', 'x0_american', 'x0_arcadia', 'x0_armada', 'x0_arteon', 'x0_asc', 'x0_ascent', 'x0_aspen', 'x0_astra', 'x0_astro', 'x0_atlas', 'x0_ats', 'x0_aura', 'x0_autobiography', 'x0_avalanche', 'x0_avalon', 'x0_avanger', 'x0_avenger', 'x0_aveo', 'x0_aviator', 'x0_azera', 'x0_aztek', 'x0_b-class', 'x0_b-series', 'x0_b2200', 'x0_b2300', 'x0_b2600i', 'x0_baja', 'x0_beetle', 'x0_bel', 'x0_belair', 'x0_bentley', 'x0_benz', 'x0_blackwood', 'x0_blazer', 'x0_blue', 'x0_bolt', 'x0_bonanza', 'x0_bonneville', 'x0_boxster', 'x0_bronco', 'x0_brz', 'x0_bug', 'x0_buicks', 'x0_bus', 'x0_buy', 'x0_c', 'x0_c-10', 'x0_c-7500', 'x0_c-class', 'x0_c-hr', 'x0_c-max', 'x0_c/k', 'x0_c10', 'x0_c250', 'x0_c280', 'x0_c30', 'x0_c300', 'x0_c4500', 'x0_c5500', 'x0_c60', 'x0_c6500', 'x0_c70', 'x0_c8500', 'x0_cabellero', 'x0_cabrio', 'x0_caddilac', 'x0_cadenza', 'x0_caliber', 'x0_camaro', 'x0_camary', 'x0_camero', 'x0_camry', 'x0_canyon', 'x0_capri', 'x0_caprice', 'x0_captiva', 'x0_caravan', 'x0_caravan/grand', 'x0_cargo', 'x0_cascada', 'x0_cavalier', 'x0_cayenne', 'x0_cayman', 'x0_cc', 'x0_cc300', 'x0_cc4500', 'x0_century', 'x0_certified', 'x0_challenger', 'x0_champion', 'x0_charger', 'x0_cherokee', 'x0_chevelle', 'x0_chevey', 'x0_chevorlet', 'x0_chryler', 'x0_chysler', 'x0_city', 'x0_civic', 'x0_cj-5', 'x0_cj2a', 'x0_cj5', 'x0_cj7', 'x0_cj8', 'x0_cl-class', 'x0_cla', 'x0_cla-class', 'x0_clarity', 'x0_classic', 'x0_classuc', 'x0_click', 'x0_clk', 'x0_clk-class', 'x0_clk350', 'x0_cls-class', 'x0_cls550', 'x0_clubman', 'x0_cmax', 'x0_cobalt', 'x0_colbalt', 'x0_colorado', 'x0_comanche', 'x0_comet', 'x0_commander', 'x0_compass', 'x0_concorde', 'x0_conquest', 'x0_continental', 'x0_convertible', 'x0_cooper', 'x0_corolla', 'x0_corsair', 'x0_corvette', 'x0_cougar', 'x0_country', 'x0_countryman', 'x0_coupe', 'x0_cr-v', 'x0_crew', 'x0_crossfire', 'x0_crosstour', 'x0_crosstrek', 'x0_crown', 'x0_cruze', 'x0_crv', 'x0_crz', 'x0_ct', 'x0_ct4', 'x0_ct5', 'x0_ct6', 'x0_cts', 'x0_cts-v', 'x0_cts4', 'x0_cube', 'x0_cvr', 'x0_cx-3', 'x0_cx-5', 'x0_cx-7', 'x0_cx-9', 'x0_cx7', 'x0_cx9', 'x0_d50', 'x0_d7fh173552', 'x0_dakota', 'x0_dart', 'x0_davidson', 'x0_dealer*', 'x0_defender', 'x0_deisel', 'x0_deluxe', 'x0_denali', 'x0_deville', 'x0_diahatsu', 'x0_discovery', 'x0_dodge1500', 'x0_dts', 'x0_dump', 'x0_duramax', 'x0_durango', 'x0_durangon', 'x0_e', 'x0_e-150', 'x0_e-250', 'x0_e-350', 'x0_e-450', 'x0_e-class', 'x0_e-golf', 'x0_e-pace', 'x0_e-series', 'x0_e150', 'x0_e250', 'x0_e320', 'x0_e350', 'x0_e450', 'x0_e46', 'x0_e500', 'x0_eagle', 'x0_easy', 'x0_echo', 'x0_eclipse', 'x0_econoline', 'x0_ecosport', 'x0_edge', 'x0_el', 'x0_elantra', 'x0_elcamino', 'x0_eldorado', 'x0_element', 'x0_emergency', 'x0_enclave', 'x0_encore', 'x0_endeavor', 'x0_envision', 'x0_envoy', 'x0_eos', 'x0_eqinox', 'x0_equinox', 'x0_es', 'x0_es300', 'x0_es330', 'x0_es350', 'x0_escalade', 'x0_escape', 'x0_escape-se,', 'x0_escort', 'x0_eurovan', 'x0_evoque', 'x0_excursion', 'x0_expedition', 'x0_explorer', 'x0_express', 'x0_f', 'x0_f-100', 'x0_f-150', 'x0_f-250', 'x0_f-250sd', 'x0_f-350', 'x0_f-350sd', 'x0_f-450', 'x0_f-450sd', 'x0_f-550', 'x0_f-650', 'x0_f-750', 'x0_f-pace', 'x0_f-type', 'x0_f1', 'x0_f100', 'x0_f150', 'x0_f250', 'x0_f350', 'x0_f450', 'x0_f450sd', 'x0_f50', 'x0_f550', 'x0_f600', 'x0_f650', 'x0_f700', 'x0_f750', 'x0_falcon', 'x0_fe', 'x0_fiero', 'x0_fiesta', 'x0_firebird', 'x0_fit', 'x0_five', 'x0_fj', 'x0_fj40', 'x0_fleetmaster', 'x0_fleetwood', 'x0_flex', 'x0_flexible', 'x0_focus', 'x0_ford*', 'x0_ford/ranger', 'x0_forde350', 'x0_fords', 'x0_forester', 'x0_forte', 'x0_forte5', 'x0_foxbody', 'x0_freestar', 'x0_freestyle', 'x0_freightliner', 'x0_frontier', 'x0_frrv', 'x0_frtlner', 'x0_fusion', 'x0_fuso', 'x0_fx35', 'x0_fx45', 'x0_g', 'x0_g-class', 'x0_g.', 'x0_g20', 'x0_g30', 'x0_g35', 'x0_g35x', 'x0_g37', 'x0_g37s', 'x0_g37x', 'x0_g4500', 'x0_g5', 'x0_g6', 'x0_g8', 'x0_galant', 'x0_gcm', 'x0_gehl', 'x0_genesis', 'x0_ghia', 'x0_gl', 'x0_gl-class', 'x0_gl450', 'x0_gla', 'x0_gla-class', 'x0_gladiator', 'x0_glc', 'x0_glc-class', 'x0_gle', 'x0_gle-class', 'x0_glk', 'x0_glk-class', 'x0_glk350', 'x0_gls', 'x0_gmc,', 'x0_gmc/chev', 'x0_gmce', 'x0_gmt-400', 'x0_gmx', 'x0_golf', 'x0_gr', 'x0_grand', 'x0_grandville', 'x0_grumman', 'x0_gs', 'x0_gs350', 'x0_gs430', 'x0_gt', 'x0_gt-r', 'x0_gti', 'x0_gto', 'x0_gulf', 'x0_gx', 'x0_gx460', 'x0_gx470', 'x0_hardbody', 'x0_hardtop', 'x0_hearse', 'x0_hhr', 'x0_hiace', 'x0_high', 'x0_highlander', 'x0_hino', 'x0_hobda', 'x0_hot', 'x0_hr-v', 'x0_hse', 'x0_hummer', 'x0_hyndai', 'x0_i-miev', 'x0_i3', 'x0_i30', 'x0_i35', 'x0_ic', 'x0_ilx', 'x0_impala', 'x0_impreza', 'x0_insight', 'x0_international', 'x0_ion', 'x0_ioniq', 'x0_is', 'x0_is250', 'x0_is300', 'x0_isf', 'x0_isizu', 'x0_isuzu', 'x0_janesville', 'x0_jauguar', 'x0_jayco', 'x0_jeepster', 'x0_jetta', 'x0_jimmy', 'x0_jm1bk32f871604924', 'x0_jouney', 'x0_journey', 'x0_juke', 'x0_jx35', 'x0_k10', 'x0_k20', 'x0_k30', 'x0_k5', 'x0_k900', 'x0_kaiser', 'x0_kicks', 'x0_kodiak', 'x0_l', 'x0_l300', 'x0_lacrosse', 'x0_lancer', 'x0_land', 'x0_landcruiser', 'x0_leaf', 'x0_legacy', 'x0_legend', 'x0_lemans', 'x0_lesabre', 'x0_liberty', 'x0_lifted', 'x0_lightning', 'x0_limousine', 'x0_long', 'x0_lotus', 'x0_lr2', 'x0_lr3', 'x0_lr4', 'x0_ls', 'x0_ltd', 'x0_lucerne', 'x0_lx', 'x0_lx450', 'x0_m', 'x0_m-class', 'x0_m3', 'x0_m35', 'x0_m35s', 'x0_m5', 'x0_macan', 'x0_magnum', 'x0_malibu', 'x0_mallinia', 'x0_marineer,premier', 'x0_mariner', 'x0_mark', 'x0_maserati', 'x0_matrix', 'x0_maxima', 'x0_maximum', 'x0_mazda2', 'x0_mazda3', 'x0_mazda5', 'x0_mazda6', 'x0_mazda6i', 'x0_md-x', 'x0_mdx', 'x0_mercades', 'x0_mercedes-amg', 'x0_mercuty', 'x0_merdeces', 'x0_metris', 'x0_mg', 'x0_mgb', 'x0_miata', 'x0_milan', 'x0_minin', 'x0_mirage', 'x0_mitusbishi', 'x0_mkc', 'x0_mks', 'x0_mkt', 'x0_mkx', 'x0_mkz', 'x0_ml', 'x0_ml350', 'x0_ml500', 'x0_model', 'x0_monte', 'x0_montero', 'x0_mountaineer', 'x0_mpv', 'x0_mr2', 'x0_murano', 'x0_mustang', 'x0_mv-1', 'x0_mx-5', 'x0_nascar', 'x0_nautilus', 'x0_navigator', 'x0_neon', 'x0_new', 'x0_newport', 'x0_niro', 'x0_nitro', 'x0_nova', 'x0_nv', 'x0_nv1500', 'x0_nv200', 'x0_nv2500', 'x0_nv2500hd', 'x0_nx', 'x0_nx300', 'x0_oddyssey', 'x0_odyssey', 'x0_oldsmobile', 'x0_optima', 'x0_optimia', 'x0_outback', 'x0_outlander', 'x0_outlook', 'x0_paceman', 'x0_pacifica', 'x0_panamera', 'x0_panel', 'x0_park', 'x0_passat', 'x0_passport', 'x0_pathfinder', 'x0_patriot', 'x0_peterbilt', 'x0_phaeton', 'x0_pick', 'x0_pickup', 'x0_pierce', 'x0_pilot', 'x0_plymouth', 'x0_pontaic', 'x0_prelude', 'x0_prius', 'x0_prizm', 'x0_programs', 'x0_promaster', 'x0_protege', 'x0_pt', 'x0_putback', 'x0_q3', 'x0_q5', 'x0_q50', 'x0_q60', 'x0_q7', 'x0_q70', 'x0_quattro', 'x0_quest', 'x0_qx', 'x0_qx50', 'x0_qx56', 'x0_qx60', 'x0_qx70', 'x0_qx80', 'x0_r-class', 'x0_r32', 'x0_rabbit', 'x0_rainier', 'x0_ram1500', 'x0_ram2500', 'x0_ramcharger', 'x0_range', 'x0_ranger', 'x0_rat', 'x0_rav', 'x0_rav4', 'x0_rc', 'x0_rdx', 'x0_reatta', 'x0_rebel', 'x0_regal', 'x0_rendezvous', 'x0_renegade', 'x0_replica', 'x0_ridgeline', 'x0_rio', 'x0_rivera', 'x0_riviera', 'x0_rl', 'x0_rlx', 'x0_roadmaster', 'x0_roadster', 'x0_rogue', 'x0_romeo', 'x0_rondo', 'x0_rouge', 'x0_routan', 'x0_rs', 'x0_rsx', 'x0_rx', 'x0_rx-8', 'x0_rx300', 'x0_rx330', 'x0_rx350', 'x0_rx400h', 'x0_rx7', 'x0_rx8', 'x0_s', 'x0_s-10', 'x0_s-class', 'x0_s/w', 'x0_s10', 'x0_s2000', 'x0_s3', 'x0_s320', 'x0_s4', 'x0_s40', 'x0_s430', 'x0_s5', 'x0_s500', 'x0_s6', 'x0_s60', 'x0_s7', 'x0_s70', 'x0_s8', 'x0_s90', 'x0_saab', 'x0_sable', 'x0_santa', 'x0_sante', 'x0_savana', 'x0_sc', 'x0_sc2', 'x0_sc300', 'x0_school', 'x0_scion', 'x0_sea', 'x0_sebring', 'x0_sedan', 'x0_sedona', 'x0_seirra', 'x0_sentra', 'x0_sequioa', 'x0_sequoia', 'x0_seville', 'x0_shelby', 'x0_sienna', 'x0_sierra', 'x0_sierra1500', 'x0_silverado', 'x0_sky', 'x0_skylark', 'x0_sl', 'x0_sl-class', 'x0_sl2', 'x0_sl500', 'x0_sl55', 'x0_sl550', 'x0_slc', 'x0_sle', 'x0_slk', 'x0_slk-class', 'x0_slt', 'x0_smart', 'x0_solara', 'x0_solstice', 'x0_sonata', 'x0_sonic', 'x0_sonoma', 'x0_sorento', 'x0_sorrento', 'x0_soul', 'x0_soul+', 'x0_spark', 'x0_spectra', 'x0_sport', 'x0_sportage', 'x0_sprinter', 'x0_srx', 'x0_srx-v6', 'x0_srx4', 'x0_srx~awesome', 'x0_ss', 'x0_ssr', 'x0_starcraft', 'x0_step-van', 'x0_sterling', 'x0_stinger', 'x0_stratus', 'x0_sts', 'x0_studebaker', 'x0_suburban', 'x0_super', 'x0_supra', 'x0_suv', 'x0_suzuki', 'x0_svx', 'x0_t', 'x0_t-350', 'x0_t-bucket', 'x0_tacoma', 'x0_tahoe', 'x0_tarsus', 'x0_taurus', 'x0_tc5500', 'x0_telluride', 'x0_tercel', 'x0_terrain', 'x0_thing', 'x0_thomas', 'x0_thrift', 'x0_thunderbird', 'x0_tiguan', 'x0_titan', 'x0_tl', 'x0_tlx', 'x0_torrent', 'x0_touareg', 'x0_town', 'x0_tracker', 'x0_tractor', 'x0_trailblazer', 'x0_trans', 'x0_transit', 'x0_traverse', 'x0_trax', 'x0_tribeca', 'x0_tribute', 'x0_triumph', 'x0_truck', 'x0_tsx', 'x0_tt', 'x0_tucson', 'x0_tudor', 'x0_tundra', 'x0_uplander', 'x0_utility', 'x0_ux', 'x0_v50', 'x0_v6', 'x0_v60', 'x0_v90', 'x0_van', 'x0_vanagon', 'x0_vandura', 'x0_velar', 'x0_veloster', 'x0_venture', 'x0_venza', 'x0_veracruz', 'x0_verano', 'x0_versa', 'x0_vibe', 'x0_villager', 'x0_vnl', 'x0_volt', 'x0_voltswagon', 'x0_voyager', 'x0_vtx1300c', 'x0_vue', 'x0_w350', 'x0_willys', 'x0_windstar', 'x0_wrangler', 'x0_wrx', 'x0_x-3', 'x0_x-type', 'x0_x1', 'x0_x2', 'x0_x3', 'x0_x4', 'x0_x5', 'x0_x6', 'x0_xc', 'x0_xc40', 'x0_xc60', 'x0_xc70', 'x0_xc90', 'x0_xe', 'x0_xf', 'x0_xj', 'x0_xj-series', 'x0_xj8', 'x0_xk8', 'x0_xt4', 'x0_xt5', 'x0_xt6', 'x0_xterra', 'x0_xts', 'x0_xv', 'x0_xx', 'x0_yaris', 'x0_yukon', 'x0_z', 'x0_z3', 'x0_z4', 'x0_zephyr', 'x0_zx2', 'x1_automatic', 'x1_manual', 'x1_other', 'x2_SF bay area', 'x2_abilene', 'x2_akron / canton', 'x2_albany', 'x2_albuquerque', 'x2_altoona-johnstown', 'x2_amarillo', 'x2_ames', 'x2_anchorage / mat-su', 'x2_ann arbor', 'x2_annapolis', 'x2_appleton-oshkosh-FDL', 'x2_asheville', 'x2_ashtabula', 'x2_athens', 'x2_atlanta', 'x2_auburn', 'x2_augusta', 'x2_austin', 'x2_bakersfield', 'x2_baltimore', 'x2_baton rouge', 'x2_battle creek', 'x2_beaumont / port arthur', 'x2_bellingham', 'x2_bemidji', 'x2_bend', 'x2_billings', 'x2_binghamton', 'x2_birmingham', 'x2_bismarck', 'x2_bloomington', 'x2_bloomington-normal', 'x2_boise', 'x2_boone', 'x2_boston', 'x2_boulder', 'x2_bowling green', 'x2_bozeman', 'x2_brainerd', 'x2_brownsville', 'x2_brunswick', 'x2_buffalo', 'x2_butte', 'x2_cape cod / islands', 'x2_catskills', 'x2_cedar rapids', 'x2_central NJ', 'x2_central louisiana', 'x2_central michigan', 'x2_champaign urbana', 'x2_charleston', 'x2_charlotte', 'x2_charlottesville', 'x2_chattanooga', 'x2_chautauqua', 'x2_chicago', 'x2_chico', 'x2_chillicothe', 'x2_cincinnati', 'x2_clarksville', 'x2_cleveland', 'x2_clovis / portales', 'x2_college station', 'x2_colorado springs', 'x2_columbia', 'x2_columbia / jeff city', 'x2_columbus', 'x2_corpus christi', 'x2_corvallis/albany', 'x2_cumberland valley', 'x2_dallas / fort worth', 'x2_danville', 'x2_dayton / springfield', 'x2_daytona beach', 'x2_decatur', 'x2_del rio / eagle pass', 'x2_delaware', 'x2_denver', 'x2_des moines', 'x2_detroit metro', 'x2_dothan', 'x2_dubuque', 'x2_duluth / superior', 'x2_east idaho', 'x2_east oregon', 'x2_eastern CO', 'x2_eastern CT', 'x2_eastern NC', 'x2_eastern kentucky', 'x2_eastern montana', 'x2_eastern panhandle', 'x2_eastern shore', 'x2_eau claire', 'x2_el paso', 'x2_elko', 'x2_elmira-corning', 'x2_erie', 'x2_eugene', 'x2_evansville', 'x2_fairbanks', 'x2_fargo / moorhead', 'x2_farmington', 'x2_fayetteville', 'x2_finger lakes', 'x2_flagstaff / sedona', 'x2_flint', 'x2_florence', 'x2_florence / muscle shoals', 'x2_florida keys', 'x2_fort collins / north CO', 'x2_fort dodge', 'x2_fort smith', 'x2_fort wayne', 'x2_frederick', 'x2_fredericksburg', 'x2_fresno / madera', 'x2_ft myers / SW florida', 'x2_gadsden-anniston', 'x2_gainesville', 'x2_galveston', 'x2_glens falls', 'x2_gold country', 'x2_grand forks', 'x2_grand island', 'x2_grand rapids', 'x2_great falls', 'x2_green bay', 'x2_greensboro', 'x2_greenville / upstate', 'x2_gulfport / biloxi', 'x2_hanford-corcoran', 'x2_harrisburg', 'x2_harrisonburg', 'x2_hartford', 'x2_hattiesburg', 'x2_hawaii', 'x2_heartland florida', 'x2_helena', 'x2_hickory / lenoir', 'x2_high rockies', 'x2_hilton head', 'x2_holland', 'x2_houma', 'x2_houston', 'x2_hudson valley', 'x2_humboldt county', 'x2_huntington-ashland', 'x2_huntsville / decatur', 'x2_imperial county', 'x2_indianapolis', 'x2_inland empire', 'x2_iowa city', 'x2_ithaca', 'x2_jackson', 'x2_jacksonville', 'x2_janesville', 'x2_jersey shore', 'x2_jonesboro', 'x2_joplin', 'x2_kalamazoo', 'x2_kalispell', 'x2_kansas city, MO', 'x2_kenai peninsula', 'x2_kennewick-pasco-richland', 'x2_kenosha-racine', 'x2_killeen / temple / ft hood', 'x2_kirksville', 'x2_klamath falls', 'x2_knoxville', 'x2_kokomo', 'x2_la crosse', 'x2_la salle co', 'x2_lafayette', 'x2_lafayette / west lafayette', 'x2_lake charles', 'x2_lake of the ozarks', 'x2_lakeland', 'x2_lancaster', 'x2_lansing', 'x2_laredo', 'x2_las cruces', 'x2_las vegas', 'x2_lawrence', 'x2_lawton', 'x2_lehigh valley', 'x2_lewiston / clarkston', 'x2_lexington', 'x2_lima / findlay', 'x2_lincoln', 'x2_little rock', 'x2_logan', 'x2_long island', 'x2_los angeles', 'x2_louisville', 'x2_lubbock', 'x2_lynchburg', 'x2_macon / warner robins', 'x2_madison', 'x2_maine', 'x2_manhattan', 'x2_mankato', 'x2_mansfield', 'x2_mason city', 'x2_mattoon-charleston', 'x2_mcallen / edinburg', 'x2_meadville', 'x2_medford-ashland', 'x2_memphis', 'x2_mendocino county', 'x2_merced', 'x2_milwaukee', 'x2_minneapolis / st paul', 'x2_missoula', 'x2_mobile', 'x2_modesto', 'x2_mohave county', 'x2_monroe', 'x2_monterey bay', 'x2_montgomery', 'x2_morgantown', 'x2_moses lake', 'x2_muncie / anderson', 'x2_muskegon', 'x2_myrtle beach', 'x2_nashville', 'x2_new hampshire', 'x2_new haven', 'x2_new orleans', 'x2_new river valley', 'x2_new york city', 'x2_norfolk / hampton roads', 'x2_north central FL', 'x2_north dakota', 'x2_north jersey', 'x2_north mississippi', 'x2_north platte', 'x2_northeast SD', 'x2_northern WI', 'x2_northern michigan', 'x2_northern panhandle', 'x2_northwest CT', 'x2_northwest GA', 'x2_northwest KS', 'x2_northwest OK', 'x2_ocala', 'x2_odessa / midland', 'x2_ogden-clearfield', 'x2_okaloosa / walton', 'x2_oklahoma city', 'x2_olympic peninsula', 'x2_omaha / council bluffs', 'x2_oneonta', 'x2_orange county', 'x2_oregon coast', 'x2_orlando', 'x2_outer banks', 'x2_owensboro', 'x2_palm springs', 'x2_panama city', 'x2_parkersburg-marietta', 'x2_pensacola', 'x2_peoria', 'x2_philadelphia', 'x2_phoenix', 'x2_pierre / central SD', 'x2_pittsburgh', 'x2_plattsburgh-adirondacks', 'x2_poconos', 'x2_port huron', 'x2_portland', 'x2_potsdam-canton-massena', 'x2_prescott', 'x2_pueblo', 'x2_pullman / moscow', 'x2_quad cities, IA/IL', 'x2_raleigh / durham / CH', 'x2_rapid city / west SD', 'x2_reading', 'x2_redding', 'x2_reno / tahoe', 'x2_rhode island', 'x2_richmond', 'x2_roanoke', 'x2_rochester', 'x2_rockford', 'x2_roseburg', 'x2_roswell / carlsbad', 'x2_sacramento', 'x2_saginaw-midland-baycity', 'x2_salem', 'x2_salina', 'x2_salt lake city', 'x2_san angelo', 'x2_san antonio', 'x2_san diego', 'x2_san luis obispo', 'x2_san marcos', 'x2_sandusky', 'x2_santa barbara', 'x2_santa fe / taos', 'x2_santa maria', 'x2_sarasota-bradenton', 'x2_savannah / hinesville', 'x2_scottsbluff / panhandle', 'x2_scranton / wilkes-barre', 'x2_seattle-tacoma', 'x2_sheboygan', 'x2_show low', 'x2_shreveport', 'x2_sierra vista', 'x2_sioux city', 'x2_sioux falls / SE SD', 'x2_siskiyou county', 'x2_skagit / island / SJI', 'x2_south bend / michiana', 'x2_south coast', 'x2_south dakota', 'x2_south florida', 'x2_south jersey', 'x2_southeast IA', 'x2_southeast alaska', 'x2_southeast missouri', 'x2_southern WV', 'x2_southern illinois', 'x2_southern maryland', 'x2_southwest KS', 'x2_southwest MN', 'x2_southwest MS', 'x2_southwest VA', 'x2_southwest michigan', 'x2_space coast', \"x2_spokane / coeur d'alene\", 'x2_springfield', 'x2_st augustine', 'x2_st cloud', 'x2_st george', 'x2_st joseph', 'x2_st louis, MO', 'x2_state college', 'x2_statesboro', 'x2_stillwater', 'x2_stockton', 'x2_susanville', 'x2_syracuse', 'x2_tallahassee', 'x2_tampa bay area', 'x2_terre haute', 'x2_texarkana', 'x2_texoma', 'x2_the thumb', 'x2_toledo', 'x2_topeka', 'x2_treasure coast', 'x2_tri-cities', 'x2_tucson', 'x2_tulsa', 'x2_tuscaloosa', 'x2_tuscarawas co', 'x2_twin falls', 'x2_twin tiers NY/PA', 'x2_tyler / east TX', 'x2_upper peninsula', 'x2_utica-rome-oneida', 'x2_valdosta', 'x2_ventura county', 'x2_vermont', 'x2_victoria', 'x2_visalia-tulare', 'x2_waco', 'x2_washington, DC', 'x2_waterloo / cedar falls', 'x2_watertown', 'x2_wausau', 'x2_wenatchee', 'x2_western KY', 'x2_western maryland', 'x2_western massachusetts', 'x2_western slope', 'x2_wichita', 'x2_wichita falls', 'x2_williamsport', 'x2_wilmington', 'x2_winchester', 'x2_winston-salem', 'x2_worcester / central MA', 'x2_wyoming', 'x2_yakima', 'x2_york', 'x2_youngstown', 'x2_yuba-sutter', 'x2_yuma', 'x2_zanesville / cambridge', 'x3_acura', 'x3_alfa-romeo', 'x3_audi', 'x3_bmw', 'x3_buick', 'x3_cadillac', 'x3_chevrolet', 'x3_chrysler', 'x3_datsun', 'x3_dodge', 'x3_ferrari', 'x3_fiat', 'x3_ford', 'x3_gmc', 'x3_harley-davidson', 'x3_honda', 'x3_hyundai', 'x3_infiniti', 'x3_jaguar', 'x3_jeep', 'x3_kia', 'x3_lexus', 'x3_lincoln', 'x3_mazda', 'x3_mercedes-benz', 'x3_mercury', 'x3_mini', 'x3_mitsubishi', 'x3_nissan', 'x3_other', 'x3_pontiac', 'x3_porsche', 'x3_ram', 'x3_rover', 'x3_saturn', 'x3_subaru', 'x3_tesla', 'x3_toyota', 'x3_volkswagen', 'x3_volvo', 'x4_ak', 'x4_al', 'x4_ar', 'x4_az', 'x4_ca', 'x4_co', 'x4_ct', 'x4_dc', 'x4_de', 'x4_fl', 'x4_ga', 'x4_hi', 'x4_ia', 'x4_id', 'x4_il', 'x4_in', 'x4_ks', 'x4_ky', 'x4_la', 'x4_ma', 'x4_md', 'x4_me', 'x4_mi', 'x4_mn', 'x4_mo', 'x4_ms', 'x4_mt', 'x4_nc', 'x4_nd', 'x4_ne', 'x4_nh', 'x4_nj', 'x4_nm', 'x4_nv', 'x4_ny', 'x4_oh', 'x4_ok', 'x4_or', 'x4_pa', 'x4_ri', 'x4_sc', 'x4_sd', 'x4_tn', 'x4_tx', 'x4_ut', 'x4_va', 'x4_vt', 'x4_wa', 'x4_wi', 'x4_wv', 'x4_wy', 'x5_clean', 'x5_lien', 'x5_missing', 'x5_parts only', 'x5_rebuilt', 'x5_salvage', 'x6_average', 'x6_new', 'x6_old', 'lat_std', 'long_std', 'year_std', 'desc_len_std', 'model_in_desc_std', 'model_len_std', 'model_word_count_std', 'month_std', 'dayofweek_std', 'diff_years_std']\n"
     ]
    }
   ],
   "source": [
    "# список колонок и размерность финального датафрейма\n",
    "print(\"Список колонок: \", list(df_prepared.columns))\n"
   ]
  },
  {
   "cell_type": "code",
   "execution_count": 110,
   "outputs": [
    {
     "name": "stdout",
     "output_type": "stream",
     "text": [
      "Размерность финального датафрейма:  (9619, 1426)\n"
     ]
    }
   ],
   "source": [
    "print(\"Размерность финального датафрейма: \", df_prepared.shape)"
   ],
   "metadata": {
    "collapsed": false,
    "pycharm": {
     "name": "#%%\n"
    }
   }
  },
  {
   "cell_type": "markdown",
   "id": "b62690ff",
   "metadata": {
    "id": "b62690ff",
    "pycharm": {
     "name": "#%% md\n"
    }
   },
   "source": [
    "3. Запишите перобразованный датафрейм в файл `data/vehicles_dataset_prepared.csv`, индекс не сохраняйте."
   ]
  },
  {
   "cell_type": "code",
   "execution_count": 112,
   "id": "955e76dd",
   "metadata": {
    "ExecuteTime": {
     "end_time": "2022-03-15T22:41:08.021538Z",
     "start_time": "2022-03-15T22:41:08.016555Z"
    },
    "id": "955e76dd",
    "pycharm": {
     "name": "#%%\n"
    }
   },
   "outputs": [],
   "source": [
    "# Сохраним перобразованный датафрейм в файл `data/vehicles_dataset_prepared.csv`, индекс не сохраняйте.\n",
    "df_prepared.to_csv('data/vehicles_dataset_prepared.csv', index=False)"
   ]
  },
  {
   "cell_type": "markdown",
   "id": "6e4960b4",
   "metadata": {
    "id": "6e4960b4",
    "pycharm": {
     "name": "#%% md\n"
    }
   },
   "source": [
    "## Описание преобразованного датасета:\n",
    "- `id`: идентификатор записи;\n",
    "- `is_manufacturer_name`: признак производителя автомобиля;\n",
    "\n",
    "- `region_*`: регион;\n",
    "- `x0_*`: тип топлива;\n",
    "- `manufacturer_*`: производитель;\n",
    "- `short_model_*`: сокращённая модель автомобиля;\n",
    "- `title_status_*`: статус;\n",
    "- `transmission_*`: коробка передач;\n",
    "- `state_*`: штат;\n",
    "- `age_category_*`: возрастная категория автомобиля;\n",
    "\n",
    "- `std_scaled_odometer`: количество пройденных миль (после стандартизации);\n",
    "- `year_std`: год выпуска (после стандартизации);\n",
    "- `lat_std`: широта (после стандартизации);\n",
    "- `long_std`: долгота (после стандартизации);\n",
    "- `odometer/price_std`: отношение стоимости к пробегу автомобиля (после стандартизации);\n",
    "- `desc_len_std`: количество символов в тексте объявления о продаже (после стандартизации);\n",
    "- `model_in_desc_std`: количество наименований модели автомобиля в тексте объявления о продаже (после стандартизации);\n",
    "- `model_len_std`: длина наименования автомобиля (после стандартизации);\n",
    "- `model_word_count_std`: количество слов в наименовании автомобиля (после стандартизации);\n",
    "- `month_std`: номер месяца размещения объявления о продаже автомобиля (после стандартизации);\n",
    "- `dayofweek_std`: день недели размещения объявления о продаже автомобиля (после стандартизации);\n",
    "- `diff_years_std`: количество лет между годом производства автомобиля и годом размещения объявления о продаже автомобиля (после стандартизации);\n",
    "\n",
    "- `price`: стоимость;\n",
    "- `price_category`: категория цены."
   ]
  }
 ],
 "metadata": {
  "colab": {
   "collapsed_sections": [],
   "name": "20.5_Практическая работа_СКРИПТ.ipynb",
   "provenance": []
  },
  "kernelspec": {
   "display_name": "Python 3",
   "language": "python",
   "name": "python3"
  },
  "language_info": {
   "codemirror_mode": {
    "name": "ipython",
    "version": 3
   },
   "file_extension": ".py",
   "mimetype": "text/x-python",
   "name": "python",
   "nbconvert_exporter": "python",
   "pygments_lexer": "ipython3",
   "version": "3.8.8"
  },
  "toc": {
   "base_numbering": 1,
   "nav_menu": {},
   "number_sections": true,
   "sideBar": true,
   "skip_h1_title": false,
   "title_cell": "Table of Contents",
   "title_sidebar": "Contents",
   "toc_cell": false,
   "toc_position": {},
   "toc_section_display": true,
   "toc_window_display": false
  }
 },
 "nbformat": 4,
 "nbformat_minor": 5
}