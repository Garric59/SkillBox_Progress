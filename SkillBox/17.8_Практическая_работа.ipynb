{
 "cells": [
  {
   "cell_type": "markdown",
   "id": "d155b010",
   "metadata": {
    "id": "d155b010",
    "pycharm": {
     "name": "#%% md\n"
    }
   },
   "source": [
    "# Data Preparation. Практическая работа"
   ]
  },
  {
   "cell_type": "markdown",
   "id": "d30db0d4",
   "metadata": {
    "id": "d30db0d4",
    "pycharm": {
     "name": "#%% md\n"
    }
   },
   "source": [
    "## Цели практической работы\n",
    "1. Потренироваться определять типы переменных в датасете, целевую переменную из постановки задачи, распределение переменных.\n",
    "2. Познакомиться с задачей, предстоящей на этапе моделирования.\n",
    "3. Начать исследовать данные для этапа моделирования.\n",
    "\n"
   ]
  },
  {
   "cell_type": "markdown",
   "id": "306ac2de",
   "metadata": {
    "id": "306ac2de",
    "pycharm": {
     "name": "#%% md\n"
    }
   },
   "source": [
    "## Что входит в практическую работу\n",
    "1. Загрузить датасет и ознакомиться с ним.\n",
    "2. Исследовать переменные датасета.\n",
    "3. Определить типы переменных в датасете.\n",
    "4. Определить целевую переменную в данных и распределение переменных.\n",
    "\n",
    "\n"
   ]
  },
  {
   "cell_type": "markdown",
   "id": "9994d02b",
   "metadata": {
    "id": "9994d02b",
    "pycharm": {
     "name": "#%% md\n"
    }
   },
   "source": [
    "## Что оценивается\n",
    "- Программа выдаёт верный ответ на заданном наборе данных.\n",
    "- Описаны причины выбранного решения, если требуется.\n",
    "- Код читабелен: переменным даны осмысленные названия, отступы и правила расстановки пробелов соблюдены.\n",
    "- Репозиторий проекта содержит осмысленные коммиты, содержащие конкретные реализованные фичи, ветки названы согласно назначению, лишние файлы не хранятся в репозитории.\n",
    "- В репозитории проекта соблюдена иерархия директорий согласно списку модулей и содержащихся в них уроках.\n",
    "- Репозиторий проекта содержит файлы с данными, полученными в результате выполнения практической работы.\n"
   ]
  },
  {
   "cell_type": "markdown",
   "id": "1aec0d81",
   "metadata": {
    "id": "1aec0d81",
    "pycharm": {
     "name": "#%% md\n"
    }
   },
   "source": [
    "## Как отправить работу на проверку\n",
    "Сдайте практическую работу этого модуля через систему контроля версий Git сервиса Skillbox GitLab. После загрузки работы на проверку напишите об этом в личном кабинете своему проверяющему преподавателю.\n"
   ]
  },
  {
   "cell_type": "markdown",
   "id": "7bf82afb",
   "metadata": {
    "ExecuteTime": {
     "end_time": "2022-01-11T22:44:08.573461Z",
     "start_time": "2022-01-11T22:44:08.527557Z"
    },
    "id": "7bf82afb",
    "pycharm": {
     "name": "#%% md\n"
    }
   },
   "source": [
    "## Задача\n",
    "\n",
    "Начиная с этого урока вы начнёте исследовать и готовить данные для этапа моделирования.\n",
    "\n",
    "Вам предстоит работать с небольшой выборкой из коллекции подержанных автомобилей, выставленных на продажу в Соединённых Штатах, представленной в файле `data/vehicles_dataset.csv`. На этих данных вы построите первую модель классификации, определяющую категорию цены подержанного автомобиля в зависимости от характеристик транспортного средства.\n",
    "В этой практической работе вы загрузите датасет и начнёте его исследование.\n",
    "\n",
    "\n",
    "## Описание датасета:\n",
    "- `id`: идентификатор записи;\n",
    "- `url`: URL записи о продаже;\n",
    "- `region`: регион;\n",
    "- `region_url`: URL региона;\n",
    "- `price`: стоимость;\n",
    "- `year`: год выпуска;\n",
    "- `manufacturer`: производитель;\n",
    "- `model`: модель;\n",
    "- `condition`: состояние;\n",
    "- `cylinders`: количество цилиндров;\n",
    "- `fuel`: тип топлива;\n",
    "- `odometer`: количество пройденных миль;\n",
    "- `title_status`: статус;\n",
    "- `transmission`: коробка передач;\n",
    "- `VIN`: идентификационный номер;\n",
    "- `drive`: тип привода;\n",
    "- `size`: размер;\n",
    "- `type`: кузов;\n",
    "- `paint_color`: цвет;\n",
    "- `image_url`: URL изображения;\n",
    "- `description`: указанное описание;\n",
    "- `county`: страна;\n",
    "- `state`: штат;\n",
    "- `lat`: широта;\n",
    "- `long`: долгота;\n",
    "- `posting_date`: дата размещения объявления о продаже;\n",
    "- `price_category`: категория цены.\n"
   ]
  },
  {
   "cell_type": "code",
   "execution_count": 3,
   "id": "66f36a2e",
   "metadata": {
    "id": "66f36a2e",
    "pycharm": {
     "name": "#%%\n"
    }
   },
   "outputs": [
    {
     "name": "stderr",
     "output_type": "stream",
     "text": [
      "D:\\Users\\garri\\anaconda3\\lib\\site-packages\\numpy\\_distributor_init.py:30: UserWarning: loaded more than 1 DLL from .libs:\n",
      "D:\\Users\\garri\\anaconda3\\lib\\site-packages\\numpy\\.libs\\libopenblas.EL2C6PLE4ZYW3ECEVIV3OXXGRN2NRFM2.gfortran-win_amd64.dll\n",
      "D:\\Users\\garri\\anaconda3\\lib\\site-packages\\numpy\\.libs\\libopenblas.PYQHXLVVQ7VESDPUVUADXEVJOBGHJPAY.gfortran-win_amd64.dll\n",
      "  warnings.warn(\"loaded more than 1 DLL from .libs:\"\n"
     ]
    }
   ],
   "source": [
    "# Импорт необходимых библиотек\n",
    "import pandas as pd"
   ]
  },
  {
   "cell_type": "markdown",
   "id": "abd6f091",
   "metadata": {
    "id": "abd6f091",
    "pycharm": {
     "name": "#%% md\n"
    }
   },
   "source": [
    "### Задача 1. Загрузка датасета и ознакомление с ним\n",
    "**Что нужно сделать**\n",
    "\n",
    "Для начала требуется загрузить датасет и ознакомиться с его характеристиками.\n",
    "\n",
    "1. Загрузите датасет из `data/vehicles_dataset.csv` и выведите его.\n"
   ]
  },
  {
   "cell_type": "code",
   "execution_count": 4,
   "id": "65aafba1",
   "metadata": {
    "id": "65aafba1",
    "pycharm": {
     "name": "#%%\n"
    }
   },
   "outputs": [
    {
     "data": {
      "text/plain": "           id                                                url  \\\n0  7308295377  https://chattanooga.craigslist.org/ctd/d/chatt...   \n1  7316380095  https://newjersey.craigslist.org/ctd/d/carlsta...   \n2  7313733749  https://reno.craigslist.org/ctd/d/atlanta-2017...   \n3  7308210929  https://fayetteville.craigslist.org/ctd/d/rale...   \n4  7316474668  https://newyork.craigslist.org/lgi/cto/d/baldw...   \n\n          region                           region_url  price    year  \\\n0    chattanooga   https://chattanooga.craigslist.org  54990  2020.0   \n1   north jersey     https://newjersey.craigslist.org  16942  2016.0   \n2   reno / tahoe          https://reno.craigslist.org  35590  2017.0   \n3   fayetteville  https://fayetteville.craigslist.org  14500  2013.0   \n4  new york city       https://newyork.craigslist.org  21800  2021.0   \n\n  manufacturer                   model condition    cylinders  ...    type  \\\n0          ram  2500 crew cab big horn      good          NaN  ...  pickup   \n1         ford    explorer 4wd 4dr xlt       NaN  6 cylinders  ...     SUV   \n2   volkswagen        golf r hatchback      good          NaN  ...   sedan   \n3       toyota                    rav4       NaN          NaN  ...   wagon   \n4       nissan                  altima       new  4 cylinders  ...     NaN   \n\n   paint_color                                          image_url  \\\n0       silver  https://images.craigslist.org/00N0N_1xMPvfxRAI...   \n1        black  https://images.craigslist.org/00x0x_26jl9F0cnL...   \n2          NaN  https://images.craigslist.org/00y0y_eeZjWeiSfb...   \n3        white  https://images.craigslist.org/00606_iGe5iXidib...   \n4          NaN  https://images.craigslist.org/00V0V_3pSOiPZ3Sd...   \n\n                                         description county state        lat  \\\n0  Carvana is the safer way to buy a car During t...    NaN    tn  35.060000   \n1  ***Call Us for more information at: 201-635-14...    NaN    nj  40.821805   \n2  Carvana is the safer way to buy a car During t...    NaN    ca  33.779214   \n3  2013 Toyota RAV4 XLE 4dr SUV     Offered by: R...    NaN    nc  35.715954   \n4  2021 Nissan Altima Sv with Only 8 K Miles Titl...    NaN    ny  40.654800   \n\n        long              posting_date price_category  \n0 -85.250000  2021-04-17T12:30:50-0400           high  \n1 -74.061962  2021-05-03T15:40:21-0400         medium  \n2 -84.411811  2021-04-28T03:52:20-0700           high  \n3 -78.655304  2021-04-17T10:08:57-0400         medium  \n4 -73.609700  2021-05-03T18:32:06-0400         medium  \n\n[5 rows x 27 columns]",
      "text/html": "<div>\n<style scoped>\n    .dataframe tbody tr th:only-of-type {\n        vertical-align: middle;\n    }\n\n    .dataframe tbody tr th {\n        vertical-align: top;\n    }\n\n    .dataframe thead th {\n        text-align: right;\n    }\n</style>\n<table border=\"1\" class=\"dataframe\">\n  <thead>\n    <tr style=\"text-align: right;\">\n      <th></th>\n      <th>id</th>\n      <th>url</th>\n      <th>region</th>\n      <th>region_url</th>\n      <th>price</th>\n      <th>year</th>\n      <th>manufacturer</th>\n      <th>model</th>\n      <th>condition</th>\n      <th>cylinders</th>\n      <th>...</th>\n      <th>type</th>\n      <th>paint_color</th>\n      <th>image_url</th>\n      <th>description</th>\n      <th>county</th>\n      <th>state</th>\n      <th>lat</th>\n      <th>long</th>\n      <th>posting_date</th>\n      <th>price_category</th>\n    </tr>\n  </thead>\n  <tbody>\n    <tr>\n      <th>0</th>\n      <td>7308295377</td>\n      <td>https://chattanooga.craigslist.org/ctd/d/chatt...</td>\n      <td>chattanooga</td>\n      <td>https://chattanooga.craigslist.org</td>\n      <td>54990</td>\n      <td>2020.0</td>\n      <td>ram</td>\n      <td>2500 crew cab big horn</td>\n      <td>good</td>\n      <td>NaN</td>\n      <td>...</td>\n      <td>pickup</td>\n      <td>silver</td>\n      <td>https://images.craigslist.org/00N0N_1xMPvfxRAI...</td>\n      <td>Carvana is the safer way to buy a car During t...</td>\n      <td>NaN</td>\n      <td>tn</td>\n      <td>35.060000</td>\n      <td>-85.250000</td>\n      <td>2021-04-17T12:30:50-0400</td>\n      <td>high</td>\n    </tr>\n    <tr>\n      <th>1</th>\n      <td>7316380095</td>\n      <td>https://newjersey.craigslist.org/ctd/d/carlsta...</td>\n      <td>north jersey</td>\n      <td>https://newjersey.craigslist.org</td>\n      <td>16942</td>\n      <td>2016.0</td>\n      <td>ford</td>\n      <td>explorer 4wd 4dr xlt</td>\n      <td>NaN</td>\n      <td>6 cylinders</td>\n      <td>...</td>\n      <td>SUV</td>\n      <td>black</td>\n      <td>https://images.craigslist.org/00x0x_26jl9F0cnL...</td>\n      <td>***Call Us for more information at: 201-635-14...</td>\n      <td>NaN</td>\n      <td>nj</td>\n      <td>40.821805</td>\n      <td>-74.061962</td>\n      <td>2021-05-03T15:40:21-0400</td>\n      <td>medium</td>\n    </tr>\n    <tr>\n      <th>2</th>\n      <td>7313733749</td>\n      <td>https://reno.craigslist.org/ctd/d/atlanta-2017...</td>\n      <td>reno / tahoe</td>\n      <td>https://reno.craigslist.org</td>\n      <td>35590</td>\n      <td>2017.0</td>\n      <td>volkswagen</td>\n      <td>golf r hatchback</td>\n      <td>good</td>\n      <td>NaN</td>\n      <td>...</td>\n      <td>sedan</td>\n      <td>NaN</td>\n      <td>https://images.craigslist.org/00y0y_eeZjWeiSfb...</td>\n      <td>Carvana is the safer way to buy a car During t...</td>\n      <td>NaN</td>\n      <td>ca</td>\n      <td>33.779214</td>\n      <td>-84.411811</td>\n      <td>2021-04-28T03:52:20-0700</td>\n      <td>high</td>\n    </tr>\n    <tr>\n      <th>3</th>\n      <td>7308210929</td>\n      <td>https://fayetteville.craigslist.org/ctd/d/rale...</td>\n      <td>fayetteville</td>\n      <td>https://fayetteville.craigslist.org</td>\n      <td>14500</td>\n      <td>2013.0</td>\n      <td>toyota</td>\n      <td>rav4</td>\n      <td>NaN</td>\n      <td>NaN</td>\n      <td>...</td>\n      <td>wagon</td>\n      <td>white</td>\n      <td>https://images.craigslist.org/00606_iGe5iXidib...</td>\n      <td>2013 Toyota RAV4 XLE 4dr SUV     Offered by: R...</td>\n      <td>NaN</td>\n      <td>nc</td>\n      <td>35.715954</td>\n      <td>-78.655304</td>\n      <td>2021-04-17T10:08:57-0400</td>\n      <td>medium</td>\n    </tr>\n    <tr>\n      <th>4</th>\n      <td>7316474668</td>\n      <td>https://newyork.craigslist.org/lgi/cto/d/baldw...</td>\n      <td>new york city</td>\n      <td>https://newyork.craigslist.org</td>\n      <td>21800</td>\n      <td>2021.0</td>\n      <td>nissan</td>\n      <td>altima</td>\n      <td>new</td>\n      <td>4 cylinders</td>\n      <td>...</td>\n      <td>NaN</td>\n      <td>NaN</td>\n      <td>https://images.craigslist.org/00V0V_3pSOiPZ3Sd...</td>\n      <td>2021 Nissan Altima Sv with Only 8 K Miles Titl...</td>\n      <td>NaN</td>\n      <td>ny</td>\n      <td>40.654800</td>\n      <td>-73.609700</td>\n      <td>2021-05-03T18:32:06-0400</td>\n      <td>medium</td>\n    </tr>\n  </tbody>\n</table>\n<p>5 rows × 27 columns</p>\n</div>"
     },
     "execution_count": 4,
     "metadata": {},
     "output_type": "execute_result"
    }
   ],
   "source": [
    "# Загружаем dataSet из файла csv. Посмотрим на корретность загрузки.\n",
    "df = pd.read_csv('data/vehicles_dataset.csv', sep=',')\n",
    "df.head()"
   ]
  },
  {
   "cell_type": "markdown",
   "id": "35446af7",
   "metadata": {
    "id": "35446af7",
    "pycharm": {
     "name": "#%% md\n"
    }
   },
   "source": [
    "2. Выведите размер датасета.\n"
   ]
  },
  {
   "cell_type": "code",
   "execution_count": 5,
   "id": "67b4bf56",
   "metadata": {
    "id": "67b4bf56",
    "pycharm": {
     "name": "#%%\n"
    }
   },
   "outputs": [
    {
     "name": "stdout",
     "output_type": "stream",
     "text": [
      "(10050, 27)\n"
     ]
    }
   ],
   "source": [
    "# Смотрим размер dataSet-а\n",
    "print(df.shape)"
   ]
  },
  {
   "cell_type": "markdown",
   "id": "35e95da9",
   "metadata": {
    "id": "35e95da9",
    "pycharm": {
     "name": "#%% md\n"
    }
   },
   "source": [
    "3. Выведите список колонок датасета."
   ]
  },
  {
   "cell_type": "code",
   "execution_count": 6,
   "id": "b0f7042e",
   "metadata": {
    "ExecuteTime": {
     "end_time": "2022-01-13T22:35:42.388526Z",
     "start_time": "2022-01-13T22:35:42.330940Z"
    },
    "id": "b0f7042e",
    "pycharm": {
     "name": "#%%\n"
    }
   },
   "outputs": [
    {
     "data": {
      "text/plain": "          region  price    year manufacturer                   model\n0    chattanooga  54990  2020.0          ram  2500 crew cab big horn\n1   north jersey  16942  2016.0         ford    explorer 4wd 4dr xlt\n2   reno / tahoe  35590  2017.0   volkswagen        golf r hatchback\n3   fayetteville  14500  2013.0       toyota                    rav4\n4  new york city  21800  2021.0       nissan                  altima",
      "text/html": "<div>\n<style scoped>\n    .dataframe tbody tr th:only-of-type {\n        vertical-align: middle;\n    }\n\n    .dataframe tbody tr th {\n        vertical-align: top;\n    }\n\n    .dataframe thead th {\n        text-align: right;\n    }\n</style>\n<table border=\"1\" class=\"dataframe\">\n  <thead>\n    <tr style=\"text-align: right;\">\n      <th></th>\n      <th>region</th>\n      <th>price</th>\n      <th>year</th>\n      <th>manufacturer</th>\n      <th>model</th>\n    </tr>\n  </thead>\n  <tbody>\n    <tr>\n      <th>0</th>\n      <td>chattanooga</td>\n      <td>54990</td>\n      <td>2020.0</td>\n      <td>ram</td>\n      <td>2500 crew cab big horn</td>\n    </tr>\n    <tr>\n      <th>1</th>\n      <td>north jersey</td>\n      <td>16942</td>\n      <td>2016.0</td>\n      <td>ford</td>\n      <td>explorer 4wd 4dr xlt</td>\n    </tr>\n    <tr>\n      <th>2</th>\n      <td>reno / tahoe</td>\n      <td>35590</td>\n      <td>2017.0</td>\n      <td>volkswagen</td>\n      <td>golf r hatchback</td>\n    </tr>\n    <tr>\n      <th>3</th>\n      <td>fayetteville</td>\n      <td>14500</td>\n      <td>2013.0</td>\n      <td>toyota</td>\n      <td>rav4</td>\n    </tr>\n    <tr>\n      <th>4</th>\n      <td>new york city</td>\n      <td>21800</td>\n      <td>2021.0</td>\n      <td>nissan</td>\n      <td>altima</td>\n    </tr>\n  </tbody>\n</table>\n</div>"
     },
     "execution_count": 6,
     "metadata": {},
     "output_type": "execute_result"
    }
   ],
   "source": [
    "#Выведим 5 колонок dataSet-а\n",
    "df[['region','price','year','manufacturer','model']].head()"
   ]
  },
  {
   "cell_type": "markdown",
   "id": "ad304fe2",
   "metadata": {
    "id": "ad304fe2",
    "pycharm": {
     "name": "#%% md\n"
    }
   },
   "source": [
    "4. Выведите описательные статистики для всего датасета (обязательно укажите верный параметр для этого)."
   ]
  },
  {
   "cell_type": "code",
   "execution_count": 7,
   "id": "277c5a24",
   "metadata": {
    "id": "277c5a24",
    "pycharm": {
     "name": "#%%\n"
    }
   },
   "outputs": [
    {
     "name": "stdout",
     "output_type": "stream",
     "text": [
      "<class 'pandas.core.frame.DataFrame'>\n",
      "RangeIndex: 10050 entries, 0 to 10049\n",
      "Data columns (total 27 columns):\n",
      " #   Column          Non-Null Count  Dtype  \n",
      "---  ------          --------------  -----  \n",
      " 0   id              10050 non-null  int64  \n",
      " 1   url             10050 non-null  object \n",
      " 2   region          10050 non-null  object \n",
      " 3   region_url      10050 non-null  object \n",
      " 4   price           10050 non-null  int64  \n",
      " 5   year            10014 non-null  float64\n",
      " 6   manufacturer    9665 non-null   object \n",
      " 7   model           9921 non-null   object \n",
      " 8   condition       6268 non-null   object \n",
      " 9   cylinders       5953 non-null   object \n",
      " 10  fuel            9987 non-null   object \n",
      " 11  odometer        10007 non-null  float64\n",
      " 12  title_status    9884 non-null   object \n",
      " 13  transmission    10005 non-null  object \n",
      " 14  VIN             6086 non-null   object \n",
      " 15  drive           7026 non-null   object \n",
      " 16  size            2825 non-null   object \n",
      " 17  type            7845 non-null   object \n",
      " 18  paint_color     7087 non-null   object \n",
      " 19  image_url       10048 non-null  object \n",
      " 20  description     10048 non-null  object \n",
      " 21  county          0 non-null      float64\n",
      " 22  state           10050 non-null  object \n",
      " 23  lat             9951 non-null   float64\n",
      " 24  long            9951 non-null   float64\n",
      " 25  posting_date    10048 non-null  object \n",
      " 26  price_category  10050 non-null  object \n",
      "dtypes: float64(5), int64(2), object(20)\n",
      "memory usage: 2.1+ MB\n"
     ]
    },
    {
     "data": {
      "text/plain": "                 id         price          year      odometer  county  \\\ncount  1.005000e+04  1.005000e+04  10014.000000  1.000700e+04     0.0   \nmean   7.311544e+09  2.068429e+04   2010.917815  9.565719e+04     NaN   \nstd    4.475414e+06  1.243216e+05      9.697849  8.657948e+04     NaN   \nmin    7.208550e+09  5.000000e+02   1915.000000  0.000000e+00     NaN   \n25%    7.308193e+09  7.900000e+03   2008.000000  3.899450e+04     NaN   \n50%    7.312756e+09  1.574950e+04   2013.000000  8.837700e+04     NaN   \n75%    7.315275e+09  2.799000e+04   2017.000000  1.370000e+05     NaN   \nmax    7.317090e+09  1.234568e+07   2022.000000  3.245000e+06     NaN   \n\n               lat         long  \ncount  9951.000000  9951.000000  \nmean     38.590164   -94.161564  \nstd       5.844756    18.123096  \nmin     -67.144243  -158.069300  \n25%      34.830000  -110.447150  \n50%      39.285100   -87.999100  \n75%      42.427590   -80.830000  \nmax      64.947500   173.885502  ",
      "text/html": "<div>\n<style scoped>\n    .dataframe tbody tr th:only-of-type {\n        vertical-align: middle;\n    }\n\n    .dataframe tbody tr th {\n        vertical-align: top;\n    }\n\n    .dataframe thead th {\n        text-align: right;\n    }\n</style>\n<table border=\"1\" class=\"dataframe\">\n  <thead>\n    <tr style=\"text-align: right;\">\n      <th></th>\n      <th>id</th>\n      <th>price</th>\n      <th>year</th>\n      <th>odometer</th>\n      <th>county</th>\n      <th>lat</th>\n      <th>long</th>\n    </tr>\n  </thead>\n  <tbody>\n    <tr>\n      <th>count</th>\n      <td>1.005000e+04</td>\n      <td>1.005000e+04</td>\n      <td>10014.000000</td>\n      <td>1.000700e+04</td>\n      <td>0.0</td>\n      <td>9951.000000</td>\n      <td>9951.000000</td>\n    </tr>\n    <tr>\n      <th>mean</th>\n      <td>7.311544e+09</td>\n      <td>2.068429e+04</td>\n      <td>2010.917815</td>\n      <td>9.565719e+04</td>\n      <td>NaN</td>\n      <td>38.590164</td>\n      <td>-94.161564</td>\n    </tr>\n    <tr>\n      <th>std</th>\n      <td>4.475414e+06</td>\n      <td>1.243216e+05</td>\n      <td>9.697849</td>\n      <td>8.657948e+04</td>\n      <td>NaN</td>\n      <td>5.844756</td>\n      <td>18.123096</td>\n    </tr>\n    <tr>\n      <th>min</th>\n      <td>7.208550e+09</td>\n      <td>5.000000e+02</td>\n      <td>1915.000000</td>\n      <td>0.000000e+00</td>\n      <td>NaN</td>\n      <td>-67.144243</td>\n      <td>-158.069300</td>\n    </tr>\n    <tr>\n      <th>25%</th>\n      <td>7.308193e+09</td>\n      <td>7.900000e+03</td>\n      <td>2008.000000</td>\n      <td>3.899450e+04</td>\n      <td>NaN</td>\n      <td>34.830000</td>\n      <td>-110.447150</td>\n    </tr>\n    <tr>\n      <th>50%</th>\n      <td>7.312756e+09</td>\n      <td>1.574950e+04</td>\n      <td>2013.000000</td>\n      <td>8.837700e+04</td>\n      <td>NaN</td>\n      <td>39.285100</td>\n      <td>-87.999100</td>\n    </tr>\n    <tr>\n      <th>75%</th>\n      <td>7.315275e+09</td>\n      <td>2.799000e+04</td>\n      <td>2017.000000</td>\n      <td>1.370000e+05</td>\n      <td>NaN</td>\n      <td>42.427590</td>\n      <td>-80.830000</td>\n    </tr>\n    <tr>\n      <th>max</th>\n      <td>7.317090e+09</td>\n      <td>1.234568e+07</td>\n      <td>2022.000000</td>\n      <td>3.245000e+06</td>\n      <td>NaN</td>\n      <td>64.947500</td>\n      <td>173.885502</td>\n    </tr>\n  </tbody>\n</table>\n</div>"
     },
     "execution_count": 7,
     "metadata": {},
     "output_type": "execute_result"
    }
   ],
   "source": [
    "# Посмотрим описательную статистику\n",
    "df.info()\n",
    "df.describe()"
   ]
  },
  {
   "cell_type": "code",
   "execution_count": 8,
   "outputs": [
    {
     "name": "stdout",
     "output_type": "stream",
     "text": [
      "Index(['id', 'url', 'region', 'region_url', 'price', 'year', 'manufacturer',\n",
      "       'model', 'condition', 'cylinders', 'fuel', 'odometer', 'title_status',\n",
      "       'transmission', 'VIN', 'drive', 'size', 'type', 'paint_color',\n",
      "       'image_url', 'description', 'county', 'state', 'lat', 'long',\n",
      "       'posting_date', 'price_category'],\n",
      "      dtype='object')\n"
     ]
    }
   ],
   "source": [
    "# Describe без параметров выводит статистику только по столбцам типа numeric (int, float). Напечатаем все столбцы dataSet-а.\n",
    "print(df.columns)"
   ],
   "metadata": {
    "collapsed": false,
    "pycharm": {
     "name": "#%%\n"
    }
   }
  },
  {
   "cell_type": "code",
   "execution_count": 9,
   "outputs": [
    {
     "data": {
      "text/plain": "                                                      url           region  \\\ncount                                               10050            10050   \nunique                                              10000              393   \ntop     https://roswell.craigslist.org/cto/d/artesia-1...  kansas city, MO   \nfreq                                                    2               86   \n\n                               region_url manufacturer  model condition  \\\ncount                               10050         9665   9921      6268   \nunique                                405           39   3466         6   \ntop     https://kansascity.craigslist.org         ford  f-150      good   \nfreq                                   86         1647    151      3134   \n\n          cylinders  fuel title_status transmission                VIN drive  \\\ncount          5953  9987         9884        10005               6086  7026   \nunique            8     5            6            3               5429     3   \ntop     6 cylinders   gas        clean    automatic  1FMJU1JT1HEA52352   4wd   \nfreq           2288  8447         9568         7737                 10  3054   \n\n             size   type paint_color  \\\ncount        2825   7845        7087   \nunique          4     13          12   \ntop     full-size  sedan       white   \nfreq         1476   1981        1916   \n\n                                                image_url  \\\ncount                                               10048   \nunique                                               9081   \ntop     https://images.craigslist.org/00N0N_1xMPvfxRAI...   \nfreq                                                  191   \n\n                                              description  state  \\\ncount                                               10048  10050   \nunique                                               9845     51   \ntop     PLEASE VIEW THE FREE CARFAX HISTORY REPORT AT ...     ca   \nfreq                                                    7   1113   \n\n                    posting_date price_category  \ncount                      10048          10050  \nunique                      9957              3  \ntop     2021-04-13T09:11:02-0500           high  \nfreq                           3           3514  ",
      "text/html": "<div>\n<style scoped>\n    .dataframe tbody tr th:only-of-type {\n        vertical-align: middle;\n    }\n\n    .dataframe tbody tr th {\n        vertical-align: top;\n    }\n\n    .dataframe thead th {\n        text-align: right;\n    }\n</style>\n<table border=\"1\" class=\"dataframe\">\n  <thead>\n    <tr style=\"text-align: right;\">\n      <th></th>\n      <th>url</th>\n      <th>region</th>\n      <th>region_url</th>\n      <th>manufacturer</th>\n      <th>model</th>\n      <th>condition</th>\n      <th>cylinders</th>\n      <th>fuel</th>\n      <th>title_status</th>\n      <th>transmission</th>\n      <th>VIN</th>\n      <th>drive</th>\n      <th>size</th>\n      <th>type</th>\n      <th>paint_color</th>\n      <th>image_url</th>\n      <th>description</th>\n      <th>state</th>\n      <th>posting_date</th>\n      <th>price_category</th>\n    </tr>\n  </thead>\n  <tbody>\n    <tr>\n      <th>count</th>\n      <td>10050</td>\n      <td>10050</td>\n      <td>10050</td>\n      <td>9665</td>\n      <td>9921</td>\n      <td>6268</td>\n      <td>5953</td>\n      <td>9987</td>\n      <td>9884</td>\n      <td>10005</td>\n      <td>6086</td>\n      <td>7026</td>\n      <td>2825</td>\n      <td>7845</td>\n      <td>7087</td>\n      <td>10048</td>\n      <td>10048</td>\n      <td>10050</td>\n      <td>10048</td>\n      <td>10050</td>\n    </tr>\n    <tr>\n      <th>unique</th>\n      <td>10000</td>\n      <td>393</td>\n      <td>405</td>\n      <td>39</td>\n      <td>3466</td>\n      <td>6</td>\n      <td>8</td>\n      <td>5</td>\n      <td>6</td>\n      <td>3</td>\n      <td>5429</td>\n      <td>3</td>\n      <td>4</td>\n      <td>13</td>\n      <td>12</td>\n      <td>9081</td>\n      <td>9845</td>\n      <td>51</td>\n      <td>9957</td>\n      <td>3</td>\n    </tr>\n    <tr>\n      <th>top</th>\n      <td>https://roswell.craigslist.org/cto/d/artesia-1...</td>\n      <td>kansas city, MO</td>\n      <td>https://kansascity.craigslist.org</td>\n      <td>ford</td>\n      <td>f-150</td>\n      <td>good</td>\n      <td>6 cylinders</td>\n      <td>gas</td>\n      <td>clean</td>\n      <td>automatic</td>\n      <td>1FMJU1JT1HEA52352</td>\n      <td>4wd</td>\n      <td>full-size</td>\n      <td>sedan</td>\n      <td>white</td>\n      <td>https://images.craigslist.org/00N0N_1xMPvfxRAI...</td>\n      <td>PLEASE VIEW THE FREE CARFAX HISTORY REPORT AT ...</td>\n      <td>ca</td>\n      <td>2021-04-13T09:11:02-0500</td>\n      <td>high</td>\n    </tr>\n    <tr>\n      <th>freq</th>\n      <td>2</td>\n      <td>86</td>\n      <td>86</td>\n      <td>1647</td>\n      <td>151</td>\n      <td>3134</td>\n      <td>2288</td>\n      <td>8447</td>\n      <td>9568</td>\n      <td>7737</td>\n      <td>10</td>\n      <td>3054</td>\n      <td>1476</td>\n      <td>1981</td>\n      <td>1916</td>\n      <td>191</td>\n      <td>7</td>\n      <td>1113</td>\n      <td>3</td>\n      <td>3514</td>\n    </tr>\n  </tbody>\n</table>\n</div>"
     },
     "execution_count": 9,
     "metadata": {},
     "output_type": "execute_result"
    }
   ],
   "source": [
    "#Посмотрим статистику по столбца с типом object\n",
    "df[['url', 'region', 'region_url', 'manufacturer',\n",
    " 'model', 'condition', 'cylinders', 'fuel', 'title_status',\n",
    " 'transmission', 'VIN', 'drive', 'size', 'type', 'paint_color',\n",
    " 'image_url', 'description', 'state', 'posting_date', 'price_category']].describe()"
   ],
   "metadata": {
    "collapsed": false,
    "pycharm": {
     "name": "#%%\n"
    }
   }
  },
  {
   "cell_type": "code",
   "execution_count": 10,
   "outputs": [
    {
     "data": {
      "text/plain": "array(['other', 'automatic', 'manual', nan], dtype=object)"
     },
     "execution_count": 10,
     "metadata": {},
     "output_type": "execute_result"
    }
   ],
   "source": [
    "#Посмотрим уникальные значения в столбце transmission\n",
    "df.transmission.unique()"
   ],
   "metadata": {
    "collapsed": false,
    "pycharm": {
     "name": "#%%\n"
    }
   }
  },
  {
   "cell_type": "code",
   "execution_count": 11,
   "outputs": [
    {
     "data": {
      "text/plain": "array(['high', 'medium', 'low'], dtype=object)"
     },
     "execution_count": 11,
     "metadata": {},
     "output_type": "execute_result"
    }
   ],
   "source": [
    "#Посмотрим уникальные значения в столбце price_category\n",
    "df.price_category.unique()"
   ],
   "metadata": {
    "collapsed": false,
    "pycharm": {
     "name": "#%%\n"
    }
   }
  },
  {
   "cell_type": "markdown",
   "id": "7836f033",
   "metadata": {
    "ExecuteTime": {
     "end_time": "2022-01-13T23:04:16.245970Z",
     "start_time": "2022-01-13T23:04:16.239711Z"
    },
    "id": "7836f033",
    "pycharm": {
     "name": "#%% md\n"
    }
   },
   "source": [
    "### Задача 2. Исследование переменных датасета\n",
    "**Что нужно сделать**\n",
    "\n",
    "После ознакомления с датасетом посмотрите, какие значения принимают переменные с характеристиками.\n",
    "\n",
    "Распечатайте в цикле по каждой колонке название колонки, количество уникальных значений, а затем список возможных значений вместе с их количеством появления в датасете.\n",
    "\n",
    "При выводе информации по каждой характеристике придерживайтесь шаблона.\n",
    "\n",
    "```\n",
    "Характеристика: id\n",
    "Количество уникальных значений: 10000\n",
    "Список значений:\n",
    "7303629857    2\n",
    "7315995136    2\n",
    "7316719393    2\n",
    "7309842734    2\n",
    "7307971804    2\n",
    "             ..\n",
    "7303843163    1\n",
    "7315223900    1\n",
    "7309940769    1\n",
    "7309251820    1\n",
    "7316428067    1\n",
    "Name: id, Length: 10000, dtype: int64\n",
    "```"
   ]
  },
  {
   "cell_type": "code",
   "execution_count": 26,
   "id": "b5024f7a",
   "metadata": {
    "id": "b5024f7a",
    "pycharm": {
     "name": "#%%\n"
    }
   },
   "outputs": [
    {
     "name": "stdout",
     "output_type": "stream",
     "text": [
      "Характеристика: id,\n",
      " Количество уникальных значений: 10000,\n",
      " Список значений:\n",
      "7316028281    2\n",
      "7310693445    2\n",
      "7310816094    2\n",
      "7307639785    2\n",
      "7312525382    2\n",
      "             ..\n",
      "7308265563    1\n",
      "7309504220    1\n",
      "7316238007    1\n",
      "7311587823    1\n",
      "7311960763    1\n",
      "Name: id, Length: 10000, dtype: int64\n",
      "Характеристика: url,\n",
      " Количество уникальных значений: 10000,\n",
      " Список значений:\n",
      "https://roswell.craigslist.org/cto/d/artesia-1999-ford-f250-super-duty-super/7316028281.html         2\n",
      "https://pueblo.craigslist.org/ctd/d/tempe-2017-ford-450-f450-450-drw-lariat/7310693445.html          2\n",
      "https://monroe.craigslist.org/ctd/d/monroe-2019-infiniti-qx60-luxe/7310816094.html                   2\n",
      "https://flint.craigslist.org/ctd/d/davison-2010-ford-150-xlt-supercrew/7307639785.html               2\n",
      "https://charlotte.craigslist.org/cto/d/myrtle-beach-1947-mercury-hotrod-street/7312525382.html       2\n",
      "                                                                                                    ..\n",
      "https://mendocino.craigslist.org/cto/d/willits-2019-toyota-prius-prime-plus/7308265563.html          1\n",
      "https://hudsonvalley.craigslist.org/ctd/d/waterbury-2005-toyota-camry-4dr-sdn-xle/7309504220.html    1\n",
      "https://charlestonwv.craigslist.org/ctd/d/burkeville-1998-pierce-model-tilt-cab/7316238007.html      1\n",
      "https://nashville.craigslist.org/ctd/d/murfreesboro-2016-chevrolet-equinox/7311587823.html           1\n",
      "https://norfolk.craigslist.org/ctd/d/chesapeake-2017-ram-1500-crew-cab-big/7311960763.html           1\n",
      "Name: url, Length: 10000, dtype: int64\n",
      "Характеристика: region,\n",
      " Количество уникальных значений: 393,\n",
      " Список значений:\n",
      "kansas city, MO          86\n",
      "minneapolis / st paul    83\n",
      "grand rapids             82\n",
      "sarasota-bradenton       82\n",
      "colorado springs         81\n",
      "                         ..\n",
      "gulfport / biloxi         1\n",
      "southern WV               1\n",
      "southwest MS              1\n",
      "houma                     1\n",
      "auburn                    1\n",
      "Name: region, Length: 393, dtype: int64\n",
      "Характеристика: region_url,\n",
      " Количество уникальных значений: 405,\n",
      " Список значений:\n",
      "https://kansascity.craigslist.org     86\n",
      "https://minneapolis.craigslist.org    83\n",
      "https://grandrapids.craigslist.org    82\n",
      "https://sarasota.craigslist.org       82\n",
      "https://cosprings.craigslist.org      81\n",
      "                                      ..\n",
      "https://mattoon.craigslist.org         1\n",
      "https://montana.craigslist.org         1\n",
      "https://houma.craigslist.org           1\n",
      "https://swv.craigslist.org             1\n",
      "https://auburn.craigslist.org          1\n",
      "Name: region_url, Length: 405, dtype: int64\n",
      "Характеристика: price,\n",
      " Количество уникальных значений: 2227,\n",
      " Список значений:\n",
      "6995     112\n",
      "29990     91\n",
      "7995      81\n",
      "8995      76\n",
      "9995      73\n",
      "        ... \n",
      "31422      1\n",
      "40994      1\n",
      "10781      1\n",
      "38634      1\n",
      "1575       1\n",
      "Name: price, Length: 2227, dtype: int64\n",
      "Характеристика: year,\n",
      " Количество уникальных значений: 89,\n",
      " Список значений:\n",
      "2017.0    814\n",
      "2018.0    814\n",
      "2016.0    748\n",
      "2013.0    704\n",
      "2015.0    670\n",
      "         ... \n",
      "1937.0      1\n",
      "1935.0      1\n",
      "1954.0      1\n",
      "1915.0      1\n",
      "1958.0      1\n",
      "Name: year, Length: 89, dtype: int64\n",
      "Характеристика: manufacturer,\n",
      " Количество уникальных значений: 39,\n",
      " Список значений:\n",
      "ford               1647\n",
      "chevrolet          1298\n",
      "toyota              784\n",
      "jeep                491\n",
      "honda               467\n",
      "nissan              456\n",
      "ram                 415\n",
      "gmc                 361\n",
      "bmw                 332\n",
      "dodge               325\n",
      "volkswagen          254\n",
      "mercedes-benz       240\n",
      "hyundai             225\n",
      "subaru              211\n",
      "audi                203\n",
      "kia                 200\n",
      "lexus               186\n",
      "cadillac            184\n",
      "chrysler            161\n",
      "acura               150\n",
      "buick               145\n",
      "mazda               142\n",
      "infiniti            118\n",
      "lincoln             113\n",
      "mitsubishi           82\n",
      "mini                 73\n",
      "volvo                67\n",
      "pontiac              62\n",
      "rover                59\n",
      "jaguar               45\n",
      "porsche              37\n",
      "mercury              33\n",
      "tesla                27\n",
      "saturn               25\n",
      "fiat                 23\n",
      "alfa-romeo           14\n",
      "ferrari               4\n",
      "harley-davidson       4\n",
      "datsun                2\n",
      "Name: manufacturer, dtype: int64\n",
      "Характеристика: model,\n",
      " Количество уникальных значений: 3466,\n",
      " Список значений:\n",
      "f-150                        151\n",
      "silverado 1500               110\n",
      "1500                         101\n",
      "camry                         77\n",
      "silverado                     74\n",
      "                            ... \n",
      "sorrento lx v6                 1\n",
      "sierra1500 crewcab 4x4         1\n",
      "corolla se                     1\n",
      "xc60 t6 inscription sport      1\n",
      "a3 2.0t premium plus pzev      1\n",
      "Name: model, Length: 3466, dtype: int64\n",
      "Характеристика: condition,\n",
      " Количество уникальных значений: 6,\n",
      " Список значений:\n",
      "good         3134\n",
      "excellent    2429\n",
      "like new      482\n",
      "fair          179\n",
      "new            31\n",
      "salvage        13\n",
      "Name: condition, dtype: int64\n",
      "Характеристика: cylinders,\n",
      " Количество уникальных значений: 8,\n",
      " Список значений:\n",
      "6 cylinders     2288\n",
      "4 cylinders     1825\n",
      "8 cylinders     1726\n",
      "5 cylinders       46\n",
      "10 cylinders      29\n",
      "other             25\n",
      "3 cylinders       13\n",
      "12 cylinders       1\n",
      "Name: cylinders, dtype: int64\n",
      "Характеристика: fuel,\n",
      " Количество уникальных значений: 5,\n",
      " Список значений:\n",
      "gas         8447\n",
      "other        733\n",
      "diesel       655\n",
      "hybrid       108\n",
      "electric      44\n",
      "Name: fuel, dtype: int64\n",
      "Характеристика: odometer,\n",
      " Количество уникальных значений: 7006,\n",
      " Список значений:\n",
      "100000.0    51\n",
      "1.0         42\n",
      "200000.0    37\n",
      "180000.0    37\n",
      "140000.0    37\n",
      "            ..\n",
      "129119.0     1\n",
      "41421.0      1\n",
      "97487.0      1\n",
      "165899.0     1\n",
      "61943.0      1\n",
      "Name: odometer, Length: 7006, dtype: int64\n",
      "Характеристика: title_status,\n",
      " Количество уникальных значений: 6,\n",
      " Список значений:\n",
      "clean         9568\n",
      "rebuilt        171\n",
      "salvage         92\n",
      "lien            35\n",
      "missing         16\n",
      "parts only       2\n",
      "Name: title_status, dtype: int64\n",
      "Характеристика: transmission,\n",
      " Количество уникальных значений: 3,\n",
      " Список значений:\n",
      "automatic    7737\n",
      "other        1633\n",
      "manual        635\n",
      "Name: transmission, dtype: int64\n",
      "Характеристика: VIN,\n",
      " Количество уникальных значений: 5429,\n",
      " Список значений:\n",
      "1FMJU1JT1HEA52352    10\n",
      "JN1AZ4EH8KM420880     8\n",
      "1FTMF1CP3GKD62143     7\n",
      "5TFEM5F15KX140773     7\n",
      "1FTER1EH1LLA36301     7\n",
      "                     ..\n",
      "1N6AD0EV8CC463906     1\n",
      "1HTWLAZNX9J108397     1\n",
      "3VWJL7AT5DM673430     1\n",
      "WBA5A5C58FD512675     1\n",
      "WP1AE2A28FLA50183     1\n",
      "Name: VIN, Length: 5429, dtype: int64\n",
      "Характеристика: drive,\n",
      " Количество уникальных значений: 3,\n",
      " Список значений:\n",
      "4wd    3054\n",
      "fwd    2563\n",
      "rwd    1409\n",
      "Name: drive, dtype: int64\n",
      "Характеристика: size,\n",
      " Количество уникальных значений: 4,\n",
      " Список значений:\n",
      "full-size      1476\n",
      "mid-size        824\n",
      "compact         458\n",
      "sub-compact      67\n",
      "Name: size, dtype: int64\n",
      "Характеристика: type,\n",
      " Количество уникальных значений: 13,\n",
      " Список значений:\n",
      "sedan          1981\n",
      "SUV            1805\n",
      "pickup         1071\n",
      "truck           770\n",
      "other           519\n",
      "coupe           443\n",
      "hatchback       414\n",
      "wagon           255\n",
      "van             227\n",
      "convertible     204\n",
      "mini-van        113\n",
      "bus              22\n",
      "offroad          21\n",
      "Name: type, dtype: int64\n",
      "Характеристика: paint_color,\n",
      " Количество уникальных значений: 12,\n",
      " Список значений:\n",
      "white     1916\n",
      "black     1473\n",
      "silver    1041\n",
      "red        741\n",
      "blue       730\n",
      "grey       601\n",
      "green      173\n",
      "custom     154\n",
      "brown      144\n",
      "yellow      53\n",
      "orange      51\n",
      "purple      10\n",
      "Name: paint_color, dtype: int64\n",
      "Характеристика: image_url,\n",
      " Количество уникальных значений: 9081,\n",
      " Список значений:\n",
      "https://images.craigslist.org/00N0N_1xMPvfxRAIdz_0gw0co_600x450.jpg    191\n",
      "https://images.craigslist.org/00R0R_lwWjXSEWNa7z_0x20oM_600x450.jpg     47\n",
      "https://images.craigslist.org/00v0v_ihZKB5WEx8Rz_0gw0co_600x450.jpg      8\n",
      "https://images.craigslist.org/00D0D_aqVh7XGmJcQz_0gw0co_600x450.jpg      8\n",
      "https://images.craigslist.org/01111_l590CdXzJSoz_001001_600x450.jpg      7\n",
      "                                                                      ... \n",
      "https://images.craigslist.org/00S0S_gbHqFmRQh7kz_09a07K_600x450.jpg      1\n",
      "https://images.craigslist.org/00z0z_45YWA8WkAUSz_0CI0t2_600x450.jpg      1\n",
      "https://images.craigslist.org/01212_6JYMQ4lRmsHz_0gv0cn_600x450.jpg      1\n",
      "https://images.craigslist.org/00m0m_d5zGKT3vPL4z_0lM0t2_600x450.jpg      1\n",
      "https://images.craigslist.org/00O0O_gBihGEQxYTjz_0kE0fu_600x450.jpg      1\n",
      "Name: image_url, Length: 9081, dtype: int64\n",
      "Характеристика: description,\n",
      " Количество уникальных значений: 9845,\n",
      " Список значений:\n",
      "PLEASE VIEW THE FREE CARFAX HISTORY REPORT AT OUR WEBSITE CARTERSCARSVT.COM OR CALL 802-891-6345 CHECK OUT OUR INVENTORY ON FACEBOOK!!!                                                                                                                                                                                                                                                                                                                                                                                                                                                                                                                                                                                                                                                                                                                                                                                                                                                                                                                                                                                                                                                                                                                                                                                                                                                                                                                                                                                                                                                                                                                                                                                                                                                                                                                                                                                                                                                                                                                                                                                                                                                                                                                                                                                                                                                                                                                                                                                                                                                                                                                                                                                                                                                                                                                                                                                                                                                                                                                                                                                                                                                                                                                                                                                                                                                                                                                                                                                                                                                                                                                                                                                                                                                                                                                                                                                                                                                                                                                                                                                                                                                                                                                                                                                                                                                                                                                                                                                                                                                                                                                                                                       7\n",
      "CREDIT CARS- $700.00 DOWN- RIGHT ON THE CORNER, RIGHT ON THE CREDIT!!  CALL US TODAY @ 352-204-2923 OR 352-204-2137. $700 DOWN!!!!!  CREDIT CHALLENGES??- NO PROBLEM- COME SEE US TODAY!  WE USE YOUR JOB AS YOUR CREDIT! ALL YOU NEED IS INCOME, PROOF OF INSURANCE, DRIVERS LICENSE, AND $700.00!!!  COME SEE US TODAY AT 320 NE 23RD AVENUE GAINESVILLE, FL 32609  WE ARE OPEN MONDAY- FRIDAY 9:00AM TO 7:00PM AND SATURDAY 9:00AM- 5:00PM  352-204-2137 OR 352-204-2137 CALL US TODAY TO SCHEDULE APPT!!  ⭐ Great Financing Options Available ⭐  ✅ Bad Credit? ✅ No Credit? ✅ First Time Buyer? ✅ We Work With Dozens Of Dealers To Get You Approved Fast Regardless Of Your Credit Situation.  🚘 Ready To Get Behind The Wheel Of Your New Car 🚘  100% APPROVAL! We use your job as your credit!  We Guarantee It! No matter your financial situation, you will drive off the lot in a new car, today.  ✅ Bad Credit ✅ No Credit ✅ Repossession ✅ Foreclosure ✅ SSI ✅ Disability ✅ Government Assistance  YOU'RE APPROVED!  🚘 🚘  ✅ Huge Selection Of Quality Pre-Owned Cars ✅ Leave With Confidence ✅ Trade-In Your Car Today For A Great Discount   📍 Stop By Today                                                                                                                                                                                                                                                                                                                                                                                                                                                                                                                                                                                                                                                                                                                                                                                                                                                                                                                                                                                                                                                                                                                                                                                                                                                                                                                                                                                                                                                                                                                                                                                                                                                                                                                                                                                                                                                                                                                                                                                                                                                                                                                                                                                                                                                                                                                                                                                                                                                                                                                                                                                                                                                                                                                                                                                                                                                                                                                                                                                                                                                                                                                                                                                                                                                                                                                                                                                                                                                                                                                                     5\n",
      "Call or text today to find out more. (602) 620-6525 Calls only landline (406) 245-1785  Available at Standard Auto Sales 1503 Broadwater Ave. Billings, MT 59102 standardautosales.net   Need help with financing? We have options for most credit situations. We never charge a doc fee! Extended service contracts available. We buy cars and take consignments! Call or text Mike today to find out more. (602) 620-6525  Welcome to Standard Auto Sales, located in Billings, MT, where quality service and customer satisfaction come first. We are here to help you find a vehicle that fits your lifestyle from our wide selection of used cars, trucks, and SUVs. We pride ourselves on a hassle-free car buying experience where your needs come first. Swing by to let us exceed your expectations while finding the perfect vehicle! Do you need financing for your next used vehicle purchase? Do you have a good credit, bad credit or no credit history situation? We work with a variety of financial institutions and we will work hard to get you approved quickly and easily, at the best rate possible! Apply now or call us at (406) 245-1785 or text (602) 620-6525 to schedule a test drive today!                                                                                                                                                                                                                                                                                                                                                                                                                                                                                                                                                                                                                                                                                                                                                                                                                                                                                                                                                                                                                                                                                                                                                                                                                                                                                                                                                                                                                                                                                                                                                                                                                                                                                                                                                                                                                                                                                                                                                                                                                                                                                                                                                                                                                                                                                                                                                                                                                                                                                                                                                                                                                                                                                                                                                                                                                                                                                                                                                                                                                                                                                                                                                                                                                                                                                                                                                                                                                                                                                      5\n",
      "This truck has sold, but we buy trucks like this. If you know of one of these trucks for sale, we pay a finders fee.  Call Bobby! (636) 587 - 0660    7.3 7.3l 6.6 6.6l 5.9 5.9 6.7 6.7l powerstroke power stroke duramax cummins diesel lly lbz dmax pstroke big block small block big block smallblock sbf sbc bbf bbc efi 302 460 351 6.0 6.0L 5.0L 5.0 5.8L 5.8 7.5L 7.5 496 454 stroker 8.1 8.1L 12v 24v 4x4 four wheel drive 4wd laramie SLT Lariat lt lt1 lt2 lt3 ls club quad single crew cab clubcab quadcab singlecab crewcab cclb long bed longbed short shortbed  ccsb sclb scsb rustfree rust free clean 4door 2-door 2door 4-door ford dodge chevrolet chevy gmc sierra silverado f-250 f-350 f250 f350 ram 2500 3500 1st gen first gen firstgen 2nd gen 2ndgen second gen secondgen 3rd gen 3rdgen third gen thirdgen OBS superduty excursion supercrew supercab super duty 5-speed 6-speed stick shift stickshift manual transmission clutch intercooled inter cooled turbocharged turbo charged lonestar bighorn lone star big horn longhorn long horn low mile lowmile puller camper camp haul hauling hauler tow towing rig gooseneck goose neck 5th wheel fifth wheel 5thwheel fifthwheel hitch                                                                                                                                                                                                                                                                                                                                                                                                                                                                                                                                                                                                                                                                                                                                                                                                                                                                                                                                                                                                                                                                                                                                                                                                                                                                                                                                                                                                                                                                                                                                                                                                                                                                                                                                                                                                                                                                                                                                                                                                                                                                                                                                                                                                                                                                                                                                                                                                                                                                                                                                                                                                                                                                                                                                                                                                                                                                                                                                                                                                                                                                                                                                                                                                                                                                                                                                                                                                                                                                                           4\n",
      "35 VEHICLES PRICED UNDER $3000!!!  BIG TIME! TAX TIME! SALE TIME!  CALL US NOW!!! 321-242-0328  30TH YEAR IN BUSINESS!!!!  OUR ADDRESS:  1900 AURORA RD. MELBOURNE, FL 32935  321-242-0328  Call us or visit us now we have a huge selection of honda accord and civic and pilot in stock at all times! we specialize in Toyota Camry and Corolla and Sienna and 3RD Row Suv. We also stock Domestics like Ford Fusion Explorer and Escape and the really nice Edge. if you care looking for Chevy Traverse or Chevrolet Malibu or Impala and Cruze for gas saving we have those as well, including Buick Enclave we always have em! Lacrosse and Regal are here too! Encore is available just call first. We stock Luxury Brands like Acura Lexus and German brands BMW Mercedes Benz and Audi. Dont get us started on Jeep! We love to sell Grand Cherokee and Patriot and Compass! Want a Really Nice Minivan!?! We got Chrysler Town and Country Dodge Grand Caravan and Honda Odyssey Always Here!! Sporty? Charger Challanger Mustang and Camro can be located for you! Are you Hip? Kia Soul and Optima are your bag, we got em!!!! Mazda is here too!! 3 and 6 and CX9. Our Number one seller for 3RD Row is the Dodge Journey and Durango, we always have a bunch in stock, back up camera and push button start bluetooth panoramic sunroof. Cadillac SRX for the luxury driver is here too! Ever driven a Nissan Altima or Sentra or Pathfinder or Rogue, come drive one today and feel the sporty drive!                                                                                                                                                                                                                                                                                                                                                                                                                                                                                                                                                                                                                                                                                                                                                                                                                                                                                                                                                                                                                                                                                                                                                                                                                                                                                                                                                                                                                                                                                                                                                                                                                                                                                                                                                                                                                                                                                                                                                                                                                                                                                                                                                                                                                                                                                                                                                                                                                                                                                                                                                                                                                                                                                                                                                                                                                                                                                                                                                                                                                                                                                                                                                                                          4\n",
      "                                                                                                                                                                                                                                                                                                                                                                                                                                                                                                                                                                                                                                                                                                                                                                                                                                                                                                                                                                                                                                                                                                                                                                                                                                                                                                                                                                                                                                                                                                                                                                                                                                                                                                                                                                                                                                                                                                                                                                                                                                                                                                                                                                                                                                                                                                                                                                                                                                                                                                                                                                                                                                                                                                                                                                                                                                                                                                                                                                                                                                                                                                                                                                                                                                                                                                                                                                                                                                                                                                                                                                                                                                                                                                                                                                                                                                                                                                                                                                                                                                                                                                                                                                                                                                                                                                                                                                                                                                                                                                                                                                                                                                                                                                             ..\n",
      "I have a very nice 2010 tundra with a near new engine with 10000 miles that I bought for my dad and I did a transmission service on it and thankfully after having it for 3 weeks blew up the transmission. So its getting a new one, it's around $3600 for the part. This truck low books at $18000 not taking a very low milage engine or brand new trans into account. No, the dirt bike is not included don't be stupid. Lmk if you're interested. Interior is near perfect. Comes with set of very new winter tires on rims.  show contact info  Erik                                                                                                                                                                                                                                                                                                                                                                                                                                                                                                                                                                                                                                                                                                                                                                                                                                                                                                                                                                                                                                                                                                                                                                                                                                                                                                                                                                                                                                                                                                                                                                                                                                                                                                                                                                                                                                                                                                                                                                                                                                                                                                                                                                                                                                                                                                                                                                                                                                                                                                                                                                                                                                                                                                                                                                                                                                                                                                                                                                                                                                                                                                                                                                                                                                                                                                                                                                                                                                                                                                                                                                                                                                                                                                                                                                                                                                                                                                                                                                                                                                                                                                                                                    1\n",
      "WE HAVE OVER 500 VEHICLES IN STOCK!   See our entire inventory at WWW.SHOWCASEAUTOSALESLLC.COM YOU CAN REACH US AT (989) 845-1091.   SHOWCASE AUTO SALES, LLC  12750 WEST BRADY  CHESANING, MICHIGAN 48616  WWW.SHOWCASEAUTOSALESLLC.COM   WE ARE OPEN MONDAY-FRIDAY 9AM-8PM.  AND SATURDAYS FROM 9-4:30!!!   !!GUARANTEED FINANCING NOW AVAILABLE!!  Year: 2015  Make: Chevrolet  Model: Cruze  Trim: 4dr Sdn Auto 1LT  Mileage: 162,841  Trans: Automatic  Vin: 1G1PC5SB0F7281503  Stock #: 20795  Engine: Engine, ECOTEC Turbo 1.4L Variable Valve Timing DOHC 4-cylinder sequential MFI (138 hp [103 kW] @ 4900 rpm, 148 lb-ft of torque [199.8 N-m] @ 1850 rpm)  Interior: Cloth  Color: Red  Drive Train: FWD  Type: Sedan  State: MI  Vehicle Options Filter Options Cruise Control Air bags, frontal and knee for driver and front passenger, side-impact seat-mounted and roof rail for front and rear outboard seating positions includes Passenger Sensing System (Always use safety belts and child restraints. Children are safer when properly secured in a rear seat in the appropriate child restraint. See the Owner's Manual for more information.) Air conditioning, single-zone electronic includes air filter Alternator, 130 amps Armrest, rear center, articulating, with dual cup holders Assist handles, driver, front passenger and rear outboard Audio system feature, 6-speaker system Axle, 3.53 final drive ratio Battery, 438 cold-cranking amps Brakes, 4-wheel antilock Brakes, front disc/rear drum Center stack, integrated with ambient LED back lighting Compass display Convenience hooks, rear Cup holders 2 in front center console, 2 in rear seat armrest and 1 bottle holder in each front door panel Defogger, rear-window, electric Door handles, body-color Door locks, rear child security Engine, ECOTEC Turbo 1.4L Variable Valve Timing DOHC 4-cylinder sequential MFI (138 hp [103 kW] @ 4900 rpm, 148 lb-ft of torque [199.8 N-m] @ 1850 rpm) Enhanced Acoustic Package Front wheel drive Glass, solar absorbing, tinted Headlamps, halogen composite with automatic exterior lamp control and delay feature Lamp, LED center high-mounted stop/brake (CHMSL) LATCH system (Lower Anchors and Top tethers for CHildren), for child safety seats Lighting, interior dome with theater dimming, dual map lights, illuminated trunk area Mirror, inside rearview manual day/night Oil life monitoring system Rear air ducts, floor mounted Safety belt pretensioners, driver and front passenger, dual Safety belts, 3-point, all seating positions, front height adjustable Seat adjuster, driver 6-way manual Seat adjuster, front passenger 6-way manual Seat, rear 60/40 split-folding with adjustable head restraints on outboard positions SiriusXM Satellite Radio is standard on nearly all 2015 GM models. Enjoy a 3-month All Access trial subscription with over 150 channels including commercial-free music, plus sports, news and entertainment. Plus you can listen to SiriusXM Internet Radio everywhere on your computer, smartphone or tablet. Welcome to the world of SiriusXM. (IMPORTANT: The SiriusXM Satellite Radio trial package is not provided on vehicles that are ordered for Fleet Daily Rental (\"FDR\") use. If you decide to continue listening af Steering column, tilt and telescopic Steering wheel controls, mounted audio and phone interface controls Steering wheel, 3-spoke, comfort grip Steering, power, electric, rack-mounted Suspension, front independent McPherson strut, aluminum control arms with hydraulic bushings, 25mm hollow stabilizer bar Suspension, rear, compound crank Theft-deterrent system with anti-theft alarm and engine immobilizer Tire, compact spare and spare wheel, includes jack and lug nut wrench Tires, P215/60R16, all-season, blackwall, low rolling resistance Trunk emergency release handle Windows, power with Express-Down on all and driver Express Up Wipers, front intermittent, variable    HUNDREDS OF VEHICLES TO CHOOSE FROM!   CALL US TODAY FOR MORE DETAILS! 989-845-1091   SHOWCASE AUTO SALES, LLC  12750 WEST BRADY  CHESANING, MICHIGAN 48616   View Our Entire Inventory at WWW.SHOWCASEAUTOSALESLLC.COM  **Information deemed reliable, but not guaranteed. Interested parties should confirm all data before relying on it to make a purchase decision. All prices and specifications are subject to change without notice. Prices may not include additional fees such as government fees and taxes, title and registration fees, finance charges, dealer document preparation fees, processing fees, and emission testing and compliance charges.**    1\n",
      "Carvana is the safer way to buy a car During these uncertain times, Carvana is dedicated to ensuring safety for all of our customers. In addition to our 100% online shopping and selling experience that allows all customers to buy and trade their cars without ever leaving the safety of their house, we’re providing touchless delivery that make all aspects of our process even safer. Now, you can get the car you want, and trade in your old one, while avoiding person-to-person contact with our friendly advocates. There are some things that can’t be put off. And if buying a car is one of them, know that we’re doing everything we can to keep you keep moving while continuing to put your health safety, and happiness first. Vehicle Stock# 2000957097📱 Want to instantly check this car’s availability? Call us at  616-727-0824Just text that stock number to 855-976-4304 or head to  and plug it into the search bar!Get PRE-QUALIFIED for your auto loan in 2 minutes - no hit to your credit:http://finance.carvanaauto.com/7006740-74585Looking for more cars like this one? We have 211 Chevrolet Cruze in stock for as low as $9990!Why buy with Carvana? We have one standard: the highest. Take a look at just some of the qualifications all of our cars must meet before we list them.150-POINT INSPECTION: We put each vehicle through a 150-point inspection so that you can be 100% confident in its quality and safety. See everything that goes into our inspections at:NO REPORTED ACCIDENTS: We do not sell cars that have been in a reported accident or have a frame or structural damage.7 DAY TEST OWN MONEY BACK GUARANTEE: Every Carvana car comes with a 7-day money-back guarantee. Why? It takes more than 15-minutes to make a decision on your next car. Learn more about test owning at http://about.carvanaauto.comFLEXIBLE FINANCING, TRADE INS WELCOME: We’re all about real-time financing without the middle man. Need financing? Pick a combination of down and monthly payments that work for you. Have a trade-in? We’ll give you a value in 2 minutes. Check out everything about our financing at:http://finance.carvanaauto.com/7006740-74585COST SAVINGS: Carvana's business model has fewer expenses and no bloated fees compared to your local dealership. See how much we can save you at http://about.carvanaauto.comPREMIUM DETAIL: We go the extra mile so that your car is looking as good as new. There are a lot of specifics that we won’t list here (we wash, clean, buff, paint, polish, wax, seal), but trust us that when your car arrives, it’s going to look sweet.Vehicle Info for Stock# 2000957097Trim: LT Diesel Hatchback 4D hatchbackMileage: 41k milesExterior Color: GrayInterior Color: GrayEngine: 1.6L Diesel Turbo I4 137hp 240ft. lbs.Drive: fwdTransmission: VIN: 3G1BG6SE1JS569278Dealer Disclosure: Price excludes tax, title, and registration (which we handle for you).Disclaimer: You agree that by providing your phone number, Carvana, or Carvana’s authorized representatives*, may call and/or send text messages (including by using equipment to automatically dial telephone numbers) about your interest in a purchase, for marketing/sales purposes, or for any other servicing or informational purpose related to your account. You do not have to consent to receiving calls or texts to purchase from Carvana. While every reasonable effort is made to ensure the accuracy of the information for this Chevrolet Cruze, we are not responsible for any errors or omissions contained in this ad. Please verify any information in question with Carvana at 616-727-0824*Including, but not limited to, Bridgecrest Credit Company, GO Financial and SilverRock Automotive.*Chevrolet* *Cruze* *Chevy* *Chevrolet* *Cruze* *Auto* *1LT* *Chevrolet* *Cruze* *LT* *w/1LT* *Chevrolet* *Cruze* *LTZ* *Chevrolet* *Cruze* *LT* *Sedan* *Chevrolet* *Cruze* *LTZ* *wagon* *Chevrolet* *Cruze* *LS* *sedan* *Chevrolet* *Cruze* *Eco* *Chevrolet* *Cruze* *2* *Lt* *Sedan* 2022  2021  2020  2019  2018  2017  2016  2015  2014  2013  2012  2011  2010  2009  2008  2007  2006  2005  2004  2003  2002  2001  2000   22  21    19  18  17  16  15  14  13  12  11  10  09  08  07  06  05  04  03  02  01  00                                                                                                                                                                                                                                                                                                                                                                                1\n",
      "2013 Mazda Mazda5 Touring gray with 170k miles. 3rd row seat In excellent condition. Good for a family car. Runs great and no mechanical issue. Asking 5400 OBO                                                                                                                                                                                                                                                                                                                                                                                                                                                                                                                                                                                                                                                                                                                                                                                                                                                                                                                                                                                                                                                                                                                                                                                                                                                                                                                                                                                                                                                                                                                                                                                                                                                                                                                                                                                                                                                                                                                                                                                                                                                                                                                                                                                                                                                                                                                                                                                                                                                                                                                                                                                                                                                                                                                                                                                                                                                                                                                                                                                                                                                                                                                                                                                                                                                                                                                                                                                                                                                                                                                                                                                                                                                                                                                                                                                                                                                                                                                                                                                                                                                                                                                                                                                                                                                                                                                                                                                                                                                                                                                                               1\n",
      "Carvana is the safer way to buy a car During these uncertain times, Carvana is dedicated to ensuring safety for all of our customers. In addition to our 100% online shopping and selling experience that allows all customers to buy and trade their cars without ever leaving the safety of their house, we’re providing touchless delivery that make all aspects of our process even safer. Now, you can get the car you want, and trade in your old one, while avoiding person-to-person contact with our friendly advocates. There are some things that can’t be put off. And if buying a car is one of them, know that we’re doing everything we can to keep you keep moving while continuing to put your health safety, and happiness first. Vehicle Stock# 2000968558📱 Want to instantly check this car’s availability? Call us at  757-276-8209Just text that stock number to 855-976-4304 or head to  and plug it into the search bar!Get PRE-QUALIFIED for your auto loan in 2 minutes - no hit to your credit:http://finance.carvanaauto.com/7092425-74589Looking for more cars like this one? We have 129 Ram 1500 Crew Cab in stock for as low as $21990!Why buy with Carvana? We have one standard: the highest. Take a look at just some of the qualifications all of our cars must meet before we list them.150-POINT INSPECTION: We put each vehicle through a 150-point inspection so that you can be 100% confident in its quality and safety. See everything that goes into our inspections at:NO REPORTED ACCIDENTS: We do not sell cars that have been in a reported accident or have a frame or structural damage.7 DAY TEST OWN MONEY BACK GUARANTEE: Every Carvana car comes with a 7-day money-back guarantee. Why? It takes more than 15-minutes to make a decision on your next car. Learn more about test owning at http://about.carvanaauto.comFLEXIBLE FINANCING, TRADE INS WELCOME: We’re all about real-time financing without the middle man. Need financing? Pick a combination of down and monthly payments that work for you. Have a trade-in? We’ll give you a value in 2 minutes. Check out everything about our financing at:http://finance.carvanaauto.com/7092425-74589COST SAVINGS: Carvana's business model has fewer expenses and no bloated fees compared to your local dealership. See how much we can save you at http://about.carvanaauto.comPREMIUM DETAIL: We go the extra mile so that your car is looking as good as new. There are a lot of specifics that we won’t list here (we wash, clean, buff, paint, polish, wax, seal), but trust us that when your car arrives, it’s going to look sweet.Vehicle Info for Stock# 2000968558Trim: Big Horn Pickup 4D 5 1/2 ft pickupMileage: 35k milesExterior Color: WhiteInterior Color: OTHEREngine: HEMI 5.7L V8 395hp 410ft. lbs.Drive: Two Wheel DriveTransmission: VIN: 3C6RR6LT6HG542059Dealer Disclosure: Price excludes tax, title, and registration (which we handle for you).Disclaimer: You agree that by providing your phone number, Carvana, or Carvana’s authorized representatives*, may call and/or send text messages (including by using equipment to automatically dial telephone numbers) about your interest in a purchase, for marketing/sales purposes, or for any other servicing or informational purpose related to your account. You do not have to consent to receiving calls or texts to purchase from Carvana. While every reasonable effort is made to ensure the accuracy of the information for this Ram 1500 Crew Cab, we are not responsible for any errors or omissions contained in this ad. Please verify any information in question with Carvana at 757-276-8209*Including, but not limited to, Bridgecrest Credit Company, GO Financial and SilverRock Automotive.*Ram* *1500* *Crew* *Cab* *ST* *Ram* *1500* *Crew* *Cab* *R/T* *Ram* *1500* *Crew* *Cab* *Tradesman/Express* *Ram* *1500* *Crew* *Cab* *SLT* *Ram* *1500* *Crew* *Cab* *HFE* *Ram* *1500* *Crew* *Cab* *Sport* *Ram* *1500* *Crew* *Cab* *SST* *Ram* *1500* *Crew* *Cab* *Laramie* *Ram* *1500* *Crew* *Cab* *Longhorn* *Ram* *1500* *Crew* *Cab* *Laramie/longhorn* *Limited* *Edition* *120* *in* *WB* *Ram* *1500* *Crew* *Cab* *140* *in* *WB* *Ram* *1500* *Crew* *Cab* *149* *in* *WB* *4x4* *Ram* *1500* *Crew* *Cab* *4x2* *Regular* *Cab* *Ram* *1500* *Crew* *Cab* *Crew* *Cab* *Quad* *Cab* *Pick* *up* 2022  2021  2020  2019  2018  2017  2016  2015  2014  2013  2012  2011  2010  2009  2008  2007  2006  2005  2004  2003  2002  2001  2000   22  21    19  18  17  16  15  14  13  12  11  10  09  08  07  06  05  04  03  02  01  00                                           1\n",
      "Name: description, Length: 9845, dtype: int64\n",
      "Характеристика: county,\n",
      " Количество уникальных значений: 0,\n",
      " Список значений:\n",
      "Series([], Name: county, dtype: int64)\n",
      "Характеристика: state,\n",
      " Количество уникальных значений: 51,\n",
      " Список значений:\n",
      "ca    1113\n",
      "fl     690\n",
      "tx     535\n",
      "mi     462\n",
      "ny     453\n",
      "oh     414\n",
      "pa     354\n",
      "nc     352\n",
      "or     333\n",
      "wa     318\n",
      "co     303\n",
      "wi     290\n",
      "il     251\n",
      "nj     241\n",
      "tn     239\n",
      "va     237\n",
      "az     212\n",
      "ia     206\n",
      "mn     201\n",
      "id     199\n",
      "ga     179\n",
      "ma     172\n",
      "ks     170\n",
      "ok     166\n",
      "mt     153\n",
      "sc     139\n",
      "in     135\n",
      "ct     124\n",
      "md     120\n",
      "al     102\n",
      "ky      98\n",
      "mo      97\n",
      "ak      89\n",
      "nm      88\n",
      "la      78\n",
      "nv      78\n",
      "ar      77\n",
      "dc      72\n",
      "ri      71\n",
      "nh      69\n",
      "me      68\n",
      "vt      63\n",
      "hi      56\n",
      "sd      37\n",
      "ut      31\n",
      "ms      29\n",
      "ne      26\n",
      "wv      21\n",
      "de      18\n",
      "wy      13\n",
      "nd       8\n",
      "Name: state, dtype: int64\n",
      "Характеристика: lat,\n",
      " Количество уникальных значений: 5049,\n",
      " Список значений:\n",
      "43.182400    88\n",
      "33.779214    79\n",
      "40.468785    73\n",
      "33.786500    54\n",
      "46.234838    50\n",
      "             ..\n",
      "44.472801     1\n",
      "35.087165     1\n",
      "32.660500     1\n",
      "39.783470     1\n",
      "42.123900     1\n",
      "Name: lat, Length: 5049, dtype: int64\n",
      "Характеристика: long,\n",
      " Количество уникальных значений: 5082,\n",
      " Список значений:\n",
      "-84.112200     88\n",
      "-84.411811     79\n",
      "-74.281707     73\n",
      "-84.445400     54\n",
      "-119.128015    50\n",
      "               ..\n",
      "-78.625588      1\n",
      "-85.180435      1\n",
      "-88.841600      1\n",
      "-95.787429      1\n",
      "-79.189500      1\n",
      "Name: long, Length: 5082, dtype: int64\n",
      "Характеристика: posting_date,\n",
      " Количество уникальных значений: 9957,\n",
      " Список значений:\n",
      "2021-04-13T09:11:02-0500    3\n",
      "2021-04-26T13:21:00-0700    2\n",
      "2021-05-03T16:42:17-0400    2\n",
      "2021-05-04T10:45:14-0700    2\n",
      "2021-04-13T10:51:11-0400    2\n",
      "                           ..\n",
      "2021-05-01T11:12:43-0700    1\n",
      "2021-04-23T12:40:29-0400    1\n",
      "2021-04-24T02:49:59-0500    1\n",
      "2021-04-30T16:52:44-0700    1\n",
      "2021-04-24T13:50:49-0400    1\n",
      "Name: posting_date, Length: 9957, dtype: int64\n",
      "Характеристика: price_category,\n",
      " Количество уникальных значений: 3,\n",
      " Список значений:\n",
      "high      3514\n",
      "medium    3294\n",
      "low       3242\n",
      "Name: price_category, dtype: int64\n"
     ]
    }
   ],
   "source": [
    "# Информация о каждой характеристики объекта\n",
    "for c in df.columns:\n",
    " print(\"\"\"Характеристика: %s,\n",
    " Количество уникальных значений: %s,\n",
    " Список значений:\\n%s\"\"\"\n",
    "       %(c, df[c].nunique(), df[c].value_counts()))"
   ]
  },
  {
   "cell_type": "markdown",
   "id": "6bd31b3f",
   "metadata": {
    "id": "6bd31b3f",
    "pycharm": {
     "name": "#%% md\n"
    }
   },
   "source": [
    "### Задача 3. Определение типов переменных в датасете\n",
    "**Что нужно сделать**\n",
    "\n",
    "После ознакомления с характеристиками заполните в таблице, к какому типу относятся некоторые переменные. Для этого на пересечении названия переменной и типа переменной проставьте «X».\n",
    "\n",
    "\n",
    "|  Переменная    | Дискретная | Непрерывная | Качественная |\n",
    "|----------------|------------|------------|--------------|\n",
    "| id             | X          |            |              |\n",
    "| region         |            |            | X            |\n",
    "| year           | X          |            |              |\n",
    "| manufacturer   |            |            | X            |\n",
    "| condition      |            |            | X            |\n",
    "| fuel           |            |            | X            |\n",
    "| odometer       |            |            | X            |\n",
    "| title_status   |            |            | X            |\n",
    "| transmission   |            |            | X            |\n",
    "| VIN            |            |            | X            |\n",
    "| drive          |            |            | X            |\n",
    "| paint_color    |            |            | X            |\n",
    "| state          |            |            | X            |\n",
    "| price_category |            |            | X            |\n"
   ]
  },
  {
   "cell_type": "markdown",
   "source": [],
   "metadata": {
    "collapsed": false,
    "pycharm": {
     "name": "#%% md\n"
    }
   }
  },
  {
   "cell_type": "markdown",
   "source": [
    "### Задача 4. Определение целевой переменной в данных и распределения переменных\n",
    "**Что нужно сделать**\n",
    "\n",
    "1. Исходя из поставленной задачи определите, в какой колонке находится целевая переменная.\n",
    "\n",
    "\n",
    "\n",
    "**Ответ:** _price_category_"
   ],
   "metadata": {
    "id": "ZZSmo9bwiNeP",
    "pycharm": {
     "name": "#%% md\n"
    }
   },
   "id": "ZZSmo9bwiNeP"
  },
  {
   "cell_type": "markdown",
   "source": [
    "2. Выведите для каждого значения целевой переменной его долю вхождения в выборку.\n"
   ],
   "metadata": {
    "id": "usHGGkBpkzUi",
    "pycharm": {
     "name": "#%% md\n"
    }
   },
   "id": "usHGGkBpkzUi"
  },
  {
   "cell_type": "code",
   "source": [
    "# Ваш код здесь\n",
    "round(df['price_category'].value_counts(normalize=True).sort_values(ascending=True)*100,2)\n"
   ],
   "metadata": {
    "id": "q7hPwXQllXkY",
    "pycharm": {
     "name": "#%%\n"
    }
   },
   "id": "q7hPwXQllXkY",
   "execution_count": 71,
   "outputs": [
    {
     "data": {
      "text/plain": "low       32.26\nmedium    32.78\nhigh      34.97\nName: price_category, dtype: float64"
     },
     "execution_count": 71,
     "metadata": {},
     "output_type": "execute_result"
    }
   ]
  },
  {
   "cell_type": "code",
   "execution_count": 72,
   "outputs": [
    {
     "data": {
      "text/plain": "<AxesSubplot:>"
     },
     "execution_count": 72,
     "metadata": {},
     "output_type": "execute_result"
    },
    {
     "data": {
      "text/plain": "<Figure size 432x288 with 1 Axes>",
      "image/png": "[encoded data removed]"
     },
     "metadata": {
      "needs_background": "light"
     },
     "output_type": "display_data"
    }
   ],
   "source": [
    "round(df['price_category'].value_counts(normalize=True).sort_values(ascending=True)*100,2).plot.bar(rot=45, grid=True);"
   ],
   "metadata": {
    "collapsed": false,
    "pycharm": {
     "name": "#%%\n"
    }
   }
  },
  {
   "cell_type": "markdown",
   "source": [
    "3. Ещё раз посмотрите на долю или количество вхождений каждого значения целевой переменной в выборку и напишите, какое это распределение. Определить, как распределены значения целевой переменной, в данном случае можно и без графика. \n",
    "\n",
    "**Ответ:** _Равномерное распределение_"
   ],
   "metadata": {
    "id": "TLPoUkHBmw__",
    "pycharm": {
     "name": "#%% md\n"
    }
   },
   "id": "TLPoUkHBmw__"
  },
  {
   "cell_type": "code",
   "source": [],
   "metadata": {
    "id": "U4macJgemxnw",
    "pycharm": {
     "name": "#%%\n"
    }
   },
   "id": "U4macJgemxnw",
   "execution_count": null,
   "outputs": []
  }
 ],
 "metadata": {
  "kernelspec": {
   "display_name": "Python 3",
   "language": "python",
   "name": "python3"
  },
  "language_info": {
   "codemirror_mode": {
    "name": "ipython",
    "version": 3
   },
   "file_extension": ".py",
   "mimetype": "text/x-python",
   "name": "python",
   "nbconvert_exporter": "python",
   "pygments_lexer": "ipython3",
   "version": "3.8.8"
  },
  "toc": {
   "base_numbering": 1,
   "nav_menu": {},
   "number_sections": true,
   "sideBar": true,
   "skip_h1_title": false,
   "title_cell": "Table of Contents",
   "title_sidebar": "Contents",
   "toc_cell": false,
   "toc_position": {},
   "toc_section_display": true,
   "toc_window_display": false
  },
  "colab": {
   "name": "17.8_Практическая работа.ipynb",
   "provenance": [],
   "collapsed_sections": []
  }
 },
 "nbformat": 4,
 "nbformat_minor": 5
}