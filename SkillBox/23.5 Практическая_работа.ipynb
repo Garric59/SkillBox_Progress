{
 "nbformat": 4,
 "nbformat_minor": 0,
 "metadata": {
  "colab": {
   "name": "Домашняя работа.ipynb",
   "provenance": [],
   "collapsed_sections": []
  },
  "kernelspec": {
   "name": "python3",
   "display_name": "Python 3"
  },
  "language_info": {
   "name": "python"
  }
 },
 "cells": [
  {
   "cell_type": "markdown",
   "source": [
    "## Практическая работа"
   ],
   "metadata": {
    "id": "4tc7YC6O8Ev1",
    "pycharm": {
     "name": "#%% md\n"
    }
   }
  },
  {
   "cell_type": "markdown",
   "source": [
    "В этой практической работе пять обязательных задач.\n",
    "\n",
    "*Обязательные задачи* помогут проверить, что вы действительно усвоили материал модуля. Сдайте их на проверку.\n",
    "\n",
    "Удачи!"
   ],
   "metadata": {
    "id": "vSt7qQM58QEB",
    "pycharm": {
     "name": "#%% md\n"
    }
   }
  },
  {
   "cell_type": "markdown",
   "source": [
    "Цели практической работы: \n",
    "\n",
    "\n",
    "1.   Потренироваться в обучении модели линейной регрессии.\n",
    "2.   Потренироваться в обучении модели логистической регрессии. \n",
    "3.   Потренироваться в обучении модели многослойного персептрона.\n",
    "\n",
    "\n",
    "\n"
   ],
   "metadata": {
    "id": "WwzP6BdQ8jbE",
    "pycharm": {
     "name": "#%% md\n"
    }
   }
  },
  {
   "cell_type": "markdown",
   "source": [
    "Что оценивается:\n",
    "\n",
    "*   Все пункты и критерии приёмки по каждому заданию выполнены.\n",
    "*   Код оформлен и работает корректно.\n",
    "\n",
    "\n",
    "\n"
   ],
   "metadata": {
    "id": "fGPUx8Nh8l0F",
    "pycharm": {
     "name": "#%% md\n"
    }
   }
  },
  {
   "cell_type": "markdown",
   "source": [
    "Как отправить работу на проверку:\n",
    "\n",
    "Сдайте практическую работу этого модуля через систему контроля версий Git сервиса Skillbox GitLab. После загрузки работы на проверку напишите об этом в личном кабинете своему куратору."
   ],
   "metadata": {
    "id": "IP-cDDXr-WD0",
    "pycharm": {
     "name": "#%% md\n"
    }
   }
  },
  {
   "cell_type": "markdown",
   "source": [
    "В этом задании вам нужно построить модель классификации, определяющую категорию цены/цену подержанного автомобиля в зависимости от характеристик транспортного средства. \n",
    "\n",
    "Мы будем использовать датасет из коллекции подержанных автомобилей, выставленных на продажу в Соединенных Штатах. Он уже подготовлен, без выбросов и с категориальными фичами, преобразованными с помощью one hot encoding, и количественными фичами, стандартизированными с помощью скейлеров.\n"
   ],
   "metadata": {
    "id": "dH3j5hM1qCUw",
    "pycharm": {
     "name": "#%% md\n"
    }
   }
  },
  {
   "cell_type": "markdown",
   "source": [
    "### Описание датасета:\n",
    "- `id`: идентификатор записи;\n",
    "- `is_manufacturer_name`: признак производителя автомобиля;\n",
    "\n",
    "- `region_*`: регион;\n",
    "- `x0_*`: тип топлива;\n",
    "- `manufacturer_*`: производитель;\n",
    "- `short_model_*`: сокращённая модель автомобиля;\n",
    "- `title_status_*`: статус;\n",
    "- `transmission_*`: коробка передач;\n",
    "- `state_*`: штат;\n",
    "- `age_category_*`: возрастная категория автомобиля;\n",
    "\n",
    "- `std_scaled_odometer`: количество пройденных миль (после стандартизации);\n",
    "- `year_std`: год выпуска (после стандартизации);\n",
    "- `lat_std`: широта (после стандартизации);\n",
    "- `long_std`: долгота (после стандартизации);\n",
    "- `odometer/price_std`: отношение стоимости к пробегу автомобиля (после стандартизации);\n",
    "- `desc_len_std`: количество символов в тексте объявления о продаже (после стандартизации);\n",
    "- `model_in_desc_std`: количество наименований модели автомобиля в тексте объявления о продаже (после стандартизации);\n",
    "- `model_len_std`: длина наименования автомобиля (после стандартизации);\n",
    "- `model_word_count_std`: количество слов в наименовании автомобиля (после стандартизации);\n",
    "- `month_std`: номер месяца размещения объявления о продаже автомобиля (после стандартизации);\n",
    "- `dayofweek_std`: день недели размещения объявления о продаже автомобиля (после стандартизации);\n",
    "- `diff_years_std`: количество лет между годом производства автомобиля и годом размещения объявления о продаже автомобиля (после стандартизации);\n",
    "\n",
    "- `price`: стоимость;\n",
    "- `price_category`: категория цены."
   ],
   "metadata": {
    "id": "jKgw4zyS8uOJ",
    "pycharm": {
     "name": "#%% md\n"
    }
   }
  },
  {
   "cell_type": "markdown",
   "source": [
    "## Обязательные задачи"
   ],
   "metadata": {
    "id": "f8cwJq0l8oyM",
    "pycharm": {
     "name": "#%% md\n"
    }
   }
  },
  {
   "cell_type": "code",
   "source": [
    "%%time\n",
    "import matplotlib.pyplot as plt\n",
    "import pandas as pd\n",
    "\n",
    "from sklearn.linear_model import LogisticRegression, LinearRegression\n",
    "from sklearn.metrics import accuracy_score, confusion_matrix, mean_absolute_error\n",
    "from sklearn.model_selection import train_test_split \n",
    "from sklearn.neural_network import MLPClassifier"
   ],
   "metadata": {
    "id": "k-oAmtZi9R8U",
    "pycharm": {
     "name": "#%%\n"
    }
   },
   "execution_count": 1,
   "outputs": [
    {
     "name": "stdout",
     "output_type": "stream",
     "text": [
      "Wall time: 228 ms\n"
     ]
    }
   ]
  },
  {
   "cell_type": "code",
   "source": [
    "%%time\n",
    "df = pd.read_csv('data/vehicles_dataset_prepared.csv')\n",
    "df.head()"
   ],
   "metadata": {
    "colab": {
     "base_uri": "https://localhost:8080/",
     "height": 299
    },
    "id": "a4gi-XV1Jkwc",
    "outputId": "3ba30067-9c82-4b3b-aec1-80b22491ba33",
    "pycharm": {
     "name": "#%%\n"
    }
   },
   "execution_count": 2,
   "outputs": [
    {
     "name": "stdout",
     "output_type": "stream",
     "text": [
      "Wall time: 1.91 s\n"
     ]
    },
    {
     "data": {
      "text/plain": "           id  price price_category  is_audi  is_ford  is_chevrolet  \\\n0  7308295377  54990           high        0        0             0   \n1  7316380095  16942         medium        0        1             0   \n2  7313733749  35590           high        0        0             0   \n3  7308210929  14500         medium        0        0             0   \n4  7303797340  14590         medium        0        0             0   \n\n   is_toyota  x0_diesel  x0_electric  x0_gas  ...  long_std  year_std  \\\n0          0        1.0          0.0     0.0  ...  0.484245  1.322394   \n1          0        0.0          0.0     0.0  ...  1.110800  0.695973   \n2          0        0.0          0.0     1.0  ...  0.531185  0.852578   \n3          1        0.0          0.0     1.0  ...  0.853562  0.226157   \n4          0        0.0          0.0     0.0  ...  0.557607  0.069552   \n\n   odometer/price_std  desc_len_std  model_in_desc_std  model_len_std  \\\n0           -0.510784      0.632075          -0.155788       1.163032   \n1           -0.402947     -0.646781          -0.155788       0.932087   \n2           -0.514480      0.560744          -0.155788       0.470197   \n3           -0.241883      0.180435          -0.155788      -0.915473   \n4           -0.333074      0.766366          -0.155788       1.163032   \n\n   model_word_count_std  month_std  dayofweek_std  diff_years_std  \n0              1.910669  -0.615846       1.120284       -1.322394  \n1              1.235799   1.623784      -1.374972       -0.695973  \n2              0.560930  -0.615846      -0.376870       -0.852578  \n3             -0.788810  -0.615846       1.120284       -0.226157  \n4              1.910669  -0.615846       0.122182       -0.069552  \n\n[5 rows x 1463 columns]",
      "text/html": "<div>\n<style scoped>\n    .dataframe tbody tr th:only-of-type {\n        vertical-align: middle;\n    }\n\n    .dataframe tbody tr th {\n        vertical-align: top;\n    }\n\n    .dataframe thead th {\n        text-align: right;\n    }\n</style>\n<table border=\"1\" class=\"dataframe\">\n  <thead>\n    <tr style=\"text-align: right;\">\n      <th></th>\n      <th>id</th>\n      <th>price</th>\n      <th>price_category</th>\n      <th>is_audi</th>\n      <th>is_ford</th>\n      <th>is_chevrolet</th>\n      <th>is_toyota</th>\n      <th>x0_diesel</th>\n      <th>x0_electric</th>\n      <th>x0_gas</th>\n      <th>...</th>\n      <th>long_std</th>\n      <th>year_std</th>\n      <th>odometer/price_std</th>\n      <th>desc_len_std</th>\n      <th>model_in_desc_std</th>\n      <th>model_len_std</th>\n      <th>model_word_count_std</th>\n      <th>month_std</th>\n      <th>dayofweek_std</th>\n      <th>diff_years_std</th>\n    </tr>\n  </thead>\n  <tbody>\n    <tr>\n      <th>0</th>\n      <td>7308295377</td>\n      <td>54990</td>\n      <td>high</td>\n      <td>0</td>\n      <td>0</td>\n      <td>0</td>\n      <td>0</td>\n      <td>1.0</td>\n      <td>0.0</td>\n      <td>0.0</td>\n      <td>...</td>\n      <td>0.484245</td>\n      <td>1.322394</td>\n      <td>-0.510784</td>\n      <td>0.632075</td>\n      <td>-0.155788</td>\n      <td>1.163032</td>\n      <td>1.910669</td>\n      <td>-0.615846</td>\n      <td>1.120284</td>\n      <td>-1.322394</td>\n    </tr>\n    <tr>\n      <th>1</th>\n      <td>7316380095</td>\n      <td>16942</td>\n      <td>medium</td>\n      <td>0</td>\n      <td>1</td>\n      <td>0</td>\n      <td>0</td>\n      <td>0.0</td>\n      <td>0.0</td>\n      <td>0.0</td>\n      <td>...</td>\n      <td>1.110800</td>\n      <td>0.695973</td>\n      <td>-0.402947</td>\n      <td>-0.646781</td>\n      <td>-0.155788</td>\n      <td>0.932087</td>\n      <td>1.235799</td>\n      <td>1.623784</td>\n      <td>-1.374972</td>\n      <td>-0.695973</td>\n    </tr>\n    <tr>\n      <th>2</th>\n      <td>7313733749</td>\n      <td>35590</td>\n      <td>high</td>\n      <td>0</td>\n      <td>0</td>\n      <td>0</td>\n      <td>0</td>\n      <td>0.0</td>\n      <td>0.0</td>\n      <td>1.0</td>\n      <td>...</td>\n      <td>0.531185</td>\n      <td>0.852578</td>\n      <td>-0.514480</td>\n      <td>0.560744</td>\n      <td>-0.155788</td>\n      <td>0.470197</td>\n      <td>0.560930</td>\n      <td>-0.615846</td>\n      <td>-0.376870</td>\n      <td>-0.852578</td>\n    </tr>\n    <tr>\n      <th>3</th>\n      <td>7308210929</td>\n      <td>14500</td>\n      <td>medium</td>\n      <td>0</td>\n      <td>0</td>\n      <td>0</td>\n      <td>1</td>\n      <td>0.0</td>\n      <td>0.0</td>\n      <td>1.0</td>\n      <td>...</td>\n      <td>0.853562</td>\n      <td>0.226157</td>\n      <td>-0.241883</td>\n      <td>0.180435</td>\n      <td>-0.155788</td>\n      <td>-0.915473</td>\n      <td>-0.788810</td>\n      <td>-0.615846</td>\n      <td>1.120284</td>\n      <td>-0.226157</td>\n    </tr>\n    <tr>\n      <th>4</th>\n      <td>7303797340</td>\n      <td>14590</td>\n      <td>medium</td>\n      <td>0</td>\n      <td>0</td>\n      <td>0</td>\n      <td>0</td>\n      <td>0.0</td>\n      <td>0.0</td>\n      <td>0.0</td>\n      <td>...</td>\n      <td>0.557607</td>\n      <td>0.069552</td>\n      <td>-0.333074</td>\n      <td>0.766366</td>\n      <td>-0.155788</td>\n      <td>1.163032</td>\n      <td>1.910669</td>\n      <td>-0.615846</td>\n      <td>0.122182</td>\n      <td>-0.069552</td>\n    </tr>\n  </tbody>\n</table>\n<p>5 rows × 1463 columns</p>\n</div>"
     },
     "execution_count": 2,
     "metadata": {},
     "output_type": "execute_result"
    }
   ]
  },
  {
   "cell_type": "markdown",
   "source": [
    "**Задача 0. Линейная регрессия**\n",
    "\n",
    "Вспомните задачу по предсказанию стоимости поддержанного автомобиля. Попробуем обучить модель линейной регрессии для предсказания цены автомобиля (колонка `price`). Для этого проделайте следующие шаги:\n",
    "\n",
    "- Подготовьте данные: удалите колонки, которые косвенно содержат информацию о целевой переменной (`odometer/price_std`, `price_category`).\n",
    "- Разделите выборку на треин и тест в отношении 70/30.\n",
    "- Обучите модель линейной регрессии с дефолтными параметрами.\n",
    "- Посчитайте значение метрики mae на тестовой выборке для линейной регрессии.\n",
    "- Выведите получившиеся коэффициенты линейной регрессии при каждом параметре обучающей выборки с помощью метода `coef_`. Есть ли коэффициенты, которые равны нулю? Если есть, выведите названия фичей с нулевым коэффициентом\n",
    "- Удалите фичи, коэффициенты которых равны нулю. И переобучите модель. Убедитесь, что значение метрики не изменилось.\n",
    "\n"
   ],
   "metadata": {
    "id": "VMmY9Xa-JdRj",
    "pycharm": {
     "name": "#%% md\n"
    }
   }
  },
  {
   "cell_type": "code",
   "source": [
    "%%time\n",
    "# Подготовка данных: удалим переменные, которые косвенно содержат информацию о целевой переменной и тип данных str\n",
    "print(\"Строковые данные\", df.select_dtypes(include='object').columns.values)\n",
    "df_prepared= df.drop(['odometer/price_std', 'price_category'], axis=1)\n",
    "df.shape, df_prepared.shape"
   ],
   "metadata": {
    "id": "i1tH2p0nopsf",
    "pycharm": {
     "name": "#%%\n"
    }
   },
   "execution_count": 3,
   "outputs": [
    {
     "name": "stdout",
     "output_type": "stream",
     "text": [
      "Строковые данные ['price_category']\n",
      "Wall time: 33 ms\n"
     ]
    },
    {
     "data": {
      "text/plain": "((9619, 1463), (9619, 1461))"
     },
     "execution_count": 3,
     "metadata": {},
     "output_type": "execute_result"
    }
   ]
  },
  {
   "cell_type": "code",
   "execution_count": 4,
   "outputs": [
    {
     "name": "stdout",
     "output_type": "stream",
     "text": [
      "Wall time: 119 ms\n"
     ]
    },
    {
     "data": {
      "text/plain": "((6733, 1460), (2886, 1460))"
     },
     "execution_count": 4,
     "metadata": {},
     "output_type": "execute_result"
    }
   ],
   "source": [
    "%%time\n",
    "# Разделим выборку на треин и тест в отношении 70/30\n",
    "x = df_prepared.drop(['price'], axis=1)\n",
    "y = df_prepared['price']\n",
    "x_train, x_test, y_train, y_test = train_test_split(x, y, test_size=0.3, random_state=42)\n",
    "x_train.shape, x_test.shape"
   ],
   "metadata": {
    "collapsed": false,
    "pycharm": {
     "name": "#%%\n"
    }
   }
  },
  {
   "cell_type": "code",
   "execution_count": 5,
   "outputs": [
    {
     "name": "stdout",
     "output_type": "stream",
     "text": [
      "Значение метрики MAE на тестовой выборке =  4600.341116727147\n",
      "Wall time: 1.25 s\n"
     ]
    }
   ],
   "source": [
    "%%time\n",
    "# Обучим модель линейной регрессии с дефолтными параметрами.\n",
    "#Создадим экземпляр класса Линейной регрессии\n",
    "reg =  LinearRegression()\n",
    "reg.fit(x_train, y_train)\n",
    "predicted_test = reg.predict(x_test)\n",
    "#Посчитайте значение метрики mae на тестовой выборке для линейной регрессии\n",
    "mae1 = mean_absolute_error(y_test, predicted_test)\n",
    "print(\"Значение метрики MAE на тестовой выборке = \", mae1)"
   ],
   "metadata": {
    "collapsed": false,
    "pycharm": {
     "name": "#%%\n"
    }
   }
  },
  {
   "cell_type": "code",
   "execution_count": 6,
   "outputs": [
    {
     "name": "stdout",
     "output_type": "stream",
     "text": [
      "Wall time: 1e+03 µs\n"
     ]
    },
    {
     "data": {
      "text/plain": "                    Coeff\nid               0.000006\nis_audi        254.298285\nis_ford       1073.906344\nis_chevrolet  -184.762537\nis_toyota      471.497678",
      "text/html": "<div>\n<style scoped>\n    .dataframe tbody tr th:only-of-type {\n        vertical-align: middle;\n    }\n\n    .dataframe tbody tr th {\n        vertical-align: top;\n    }\n\n    .dataframe thead th {\n        text-align: right;\n    }\n</style>\n<table border=\"1\" class=\"dataframe\">\n  <thead>\n    <tr style=\"text-align: right;\">\n      <th></th>\n      <th>Coeff</th>\n    </tr>\n  </thead>\n  <tbody>\n    <tr>\n      <th>id</th>\n      <td>0.000006</td>\n    </tr>\n    <tr>\n      <th>is_audi</th>\n      <td>254.298285</td>\n    </tr>\n    <tr>\n      <th>is_ford</th>\n      <td>1073.906344</td>\n    </tr>\n    <tr>\n      <th>is_chevrolet</th>\n      <td>-184.762537</td>\n    </tr>\n    <tr>\n      <th>is_toyota</th>\n      <td>471.497678</td>\n    </tr>\n  </tbody>\n</table>\n</div>"
     },
     "execution_count": 6,
     "metadata": {},
     "output_type": "execute_result"
    }
   ],
   "source": [
    "%%time\n",
    "# Выведим получившиеся коэффициенты линейной регрессии при каждом параметре обучающей выборки с помощью метода coef_\n",
    "cdf = pd.DataFrame(reg.coef_, x_train.columns, columns=['Coeff'])\n",
    "cdf.head()"
   ],
   "metadata": {
    "collapsed": false,
    "pycharm": {
     "name": "#%%\n"
    }
   }
  },
  {
   "cell_type": "code",
   "execution_count": 7,
   "outputs": [
    {
     "name": "stdout",
     "output_type": "stream",
     "text": [
      "['manufacturer_ferrari']\n",
      "Wall time: 40 ms\n"
     ]
    },
    {
     "data": {
      "text/plain": "((6733, 1459), (2886, 1459))"
     },
     "execution_count": 7,
     "metadata": {},
     "output_type": "execute_result"
    }
   ],
   "source": [
    "%%time\n",
    "# Коэффициенты, которые равны нулю\n",
    "print(cdf[cdf.Coeff ==0].index.values)\n",
    "#Удалим переменную с нулевым весом\n",
    "x_train, x_test = x_train.drop(cdf[cdf.Coeff ==0].index.values, axis=1), x_test.drop(cdf[cdf.Coeff ==0].index.values, axis=1)\n",
    "x_train.shape, x_test.shape"
   ],
   "metadata": {
    "collapsed": false,
    "pycharm": {
     "name": "#%%\n"
    }
   }
  },
  {
   "cell_type": "code",
   "execution_count": 8,
   "outputs": [
    {
     "name": "stdout",
     "output_type": "stream",
     "text": [
      "Значение метрики MAE на тестовой выборке =  4600.341116175135\n",
      "Разница оценок =  -5.520123522728682e-07\n",
      "Wall time: 1.36 s\n"
     ]
    }
   ],
   "source": [
    "%%time\n",
    "# Переобучим модель и посчитаем метрику\n",
    "reg.fit(x_train, y_train)\n",
    "predicted_test = reg.predict(x_test)\n",
    "#Посчитайте значение метрики mae на тестовой выборке для линейной регрессии\n",
    "mae2 = mean_absolute_error(y_test, predicted_test)\n",
    "print(\"Значение метрики MAE на тестовой выборке = \", mae2)\n",
    "print(\"Разница оценок = \", mae2-mae1)"
   ],
   "metadata": {
    "collapsed": false,
    "pycharm": {
     "name": "#%%\n"
    }
   }
  },
  {
   "cell_type": "code",
   "execution_count": 9,
   "outputs": [],
   "source": [
    "import time\n",
    "def exec_time(start, end):\n",
    "    diff_time = end - start"
   ],
   "metadata": {
    "collapsed": false,
    "pycharm": {
     "name": "#%%\n"
    }
   }
  },
  {
   "cell_type": "markdown",
   "source": [
    "**Задача 1. Логистическая регрессия**\n",
    "\n",
    "Теперь в рамках тех же данных попробуйте предсказать `price_category` с помощью алгоритма логистической регрессии. Предварительно из датафрейма удалите переменные, в которых косвенно содержится информация о целевой переменной (`odometer/price_std`, `price`). \n",
    "\n",
    "Для обученной модели нужно:\n",
    "\n",
    "- рассчитать и вывести метрику качества (accuracy) на тренировочной выборке;\n",
    "- сделать предикт на тестовых данных и положить его в переменную `logreg_pred`;\n",
    "- рассчитать и вывести accuracy и confusion_matrix на тестовой выборке.\n",
    "\n",
    "\n",
    "Задание засчитывается, если: \n",
    "- accuracy на тренировочной выборке > 87%;\n",
    "- accuracy на тестовой выборке > 75.5%.\n",
    "\n",
    "Для улучшения метрики можно преобразовывать входные данные, тюнить параметры логистической регрессии."
   ],
   "metadata": {
    "id": "n3d55h5IQZoC",
    "pycharm": {
     "name": "#%% md\n"
    }
   }
  },
  {
   "cell_type": "code",
   "source": [
    "%%time\n",
    "# Ваш код подготовки данных здесь. Допишите инициализацию входных фичей и целевую переменную\n",
    "df_prepared= df.drop(['odometer/price_std', 'price'], axis=1)\n",
    "x = df_prepared.drop(['price_category'], axis=1)\n",
    "y = df_prepared['price_category']\n",
    "\n",
    "x_train, x_test, y_train, y_test = train_test_split(x, y, test_size=0.3, random_state=42)\n",
    "x_train.shape, x_test.shape"
   ],
   "metadata": {
    "id": "tZpWbWaMootx",
    "pycharm": {
     "name": "#%%\n"
    }
   },
   "execution_count": 10,
   "outputs": [
    {
     "name": "stdout",
     "output_type": "stream",
     "text": [
      "Wall time: 207 ms\n"
     ]
    },
    {
     "data": {
      "text/plain": "((6733, 1460), (2886, 1460))"
     },
     "execution_count": 10,
     "metadata": {},
     "output_type": "execute_result"
    }
   ]
  },
  {
   "cell_type": "code",
   "source": [
    "%%time\n",
    "# Обучим модель логистической регрессии с дефолтными параметрами.\n",
    "# Создадим экземпляр класса Линейной регрессии\n",
    "logreg =  LogisticRegression()\n",
    "logreg.fit(x_train, y_train)\n",
    "predicted_logreg_train = logreg.predict(x_train)\n",
    "predicted_logreg_test = logreg.predict(x_test)\n",
    "#Посчитайте значение метрики mae на тестовой выборке для линейной регрессии\n",
    "acc_train = accuracy_score(y_train, predicted_logreg_train)\n",
    "acc_test = accuracy_score(y_test, predicted_logreg_test)\n",
    "print(\"Значение метрики accuracy на тренировочной выборке = \", acc_train,'\\n',\"Значение метрики accuracy на тестовой выборке = \", acc_test )"
   ],
   "metadata": {
    "id": "XQL-04-XpD_n",
    "pycharm": {
     "name": "#%%\n"
    }
   },
   "execution_count": 11,
   "outputs": [
    {
     "name": "stdout",
     "output_type": "stream",
     "text": [
      "Значение метрики accuracy на тренировочной выборке =  0.3392247140947572 \n",
      " Значение метрики accuracy на тестовой выборке =  0.32432432432432434\n",
      "Wall time: 446 ms\n"
     ]
    }
   ]
  },
  {
   "cell_type": "code",
   "execution_count": 12,
   "outputs": [
    {
     "data": {
      "text/plain": "        predicted 0  predicted 1  predicted 2\nhigh              0            0          997\nmedium            0            0          953\nlow               0            0          936",
      "text/html": "<div>\n<style scoped>\n    .dataframe tbody tr th:only-of-type {\n        vertical-align: middle;\n    }\n\n    .dataframe tbody tr th {\n        vertical-align: top;\n    }\n\n    .dataframe thead th {\n        text-align: right;\n    }\n</style>\n<table border=\"1\" class=\"dataframe\">\n  <thead>\n    <tr style=\"text-align: right;\">\n      <th></th>\n      <th>predicted 0</th>\n      <th>predicted 1</th>\n      <th>predicted 2</th>\n    </tr>\n  </thead>\n  <tbody>\n    <tr>\n      <th>high</th>\n      <td>0</td>\n      <td>0</td>\n      <td>997</td>\n    </tr>\n    <tr>\n      <th>medium</th>\n      <td>0</td>\n      <td>0</td>\n      <td>953</td>\n    </tr>\n    <tr>\n      <th>low</th>\n      <td>0</td>\n      <td>0</td>\n      <td>936</td>\n    </tr>\n  </tbody>\n</table>\n</div>"
     },
     "metadata": {},
     "output_type": "display_data"
    },
    {
     "name": "stdout",
     "output_type": "stream",
     "text": [
      "Модель логистической регрессии с дефолтными параметрами accuracy_score =  0.32432432432432434\n"
     ]
    }
   ],
   "source": [
    "#Создадим матрицы ошибок для моделей и узнаем о том, как хорошо каждая из них способна предсказывать\n",
    "conf_matrix_baseline = pd.DataFrame(confusion_matrix(y_test, predicted_logreg_test), index = ['high', 'medium', 'low'], columns = ['predicted 0', 'predicted 1', 'predicted 2'])\n",
    "display(conf_matrix_baseline)\n",
    "print('Модель логистической регрессии с дефолтными параметрами accuracy_score = ', acc_test)"
   ],
   "metadata": {
    "collapsed": false,
    "pycharm": {
     "name": "#%%\n"
    }
   }
  },
  {
   "cell_type": "code",
   "execution_count": 13,
   "outputs": [
    {
     "name": "stdout",
     "output_type": "stream",
     "text": [
      "Wall time: 0 ns\n"
     ]
    },
    {
     "data": {
      "text/plain": "{'C': 1.0,\n 'class_weight': None,\n 'dual': False,\n 'fit_intercept': True,\n 'intercept_scaling': 1,\n 'l1_ratio': None,\n 'max_iter': 100,\n 'multi_class': 'auto',\n 'n_jobs': None,\n 'penalty': 'l2',\n 'random_state': None,\n 'solver': 'lbfgs',\n 'tol': 0.0001,\n 'verbose': 0,\n 'warm_start': False}"
     },
     "execution_count": 13,
     "metadata": {},
     "output_type": "execute_result"
    }
   ],
   "source": [
    "%%time\n",
    "logreg.get_params()"
   ],
   "metadata": {
    "collapsed": false,
    "pycharm": {
     "name": "#%%\n"
    }
   }
  },
  {
   "cell_type": "code",
   "execution_count": 14,
   "outputs": [
    {
     "name": "stdout",
     "output_type": "stream",
     "text": [
      "(6733, 1459) (2886, 1459)\n",
      "Значение метрики accuracy на тренировочной выборке =  0.8551908510322294 \n",
      " Значение метрики accuracy на тестовой выборке =  0.7543312543312544\n",
      "Wall time: 1.64 s\n"
     ]
    },
    {
     "name": "stderr",
     "output_type": "stream",
     "text": [
      "D:\\Users\\garri\\anaconda3\\lib\\site-packages\\sklearn\\linear_model\\_logistic.py:444: ConvergenceWarning: lbfgs failed to converge (status=1):\n",
      "STOP: TOTAL NO. of ITERATIONS REACHED LIMIT.\n",
      "\n",
      "Increase the number of iterations (max_iter) or scale the data as shown in:\n",
      "    https://scikit-learn.org/stable/modules/preprocessing.html\n",
      "Please also refer to the documentation for alternative solver options:\n",
      "    https://scikit-learn.org/stable/modules/linear_model.html#logistic-regression\n",
      "  n_iter_i = _check_optimize_result(\n"
     ]
    }
   ],
   "source": [
    "%%time\n",
    "#Удалим из данных переменную ID\n",
    "x_train, x_test = x_train.drop(['id'], axis=1), x_test.drop(['id'], axis=1)\n",
    "print(x_train.shape, x_test.shape)\n",
    "#Обучим модель снова и посчитаем метрику\n",
    "logreg.fit(x_train, y_train)\n",
    "predicted_logreg_train = logreg.predict(x_train)\n",
    "predicted_logreg_test = logreg.predict(x_test)\n",
    "#Посчитайте значение метрики mae на тестовой выборке для линейной регрессии\n",
    "acc_train = accuracy_score(y_train, predicted_logreg_train)\n",
    "acc_test = accuracy_score(y_test, predicted_logreg_test)\n",
    "print(\"Значение метрики accuracy на тренировочной выборке = \", acc_train,'\\n',\"Значение метрики accuracy на тестовой выборке = \", acc_test )"
   ],
   "metadata": {
    "collapsed": false,
    "pycharm": {
     "name": "#%%\n"
    }
   }
  },
  {
   "cell_type": "code",
   "execution_count": 15,
   "outputs": [
    {
     "data": {
      "text/plain": "        predicted 0  predicted 1  predicted 2\nhigh            801           26          170\nmedium           22          767          164\nlow             156          171          609",
      "text/html": "<div>\n<style scoped>\n    .dataframe tbody tr th:only-of-type {\n        vertical-align: middle;\n    }\n\n    .dataframe tbody tr th {\n        vertical-align: top;\n    }\n\n    .dataframe thead th {\n        text-align: right;\n    }\n</style>\n<table border=\"1\" class=\"dataframe\">\n  <thead>\n    <tr style=\"text-align: right;\">\n      <th></th>\n      <th>predicted 0</th>\n      <th>predicted 1</th>\n      <th>predicted 2</th>\n    </tr>\n  </thead>\n  <tbody>\n    <tr>\n      <th>high</th>\n      <td>801</td>\n      <td>26</td>\n      <td>170</td>\n    </tr>\n    <tr>\n      <th>medium</th>\n      <td>22</td>\n      <td>767</td>\n      <td>164</td>\n    </tr>\n    <tr>\n      <th>low</th>\n      <td>156</td>\n      <td>171</td>\n      <td>609</td>\n    </tr>\n  </tbody>\n</table>\n</div>"
     },
     "metadata": {},
     "output_type": "display_data"
    },
    {
     "name": "stdout",
     "output_type": "stream",
     "text": [
      "Модель логистической регрессии с дефолтными параметрами без переменной ID accuracy_score =  0.7543312543312544\n"
     ]
    }
   ],
   "source": [
    "#Создадим матрицы ошибок для моделей и узнаем о том, как хорошо каждая из них способна предсказывать\n",
    "conf_matrix_baseline = pd.DataFrame(confusion_matrix(y_test, predicted_logreg_test), index = ['high', 'medium', 'low'], columns = ['predicted 0', 'predicted 1', 'predicted 2'])\n",
    "display(conf_matrix_baseline)\n",
    "print('Модель логистической регрессии с дефолтными параметрами без переменной ID accuracy_score = ', acc_test)"
   ],
   "metadata": {
    "collapsed": false,
    "pycharm": {
     "name": "#%%\n"
    }
   }
  },
  {
   "cell_type": "code",
   "execution_count": 16,
   "outputs": [
    {
     "name": "stdout",
     "output_type": "stream",
     "text": [
      "Значение метрики accuracy на тренировочной выборке =  0.8554878954403683 \n",
      " Значение метрики accuracy на тестовой выборке =  0.7571032571032571\n",
      "Wall time: 6.82 s\n"
     ]
    }
   ],
   "source": [
    "%%time\n",
    "# Увеличим количество итераций (max_iter) следуя рекомендации\n",
    "logreg_opt = LogisticRegression(max_iter=200,n_jobs=-1)\n",
    "#Обучим модель снова и посчитаем метрику\n",
    "logreg_opt.fit(x_train, y_train)\n",
    "predicted_logreg_train = logreg_opt.predict(x_train)\n",
    "predicted_logreg_test = logreg_opt.predict(x_test)\n",
    "#Посчитайте значение метрики mae на тестовой выборке для линейной регрессии\n",
    "acc_train = accuracy_score(y_train, predicted_logreg_train)\n",
    "acc_test = accuracy_score(y_test, predicted_logreg_test)\n",
    "print(\"Значение метрики accuracy на тренировочной выборке = \", acc_train,'\\n',\"Значение метрики accuracy на тестовой выборке = \", acc_test )"
   ],
   "metadata": {
    "collapsed": false,
    "pycharm": {
     "name": "#%%\n"
    }
   }
  },
  {
   "cell_type": "code",
   "execution_count": 17,
   "outputs": [
    {
     "data": {
      "text/plain": "        predicted 0  predicted 1  predicted 2\nhigh            803           26          168\nmedium           22          772          159\nlow             155          171          610",
      "text/html": "<div>\n<style scoped>\n    .dataframe tbody tr th:only-of-type {\n        vertical-align: middle;\n    }\n\n    .dataframe tbody tr th {\n        vertical-align: top;\n    }\n\n    .dataframe thead th {\n        text-align: right;\n    }\n</style>\n<table border=\"1\" class=\"dataframe\">\n  <thead>\n    <tr style=\"text-align: right;\">\n      <th></th>\n      <th>predicted 0</th>\n      <th>predicted 1</th>\n      <th>predicted 2</th>\n    </tr>\n  </thead>\n  <tbody>\n    <tr>\n      <th>high</th>\n      <td>803</td>\n      <td>26</td>\n      <td>168</td>\n    </tr>\n    <tr>\n      <th>medium</th>\n      <td>22</td>\n      <td>772</td>\n      <td>159</td>\n    </tr>\n    <tr>\n      <th>low</th>\n      <td>155</td>\n      <td>171</td>\n      <td>610</td>\n    </tr>\n  </tbody>\n</table>\n</div>"
     },
     "metadata": {},
     "output_type": "display_data"
    },
    {
     "name": "stdout",
     "output_type": "stream",
     "text": [
      "Модель логистической регрессии с дефолтными параметрами без переменной ID с увеличенным количество итераций accuracy_score =  0.7571032571032571\n"
     ]
    }
   ],
   "source": [
    "#Создадим матрицы ошибок для моделей и узнаем о том, как хорошо каждая из них способна предсказывать\n",
    "conf_matrix_baseline = pd.DataFrame(confusion_matrix(y_test, predicted_logreg_test), index = ['high', 'medium', 'low'], columns = ['predicted 0', 'predicted 1', 'predicted 2'])\n",
    "display(conf_matrix_baseline)\n",
    "print('Модель логистической регрессии с дефолтными параметрами без переменной ID с увеличенным количество итераций accuracy_score = ', acc_test)"
   ],
   "metadata": {
    "collapsed": false,
    "pycharm": {
     "name": "#%%\n"
    }
   }
  },
  {
   "cell_type": "code",
   "execution_count": 18,
   "outputs": [
    {
     "name": "stdout",
     "output_type": "stream",
     "text": [
      "Значение метрики accuracy на тренировочной выборке =  0.8706371602554582 \n",
      " Значение метрики accuracy на тестовой выборке =  0.7584892584892585\n",
      "Wall time: 6.1 s\n"
     ]
    }
   ],
   "source": [
    "%%time\n",
    "# Оптимизируем параметры модели для достижения поставленной цели accuracy на тренировочной выборке > 87%, на тестовой выборке > 75.5%.\n",
    "logreg_opt = LogisticRegression(max_iter=200,n_jobs=-1,C=2)\n",
    "#Обучим модель снова и посчитаем метрику\n",
    "logreg_opt.fit(x_train, y_train)\n",
    "predicted_logreg_train = logreg_opt.predict(x_train)\n",
    "predicted_logreg_test = logreg_opt.predict(x_test)\n",
    "#logreg_pred = predicted_logreg_test\n",
    "#Посчитайте значение метрики mae на тестовой выборке для линейной регрессии\n",
    "acc_train = accuracy_score(y_train, predicted_logreg_train)\n",
    "acc_test = accuracy_score(y_test, predicted_logreg_test)\n",
    "print(\"Значение метрики accuracy на тренировочной выборке = \", acc_train,'\\n',\"Значение метрики accuracy на тестовой выборке = \", acc_test )"
   ],
   "metadata": {
    "collapsed": false,
    "pycharm": {
     "name": "#%%\n"
    }
   }
  },
  {
   "cell_type": "code",
   "execution_count": 19,
   "outputs": [
    {
     "data": {
      "text/plain": "        predicted 0  predicted 1  predicted 2\nhigh            802           22          173\nmedium           22          772          159\nlow             156          165          615",
      "text/html": "<div>\n<style scoped>\n    .dataframe tbody tr th:only-of-type {\n        vertical-align: middle;\n    }\n\n    .dataframe tbody tr th {\n        vertical-align: top;\n    }\n\n    .dataframe thead th {\n        text-align: right;\n    }\n</style>\n<table border=\"1\" class=\"dataframe\">\n  <thead>\n    <tr style=\"text-align: right;\">\n      <th></th>\n      <th>predicted 0</th>\n      <th>predicted 1</th>\n      <th>predicted 2</th>\n    </tr>\n  </thead>\n  <tbody>\n    <tr>\n      <th>high</th>\n      <td>802</td>\n      <td>22</td>\n      <td>173</td>\n    </tr>\n    <tr>\n      <th>medium</th>\n      <td>22</td>\n      <td>772</td>\n      <td>159</td>\n    </tr>\n    <tr>\n      <th>low</th>\n      <td>156</td>\n      <td>165</td>\n      <td>615</td>\n    </tr>\n  </tbody>\n</table>\n</div>"
     },
     "metadata": {},
     "output_type": "display_data"
    },
    {
     "name": "stdout",
     "output_type": "stream",
     "text": [
      "Модель логистической регрессии с дефолтными параметрами без переменной ID с увеличенным количество итераций и увеличенным параметром С (Обратная сила регуляризации) \n",
      " accuracy_score =  0.7584892584892585\n"
     ]
    }
   ],
   "source": [
    "#Создадим матрицы ошибок для моделей и узнаем о том, как хорошо каждая из них способна предсказывать\n",
    "conf_matrix_baseline = pd.DataFrame(confusion_matrix(y_test, predicted_logreg_test), index = ['high', 'medium', 'low'], columns = ['predicted 0', 'predicted 1', 'predicted 2'])\n",
    "display(conf_matrix_baseline)\n",
    "print('Модель логистической регрессии с дефолтными параметрами без переменной ID с увеличенным количество итераций и увеличенным параметром С (Обратная сила регуляризации)','\\n','accuracy_score = ', acc_test)"
   ],
   "metadata": {
    "collapsed": false,
    "pycharm": {
     "name": "#%%\n"
    }
   }
  },
  {
   "cell_type": "markdown",
   "source": [
    "**Задача 2. Многослойный персептрон**\n",
    "\n",
    "Решите задачу, поставленную в предыдущем задании, применив модель многослойного персептрона. Добейтесь лучших значений точности на тренировочной и тестовой выборках, чем на логистической регрессии, с помощью данного алгоритма. \n",
    "\n",
    "Значимым увеличением точности в данном задании будем считать увеличение больше, чем на 0.01 по метрике accuracy."
   ],
   "metadata": {
    "id": "sPYGPr0ssX1l",
    "pycharm": {
     "name": "#%% md\n"
    }
   }
  },
  {
   "cell_type": "code",
   "source": [
    "%%time\n",
    "# Модель многослойного персептрона\n",
    "mlp = MLPClassifier(random_state=42,\n",
    "                    max_iter=500,\n",
    "                    hidden_layer_sizes=(100,20),\n",
    "                    activation = 'tanh')\n",
    "mlp.fit(x_train, y_train)"
   ],
   "metadata": {
    "id": "1CWqF0Pl44IW",
    "pycharm": {
     "name": "#%%\n"
    }
   },
   "execution_count": 20,
   "outputs": [
    {
     "name": "stdout",
     "output_type": "stream",
     "text": [
      "Wall time: 1min 42s\n"
     ]
    },
    {
     "data": {
      "text/plain": "MLPClassifier(activation='tanh', hidden_layer_sizes=(100, 20), max_iter=500,\n              random_state=42)",
      "text/html": "<style>#sk-container-id-1 {color: black;background-color: white;}#sk-container-id-1 pre{padding: 0;}#sk-container-id-1 div.sk-toggleable {background-color: white;}#sk-container-id-1 label.sk-toggleable__label {cursor: pointer;display: block;width: 100%;margin-bottom: 0;padding: 0.3em;box-sizing: border-box;text-align: center;}#sk-container-id-1 label.sk-toggleable__label-arrow:before {content: \"▸\";float: left;margin-right: 0.25em;color: #696969;}#sk-container-id-1 label.sk-toggleable__label-arrow:hover:before {color: black;}#sk-container-id-1 div.sk-estimator:hover label.sk-toggleable__label-arrow:before {color: black;}#sk-container-id-1 div.sk-toggleable__content {max-height: 0;max-width: 0;overflow: hidden;text-align: left;background-color: #f0f8ff;}#sk-container-id-1 div.sk-toggleable__content pre {margin: 0.2em;color: black;border-radius: 0.25em;background-color: #f0f8ff;}#sk-container-id-1 input.sk-toggleable__control:checked~div.sk-toggleable__content {max-height: 200px;max-width: 100%;overflow: auto;}#sk-container-id-1 input.sk-toggleable__control:checked~label.sk-toggleable__label-arrow:before {content: \"▾\";}#sk-container-id-1 div.sk-estimator input.sk-toggleable__control:checked~label.sk-toggleable__label {background-color: #d4ebff;}#sk-container-id-1 div.sk-label input.sk-toggleable__control:checked~label.sk-toggleable__label {background-color: #d4ebff;}#sk-container-id-1 input.sk-hidden--visually {border: 0;clip: rect(1px 1px 1px 1px);clip: rect(1px, 1px, 1px, 1px);height: 1px;margin: -1px;overflow: hidden;padding: 0;position: absolute;width: 1px;}#sk-container-id-1 div.sk-estimator {font-family: monospace;background-color: #f0f8ff;border: 1px dotted black;border-radius: 0.25em;box-sizing: border-box;margin-bottom: 0.5em;}#sk-container-id-1 div.sk-estimator:hover {background-color: #d4ebff;}#sk-container-id-1 div.sk-parallel-item::after {content: \"\";width: 100%;border-bottom: 1px solid gray;flex-grow: 1;}#sk-container-id-1 div.sk-label:hover label.sk-toggleable__label {background-color: #d4ebff;}#sk-container-id-1 div.sk-serial::before {content: \"\";position: absolute;border-left: 1px solid gray;box-sizing: border-box;top: 0;bottom: 0;left: 50%;z-index: 0;}#sk-container-id-1 div.sk-serial {display: flex;flex-direction: column;align-items: center;background-color: white;padding-right: 0.2em;padding-left: 0.2em;position: relative;}#sk-container-id-1 div.sk-item {position: relative;z-index: 1;}#sk-container-id-1 div.sk-parallel {display: flex;align-items: stretch;justify-content: center;background-color: white;position: relative;}#sk-container-id-1 div.sk-item::before, #sk-container-id-1 div.sk-parallel-item::before {content: \"\";position: absolute;border-left: 1px solid gray;box-sizing: border-box;top: 0;bottom: 0;left: 50%;z-index: -1;}#sk-container-id-1 div.sk-parallel-item {display: flex;flex-direction: column;z-index: 1;position: relative;background-color: white;}#sk-container-id-1 div.sk-parallel-item:first-child::after {align-self: flex-end;width: 50%;}#sk-container-id-1 div.sk-parallel-item:last-child::after {align-self: flex-start;width: 50%;}#sk-container-id-1 div.sk-parallel-item:only-child::after {width: 0;}#sk-container-id-1 div.sk-dashed-wrapped {border: 1px dashed gray;margin: 0 0.4em 0.5em 0.4em;box-sizing: border-box;padding-bottom: 0.4em;background-color: white;}#sk-container-id-1 div.sk-label label {font-family: monospace;font-weight: bold;display: inline-block;line-height: 1.2em;}#sk-container-id-1 div.sk-label-container {text-align: center;}#sk-container-id-1 div.sk-container {/* jupyter's `normalize.less` sets `[hidden] { display: none; }` but bootstrap.min.css set `[hidden] { display: none !important; }` so we also need the `!important` here to be able to override the default hidden behavior on the sphinx rendered scikit-learn.org. See: https://github.com/scikit-learn/scikit-learn/issues/21755 */display: inline-block !important;position: relative;}#sk-container-id-1 div.sk-text-repr-fallback {display: none;}</style><div id=\"sk-container-id-1\" class=\"sk-top-container\"><div class=\"sk-text-repr-fallback\"><pre>MLPClassifier(activation=&#x27;tanh&#x27;, hidden_layer_sizes=(100, 20), max_iter=500,\n              random_state=42)</pre><b>In a Jupyter environment, please rerun this cell to show the HTML representation or trust the notebook. <br />On GitHub, the HTML representation is unable to render, please try loading this page with nbviewer.org.</b></div><div class=\"sk-container\" hidden><div class=\"sk-item\"><div class=\"sk-estimator sk-toggleable\"><input class=\"sk-toggleable__control sk-hidden--visually\" id=\"sk-estimator-id-1\" type=\"checkbox\" checked><label for=\"sk-estimator-id-1\" class=\"sk-toggleable__label sk-toggleable__label-arrow\">MLPClassifier</label><div class=\"sk-toggleable__content\"><pre>MLPClassifier(activation=&#x27;tanh&#x27;, hidden_layer_sizes=(100, 20), max_iter=500,\n              random_state=42)</pre></div></div></div></div></div>"
     },
     "execution_count": 20,
     "metadata": {},
     "output_type": "execute_result"
    }
   ]
  },
  {
   "cell_type": "code",
   "execution_count": 21,
   "outputs": [
    {
     "name": "stdout",
     "output_type": "stream",
     "text": [
      "Значение метрики accuracy на тренировочной выборке =  1.0 \n",
      " Значение метрики accuracy на тестовой выборке =  0.7761607761607762\n",
      "Wall time: 174 ms\n"
     ]
    }
   ],
   "source": [
    "%%time\n",
    "predict_mlp_train = mlp.predict(x_train)\n",
    "predict_mlp_test = mlp.predict(x_test)\n",
    "#Посчитайте значение метрики mae на тестовой выборке для Многослойного персептрона\n",
    "acc_train = accuracy_score(y_train, predict_mlp_train)\n",
    "acc_test = accuracy_score(y_test, predict_mlp_test)\n",
    "print(\"Значение метрики accuracy на тренировочной выборке = \", acc_train,'\\n',\"Значение метрики accuracy на тестовой выборке = \", acc_test )"
   ],
   "metadata": {
    "collapsed": false,
    "pycharm": {
     "name": "#%%\n"
    }
   }
  },
  {
   "cell_type": "code",
   "execution_count": 22,
   "outputs": [
    {
     "name": "stdout",
     "output_type": "stream",
     "text": [
      "Wall time: 0 ns\n"
     ]
    },
    {
     "data": {
      "text/plain": "{'activation': 'tanh',\n 'alpha': 0.0001,\n 'batch_size': 'auto',\n 'beta_1': 0.9,\n 'beta_2': 0.999,\n 'early_stopping': False,\n 'epsilon': 1e-08,\n 'hidden_layer_sizes': (100, 20),\n 'learning_rate': 'constant',\n 'learning_rate_init': 0.001,\n 'max_fun': 15000,\n 'max_iter': 500,\n 'momentum': 0.9,\n 'n_iter_no_change': 10,\n 'nesterovs_momentum': True,\n 'power_t': 0.5,\n 'random_state': 42,\n 'shuffle': True,\n 'solver': 'adam',\n 'tol': 0.0001,\n 'validation_fraction': 0.1,\n 'verbose': False,\n 'warm_start': False}"
     },
     "execution_count": 22,
     "metadata": {},
     "output_type": "execute_result"
    }
   ],
   "source": [
    "%%time\n",
    "mlp.get_params()"
   ],
   "metadata": {
    "collapsed": false,
    "pycharm": {
     "name": "#%%\n"
    }
   }
  },
  {
   "cell_type": "code",
   "execution_count": 23,
   "outputs": [
    {
     "name": "stdout",
     "output_type": "stream",
     "text": [
      "Wall time: 0 ns\n"
     ]
    },
    {
     "data": {
      "text/plain": "4"
     },
     "execution_count": 23,
     "metadata": {},
     "output_type": "execute_result"
    }
   ],
   "source": [
    "%%time\n",
    "mlp.n_layers_"
   ],
   "metadata": {
    "collapsed": false,
    "pycharm": {
     "name": "#%%\n"
    }
   }
  },
  {
   "cell_type": "code",
   "execution_count": 24,
   "outputs": [
    {
     "data": {
      "text/plain": "        predicted 0  predicted 1  predicted 2\nhigh            813           34          150\nmedium           18          763          172\nlow             125          147          664",
      "text/html": "<div>\n<style scoped>\n    .dataframe tbody tr th:only-of-type {\n        vertical-align: middle;\n    }\n\n    .dataframe tbody tr th {\n        vertical-align: top;\n    }\n\n    .dataframe thead th {\n        text-align: right;\n    }\n</style>\n<table border=\"1\" class=\"dataframe\">\n  <thead>\n    <tr style=\"text-align: right;\">\n      <th></th>\n      <th>predicted 0</th>\n      <th>predicted 1</th>\n      <th>predicted 2</th>\n    </tr>\n  </thead>\n  <tbody>\n    <tr>\n      <th>high</th>\n      <td>813</td>\n      <td>34</td>\n      <td>150</td>\n    </tr>\n    <tr>\n      <th>medium</th>\n      <td>18</td>\n      <td>763</td>\n      <td>172</td>\n    </tr>\n    <tr>\n      <th>low</th>\n      <td>125</td>\n      <td>147</td>\n      <td>664</td>\n    </tr>\n  </tbody>\n</table>\n</div>"
     },
     "metadata": {},
     "output_type": "display_data"
    },
    {
     "name": "stdout",
     "output_type": "stream",
     "text": [
      "Модель многослойного персептрона без переменной ID accuracy_score = 0.7761607761607762\n"
     ]
    }
   ],
   "source": [
    "#Создадим матрицы ошибок для моделей и узнаем о том, как хорошо каждая из них способна предсказывать\n",
    "conf_matrix_baseline = pd.DataFrame(confusion_matrix(y_test, predict_mlp_test), index = ['high', 'medium', 'low'], columns = ['predicted 0', 'predicted 1', 'predicted 2'])\n",
    "display(conf_matrix_baseline)\n",
    "print('Модель многослойного персептрона без переменной ID accuracy_score =', acc_test)"
   ],
   "metadata": {
    "collapsed": false,
    "pycharm": {
     "name": "#%%\n"
    }
   }
  },
  {
   "cell_type": "markdown",
   "source": [
    "**Задача 3. Сравнение с древовидными моделями**\n",
    "\n",
    "Обучите модель случайного леса на тех же данных для предсказания `price_category`. Сравните качество с моделью логистической регрессии и многослойного персептрона. Словами опишите, какая из моделей в каких случаях работает лучше по результатам на тестовой выборке, и обоснуйте свой выбор."
   ],
   "metadata": {
    "id": "6ru5oLsGBOLv",
    "pycharm": {
     "name": "#%% md\n"
    }
   }
  },
  {
   "cell_type": "code",
   "source": [
    "%%time\n",
    "# Импортируем модуль\n",
    "from sklearn.ensemble import RandomForestClassifier\n",
    "rfc = RandomForestClassifier(n_jobs=-1,\n",
    "                            random_state=42,\n",
    "                            n_estimators = 700,\n",
    "                            max_features='log2',\n",
    "                            max_depth=120,\n",
    "                            bootstrap=False)\n",
    "rfc.fit(x_train, y_train)"
   ],
   "metadata": {
    "id": "gYFQzRHM41Dg",
    "pycharm": {
     "name": "#%%\n"
    }
   },
   "execution_count": 25,
   "outputs": [
    {
     "name": "stdout",
     "output_type": "stream",
     "text": [
      "Wall time: 5.91 s\n"
     ]
    },
    {
     "data": {
      "text/plain": "RandomForestClassifier(bootstrap=False, max_depth=120, max_features='log2',\n                       n_estimators=700, n_jobs=-1, random_state=42)",
      "text/html": "<style>#sk-container-id-2 {color: black;background-color: white;}#sk-container-id-2 pre{padding: 0;}#sk-container-id-2 div.sk-toggleable {background-color: white;}#sk-container-id-2 label.sk-toggleable__label {cursor: pointer;display: block;width: 100%;margin-bottom: 0;padding: 0.3em;box-sizing: border-box;text-align: center;}#sk-container-id-2 label.sk-toggleable__label-arrow:before {content: \"▸\";float: left;margin-right: 0.25em;color: #696969;}#sk-container-id-2 label.sk-toggleable__label-arrow:hover:before {color: black;}#sk-container-id-2 div.sk-estimator:hover label.sk-toggleable__label-arrow:before {color: black;}#sk-container-id-2 div.sk-toggleable__content {max-height: 0;max-width: 0;overflow: hidden;text-align: left;background-color: #f0f8ff;}#sk-container-id-2 div.sk-toggleable__content pre {margin: 0.2em;color: black;border-radius: 0.25em;background-color: #f0f8ff;}#sk-container-id-2 input.sk-toggleable__control:checked~div.sk-toggleable__content {max-height: 200px;max-width: 100%;overflow: auto;}#sk-container-id-2 input.sk-toggleable__control:checked~label.sk-toggleable__label-arrow:before {content: \"▾\";}#sk-container-id-2 div.sk-estimator input.sk-toggleable__control:checked~label.sk-toggleable__label {background-color: #d4ebff;}#sk-container-id-2 div.sk-label input.sk-toggleable__control:checked~label.sk-toggleable__label {background-color: #d4ebff;}#sk-container-id-2 input.sk-hidden--visually {border: 0;clip: rect(1px 1px 1px 1px);clip: rect(1px, 1px, 1px, 1px);height: 1px;margin: -1px;overflow: hidden;padding: 0;position: absolute;width: 1px;}#sk-container-id-2 div.sk-estimator {font-family: monospace;background-color: #f0f8ff;border: 1px dotted black;border-radius: 0.25em;box-sizing: border-box;margin-bottom: 0.5em;}#sk-container-id-2 div.sk-estimator:hover {background-color: #d4ebff;}#sk-container-id-2 div.sk-parallel-item::after {content: \"\";width: 100%;border-bottom: 1px solid gray;flex-grow: 1;}#sk-container-id-2 div.sk-label:hover label.sk-toggleable__label {background-color: #d4ebff;}#sk-container-id-2 div.sk-serial::before {content: \"\";position: absolute;border-left: 1px solid gray;box-sizing: border-box;top: 0;bottom: 0;left: 50%;z-index: 0;}#sk-container-id-2 div.sk-serial {display: flex;flex-direction: column;align-items: center;background-color: white;padding-right: 0.2em;padding-left: 0.2em;position: relative;}#sk-container-id-2 div.sk-item {position: relative;z-index: 1;}#sk-container-id-2 div.sk-parallel {display: flex;align-items: stretch;justify-content: center;background-color: white;position: relative;}#sk-container-id-2 div.sk-item::before, #sk-container-id-2 div.sk-parallel-item::before {content: \"\";position: absolute;border-left: 1px solid gray;box-sizing: border-box;top: 0;bottom: 0;left: 50%;z-index: -1;}#sk-container-id-2 div.sk-parallel-item {display: flex;flex-direction: column;z-index: 1;position: relative;background-color: white;}#sk-container-id-2 div.sk-parallel-item:first-child::after {align-self: flex-end;width: 50%;}#sk-container-id-2 div.sk-parallel-item:last-child::after {align-self: flex-start;width: 50%;}#sk-container-id-2 div.sk-parallel-item:only-child::after {width: 0;}#sk-container-id-2 div.sk-dashed-wrapped {border: 1px dashed gray;margin: 0 0.4em 0.5em 0.4em;box-sizing: border-box;padding-bottom: 0.4em;background-color: white;}#sk-container-id-2 div.sk-label label {font-family: monospace;font-weight: bold;display: inline-block;line-height: 1.2em;}#sk-container-id-2 div.sk-label-container {text-align: center;}#sk-container-id-2 div.sk-container {/* jupyter's `normalize.less` sets `[hidden] { display: none; }` but bootstrap.min.css set `[hidden] { display: none !important; }` so we also need the `!important` here to be able to override the default hidden behavior on the sphinx rendered scikit-learn.org. See: https://github.com/scikit-learn/scikit-learn/issues/21755 */display: inline-block !important;position: relative;}#sk-container-id-2 div.sk-text-repr-fallback {display: none;}</style><div id=\"sk-container-id-2\" class=\"sk-top-container\"><div class=\"sk-text-repr-fallback\"><pre>RandomForestClassifier(bootstrap=False, max_depth=120, max_features=&#x27;log2&#x27;,\n                       n_estimators=700, n_jobs=-1, random_state=42)</pre><b>In a Jupyter environment, please rerun this cell to show the HTML representation or trust the notebook. <br />On GitHub, the HTML representation is unable to render, please try loading this page with nbviewer.org.</b></div><div class=\"sk-container\" hidden><div class=\"sk-item\"><div class=\"sk-estimator sk-toggleable\"><input class=\"sk-toggleable__control sk-hidden--visually\" id=\"sk-estimator-id-2\" type=\"checkbox\" checked><label for=\"sk-estimator-id-2\" class=\"sk-toggleable__label sk-toggleable__label-arrow\">RandomForestClassifier</label><div class=\"sk-toggleable__content\"><pre>RandomForestClassifier(bootstrap=False, max_depth=120, max_features=&#x27;log2&#x27;,\n                       n_estimators=700, n_jobs=-1, random_state=42)</pre></div></div></div></div></div>"
     },
     "execution_count": 25,
     "metadata": {},
     "output_type": "execute_result"
    }
   ]
  },
  {
   "cell_type": "code",
   "execution_count": 26,
   "outputs": [
    {
     "data": {
      "text/plain": "        predicted 0  predicted 1  predicted 2\nhigh            812           36          149\nmedium           15          814          124\nlow             133          202          601",
      "text/html": "<div>\n<style scoped>\n    .dataframe tbody tr th:only-of-type {\n        vertical-align: middle;\n    }\n\n    .dataframe tbody tr th {\n        vertical-align: top;\n    }\n\n    .dataframe thead th {\n        text-align: right;\n    }\n</style>\n<table border=\"1\" class=\"dataframe\">\n  <thead>\n    <tr style=\"text-align: right;\">\n      <th></th>\n      <th>predicted 0</th>\n      <th>predicted 1</th>\n      <th>predicted 2</th>\n    </tr>\n  </thead>\n  <tbody>\n    <tr>\n      <th>high</th>\n      <td>812</td>\n      <td>36</td>\n      <td>149</td>\n    </tr>\n    <tr>\n      <th>medium</th>\n      <td>15</td>\n      <td>814</td>\n      <td>124</td>\n    </tr>\n    <tr>\n      <th>low</th>\n      <td>133</td>\n      <td>202</td>\n      <td>601</td>\n    </tr>\n  </tbody>\n</table>\n</div>"
     },
     "metadata": {},
     "output_type": "display_data"
    },
    {
     "name": "stdout",
     "output_type": "stream",
     "text": [
      "Random Forest RandomizedSearchCV accuracy_score =  0.7716562716562717\n",
      "Wall time: 402 ms\n"
     ]
    }
   ],
   "source": [
    "%%time\n",
    "#Создадим матрицы ошибок для моделей и узнаем о том, как хорошо каждая из них способна предсказывать\n",
    "predict_rfc_test = rfc.predict(x_test)\n",
    "conf_matrix = pd.DataFrame(confusion_matrix(y_test, predict_rfc_test), index = ['high', 'medium', 'low'], columns = ['predicted 0', 'predicted 1', 'predicted 2'])\n",
    "display(conf_matrix)\n",
    "print('Random Forest RandomizedSearchCV accuracy_score = ', accuracy_score(y_test, predict_rfc_test))"
   ],
   "metadata": {
    "collapsed": false,
    "pycharm": {
     "name": "#%%\n"
    }
   }
  },
  {
   "cell_type": "markdown",
   "source": [],
   "metadata": {
    "collapsed": false,
    "pycharm": {
     "name": "#%% md\n"
    }
   }
  },
  {
   "cell_type": "markdown",
   "source": [
    "***Точность моделей:***\n",
    "    1. Многослойного персептрона = 77.61%\n",
    "    2. Случайный лес = 77.16%\n",
    "    3. Логистической регрессии = 75.84%\n",
    "\n",
    "***Время затраченное на обучение модели:***\n",
    "    1. Случайный лес = 5.9s\n",
    "    2. логистической регрессии = 6.1s,\n",
    "    3. Многослойного персептрона = 102.0s,\n",
    "\n",
    "Самой точной оказалась модель Многослойного персептрона, но она же заняла больше всего времени на обучение на не большом датасете 9619 строк и 1461 перемаенная. По результату сравнительного анализа качества и времени предпочтение отдано модели случайныйного леса, у этой модели качество не значительно ниже Многослойного персептрона ****77,2%**** против ****77,6%**** соответственно, но скорость обучения в ****20**** раз выше чем у конкурента.\n",
    "\n",
    "***Распределение моделей по метрике (скорость обучения - качество):***\n",
    "1. Случайный лес\n",
    "2. Многослойный персептрон\n",
    "3. Логистическая регрессия\n",
    "Логистическую регрессию можно использовать в качестве базовой модели (Base Line)"
   ],
   "metadata": {
    "collapsed": false,
    "pycharm": {
     "name": "#%% md\n"
    }
   }
  },
  {
   "cell_type": "markdown",
   "source": [
    "**Задача 4. Стратегия голосования**\n",
    "\n",
    "Реализуйте стратегию голосования для предсказания целевой переменной.\n",
    "Голосование в задаче классификации — это когда несколько моделей выдают свои предикты, и финальным выбирается тот предикт, который предсказали большинство моделей.\n",
    "\n",
    "Для реализации этой стратегии проделайте следующее:\n",
    "\n",
    "- сохраните предсказания каждой из моделей (случайный лес, многослойный персептрон, логистическая регрессия) для тестовой выборки в датафрейм `pred_df`;\n",
    "- в четвертую колонку `target` положите тот класс, который предсказало большинство классификаторов. Например, если в строке были значения `high, medium, medium`, в `target` нужно положить `medium`.\n",
    "\n",
    "     Если в строке три разных класса — `high, medium, low`, — придумайте свою стратегию по выбору значения. Самая простая стратегия: выбрать рандомно одно значение из трёх.\n",
    "\n",
    "- посчитайте точность предсказания с помощью голосования. Выведите значения метрик accuracy и confusion_matrix.\n",
    "\n",
    "\n",
    "Добейтесь значения точности > 78%"
   ],
   "metadata": {
    "id": "-DrgXqjv2Rgk",
    "pycharm": {
     "name": "#%% md\n"
    }
   }
  },
  {
   "cell_type": "code",
   "execution_count": 27,
   "outputs": [
    {
     "name": "stdout",
     "output_type": "stream",
     "text": [
      "Wall time: 0 ns\n"
     ]
    }
   ],
   "source": [
    "%%time\n",
    "# Функция голосования для предсказания целевой переменной\n",
    "import random\n",
    "def target_pred(x):\n",
    "    if  x[0]==x[1]:\n",
    "        return x[0]\n",
    "    elif x[1]==x[2]:\n",
    "        return x[1]\n",
    "    elif  x[2]==x[0]:\n",
    "        return x[2]\n",
    "    else:\n",
    "        return random.choice([x[0], x[1], x[2]])"
   ],
   "metadata": {
    "collapsed": false,
    "pycharm": {
     "name": "#%%\n"
    }
   }
  },
  {
   "cell_type": "code",
   "source": [
    "%%time\n",
    "# Создание DataFrame и заполнение переменной target\n",
    "pred_df = pd.DataFrame({'predicted_logreg_test':predicted_logreg_test,'predict_mlp_test':predict_mlp_test,'predict_rfc_test':predict_rfc_test})\n",
    "pred_df['target'] = pred_df.apply(target_pred, axis=1)\n",
    "pred_all = pred_df.target\n",
    "#Создадим матрицы ошибок для моделей и узнаем о том, как хорошо каждая из них способна предсказывать\n",
    "conf_matrix = pd.DataFrame(confusion_matrix(y_test, pred_all), index = ['high', 'medium', 'low'], columns = ['predicted 0', 'predicted 1', 'predicted 2'])\n",
    "display(conf_matrix)\n",
    "print('Голосование предсказаний 3-ч моделей в задаче классификации accuracy_score = ', accuracy_score(y_test, pred_all))"
   ],
   "metadata": {
    "id": "KKTpNxaK5UhX",
    "pycharm": {
     "name": "#%%\n"
    }
   },
   "execution_count": 28,
   "outputs": [
    {
     "data": {
      "text/plain": "        predicted 0  predicted 1  predicted 2\nhigh            816           27          154\nmedium           16          806          131\nlow             135          166          635",
      "text/html": "<div>\n<style scoped>\n    .dataframe tbody tr th:only-of-type {\n        vertical-align: middle;\n    }\n\n    .dataframe tbody tr th {\n        vertical-align: top;\n    }\n\n    .dataframe thead th {\n        text-align: right;\n    }\n</style>\n<table border=\"1\" class=\"dataframe\">\n  <thead>\n    <tr style=\"text-align: right;\">\n      <th></th>\n      <th>predicted 0</th>\n      <th>predicted 1</th>\n      <th>predicted 2</th>\n    </tr>\n  </thead>\n  <tbody>\n    <tr>\n      <th>high</th>\n      <td>816</td>\n      <td>27</td>\n      <td>154</td>\n    </tr>\n    <tr>\n      <th>medium</th>\n      <td>16</td>\n      <td>806</td>\n      <td>131</td>\n    </tr>\n    <tr>\n      <th>low</th>\n      <td>135</td>\n      <td>166</td>\n      <td>635</td>\n    </tr>\n  </tbody>\n</table>\n</div>"
     },
     "metadata": {},
     "output_type": "display_data"
    },
    {
     "name": "stdout",
     "output_type": "stream",
     "text": [
      "Голосование предсказаний 3-ч моделей в задаче классификации accuracy_score =  0.782051282051282\n",
      "Wall time: 60.5 ms\n"
     ]
    }
   ]
  },
  {
   "cell_type": "markdown",
   "source": [
    "**Примечание:**\n",
    "\n",
    "В этом домашнем задании в задаче номер 1 и далее перед вами встал выбор: включать ли в обучение колонку `id`. При удалении данной колонки во время обучении логистической регрессии качество заметно улучшается.\n",
    "\n",
    "Вообще обучать любую модель (будь то логистическая или линейная регрессия, или древовидный алгоритм) на данных айдишников не считается хорошей практикой. Как правило, между `id` и целевой переменной не должно быть никаких взаимосвязей. Включая колонку `id` в качества атрибута в обучение, вы стараетесь \"заточить\" результаты своей модели под айдишники записей. Таким образом модель обучится на некотором наборе \"частных случаев\", и, возможно, не обратит внимание на общие зависимости."
   ],
   "metadata": {
    "id": "FmuF3_05i2AD",
    "pycharm": {
     "name": "#%% md\n"
    }
   }
  }
 ]
}