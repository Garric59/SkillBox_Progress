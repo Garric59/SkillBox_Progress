{
 "nbformat": 4,
 "nbformat_minor": 0,
 "metadata": {
  "colab": {
   "name": "12.6_Домашнее_задание.ipynb",
   "provenance": [],
   "collapsed_sections": []
  },
  "kernelspec": {
   "display_name": "Python 3",
   "language": "python",
   "name": "python3"
  },
  "language_info": {
   "codemirror_mode": {
    "name": "ipython",
    "version": 3
   },
   "file_extension": ".py",
   "mimetype": "text/x-python",
   "name": "python",
   "nbconvert_exporter": "python",
   "pygments_lexer": "ipython3",
   "version": "3.8.8"
  },
  "toc": {
   "base_numbering": 1,
   "nav_menu": {},
   "number_sections": true,
   "sideBar": true,
   "skip_h1_title": false,
   "title_cell": "Table of Contents",
   "title_sidebar": "Contents",
   "toc_cell": false,
   "toc_position": {},
   "toc_section_display": true,
   "toc_window_display": false
  }
 },
 "cells": [
  {
   "cell_type": "markdown",
   "metadata": {
    "id": "zUqy3u0mOqRA"
   },
   "source": [
    "# Pandas. Домашнее задание\n",
    "\n",
    "В домашнем задании есть обязательные и дополнительные задачи.\n",
    "\n",
    "*Обязательные задачи* нужно сделать, чтобы проверить, что вы действительно усвоили материал модуля. Они обязательны к загрузке на проверку преподавателю.\n",
    "\n",
    "*Дополнительные задачи* для тех, кто чувствует, что нужно ещё немного потренироваться и порешать задачки по работе с Pandas. Вы также можете загрузить их на проверку преподавателю и получить по ним обратную связь.\n",
    "\n",
    "Удачи!"
   ]
  },
  {
   "cell_type": "markdown",
   "metadata": {
    "id": "5b2c9q-uRFgE"
   },
   "source": [
    "\n",
    "\n",
    "---\n",
    "\n",
    "\n",
    "\n",
    "---\n",
    "\n"
   ]
  },
  {
   "cell_type": "markdown",
   "metadata": {
    "id": "9YruChoFPlTH"
   },
   "source": [
    "**Цели домашнего задания:**\n",
    "1. Научиться работать с описательными статистиками набора данных.\n",
    "2. Научиться выбирать данные по условиям.\n",
    "3. Научиться объединять несколько датафреймов в один.\n"
   ]
  },
  {
   "cell_type": "markdown",
   "metadata": {
    "id": "s0ln3tQ_QZK4"
   },
   "source": [
    "**Что входит в домашнее задание:**\n",
    "1. *Обязательные задачи*:\n",
    "\n",
    "17 задач с использованием:\n",
    "- набора рекламных данных, показывающих, щелкнул ли конкретный пользователь интернета рекламу на веб-сайте компании или нет,\n",
    "- дополнительного набора данных, описывающего пользователей, посещающих веб-сайт компании.\n",
    "2. *Дополнительные задачи*:\n",
    "\n",
    "3 задачи для отработки исследования данных.\n"
   ]
  },
  {
   "cell_type": "markdown",
   "metadata": {
    "id": "QLCrcUsFLTVr"
   },
   "source": [
    "**Критерии оценки:**\n",
    "- программа выдаёт верный ответ на заданном наборе данных;\n",
    "- код читабелен: переменным даны осмысленные названия, отступы и правила расстановки пробелов соблюдены."
   ]
  },
  {
   "cell_type": "markdown",
   "metadata": {
    "id": "UKH0UuMA7pyF"
   },
   "source": [
    "**Как отправить задание на проверку**\n",
    "\n",
    "Выполните задачи, сохраните изменения при помощи опции Save and Checkpoint из вкладки меню File или кнопки Save and Checkpoint на панели инструментов. Отправьте через форму на платформе итоговый файл Jupyter Notebook (в формате .ipynb) или ссылку на него."
   ]
  },
  {
   "cell_type": "markdown",
   "metadata": {
    "id": "hYa6ZRVRRHbE"
   },
   "source": [
    "\n",
    "\n",
    "---\n",
    "\n",
    "\n",
    "---\n",
    "\n"
   ]
  },
  {
   "cell_type": "markdown",
   "metadata": {
    "id": "UgcrtNvYQ_01"
   },
   "source": [
    "**Обязательные задачи**"
   ]
  },
  {
   "cell_type": "markdown",
   "metadata": {
    "id": "p0t9GY6BOjpL"
   },
   "source": [
    "В течение всего домашнего задания вы будете работать с несколькими наборами данных:\n",
    "1. Набор рекламных данных, показывающих, щёлкнул ли конкретный пользователь рекламу на сайте компании или нет. Состоит из трёх разных файлов: `advertising_1.csv`, `advertising_2.csv`, `advertising_3.csv`.\n",
    "\n",
    "Описание столбцов датасета:\n",
    "- **Number**: Номер пользователя в системе.\n",
    "- **Daily Time Spent on Site**: Среднее ежедневное время нахождения пользователя на сайте в минутах.\n",
    "- **Daily Internet Usage**: Среднее ежедневное время нахождения пользователя в интернете в минутах.\n",
    "- **Ad Topic Line**: Заголовок рекламного объявления.\n",
    "- **Clicked on Ad**: Кликнул пользователь на рекламу или нет.\n",
    "\n",
    "Дополнительный к рекламным данным датасет, который описывает пользователей, посещающих сайт компании. Состоит из одного файла: users.csv.\n",
    "\n",
    "Описание столбцов датасета:\n",
    "- **Number**: Номер пользователя в системе.\n",
    "- **Age**: Возраст пользователя.\n",
    "- **Male**: Является ли пользователь мужчиной.\n",
    "- **City**: Город пользователя.\n",
    "- **Country**: Страна пользователя.\n",
    "- **Area Income**: Средний доход в месте жительства пользователя.\n"
   ]
  },
  {
   "cell_type": "markdown",
   "metadata": {
    "id": "kr8Q_RUzOjpM"
   },
   "source": [
    "***Задача 1***\n",
    "\n",
    "Загрузите таблицу из файла `advertising_1.csv` и сохраните её в датафрейм `adv1_df`. Укажите в качестве индекса столбец `Number`. Выведите на экран первые десять строк.\n"
   ]
  },
  {
   "cell_type": "code",
   "metadata": {
    "ExecuteTime": {
     "end_time": "2021-10-24T10:55:47.101496Z",
     "start_time": "2021-10-24T10:55:47.098939Z"
    },
    "id": "hLC8F1acOjpN"
   },
   "source": [
    "# Ваш код здесь\n",
    "import pandas as pd\n",
    "import numpy as np\n",
    "adv1_df = pd.read_csv('12.6 Данные для домашнего задания/advertising_1.csv', sep = ',', index_col='Number')\n",
    "adv1_df.head(10)\n"
   ],
   "execution_count": 1,
   "outputs": [
    {
     "data": {
      "text/plain": "        Daily Time Spent on Site  Daily Internet Usage  \\\nNumber                                                   \n5                          68.95                256.09   \n6                          80.23                193.77   \n8                          74.15                245.89   \n9                            NaN                225.58   \n10                         59.99                226.74   \n11                         88.91                208.36   \n12                           NaN                131.76   \n13                         74.53                   NaN   \n14                         69.88                183.82   \n15                         47.64                122.02   \n\n                                Ad Topic Line  Clicked on Ad  \nNumber                                                        \n5          Cloned 5thgeneration orchestration              0  \n6          Monitored national standardization              0  \n8       Triple-buffered reciprocal time-frame              0  \n9               Robust logistical utilization              0  \n10            Sharable client-driven software              0  \n11                 Enhanced dedicated support              0  \n12                   Reactive local challenge              1  \n13             Configurable coherent function              0  \n14         Mandatory homogeneous architecture              0  \n15             Centralized neutral neural-net              1  ",
      "text/html": "<div>\n<style scoped>\n    .dataframe tbody tr th:only-of-type {\n        vertical-align: middle;\n    }\n\n    .dataframe tbody tr th {\n        vertical-align: top;\n    }\n\n    .dataframe thead th {\n        text-align: right;\n    }\n</style>\n<table border=\"1\" class=\"dataframe\">\n  <thead>\n    <tr style=\"text-align: right;\">\n      <th></th>\n      <th>Daily Time Spent on Site</th>\n      <th>Daily Internet Usage</th>\n      <th>Ad Topic Line</th>\n      <th>Clicked on Ad</th>\n    </tr>\n    <tr>\n      <th>Number</th>\n      <th></th>\n      <th></th>\n      <th></th>\n      <th></th>\n    </tr>\n  </thead>\n  <tbody>\n    <tr>\n      <th>5</th>\n      <td>68.95</td>\n      <td>256.09</td>\n      <td>Cloned 5thgeneration orchestration</td>\n      <td>0</td>\n    </tr>\n    <tr>\n      <th>6</th>\n      <td>80.23</td>\n      <td>193.77</td>\n      <td>Monitored national standardization</td>\n      <td>0</td>\n    </tr>\n    <tr>\n      <th>8</th>\n      <td>74.15</td>\n      <td>245.89</td>\n      <td>Triple-buffered reciprocal time-frame</td>\n      <td>0</td>\n    </tr>\n    <tr>\n      <th>9</th>\n      <td>NaN</td>\n      <td>225.58</td>\n      <td>Robust logistical utilization</td>\n      <td>0</td>\n    </tr>\n    <tr>\n      <th>10</th>\n      <td>59.99</td>\n      <td>226.74</td>\n      <td>Sharable client-driven software</td>\n      <td>0</td>\n    </tr>\n    <tr>\n      <th>11</th>\n      <td>88.91</td>\n      <td>208.36</td>\n      <td>Enhanced dedicated support</td>\n      <td>0</td>\n    </tr>\n    <tr>\n      <th>12</th>\n      <td>NaN</td>\n      <td>131.76</td>\n      <td>Reactive local challenge</td>\n      <td>1</td>\n    </tr>\n    <tr>\n      <th>13</th>\n      <td>74.53</td>\n      <td>NaN</td>\n      <td>Configurable coherent function</td>\n      <td>0</td>\n    </tr>\n    <tr>\n      <th>14</th>\n      <td>69.88</td>\n      <td>183.82</td>\n      <td>Mandatory homogeneous architecture</td>\n      <td>0</td>\n    </tr>\n    <tr>\n      <th>15</th>\n      <td>47.64</td>\n      <td>122.02</td>\n      <td>Centralized neutral neural-net</td>\n      <td>1</td>\n    </tr>\n  </tbody>\n</table>\n</div>"
     },
     "execution_count": 1,
     "metadata": {},
     "output_type": "execute_result"
    }
   ]
  },
  {
   "cell_type": "markdown",
   "metadata": {
    "id": "cViBXi62OjpP"
   },
   "source": [
    "***Задача 2***\n",
    "\n",
    "Выведите размер датафрейма `adv1_df`."
   ]
  },
  {
   "cell_type": "code",
   "metadata": {
    "ExecuteTime": {
     "end_time": "2021-10-24T10:41:11.069411Z",
     "start_time": "2021-10-24T10:41:11.066371Z"
    },
    "id": "Tx2VYklzOjpQ"
   },
   "source": [
    "# Ваш код здесь\n",
    "print(\"Размер датафрейма `adv1_df`\", adv1_df.shape, \"строк:\", adv1_df.shape[0], \"столбцов:\", adv1_df.shape[1])"
   ],
   "execution_count": 2,
   "outputs": [
    {
     "name": "stdout",
     "output_type": "stream",
     "text": [
      "Размер датафрейма `adv1_df` (500, 4) строк: 500 столбцов: 4\n"
     ]
    }
   ]
  },
  {
   "cell_type": "markdown",
   "metadata": {
    "ExecuteTime": {
     "end_time": "2021-10-24T10:44:08.227238Z",
     "start_time": "2021-10-24T10:44:08.222208Z"
    },
    "id": "g6aonGrwOjpR"
   },
   "source": [
    "***Задача 3***\n",
    "\n",
    "Выведите cреднее ежедневное время нахождения в интернете пользователя под номером 8."
   ]
  },
  {
   "cell_type": "code",
   "execution_count": 3,
   "outputs": [
    {
     "name": "stdout",
     "output_type": "stream",
     "text": [
      "Среднее ежедневное время нахождения в интернете пользователя под номером 8 =  245.89\n"
     ]
    }
   ],
   "source": [
    "# Ваш код здесь\n",
    "print(\"Среднее ежедневное время нахождения в интернете пользователя под номером 8 = \",adv1_df['Daily Internet Usage'][8])"
   ],
   "metadata": {
    "collapsed": false,
    "pycharm": {
     "name": "#%%\n"
    }
   }
  },
  {
   "cell_type": "markdown",
   "metadata": {
    "id": "BiUTqgnWOjpS"
   },
   "source": [
    "***Задача 4***\n",
    "\n",
    "Загрузите таблицу из файла `advertising_2.csv` и сохраните её в датафрейм `adv2_df`. Укажите в качестве индекса стоблец `Number`. Выведите на экран строки для пользователей с номерами с 533-го по 536-й."
   ]
  },
  {
   "cell_type": "code",
   "metadata": {
    "id": "163Nee-yOjpS"
   },
   "source": [
    "# Ваш код здесь\n",
    "adv2_df = pd.read_csv('12.6 Данные для домашнего задания/advertising_2.csv', sep = ',', index_col='Number')\n",
    "adv2_df.loc[533:536,]"
   ],
   "execution_count": 4,
   "outputs": [
    {
     "data": {
      "text/plain": "        Daily Time Spent on Site  Daily Internet Usage  \\\nNumber                                                   \n533                        46.61                   NaN   \n534                          NaN                162.03   \n535                        65.10                118.10   \n536                        53.44                   NaN   \n\n                                Ad Topic Line  Clicked on Ad  \nNumber                                                        \n533             Ergonomic methodical encoding              1  \n534         Compatible dedicated productivity              0  \n535            Up-sized real-time methodology              1  \n536     Up-sized next generation architecture              1  ",
      "text/html": "<div>\n<style scoped>\n    .dataframe tbody tr th:only-of-type {\n        vertical-align: middle;\n    }\n\n    .dataframe tbody tr th {\n        vertical-align: top;\n    }\n\n    .dataframe thead th {\n        text-align: right;\n    }\n</style>\n<table border=\"1\" class=\"dataframe\">\n  <thead>\n    <tr style=\"text-align: right;\">\n      <th></th>\n      <th>Daily Time Spent on Site</th>\n      <th>Daily Internet Usage</th>\n      <th>Ad Topic Line</th>\n      <th>Clicked on Ad</th>\n    </tr>\n    <tr>\n      <th>Number</th>\n      <th></th>\n      <th></th>\n      <th></th>\n      <th></th>\n    </tr>\n  </thead>\n  <tbody>\n    <tr>\n      <th>533</th>\n      <td>46.61</td>\n      <td>NaN</td>\n      <td>Ergonomic methodical encoding</td>\n      <td>1</td>\n    </tr>\n    <tr>\n      <th>534</th>\n      <td>NaN</td>\n      <td>162.03</td>\n      <td>Compatible dedicated productivity</td>\n      <td>0</td>\n    </tr>\n    <tr>\n      <th>535</th>\n      <td>65.10</td>\n      <td>118.10</td>\n      <td>Up-sized real-time methodology</td>\n      <td>1</td>\n    </tr>\n    <tr>\n      <th>536</th>\n      <td>53.44</td>\n      <td>NaN</td>\n      <td>Up-sized next generation architecture</td>\n      <td>1</td>\n    </tr>\n  </tbody>\n</table>\n</div>"
     },
     "execution_count": 4,
     "metadata": {},
     "output_type": "execute_result"
    }
   ]
  },
  {
   "cell_type": "markdown",
   "metadata": {
    "id": "Z-GqzM_oOjpT"
   },
   "source": [
    "***Задача 5***\n",
    "\n",
    "Выведите сводную таблицу описательных статистик для датафрейма `adv2_df`, вызвав необходимый метод на всём датафрейме. \n",
    "\n",
    "Глядя на вывод, напишите, столбец с каким названием не содержит незаполненных значений.\n",
    "\n",
    "*Подсказка:*  В сводной таблице не содержится информации о количестве строк всего датафрейма, поэтому для сначала распечатайте общее количество строк датафрейма.\n",
    "\n",
    "*Рекомендация:* Кроме изученного метода `describe` для описания датафрейма и получения информации о пропущенных значениях полезен метод [`info`](https://pandas.pydata.org/docs/reference/api/pandas.DataFrame.info.html)."
   ]
  },
  {
   "cell_type": "code",
   "metadata": {
    "id": "YdCXCVRFOjpT"
   },
   "source": [
    "# Ваш код здесь\n",
    "print(\"Размер датафрейма `adv1_df`\", adv2_df.shape, \"строк:\", adv2_df.shape[0], \"столбцов:\", adv2_df.shape[1])\n",
    "print(adv2_df.shape)\n",
    "print(adv2_df.describe())\n",
    "print(adv2_df.info())"
   ],
   "execution_count": 5,
   "outputs": [
    {
     "name": "stdout",
     "output_type": "stream",
     "text": [
      "Размер датафрейма `adv1_df` (200, 4) строк: 200 столбцов: 4\n",
      "(200, 4)\n",
      "       Daily Time Spent on Site  Daily Internet Usage  Clicked on Ad\n",
      "count                184.000000            184.000000     200.000000\n",
      "mean                  66.494728            186.809674       0.420000\n",
      "std                   15.414725             43.844580       0.494797\n",
      "min                   32.910000            108.030000       0.000000\n",
      "25%                   52.805000            148.955000       0.000000\n",
      "50%                   71.150000            194.170000       0.000000\n",
      "75%                   78.352500            225.372500       1.000000\n",
      "max                   91.430000            259.760000       1.000000\n",
      "<class 'pandas.core.frame.DataFrame'>\n",
      "Int64Index: 200 entries, 530 to 739\n",
      "Data columns (total 4 columns):\n",
      " #   Column                    Non-Null Count  Dtype  \n",
      "---  ------                    --------------  -----  \n",
      " 0   Daily Time Spent on Site  184 non-null    float64\n",
      " 1   Daily Internet Usage      184 non-null    float64\n",
      " 2   Ad Topic Line             200 non-null    object \n",
      " 3   Clicked on Ad             200 non-null    int64  \n",
      "dtypes: float64(2), int64(1), object(1)\n",
      "memory usage: 15.9+ KB\n",
      "None\n"
     ]
    }
   ]
  },
  {
   "cell_type": "code",
   "metadata": {
    "id": "ffzR3QR4OjpU"
   },
   "source": [
    "# Ваш код здесь\n",
    "print('Не содержит незаполненных значений столбец:',[col for col in adv2_df.columns if adv2_df[col].count() == adv2_df.shape[0]])"
   ],
   "execution_count": 6,
   "outputs": [
    {
     "name": "stdout",
     "output_type": "stream",
     "text": [
      "Не содержит незаполненных значений столбец: ['Ad Topic Line', 'Clicked on Ad']\n"
     ]
    }
   ]
  },
  {
   "cell_type": "markdown",
   "metadata": {
    "id": "jZRi7W6hOjpV"
   },
   "source": [
    "***Задача 6***\n",
    "\n",
    "Добавьте к датафрейму `adv1_df` в конец датафрейм `adv2_df` с помощью метода `append`. \n",
    "\n",
    "Сохраните объединенный датафрейм в новой переменной `adv12_df` и распечатайте его."
   ]
  },
  {
   "cell_type": "code",
   "metadata": {
    "id": "Pdzid3aeOjpV"
   },
   "source": [
    "# Ваш код здесь\n",
    "adv12_df = adv1_df.append(adv2_df)\n",
    "adv12_df"
   ],
   "execution_count": 7,
   "outputs": [
    {
     "data": {
      "text/plain": "        Daily Time Spent on Site  Daily Internet Usage  \\\nNumber                                                   \n5                          68.95                256.09   \n6                          80.23                193.77   \n8                          74.15                245.89   \n9                            NaN                225.58   \n10                         59.99                226.74   \n...                          ...                   ...   \n735                        65.53                190.17   \n736                        61.87                   NaN   \n737                        83.16                   NaN   \n738                        44.11                121.24   \n739                        56.57                131.98   \n\n                                    Ad Topic Line  Clicked on Ad  \nNumber                                                            \n5              Cloned 5thgeneration orchestration              0  \n6              Monitored national standardization              0  \n8           Triple-buffered reciprocal time-frame              0  \n9                   Robust logistical utilization              0  \n10                Sharable client-driven software              0  \n...                                           ...            ...  \n735        Pre-emptive client-server installation              0  \n736     Multi-channeled attitude-oriented toolset              0  \n737                 Decentralized 24hour approach              0  \n738                Organic next generation matrix              1  \n739          Multi-channeled non-volatile website              1  \n\n[700 rows x 4 columns]",
      "text/html": "<div>\n<style scoped>\n    .dataframe tbody tr th:only-of-type {\n        vertical-align: middle;\n    }\n\n    .dataframe tbody tr th {\n        vertical-align: top;\n    }\n\n    .dataframe thead th {\n        text-align: right;\n    }\n</style>\n<table border=\"1\" class=\"dataframe\">\n  <thead>\n    <tr style=\"text-align: right;\">\n      <th></th>\n      <th>Daily Time Spent on Site</th>\n      <th>Daily Internet Usage</th>\n      <th>Ad Topic Line</th>\n      <th>Clicked on Ad</th>\n    </tr>\n    <tr>\n      <th>Number</th>\n      <th></th>\n      <th></th>\n      <th></th>\n      <th></th>\n    </tr>\n  </thead>\n  <tbody>\n    <tr>\n      <th>5</th>\n      <td>68.95</td>\n      <td>256.09</td>\n      <td>Cloned 5thgeneration orchestration</td>\n      <td>0</td>\n    </tr>\n    <tr>\n      <th>6</th>\n      <td>80.23</td>\n      <td>193.77</td>\n      <td>Monitored national standardization</td>\n      <td>0</td>\n    </tr>\n    <tr>\n      <th>8</th>\n      <td>74.15</td>\n      <td>245.89</td>\n      <td>Triple-buffered reciprocal time-frame</td>\n      <td>0</td>\n    </tr>\n    <tr>\n      <th>9</th>\n      <td>NaN</td>\n      <td>225.58</td>\n      <td>Robust logistical utilization</td>\n      <td>0</td>\n    </tr>\n    <tr>\n      <th>10</th>\n      <td>59.99</td>\n      <td>226.74</td>\n      <td>Sharable client-driven software</td>\n      <td>0</td>\n    </tr>\n    <tr>\n      <th>...</th>\n      <td>...</td>\n      <td>...</td>\n      <td>...</td>\n      <td>...</td>\n    </tr>\n    <tr>\n      <th>735</th>\n      <td>65.53</td>\n      <td>190.17</td>\n      <td>Pre-emptive client-server installation</td>\n      <td>0</td>\n    </tr>\n    <tr>\n      <th>736</th>\n      <td>61.87</td>\n      <td>NaN</td>\n      <td>Multi-channeled attitude-oriented toolset</td>\n      <td>0</td>\n    </tr>\n    <tr>\n      <th>737</th>\n      <td>83.16</td>\n      <td>NaN</td>\n      <td>Decentralized 24hour approach</td>\n      <td>0</td>\n    </tr>\n    <tr>\n      <th>738</th>\n      <td>44.11</td>\n      <td>121.24</td>\n      <td>Organic next generation matrix</td>\n      <td>1</td>\n    </tr>\n    <tr>\n      <th>739</th>\n      <td>56.57</td>\n      <td>131.98</td>\n      <td>Multi-channeled non-volatile website</td>\n      <td>1</td>\n    </tr>\n  </tbody>\n</table>\n<p>700 rows × 4 columns</p>\n</div>"
     },
     "execution_count": 7,
     "metadata": {},
     "output_type": "execute_result"
    }
   ]
  },
  {
   "cell_type": "code",
   "execution_count": 8,
   "outputs": [
    {
     "data": {
      "text/plain": "(700, 4)"
     },
     "execution_count": 8,
     "metadata": {},
     "output_type": "execute_result"
    }
   ],
   "source": [
    "adv12_df.shape"
   ],
   "metadata": {
    "collapsed": false,
    "pycharm": {
     "name": "#%%\n"
    }
   }
  },
  {
   "cell_type": "markdown",
   "metadata": {
    "id": "1Z8KPJzgOjpV"
   },
   "source": [
    "***Задача 7***\n",
    "\n",
    "Для объединённого датафрейма `adv12_df` распечатайте среднее время, проводимое пользователем на сайте компании."
   ]
  },
  {
   "cell_type": "code",
   "metadata": {
    "id": "-eKw3Vs5OjpV"
   },
   "source": [
    "# Ваш код здесь\n",
    "adv12_df['Daily Time Spent on Site']"
   ],
   "execution_count": 9,
   "outputs": [
    {
     "data": {
      "text/plain": "Number\n5      68.95\n6      80.23\n8      74.15\n9        NaN\n10     59.99\n       ...  \n735    65.53\n736    61.87\n737    83.16\n738    44.11\n739    56.57\nName: Daily Time Spent on Site, Length: 700, dtype: float64"
     },
     "execution_count": 9,
     "metadata": {},
     "output_type": "execute_result"
    }
   ]
  },
  {
   "cell_type": "markdown",
   "metadata": {
    "id": "45BOoBbNOjpW"
   },
   "source": [
    "***Задача 8***\n",
    "\n",
    "Из объединённого датафрейма `adv12_df` выберите и распечатайте строки только с теми пользователями, для которых неизвестно среднее ежедневное время, проводимое пользователем на сайте компании."
   ]
  },
  {
   "cell_type": "code",
   "metadata": {
    "id": "gNVYkRPXOjpW"
   },
   "source": [
    "# Ваш код здесь\n",
    "adv12_df[adv12_df['Daily Time Spent on Site'].isna()]"
   ],
   "execution_count": 10,
   "outputs": [
    {
     "data": {
      "text/plain": "        Daily Time Spent on Site  Daily Internet Usage  \\\nNumber                                                   \n9                            NaN                225.58   \n12                           NaN                131.76   \n19                           NaN                143.56   \n27                           NaN                164.83   \n34                           NaN                209.82   \n...                          ...                   ...   \n672                          NaN                235.97   \n674                          NaN                126.44   \n685                          NaN                200.71   \n690                          NaN                226.69   \n731                          NaN                225.05   \n\n                                  Ad Topic Line  Clicked on Ad  \nNumber                                                          \n9                 Robust logistical utilization              0  \n12                     Reactive local challenge              1  \n19                Grass-roots coherent extranet              1  \n27        Mandatory disintermediate utilization              1  \n34      Business-focused value-added definition              0  \n...                                         ...            ...  \n672            Customizable value-added project              0  \n674                Reactive impactful challenge              1  \n685               Focused multi-state workforce              0  \n690               Total coherent superstructure              0  \n731             Multi-tiered heuristic strategy              0  \n\n[66 rows x 4 columns]",
      "text/html": "<div>\n<style scoped>\n    .dataframe tbody tr th:only-of-type {\n        vertical-align: middle;\n    }\n\n    .dataframe tbody tr th {\n        vertical-align: top;\n    }\n\n    .dataframe thead th {\n        text-align: right;\n    }\n</style>\n<table border=\"1\" class=\"dataframe\">\n  <thead>\n    <tr style=\"text-align: right;\">\n      <th></th>\n      <th>Daily Time Spent on Site</th>\n      <th>Daily Internet Usage</th>\n      <th>Ad Topic Line</th>\n      <th>Clicked on Ad</th>\n    </tr>\n    <tr>\n      <th>Number</th>\n      <th></th>\n      <th></th>\n      <th></th>\n      <th></th>\n    </tr>\n  </thead>\n  <tbody>\n    <tr>\n      <th>9</th>\n      <td>NaN</td>\n      <td>225.58</td>\n      <td>Robust logistical utilization</td>\n      <td>0</td>\n    </tr>\n    <tr>\n      <th>12</th>\n      <td>NaN</td>\n      <td>131.76</td>\n      <td>Reactive local challenge</td>\n      <td>1</td>\n    </tr>\n    <tr>\n      <th>19</th>\n      <td>NaN</td>\n      <td>143.56</td>\n      <td>Grass-roots coherent extranet</td>\n      <td>1</td>\n    </tr>\n    <tr>\n      <th>27</th>\n      <td>NaN</td>\n      <td>164.83</td>\n      <td>Mandatory disintermediate utilization</td>\n      <td>1</td>\n    </tr>\n    <tr>\n      <th>34</th>\n      <td>NaN</td>\n      <td>209.82</td>\n      <td>Business-focused value-added definition</td>\n      <td>0</td>\n    </tr>\n    <tr>\n      <th>...</th>\n      <td>...</td>\n      <td>...</td>\n      <td>...</td>\n      <td>...</td>\n    </tr>\n    <tr>\n      <th>672</th>\n      <td>NaN</td>\n      <td>235.97</td>\n      <td>Customizable value-added project</td>\n      <td>0</td>\n    </tr>\n    <tr>\n      <th>674</th>\n      <td>NaN</td>\n      <td>126.44</td>\n      <td>Reactive impactful challenge</td>\n      <td>1</td>\n    </tr>\n    <tr>\n      <th>685</th>\n      <td>NaN</td>\n      <td>200.71</td>\n      <td>Focused multi-state workforce</td>\n      <td>0</td>\n    </tr>\n    <tr>\n      <th>690</th>\n      <td>NaN</td>\n      <td>226.69</td>\n      <td>Total coherent superstructure</td>\n      <td>0</td>\n    </tr>\n    <tr>\n      <th>731</th>\n      <td>NaN</td>\n      <td>225.05</td>\n      <td>Multi-tiered heuristic strategy</td>\n      <td>0</td>\n    </tr>\n  </tbody>\n</table>\n<p>66 rows × 4 columns</p>\n</div>"
     },
     "execution_count": 10,
     "metadata": {},
     "output_type": "execute_result"
    }
   ]
  },
  {
   "cell_type": "markdown",
   "metadata": {
    "id": "bi0CQTuIOjpX"
   },
   "source": [
    "***Задача 9***\n",
    "\n",
    "Загрузите таблицу из файла `advertising_3.csv` и сохраните её в датафрейм `adv3_df`. Укажите в качестве индекса стоблец `Number`. Выведите на экран столбцы `Ad Topic Line` и `Clicked on Ad`."
   ]
  },
  {
   "cell_type": "code",
   "metadata": {
    "id": "5QhJpljHOjpX"
   },
   "source": [
    "# Ваш код здесь\n",
    "adv3_df = pd.read_csv('12.6 Данные для домашнего задания/advertising_3.csv', sep = ',', index_col='Number')\n",
    "adv3_df[['Ad Topic Line','Clicked on Ad']]\n"
   ],
   "execution_count": 11,
   "outputs": [
    {
     "data": {
      "text/plain": "                                       Ad Topic Line  Clicked on Ad\nNumber                                                             \n740                 Distributed bifurcated challenge              0\n741       Customizable zero-defect Internet solution              0\n742     Self-enabling zero administration neural-net              1\n744           Open-architected system-worthy ability              0\n745               Quality-focused maximized extranet              1\n...                                              ...            ...\n999                    Front-line bifurcated ability              1\n1000                   Fundamental modular algorithm              1\n1001                 Grass-roots cohesive monitoring              1\n1002                    Expanded intangible solution              1\n1003            Proactive bandwidth-monitored policy              0\n\n[251 rows x 2 columns]",
      "text/html": "<div>\n<style scoped>\n    .dataframe tbody tr th:only-of-type {\n        vertical-align: middle;\n    }\n\n    .dataframe tbody tr th {\n        vertical-align: top;\n    }\n\n    .dataframe thead th {\n        text-align: right;\n    }\n</style>\n<table border=\"1\" class=\"dataframe\">\n  <thead>\n    <tr style=\"text-align: right;\">\n      <th></th>\n      <th>Ad Topic Line</th>\n      <th>Clicked on Ad</th>\n    </tr>\n    <tr>\n      <th>Number</th>\n      <th></th>\n      <th></th>\n    </tr>\n  </thead>\n  <tbody>\n    <tr>\n      <th>740</th>\n      <td>Distributed bifurcated challenge</td>\n      <td>0</td>\n    </tr>\n    <tr>\n      <th>741</th>\n      <td>Customizable zero-defect Internet solution</td>\n      <td>0</td>\n    </tr>\n    <tr>\n      <th>742</th>\n      <td>Self-enabling zero administration neural-net</td>\n      <td>1</td>\n    </tr>\n    <tr>\n      <th>744</th>\n      <td>Open-architected system-worthy ability</td>\n      <td>0</td>\n    </tr>\n    <tr>\n      <th>745</th>\n      <td>Quality-focused maximized extranet</td>\n      <td>1</td>\n    </tr>\n    <tr>\n      <th>...</th>\n      <td>...</td>\n      <td>...</td>\n    </tr>\n    <tr>\n      <th>999</th>\n      <td>Front-line bifurcated ability</td>\n      <td>1</td>\n    </tr>\n    <tr>\n      <th>1000</th>\n      <td>Fundamental modular algorithm</td>\n      <td>1</td>\n    </tr>\n    <tr>\n      <th>1001</th>\n      <td>Grass-roots cohesive monitoring</td>\n      <td>1</td>\n    </tr>\n    <tr>\n      <th>1002</th>\n      <td>Expanded intangible solution</td>\n      <td>1</td>\n    </tr>\n    <tr>\n      <th>1003</th>\n      <td>Proactive bandwidth-monitored policy</td>\n      <td>0</td>\n    </tr>\n  </tbody>\n</table>\n<p>251 rows × 2 columns</p>\n</div>"
     },
     "execution_count": 11,
     "metadata": {},
     "output_type": "execute_result"
    }
   ]
  },
  {
   "cell_type": "markdown",
   "metadata": {
    "ExecuteTime": {
     "end_time": "2021-10-24T12:58:20.476305Z",
     "start_time": "2021-10-24T12:58:20.469693Z"
    },
    "id": "ni-452GIOjpX"
   },
   "source": [
    "***Задача 10***\n",
    "\n",
    "Добавьте к датафрейму `adv12_df` в конец датафрейм `adv3_df` с помощью метода `concat`. Явно пропишите значение параметра `axis`.\n",
    "\n",
    "Сохраните объединённый датафрейм в новой переменной `adv123_df` и распечатайте его."
   ]
  },
  {
   "cell_type": "code",
   "metadata": {
    "ExecuteTime": {
     "end_time": "2021-10-24T12:58:33.992975Z",
     "start_time": "2021-10-24T12:58:33.990598Z"
    },
    "id": "FGRZ6HkDOjpY"
   },
   "source": [
    "# Ваш код здесь\n",
    "adv123_df = pd.concat([adv12_df, adv3_df], axis=0)\n",
    "adv123_df.tail()"
   ],
   "execution_count": 12,
   "outputs": [
    {
     "data": {
      "text/plain": "        Daily Time Spent on Site  Daily Internet Usage  \\\nNumber                                                   \n999                        43.70                173.01   \n1000                       72.97                208.58   \n1001                       51.30                   NaN   \n1002                       51.63                120.37   \n1003                       55.55                187.95   \n\n                               Ad Topic Line  Clicked on Ad  \nNumber                                                       \n999            Front-line bifurcated ability              1  \n1000           Fundamental modular algorithm              1  \n1001         Grass-roots cohesive monitoring              1  \n1002            Expanded intangible solution              1  \n1003    Proactive bandwidth-monitored policy              0  ",
      "text/html": "<div>\n<style scoped>\n    .dataframe tbody tr th:only-of-type {\n        vertical-align: middle;\n    }\n\n    .dataframe tbody tr th {\n        vertical-align: top;\n    }\n\n    .dataframe thead th {\n        text-align: right;\n    }\n</style>\n<table border=\"1\" class=\"dataframe\">\n  <thead>\n    <tr style=\"text-align: right;\">\n      <th></th>\n      <th>Daily Time Spent on Site</th>\n      <th>Daily Internet Usage</th>\n      <th>Ad Topic Line</th>\n      <th>Clicked on Ad</th>\n    </tr>\n    <tr>\n      <th>Number</th>\n      <th></th>\n      <th></th>\n      <th></th>\n      <th></th>\n    </tr>\n  </thead>\n  <tbody>\n    <tr>\n      <th>999</th>\n      <td>43.70</td>\n      <td>173.01</td>\n      <td>Front-line bifurcated ability</td>\n      <td>1</td>\n    </tr>\n    <tr>\n      <th>1000</th>\n      <td>72.97</td>\n      <td>208.58</td>\n      <td>Fundamental modular algorithm</td>\n      <td>1</td>\n    </tr>\n    <tr>\n      <th>1001</th>\n      <td>51.30</td>\n      <td>NaN</td>\n      <td>Grass-roots cohesive monitoring</td>\n      <td>1</td>\n    </tr>\n    <tr>\n      <th>1002</th>\n      <td>51.63</td>\n      <td>120.37</td>\n      <td>Expanded intangible solution</td>\n      <td>1</td>\n    </tr>\n    <tr>\n      <th>1003</th>\n      <td>55.55</td>\n      <td>187.95</td>\n      <td>Proactive bandwidth-monitored policy</td>\n      <td>0</td>\n    </tr>\n  </tbody>\n</table>\n</div>"
     },
     "execution_count": 12,
     "metadata": {},
     "output_type": "execute_result"
    }
   ]
  },
  {
   "cell_type": "code",
   "execution_count": 13,
   "outputs": [
    {
     "data": {
      "text/plain": "(951, 4)"
     },
     "execution_count": 13,
     "metadata": {},
     "output_type": "execute_result"
    }
   ],
   "source": [
    "adv123_df.shape"
   ],
   "metadata": {
    "collapsed": false,
    "pycharm": {
     "name": "#%%\n"
    }
   }
  },
  {
   "cell_type": "markdown",
   "metadata": {
    "id": "_oRCVzahOjpY"
   },
   "source": [
    "***Задача 11***\n",
    "\n",
    "Для объединённого датафрейма `adv123_df` выберите только те строки, в которых пользователи кликнули на рекламное сообщение. Сохраните полученный результат в датафрейм `success_adv_df`, распечатайте размер нового датафрейма."
   ]
  },
  {
   "cell_type": "code",
   "metadata": {
    "id": "bLXL13nROjpY"
   },
   "source": [
    "# Ваш код здесь\n",
    "success_adv_df = adv123_df[adv123_df['Clicked on Ad'] == 1]\n",
    "success_adv_df.tail()"
   ],
   "execution_count": 14,
   "outputs": [
    {
     "data": {
      "text/plain": "        Daily Time Spent on Site  Daily Internet Usage  \\\nNumber                                                   \n997                        69.17                123.62   \n999                        43.70                173.01   \n1000                       72.97                208.58   \n1001                       51.30                   NaN   \n1002                       51.63                120.37   \n\n                          Ad Topic Line  Clicked on Ad  \nNumber                                                  \n997       Extended leadingedge solution              1  \n999       Front-line bifurcated ability              1  \n1000      Fundamental modular algorithm              1  \n1001    Grass-roots cohesive monitoring              1  \n1002       Expanded intangible solution              1  ",
      "text/html": "<div>\n<style scoped>\n    .dataframe tbody tr th:only-of-type {\n        vertical-align: middle;\n    }\n\n    .dataframe tbody tr th {\n        vertical-align: top;\n    }\n\n    .dataframe thead th {\n        text-align: right;\n    }\n</style>\n<table border=\"1\" class=\"dataframe\">\n  <thead>\n    <tr style=\"text-align: right;\">\n      <th></th>\n      <th>Daily Time Spent on Site</th>\n      <th>Daily Internet Usage</th>\n      <th>Ad Topic Line</th>\n      <th>Clicked on Ad</th>\n    </tr>\n    <tr>\n      <th>Number</th>\n      <th></th>\n      <th></th>\n      <th></th>\n      <th></th>\n    </tr>\n  </thead>\n  <tbody>\n    <tr>\n      <th>997</th>\n      <td>69.17</td>\n      <td>123.62</td>\n      <td>Extended leadingedge solution</td>\n      <td>1</td>\n    </tr>\n    <tr>\n      <th>999</th>\n      <td>43.70</td>\n      <td>173.01</td>\n      <td>Front-line bifurcated ability</td>\n      <td>1</td>\n    </tr>\n    <tr>\n      <th>1000</th>\n      <td>72.97</td>\n      <td>208.58</td>\n      <td>Fundamental modular algorithm</td>\n      <td>1</td>\n    </tr>\n    <tr>\n      <th>1001</th>\n      <td>51.30</td>\n      <td>NaN</td>\n      <td>Grass-roots cohesive monitoring</td>\n      <td>1</td>\n    </tr>\n    <tr>\n      <th>1002</th>\n      <td>51.63</td>\n      <td>120.37</td>\n      <td>Expanded intangible solution</td>\n      <td>1</td>\n    </tr>\n  </tbody>\n</table>\n</div>"
     },
     "execution_count": 14,
     "metadata": {},
     "output_type": "execute_result"
    }
   ]
  },
  {
   "cell_type": "code",
   "execution_count": 15,
   "outputs": [
    {
     "data": {
      "text/plain": "(475, 4)"
     },
     "execution_count": 15,
     "metadata": {},
     "output_type": "execute_result"
    }
   ],
   "source": [
    "success_adv_df.shape"
   ],
   "metadata": {
    "collapsed": false,
    "pycharm": {
     "name": "#%%\n"
    }
   }
  },
  {
   "cell_type": "markdown",
   "metadata": {
    "id": "xuFXaMy6OjpZ"
   },
   "source": [
    "***Задача 12***\n",
    "\n",
    "Загрузите таблицу с данными пользователей из файла `users.csv` и сохраните её в датафрейм `users_df`. Индекс не указывайте.\n",
    "\n",
    "Распечатайте сам датафрейм и сводную таблицу со статистиками для него."
   ]
  },
  {
   "cell_type": "code",
   "metadata": {
    "id": "mrmK3IxLOjpZ"
   },
   "source": [
    "# Ваш код здесь\n",
    "user_df = pd.read_csv('12.6 Данные для домашнего задания/users.csv', sep = ',')\n",
    "user_df.head(10)"
   ],
   "execution_count": 295,
   "outputs": [
    {
     "data": {
      "text/plain": "   Number   Age  Male              City     Country  Area Income\n0       5   NaN   0.0       Wrightburgh     Tunisia     61833.90\n1       6  31.0   NaN         West Jodi       Nauru     68441.85\n2       7  26.0   0.0          Davidton  San Marino     59785.94\n3       8  29.0   1.0    West Terrifurt       Italy     54806.18\n4       9   NaN   0.0      South Manuel     Iceland     73889.99\n5      10  23.0   1.0               NaN      Norway     59761.56\n6      11  33.0   0.0       Brandonstad     Myanmar     53852.85\n7      12  48.0   1.0  Port Jefferybury   Australia     24593.33\n8      14  20.0   NaN        Ramirezton       Ghana     55642.32\n9      15  49.0   NaN   West Brandonton       Qatar     45632.51",
      "text/html": "<div>\n<style scoped>\n    .dataframe tbody tr th:only-of-type {\n        vertical-align: middle;\n    }\n\n    .dataframe tbody tr th {\n        vertical-align: top;\n    }\n\n    .dataframe thead th {\n        text-align: right;\n    }\n</style>\n<table border=\"1\" class=\"dataframe\">\n  <thead>\n    <tr style=\"text-align: right;\">\n      <th></th>\n      <th>Number</th>\n      <th>Age</th>\n      <th>Male</th>\n      <th>City</th>\n      <th>Country</th>\n      <th>Area Income</th>\n    </tr>\n  </thead>\n  <tbody>\n    <tr>\n      <th>0</th>\n      <td>5</td>\n      <td>NaN</td>\n      <td>0.0</td>\n      <td>Wrightburgh</td>\n      <td>Tunisia</td>\n      <td>61833.90</td>\n    </tr>\n    <tr>\n      <th>1</th>\n      <td>6</td>\n      <td>31.0</td>\n      <td>NaN</td>\n      <td>West Jodi</td>\n      <td>Nauru</td>\n      <td>68441.85</td>\n    </tr>\n    <tr>\n      <th>2</th>\n      <td>7</td>\n      <td>26.0</td>\n      <td>0.0</td>\n      <td>Davidton</td>\n      <td>San Marino</td>\n      <td>59785.94</td>\n    </tr>\n    <tr>\n      <th>3</th>\n      <td>8</td>\n      <td>29.0</td>\n      <td>1.0</td>\n      <td>West Terrifurt</td>\n      <td>Italy</td>\n      <td>54806.18</td>\n    </tr>\n    <tr>\n      <th>4</th>\n      <td>9</td>\n      <td>NaN</td>\n      <td>0.0</td>\n      <td>South Manuel</td>\n      <td>Iceland</td>\n      <td>73889.99</td>\n    </tr>\n    <tr>\n      <th>5</th>\n      <td>10</td>\n      <td>23.0</td>\n      <td>1.0</td>\n      <td>NaN</td>\n      <td>Norway</td>\n      <td>59761.56</td>\n    </tr>\n    <tr>\n      <th>6</th>\n      <td>11</td>\n      <td>33.0</td>\n      <td>0.0</td>\n      <td>Brandonstad</td>\n      <td>Myanmar</td>\n      <td>53852.85</td>\n    </tr>\n    <tr>\n      <th>7</th>\n      <td>12</td>\n      <td>48.0</td>\n      <td>1.0</td>\n      <td>Port Jefferybury</td>\n      <td>Australia</td>\n      <td>24593.33</td>\n    </tr>\n    <tr>\n      <th>8</th>\n      <td>14</td>\n      <td>20.0</td>\n      <td>NaN</td>\n      <td>Ramirezton</td>\n      <td>Ghana</td>\n      <td>55642.32</td>\n    </tr>\n    <tr>\n      <th>9</th>\n      <td>15</td>\n      <td>49.0</td>\n      <td>NaN</td>\n      <td>West Brandonton</td>\n      <td>Qatar</td>\n      <td>45632.51</td>\n    </tr>\n  </tbody>\n</table>\n</div>"
     },
     "execution_count": 295,
     "metadata": {},
     "output_type": "execute_result"
    }
   ]
  },
  {
   "cell_type": "code",
   "execution_count": 17,
   "outputs": [
    {
     "data": {
      "text/plain": "            Number         Age        Male   Area Income\ncount   980.000000  860.000000  868.000000    903.000000\nmean    504.485714   36.073256    0.500000  55010.631938\nstd     287.956480    8.795992    0.500288  13423.710892\nmin       5.000000   19.000000    0.000000  13996.500000\n25%     255.750000   29.000000    0.000000  46947.570000\n50%     503.500000   35.000000    0.500000  57032.360000\n75%     753.250000   42.000000    1.000000  65537.990000\nmax    1004.000000   61.000000    1.000000  79484.800000",
      "text/html": "<div>\n<style scoped>\n    .dataframe tbody tr th:only-of-type {\n        vertical-align: middle;\n    }\n\n    .dataframe tbody tr th {\n        vertical-align: top;\n    }\n\n    .dataframe thead th {\n        text-align: right;\n    }\n</style>\n<table border=\"1\" class=\"dataframe\">\n  <thead>\n    <tr style=\"text-align: right;\">\n      <th></th>\n      <th>Number</th>\n      <th>Age</th>\n      <th>Male</th>\n      <th>Area Income</th>\n    </tr>\n  </thead>\n  <tbody>\n    <tr>\n      <th>count</th>\n      <td>980.000000</td>\n      <td>860.000000</td>\n      <td>868.000000</td>\n      <td>903.000000</td>\n    </tr>\n    <tr>\n      <th>mean</th>\n      <td>504.485714</td>\n      <td>36.073256</td>\n      <td>0.500000</td>\n      <td>55010.631938</td>\n    </tr>\n    <tr>\n      <th>std</th>\n      <td>287.956480</td>\n      <td>8.795992</td>\n      <td>0.500288</td>\n      <td>13423.710892</td>\n    </tr>\n    <tr>\n      <th>min</th>\n      <td>5.000000</td>\n      <td>19.000000</td>\n      <td>0.000000</td>\n      <td>13996.500000</td>\n    </tr>\n    <tr>\n      <th>25%</th>\n      <td>255.750000</td>\n      <td>29.000000</td>\n      <td>0.000000</td>\n      <td>46947.570000</td>\n    </tr>\n    <tr>\n      <th>50%</th>\n      <td>503.500000</td>\n      <td>35.000000</td>\n      <td>0.500000</td>\n      <td>57032.360000</td>\n    </tr>\n    <tr>\n      <th>75%</th>\n      <td>753.250000</td>\n      <td>42.000000</td>\n      <td>1.000000</td>\n      <td>65537.990000</td>\n    </tr>\n    <tr>\n      <th>max</th>\n      <td>1004.000000</td>\n      <td>61.000000</td>\n      <td>1.000000</td>\n      <td>79484.800000</td>\n    </tr>\n  </tbody>\n</table>\n</div>"
     },
     "execution_count": 17,
     "metadata": {},
     "output_type": "execute_result"
    }
   ],
   "source": [
    "user_df.describe()"
   ],
   "metadata": {
    "collapsed": false,
    "pycharm": {
     "name": "#%%\n"
    }
   }
  },
  {
   "cell_type": "code",
   "execution_count": 18,
   "outputs": [
    {
     "name": "stdout",
     "output_type": "stream",
     "text": [
      "<class 'pandas.core.frame.DataFrame'>\n",
      "RangeIndex: 980 entries, 0 to 979\n",
      "Data columns (total 6 columns):\n",
      " #   Column       Non-Null Count  Dtype  \n",
      "---  ------       --------------  -----  \n",
      " 0   Number       980 non-null    int64  \n",
      " 1   Age          860 non-null    float64\n",
      " 2   Male         868 non-null    float64\n",
      " 3   City         887 non-null    object \n",
      " 4   Country      888 non-null    object \n",
      " 5   Area Income  903 non-null    float64\n",
      "dtypes: float64(3), int64(1), object(2)\n",
      "memory usage: 46.1+ KB\n"
     ]
    }
   ],
   "source": [
    "user_df.info()"
   ],
   "metadata": {
    "collapsed": false,
    "pycharm": {
     "name": "#%%\n"
    }
   }
  },
  {
   "cell_type": "markdown",
   "metadata": {
    "ExecuteTime": {
     "end_time": "2021-10-24T13:57:38.550026Z",
     "start_time": "2021-10-24T13:57:38.545212Z"
    },
    "id": "WJ00AZrXOjpZ"
   },
   "source": [
    "***Задача 13***\n",
    "\n",
    "Глядя на статистики `users_df`, укажите значения, удовлетворяющие следующим условиям:\n",
    "1. Возраст самого молодого пользователя сайта: *19.000000*\n",
    "2. Максимальный средний доход в месте жительства пользователя сайта: *79484.800000*\n",
    "3. Средний возраст пользователя сайта: *55010.631938*\n",
    "4. Количество заполненных значений для колонки, содержащей информацию о том, является пользователь мужчиной или нет: *868*\n",
    "5. Минимальный номер пользователя: *5*\n",
    "\n",
    "В этом задании не требуется выбирать по условиям и распечатывать значения, достаточно внимательно посмотреть на статистики и скопировать нужные значения согласно вопросам."
   ]
  },
  {
   "cell_type": "markdown",
   "metadata": {
    "id": "AcTd7M2gOjpa"
   },
   "source": [
    "***Задача 14***\n",
    "\n",
    "К полученному датафрейму с успешными рекламными сообщениями `success_adv_df` добавьте справа информацию из датафрейма с пользователями `users_df` и сохраните в датафрейм `success_full_df`. В полученном датафрейме должны остаться только те пользователи, номера которых есть в обоих датафреймах. Для этого воспользуйтесь методом `merge` и пропишите явно верные параметры.\n",
    "\n",
    "Затем распечатайте датафрейм."
   ]
  },
  {
   "cell_type": "markdown",
   "metadata": {
    "id": "dqlixtI0Ojpa"
   },
   "source": [
    "*Важно:*\n",
    "\n",
    "Объединять датафреймы с помощью `merge` можно и по индексам, и по столбцам с разными названиями. \n",
    "Так как общие значения содержатся в столбце `Number`, но в датафрейме `users_df` данный столбец является обычным столбцом, а в `success_adv_df` является индексом, перед тем как объединять, переведите столбец `Number` в `success_adv_df` в обычный столбец.\n",
    "\n",
    "Для этого перед объединением пропишите:\n",
    "```\n",
    "success_adv_df = success_adv_df.reset_index()\n",
    "```\n",
    "\n",
    "[Подробнее о reset_index](https://pandas.pydata.org/docs/reference/api/pandas.DataFrame.reset_index.html)"
   ]
  },
  {
   "cell_type": "code",
   "metadata": {
    "id": "aBgNVejCOjpa"
   },
   "source": [
    "# Ваш код здесь\n",
    "success_adv_df = success_adv_df.reset_index()\n",
    "success_full_df = success_adv_df.merge(user_df, left_on='Number', right_on='Number')\n",
    "success_full_df.shape"
   ],
   "execution_count": 19,
   "outputs": [
    {
     "data": {
      "text/plain": "(464, 10)"
     },
     "execution_count": 19,
     "metadata": {},
     "output_type": "execute_result"
    }
   ]
  },
  {
   "cell_type": "code",
   "execution_count": 22,
   "outputs": [
    {
     "data": {
      "text/plain": "   Number  Daily Time Spent on Site  Daily Internet Usage  \\\n0      12                       NaN                131.76   \n1      15                     47.64                122.02   \n2      17                     69.57                113.12   \n3      19                       NaN                143.56   \n4      20                     63.45                140.64   \n5      21                     55.39                   NaN   \n6      24                     74.58                135.51   \n7      27                       NaN                164.83   \n8      29                     41.39                   NaN   \n9      31                     48.53                134.14   \n\n                           Ad Topic Line  Clicked on Ad   Age  Male  \\\n0               Reactive local challenge              1  48.0   1.0   \n1         Centralized neutral neural-net              1  49.0   NaN   \n2  Centralized content-based focus group              1  48.0   1.0   \n3          Grass-roots coherent extranet              1  33.0   0.0   \n4     Persistent demand-driven interface              1  23.0   NaN   \n5     Customizable multi-tasking website              1   NaN   0.0   \n6             Advanced 24/7 productivity              1  40.0   1.0   \n7  Mandatory disintermediate utilization              1  52.0   0.0   \n8          Exclusive neutral parallelism              1  41.0   0.0   \n9     Ameliorated client-driven forecast              1   NaN   1.0   \n\n               City                Country  Area Income  \n0  Port Jefferybury              Australia     24593.33  \n1   West Brandonton                  Qatar     45632.51  \n2    West Katiefurt                  Egypt     51636.92  \n3               NaN               Barbados     30976.00  \n4               NaN                  Spain     52182.23  \n5    West Dylanberg  Palestinian Territory     23936.86  \n6        Millertown     Russian Federation     23821.72  \n7        South John                Burundi     32635.70  \n8     Harperborough                Tokelau     68962.32  \n9   West Jeremyside                 Tuvalu     38067.08  ",
      "text/html": "<div>\n<style scoped>\n    .dataframe tbody tr th:only-of-type {\n        vertical-align: middle;\n    }\n\n    .dataframe tbody tr th {\n        vertical-align: top;\n    }\n\n    .dataframe thead th {\n        text-align: right;\n    }\n</style>\n<table border=\"1\" class=\"dataframe\">\n  <thead>\n    <tr style=\"text-align: right;\">\n      <th></th>\n      <th>Number</th>\n      <th>Daily Time Spent on Site</th>\n      <th>Daily Internet Usage</th>\n      <th>Ad Topic Line</th>\n      <th>Clicked on Ad</th>\n      <th>Age</th>\n      <th>Male</th>\n      <th>City</th>\n      <th>Country</th>\n      <th>Area Income</th>\n    </tr>\n  </thead>\n  <tbody>\n    <tr>\n      <th>0</th>\n      <td>12</td>\n      <td>NaN</td>\n      <td>131.76</td>\n      <td>Reactive local challenge</td>\n      <td>1</td>\n      <td>48.0</td>\n      <td>1.0</td>\n      <td>Port Jefferybury</td>\n      <td>Australia</td>\n      <td>24593.33</td>\n    </tr>\n    <tr>\n      <th>1</th>\n      <td>15</td>\n      <td>47.64</td>\n      <td>122.02</td>\n      <td>Centralized neutral neural-net</td>\n      <td>1</td>\n      <td>49.0</td>\n      <td>NaN</td>\n      <td>West Brandonton</td>\n      <td>Qatar</td>\n      <td>45632.51</td>\n    </tr>\n    <tr>\n      <th>2</th>\n      <td>17</td>\n      <td>69.57</td>\n      <td>113.12</td>\n      <td>Centralized content-based focus group</td>\n      <td>1</td>\n      <td>48.0</td>\n      <td>1.0</td>\n      <td>West Katiefurt</td>\n      <td>Egypt</td>\n      <td>51636.92</td>\n    </tr>\n    <tr>\n      <th>3</th>\n      <td>19</td>\n      <td>NaN</td>\n      <td>143.56</td>\n      <td>Grass-roots coherent extranet</td>\n      <td>1</td>\n      <td>33.0</td>\n      <td>0.0</td>\n      <td>NaN</td>\n      <td>Barbados</td>\n      <td>30976.00</td>\n    </tr>\n    <tr>\n      <th>4</th>\n      <td>20</td>\n      <td>63.45</td>\n      <td>140.64</td>\n      <td>Persistent demand-driven interface</td>\n      <td>1</td>\n      <td>23.0</td>\n      <td>NaN</td>\n      <td>NaN</td>\n      <td>Spain</td>\n      <td>52182.23</td>\n    </tr>\n    <tr>\n      <th>5</th>\n      <td>21</td>\n      <td>55.39</td>\n      <td>NaN</td>\n      <td>Customizable multi-tasking website</td>\n      <td>1</td>\n      <td>NaN</td>\n      <td>0.0</td>\n      <td>West Dylanberg</td>\n      <td>Palestinian Territory</td>\n      <td>23936.86</td>\n    </tr>\n    <tr>\n      <th>6</th>\n      <td>24</td>\n      <td>74.58</td>\n      <td>135.51</td>\n      <td>Advanced 24/7 productivity</td>\n      <td>1</td>\n      <td>40.0</td>\n      <td>1.0</td>\n      <td>Millertown</td>\n      <td>Russian Federation</td>\n      <td>23821.72</td>\n    </tr>\n    <tr>\n      <th>7</th>\n      <td>27</td>\n      <td>NaN</td>\n      <td>164.83</td>\n      <td>Mandatory disintermediate utilization</td>\n      <td>1</td>\n      <td>52.0</td>\n      <td>0.0</td>\n      <td>South John</td>\n      <td>Burundi</td>\n      <td>32635.70</td>\n    </tr>\n    <tr>\n      <th>8</th>\n      <td>29</td>\n      <td>41.39</td>\n      <td>NaN</td>\n      <td>Exclusive neutral parallelism</td>\n      <td>1</td>\n      <td>41.0</td>\n      <td>0.0</td>\n      <td>Harperborough</td>\n      <td>Tokelau</td>\n      <td>68962.32</td>\n    </tr>\n    <tr>\n      <th>9</th>\n      <td>31</td>\n      <td>48.53</td>\n      <td>134.14</td>\n      <td>Ameliorated client-driven forecast</td>\n      <td>1</td>\n      <td>NaN</td>\n      <td>1.0</td>\n      <td>West Jeremyside</td>\n      <td>Tuvalu</td>\n      <td>38067.08</td>\n    </tr>\n  </tbody>\n</table>\n</div>"
     },
     "execution_count": 22,
     "metadata": {},
     "output_type": "execute_result"
    }
   ],
   "source": [
    "success_full_df.head(10)"
   ],
   "metadata": {
    "collapsed": false,
    "pycharm": {
     "name": "#%%\n"
    }
   }
  },
  {
   "cell_type": "markdown",
   "metadata": {
    "id": "3ELhJzr7Ojpb"
   },
   "source": [
    "***Задача 15***\n",
    "\n",
    "Для объединённого датафрейма с пользователями, которые кликнули на рекламное сообщение `success_full_df`, отобразите сводную таблицу со статистиками для строковых колонок (`Ad Topic Line`, `City`, `Country`).\n"
   ]
  },
  {
   "cell_type": "code",
   "metadata": {
    "id": "gKa6zjEyOjpb"
   },
   "source": [
    "# Ваш код здесь\n",
    "success_full_df[['Ad Topic Line', 'City', 'Country']].describe()"
   ],
   "execution_count": 24,
   "outputs": [
    {
     "data": {
      "text/plain": "                   Ad Topic Line        City   Country\ncount                        464         420       418\nunique                       464         412       203\ntop     Reactive local challenge  Lake James  Ethiopia\nfreq                           1           2         7",
      "text/html": "<div>\n<style scoped>\n    .dataframe tbody tr th:only-of-type {\n        vertical-align: middle;\n    }\n\n    .dataframe tbody tr th {\n        vertical-align: top;\n    }\n\n    .dataframe thead th {\n        text-align: right;\n    }\n</style>\n<table border=\"1\" class=\"dataframe\">\n  <thead>\n    <tr style=\"text-align: right;\">\n      <th></th>\n      <th>Ad Topic Line</th>\n      <th>City</th>\n      <th>Country</th>\n    </tr>\n  </thead>\n  <tbody>\n    <tr>\n      <th>count</th>\n      <td>464</td>\n      <td>420</td>\n      <td>418</td>\n    </tr>\n    <tr>\n      <th>unique</th>\n      <td>464</td>\n      <td>412</td>\n      <td>203</td>\n    </tr>\n    <tr>\n      <th>top</th>\n      <td>Reactive local challenge</td>\n      <td>Lake James</td>\n      <td>Ethiopia</td>\n    </tr>\n    <tr>\n      <th>freq</th>\n      <td>1</td>\n      <td>2</td>\n      <td>7</td>\n    </tr>\n  </tbody>\n</table>\n</div>"
     },
     "execution_count": 24,
     "metadata": {},
     "output_type": "execute_result"
    }
   ]
  },
  {
   "cell_type": "code",
   "execution_count": 25,
   "outputs": [
    {
     "name": "stdout",
     "output_type": "stream",
     "text": [
      "<class 'pandas.core.frame.DataFrame'>\n",
      "Int64Index: 464 entries, 0 to 463\n",
      "Data columns (total 3 columns):\n",
      " #   Column         Non-Null Count  Dtype \n",
      "---  ------         --------------  ----- \n",
      " 0   Ad Topic Line  464 non-null    object\n",
      " 1   City           420 non-null    object\n",
      " 2   Country        418 non-null    object\n",
      "dtypes: object(3)\n",
      "memory usage: 14.5+ KB\n"
     ]
    }
   ],
   "source": [
    "success_full_df[['Ad Topic Line', 'City', 'Country']].info()"
   ],
   "metadata": {
    "collapsed": false,
    "pycharm": {
     "name": "#%%\n"
    }
   }
  },
  {
   "cell_type": "markdown",
   "metadata": {
    "id": "uk1V6_IDOjpb"
   },
   "source": [
    "***Задача 16***\n",
    "\n",
    "Для объединённого датафрейма с пользователями, которые кликнули на рекламное сообщение `success_full_df`, выведите страну и количество вхождений этой страны в датафрейм.\n"
   ]
  },
  {
   "cell_type": "code",
   "execution_count": 160,
   "outputs": [
    {
     "data": {
      "text/plain": "{'Ethiopia': 7,\n 'Australia': 6,\n 'Turkey': 6,\n 'Liberia': 6,\n 'Senegal': 5,\n 'Peru': 5,\n 'South Africa': 5,\n 'Hong Kong': 4,\n 'Mongolia': 4,\n 'El Salvador': 4,\n 'Uganda': 4,\n 'Afghanistan': 4,\n 'Zimbabwe': 4,\n 'Lebanon': 4,\n 'Christmas Island': 4,\n 'Cyprus': 4,\n 'Indonesia': 4,\n 'Samoa': 4,\n 'Antigua and Barbuda': 4,\n 'Hungary': 4,\n 'Taiwan': 4,\n 'France': 4,\n 'Bulgaria': 4,\n 'Czech Republic': 4,\n 'Anguilla': 3,\n 'Jersey': 3,\n 'Liechtenstein': 3,\n 'China': 3,\n 'Belarus': 3,\n 'Bahamas': 3,\n 'Saint Vincent and the Grenadines': 3,\n 'Eritrea': 3,\n 'Cuba': 3,\n 'Guyana': 3,\n 'Mexico': 3,\n 'Philippines': 3,\n 'Venezuela': 3,\n 'Fiji': 3,\n 'Equatorial Guinea': 3,\n 'Mayotte': 3,\n 'Tuvalu': 3,\n 'Papua New Guinea': 3,\n 'Bosnia and Herzegovina': 3,\n 'Latvia': 3,\n 'Chile': 3,\n 'Albania': 3,\n 'Spain': 3,\n 'Micronesia': 3,\n 'Saint Pierre and Miquelon': 3,\n 'Cayman Islands': 3,\n 'Macao': 3,\n 'Turks and Caicos Islands': 3,\n 'Egypt': 3,\n 'French Guiana': 3,\n 'American Samoa': 3,\n 'Algeria': 3,\n 'Luxembourg': 3,\n 'Tokelau': 3,\n 'New Caledonia': 2,\n 'Tonga': 2,\n 'Japan': 2,\n 'Cambodia': 2,\n 'Honduras': 2,\n 'Thailand': 2,\n 'Canada': 2,\n 'Falkland Islands (Malvinas)': 2,\n \"Cote d'Ivoire\": 2,\n 'Niger': 2,\n 'Denmark': 2,\n 'Poland': 2,\n 'Brunei Darussalam': 2,\n 'Costa Rica': 2,\n 'Andorra': 2,\n 'Grenada': 2,\n 'Iran': 2,\n 'Saudi Arabia': 2,\n 'New Zealand': 2,\n 'Moldova': 2,\n \"Lao People's Democratic Republic\": 2,\n 'Ecuador': 2,\n 'Malta': 2,\n 'United States of America': 2,\n 'Dominican Republic': 2,\n 'Congo': 2,\n 'Netherlands Antilles': 2,\n 'Heard Island and McDonald Islands': 2,\n 'Bangladesh': 2,\n 'Guernsey': 2,\n 'Sierra Leone': 2,\n 'Northern Mariana Islands': 2,\n 'Chad': 2,\n 'Guatemala': 2,\n 'Belize': 2,\n 'Saint Martin': 2,\n 'Norfolk Island': 2,\n 'Bouvet Island (Bouvetoya)': 2,\n 'Palestinian Territory': 2,\n 'Martinique': 2,\n 'Guinea': 2,\n 'Trinidad and Tobago': 2,\n 'Kenya': 2,\n 'Western Sahara': 2,\n 'Faroe Islands': 2,\n 'Lithuania': 2,\n 'Antarctica (the territory South of 60 deg S)': 2,\n 'Dominica': 2,\n 'Puerto Rico': 2,\n 'Burundi': 2,\n 'Korea': 2,\n 'Netherlands': 2,\n 'Israel': 2,\n 'Turkmenistan': 2,\n 'Montenegro': 2,\n 'Serbia': 2,\n 'Bahrain': 2,\n 'Barbados': 2,\n 'Kazakhstan': 2,\n 'Jamaica': 2,\n 'Svalbard & Jan Mayen Islands': 2,\n 'Saint Helena': 2,\n 'Sao Tome and Principe': 2,\n 'Palau': 1,\n 'Mali': 1,\n 'Zambia': 1,\n 'Pitcairn Islands': 1,\n 'Benin': 1,\n 'British Virgin Islands': 1,\n 'Sweden': 1,\n 'Monaco': 1,\n 'Azerbaijan': 1,\n 'French Polynesia': 1,\n 'Namibia': 1,\n 'Maldives': 1,\n 'United States Virgin Islands': 1,\n 'South Georgia and the South Sandwich Islands': 1,\n 'San Marino': 1,\n 'Malawi': 1,\n 'United Arab Emirates': 1,\n 'Colombia': 1,\n 'Haiti': 1,\n 'Iceland': 1,\n 'Syrian Arab Republic': 1,\n 'Georgia': 1,\n 'Macedonia': 1,\n 'Tunisia': 1,\n 'Guadeloupe': 1,\n 'Burkina Faso': 1,\n 'Saint Lucia': 1,\n 'Armenia': 1,\n 'Central African Republic': 1,\n 'Uruguay': 1,\n 'Vietnam': 1,\n 'Marshall Islands': 1,\n 'Russian Federation': 1,\n 'United States Minor Outlying Islands': 1,\n 'Somalia': 1,\n 'Ghana': 1,\n 'Rwanda': 1,\n 'Yemen': 1,\n 'Saint Kitts and Nevis': 1,\n 'Madagascar': 1,\n 'Angola': 1,\n 'Bhutan': 1,\n 'Uzbekistan': 1,\n 'Nauru': 1,\n 'Gambia': 1,\n 'Austria': 1,\n 'Brazil': 1,\n 'Portugal': 1,\n 'Kuwait': 1,\n 'Seychelles': 1,\n 'Singapore': 1,\n 'Argentina': 1,\n 'Qatar': 1,\n 'Suriname': 1,\n 'Pakistan': 1,\n 'Mauritius': 1,\n 'Mauritania': 1,\n 'Finland': 1,\n 'Tanzania': 1,\n 'Greece': 1,\n 'Vanuatu': 1,\n 'Myanmar': 1,\n 'Guam': 1,\n 'Libyan Arab Jamahiriya': 1,\n 'Italy': 1,\n 'Morocco': 1,\n 'Guinea-Bissau': 1,\n 'Romania': 1,\n 'Djibouti': 1,\n 'Tajikistan': 1,\n 'Isle of Man': 1,\n 'Belgium': 1,\n 'Switzerland': 1,\n 'Cook Islands': 1,\n 'Germany': 1,\n 'Greenland': 1,\n 'Ireland': 1,\n 'Ukraine': 1,\n 'United Kingdom': 1,\n 'Montserrat': 1,\n 'Timor-Leste': 1,\n 'Comoros': 1}"
     },
     "execution_count": 160,
     "metadata": {},
     "output_type": "execute_result"
    }
   ],
   "source": [
    "# Ваш код здесь\n",
    "count_Country = pd.value_counts(success_full_df['Country']).to_dict()\n",
    "maxCountryUsers = [k for k, v in count_Country.items() if v == max(count_Country.values())]\n",
    "count_Country\n"
   ],
   "metadata": {
    "collapsed": false,
    "pycharm": {
     "name": "#%%\n"
    }
   }
  },
  {
   "cell_type": "markdown",
   "metadata": {
    "id": "k14sXVXSOjpc"
   },
   "source": [
    "***Задача 17***\n",
    "\n",
    "Для объединённого датафрейма с пользователями, которые кликнули на рекламное сообщение `success_full_df`, выведите строки с данными пользователей из страны, название которой встречается чаще остальных.\n"
   ]
  },
  {
   "cell_type": "code",
   "metadata": {
    "id": "RsWmGl0COjpc"
   },
   "source": [
    "# Ваш код здесь\n",
    "success_full_df[success_full_df['Country'] == maxCountryUsers[0]]"
   ],
   "execution_count": 161,
   "outputs": [
    {
     "data": {
      "text/plain": "     Number  Daily Time Spent on Site  Daily Internet Usage  \\\n245     525                     46.61                136.18   \n246     526                     63.26                120.46   \n278     606                     52.13                118.27   \n297     650                       NaN                137.97   \n299     652                     46.43                137.20   \n417     919                     41.86                128.62   \n423     930                       NaN                   NaN   \n\n                                       Ad Topic Line  Clicked on Ad   Age  \\\n245              Progressive intermediate throughput              1  42.0   \n246                    Customizable holistic archive              1  29.0   \n278                 Open-source even-keeled database              1  50.0   \n297      Seamless bandwidth-monitored knowledge user              1  28.0   \n299  Reverse-engineered background Graphic Interface              1  28.0   \n417                      Open-source stable paradigm              1  39.0   \n423           Front-line fresh-thinking installation              1  45.0   \n\n     Male               City   Country  Area Income  \n245   0.0      Catherinefort  Ethiopia     65856.74  \n246   1.0         East Donna  Ethiopia     54787.37  \n278   1.0  West Raymondmouth  Ethiopia     40926.93  \n297   1.0          Markhaven  Ethiopia     39723.97  \n299   1.0          Brianland  Ethiopia     53922.43  \n417   1.0        Hawkinsbury  Ethiopia     53041.77  \n423   0.0     Huffmanchester  Ethiopia     43241.88  ",
      "text/html": "<div>\n<style scoped>\n    .dataframe tbody tr th:only-of-type {\n        vertical-align: middle;\n    }\n\n    .dataframe tbody tr th {\n        vertical-align: top;\n    }\n\n    .dataframe thead th {\n        text-align: right;\n    }\n</style>\n<table border=\"1\" class=\"dataframe\">\n  <thead>\n    <tr style=\"text-align: right;\">\n      <th></th>\n      <th>Number</th>\n      <th>Daily Time Spent on Site</th>\n      <th>Daily Internet Usage</th>\n      <th>Ad Topic Line</th>\n      <th>Clicked on Ad</th>\n      <th>Age</th>\n      <th>Male</th>\n      <th>City</th>\n      <th>Country</th>\n      <th>Area Income</th>\n    </tr>\n  </thead>\n  <tbody>\n    <tr>\n      <th>245</th>\n      <td>525</td>\n      <td>46.61</td>\n      <td>136.18</td>\n      <td>Progressive intermediate throughput</td>\n      <td>1</td>\n      <td>42.0</td>\n      <td>0.0</td>\n      <td>Catherinefort</td>\n      <td>Ethiopia</td>\n      <td>65856.74</td>\n    </tr>\n    <tr>\n      <th>246</th>\n      <td>526</td>\n      <td>63.26</td>\n      <td>120.46</td>\n      <td>Customizable holistic archive</td>\n      <td>1</td>\n      <td>29.0</td>\n      <td>1.0</td>\n      <td>East Donna</td>\n      <td>Ethiopia</td>\n      <td>54787.37</td>\n    </tr>\n    <tr>\n      <th>278</th>\n      <td>606</td>\n      <td>52.13</td>\n      <td>118.27</td>\n      <td>Open-source even-keeled database</td>\n      <td>1</td>\n      <td>50.0</td>\n      <td>1.0</td>\n      <td>West Raymondmouth</td>\n      <td>Ethiopia</td>\n      <td>40926.93</td>\n    </tr>\n    <tr>\n      <th>297</th>\n      <td>650</td>\n      <td>NaN</td>\n      <td>137.97</td>\n      <td>Seamless bandwidth-monitored knowledge user</td>\n      <td>1</td>\n      <td>28.0</td>\n      <td>1.0</td>\n      <td>Markhaven</td>\n      <td>Ethiopia</td>\n      <td>39723.97</td>\n    </tr>\n    <tr>\n      <th>299</th>\n      <td>652</td>\n      <td>46.43</td>\n      <td>137.20</td>\n      <td>Reverse-engineered background Graphic Interface</td>\n      <td>1</td>\n      <td>28.0</td>\n      <td>1.0</td>\n      <td>Brianland</td>\n      <td>Ethiopia</td>\n      <td>53922.43</td>\n    </tr>\n    <tr>\n      <th>417</th>\n      <td>919</td>\n      <td>41.86</td>\n      <td>128.62</td>\n      <td>Open-source stable paradigm</td>\n      <td>1</td>\n      <td>39.0</td>\n      <td>1.0</td>\n      <td>Hawkinsbury</td>\n      <td>Ethiopia</td>\n      <td>53041.77</td>\n    </tr>\n    <tr>\n      <th>423</th>\n      <td>930</td>\n      <td>NaN</td>\n      <td>NaN</td>\n      <td>Front-line fresh-thinking installation</td>\n      <td>1</td>\n      <td>45.0</td>\n      <td>0.0</td>\n      <td>Huffmanchester</td>\n      <td>Ethiopia</td>\n      <td>43241.88</td>\n    </tr>\n  </tbody>\n</table>\n</div>"
     },
     "execution_count": 161,
     "metadata": {},
     "output_type": "execute_result"
    }
   ]
  },
  {
   "cell_type": "markdown",
   "metadata": {
    "id": "cG08bAqrOjpc"
   },
   "source": [
    "***Задача 18***\n",
    "\n",
    "Для объединённого датафрейма с пользователями, которые кликнули на рекламное сообщение `success_full_df`, выведите строки с данными пользователей из страны, название которой встречается чаще остальных, они проводят в интернете в среднем больше 120 минут и их возраст меньше 30 лет. \n",
    "Cохраните получившиеся строки в новый датафрейм `filtered_df`.\n"
   ]
  },
  {
   "cell_type": "code",
   "metadata": {
    "id": "p-meXdGOOjpc"
   },
   "source": [
    "# Ваш код здесь\n",
    "filtered_df = success_full_df.loc[(success_full_df['Country'] == maxCountryUsers[0])\n",
    "                                  & (success_full_df['Daily Internet Usage'] > 120.0)\n",
    "                                  & (success_full_df['Age'] < 30.0)\n",
    "                                 ]\n",
    "filtered_df"
   ],
   "execution_count": 187,
   "outputs": [
    {
     "data": {
      "text/plain": "     Number  Daily Time Spent on Site  Daily Internet Usage  \\\n246     526                     63.26                120.46   \n297     650                       NaN                137.97   \n299     652                     46.43                137.20   \n\n                                       Ad Topic Line  Clicked on Ad   Age  \\\n246                    Customizable holistic archive              1  29.0   \n297      Seamless bandwidth-monitored knowledge user              1  28.0   \n299  Reverse-engineered background Graphic Interface              1  28.0   \n\n     Male        City   Country  Area Income  \n246   1.0  East Donna  Ethiopia     54787.37  \n297   1.0   Markhaven  Ethiopia     39723.97  \n299   1.0   Brianland  Ethiopia     53922.43  ",
      "text/html": "<div>\n<style scoped>\n    .dataframe tbody tr th:only-of-type {\n        vertical-align: middle;\n    }\n\n    .dataframe tbody tr th {\n        vertical-align: top;\n    }\n\n    .dataframe thead th {\n        text-align: right;\n    }\n</style>\n<table border=\"1\" class=\"dataframe\">\n  <thead>\n    <tr style=\"text-align: right;\">\n      <th></th>\n      <th>Number</th>\n      <th>Daily Time Spent on Site</th>\n      <th>Daily Internet Usage</th>\n      <th>Ad Topic Line</th>\n      <th>Clicked on Ad</th>\n      <th>Age</th>\n      <th>Male</th>\n      <th>City</th>\n      <th>Country</th>\n      <th>Area Income</th>\n    </tr>\n  </thead>\n  <tbody>\n    <tr>\n      <th>246</th>\n      <td>526</td>\n      <td>63.26</td>\n      <td>120.46</td>\n      <td>Customizable holistic archive</td>\n      <td>1</td>\n      <td>29.0</td>\n      <td>1.0</td>\n      <td>East Donna</td>\n      <td>Ethiopia</td>\n      <td>54787.37</td>\n    </tr>\n    <tr>\n      <th>297</th>\n      <td>650</td>\n      <td>NaN</td>\n      <td>137.97</td>\n      <td>Seamless bandwidth-monitored knowledge user</td>\n      <td>1</td>\n      <td>28.0</td>\n      <td>1.0</td>\n      <td>Markhaven</td>\n      <td>Ethiopia</td>\n      <td>39723.97</td>\n    </tr>\n    <tr>\n      <th>299</th>\n      <td>652</td>\n      <td>46.43</td>\n      <td>137.20</td>\n      <td>Reverse-engineered background Graphic Interface</td>\n      <td>1</td>\n      <td>28.0</td>\n      <td>1.0</td>\n      <td>Brianland</td>\n      <td>Ethiopia</td>\n      <td>53922.43</td>\n    </tr>\n  </tbody>\n</table>\n</div>"
     },
     "execution_count": 187,
     "metadata": {},
     "output_type": "execute_result"
    }
   ]
  },
  {
   "cell_type": "markdown",
   "metadata": {
    "id": "HHczs4f6Ojpc"
   },
   "source": [
    "***Задача 19***\n",
    "\n",
    "Для получившегося датафрейма `filtered_df` выведите строки с данными пользователей, для которых либо не указано среднее время, проведённое на сайте, либо указанное время больше 55 минут. Cохраните получившиеся строки в новый датафрейм `filtered_df2`.\n"
   ]
  },
  {
   "cell_type": "code",
   "metadata": {
    "id": "jeWcOmrXOjpd"
   },
   "source": [
    "# Ваш код здесь\n",
    "filtered_df2 = filtered_df.loc[(filtered_df['Daily Time Spent on Site'].isna())\n",
    "    | (filtered_df['Daily Time Spent on Site'] > 55.0)\n",
    "]\n",
    "filtered_df2"
   ],
   "execution_count": 189,
   "outputs": [
    {
     "data": {
      "text/plain": "     Number  Daily Time Spent on Site  Daily Internet Usage  \\\n246     526                     63.26                120.46   \n297     650                       NaN                137.97   \n\n                                   Ad Topic Line  Clicked on Ad   Age  Male  \\\n246                Customizable holistic archive              1  29.0   1.0   \n297  Seamless bandwidth-monitored knowledge user              1  28.0   1.0   \n\n           City   Country  Area Income  \n246  East Donna  Ethiopia     54787.37  \n297   Markhaven  Ethiopia     39723.97  ",
      "text/html": "<div>\n<style scoped>\n    .dataframe tbody tr th:only-of-type {\n        vertical-align: middle;\n    }\n\n    .dataframe tbody tr th {\n        vertical-align: top;\n    }\n\n    .dataframe thead th {\n        text-align: right;\n    }\n</style>\n<table border=\"1\" class=\"dataframe\">\n  <thead>\n    <tr style=\"text-align: right;\">\n      <th></th>\n      <th>Number</th>\n      <th>Daily Time Spent on Site</th>\n      <th>Daily Internet Usage</th>\n      <th>Ad Topic Line</th>\n      <th>Clicked on Ad</th>\n      <th>Age</th>\n      <th>Male</th>\n      <th>City</th>\n      <th>Country</th>\n      <th>Area Income</th>\n    </tr>\n  </thead>\n  <tbody>\n    <tr>\n      <th>246</th>\n      <td>526</td>\n      <td>63.26</td>\n      <td>120.46</td>\n      <td>Customizable holistic archive</td>\n      <td>1</td>\n      <td>29.0</td>\n      <td>1.0</td>\n      <td>East Donna</td>\n      <td>Ethiopia</td>\n      <td>54787.37</td>\n    </tr>\n    <tr>\n      <th>297</th>\n      <td>650</td>\n      <td>NaN</td>\n      <td>137.97</td>\n      <td>Seamless bandwidth-monitored knowledge user</td>\n      <td>1</td>\n      <td>28.0</td>\n      <td>1.0</td>\n      <td>Markhaven</td>\n      <td>Ethiopia</td>\n      <td>39723.97</td>\n    </tr>\n  </tbody>\n</table>\n</div>"
     },
     "execution_count": 189,
     "metadata": {},
     "output_type": "execute_result"
    }
   ]
  },
  {
   "cell_type": "markdown",
   "metadata": {
    "id": "UZ63-YrPOjpd"
   },
   "source": [
    "**Дополнительные задачи**"
   ]
  },
  {
   "cell_type": "markdown",
   "metadata": {
    "id": "MIAm3M_SOjpd"
   },
   "source": [
    "***Задача 20***\n",
    "\n",
    "Для датафрейма `adv123_df` выведите строки с данными, заголовок рекламного сообщения в которых включает слово `model`.\n",
    "\n",
    "Для этого вам понадобится метод [`contains`](https://pandas.pydata.org/docs/reference/api/pandas.Series.str.contains.html).\n",
    "\n",
    "Cохраните получившиеся строки в новый датафрейм `model_df`.\n"
   ]
  },
  {
   "cell_type": "code",
   "metadata": {
    "id": "Bdzh725COjpd"
   },
   "source": [
    "# Ваш код здесь\n",
    "model_df = adv123_df[adv123_df['Ad Topic Line'].str.contains('model')]\n",
    "model_df"
   ],
   "execution_count": 293,
   "outputs": [
    {
     "data": {
      "text/plain": "        Daily Time Spent on Site  Daily Internet Usage  \\\nNumber                                                   \n62                         44.98                129.31   \n119                        69.00                   NaN   \n202                        78.57                   NaN   \n211                        76.90                212.67   \n314                          NaN                161.16   \n350                        65.77                   NaN   \n501                        81.10                216.49   \n538                        91.43                209.91   \n629                        78.17                192.27   \n712                        81.90                225.47   \n823                        81.98                212.88   \n995                        35.79                165.62   \n\n                              Ad Topic Line  Clicked on Ad  \nNumber                                                      \n62                   Organized global model              1  \n119                 Virtual composite model              0  \n202           Exclusive client-driven model              0  \n211           Synchronized multimedia model              0  \n314              Extended interactive model              1  \n350     Function-based fault-tolerant model              0  \n501                Front-line dynamic model              0  \n538                Organic motivating model              0  \n629                  Automated mobile model              0  \n712     Multi-channeled 3rdgeneration model              0  \n823                Up-sized maximized model              0  \n995          Enterprise-wide tangible model              1  ",
      "text/html": "<div>\n<style scoped>\n    .dataframe tbody tr th:only-of-type {\n        vertical-align: middle;\n    }\n\n    .dataframe tbody tr th {\n        vertical-align: top;\n    }\n\n    .dataframe thead th {\n        text-align: right;\n    }\n</style>\n<table border=\"1\" class=\"dataframe\">\n  <thead>\n    <tr style=\"text-align: right;\">\n      <th></th>\n      <th>Daily Time Spent on Site</th>\n      <th>Daily Internet Usage</th>\n      <th>Ad Topic Line</th>\n      <th>Clicked on Ad</th>\n    </tr>\n    <tr>\n      <th>Number</th>\n      <th></th>\n      <th></th>\n      <th></th>\n      <th></th>\n    </tr>\n  </thead>\n  <tbody>\n    <tr>\n      <th>62</th>\n      <td>44.98</td>\n      <td>129.31</td>\n      <td>Organized global model</td>\n      <td>1</td>\n    </tr>\n    <tr>\n      <th>119</th>\n      <td>69.00</td>\n      <td>NaN</td>\n      <td>Virtual composite model</td>\n      <td>0</td>\n    </tr>\n    <tr>\n      <th>202</th>\n      <td>78.57</td>\n      <td>NaN</td>\n      <td>Exclusive client-driven model</td>\n      <td>0</td>\n    </tr>\n    <tr>\n      <th>211</th>\n      <td>76.90</td>\n      <td>212.67</td>\n      <td>Synchronized multimedia model</td>\n      <td>0</td>\n    </tr>\n    <tr>\n      <th>314</th>\n      <td>NaN</td>\n      <td>161.16</td>\n      <td>Extended interactive model</td>\n      <td>1</td>\n    </tr>\n    <tr>\n      <th>350</th>\n      <td>65.77</td>\n      <td>NaN</td>\n      <td>Function-based fault-tolerant model</td>\n      <td>0</td>\n    </tr>\n    <tr>\n      <th>501</th>\n      <td>81.10</td>\n      <td>216.49</td>\n      <td>Front-line dynamic model</td>\n      <td>0</td>\n    </tr>\n    <tr>\n      <th>538</th>\n      <td>91.43</td>\n      <td>209.91</td>\n      <td>Organic motivating model</td>\n      <td>0</td>\n    </tr>\n    <tr>\n      <th>629</th>\n      <td>78.17</td>\n      <td>192.27</td>\n      <td>Automated mobile model</td>\n      <td>0</td>\n    </tr>\n    <tr>\n      <th>712</th>\n      <td>81.90</td>\n      <td>225.47</td>\n      <td>Multi-channeled 3rdgeneration model</td>\n      <td>0</td>\n    </tr>\n    <tr>\n      <th>823</th>\n      <td>81.98</td>\n      <td>212.88</td>\n      <td>Up-sized maximized model</td>\n      <td>0</td>\n    </tr>\n    <tr>\n      <th>995</th>\n      <td>35.79</td>\n      <td>165.62</td>\n      <td>Enterprise-wide tangible model</td>\n      <td>1</td>\n    </tr>\n  </tbody>\n</table>\n</div>"
     },
     "execution_count": 293,
     "metadata": {},
     "output_type": "execute_result"
    }
   ]
  },
  {
   "cell_type": "markdown",
   "metadata": {
    "id": "u198e6noOjpd"
   },
   "source": [
    "***Задача 21***\n",
    "\n",
    "Для получившегося датафрейма `model_df` выведите строки с данными пользователей, которые проводят на сайте больше среднего времени по всем пользователям в данном датафрейме. Cохраните получившиеся строки в новый датафрейм `model_popular_df`.\n"
   ]
  },
  {
   "cell_type": "code",
   "metadata": {
    "id": "POUDDdXqOjpd"
   },
   "source": [
    "# Ваш код здесь\n",
    "user1_df = user_df.set_index('Number')\n",
    "model_popular_df = user1_df.merge(model_df[model_df['Daily Time Spent on Site'] > model_df['Daily Time Spent on Site'].describe()['mean']], left_index=True, right_index=True)# model_df['Daily Time Spent on Site'].describe()['mean']\n",
    "model_popular_df"
   ],
   "execution_count": 324,
   "outputs": [
    {
     "data": {
      "text/plain": "         Age  Male             City           Country  Area Income  \\\nNumber                                                               \n202      NaN   1.0       East Henry           Liberia     64045.93   \n211     28.0   0.0      Murphymouth           Croatia     66107.84   \n501     29.0   1.0       Port Stacy       El Salvador     61172.07   \n538     39.0   1.0  West Carmenfurt  French Polynesia     46964.11   \n629     27.0   1.0      Portermouth           Burundi     65227.79   \n712     41.0   0.0       Garciatown         Mauritius     66773.83   \n823     34.0   0.0     Patrickmouth      Saint Martin     67432.49   \n\n        Daily Time Spent on Site  Daily Internet Usage  \\\nNumber                                                   \n202                        78.57                   NaN   \n211                        76.90                212.67   \n501                        81.10                216.49   \n538                        91.43                209.91   \n629                        78.17                192.27   \n712                        81.90                225.47   \n823                        81.98                212.88   \n\n                              Ad Topic Line  Clicked on Ad  \nNumber                                                      \n202           Exclusive client-driven model              0  \n211           Synchronized multimedia model              0  \n501                Front-line dynamic model              0  \n538                Organic motivating model              0  \n629                  Automated mobile model              0  \n712     Multi-channeled 3rdgeneration model              0  \n823                Up-sized maximized model              0  ",
      "text/html": "<div>\n<style scoped>\n    .dataframe tbody tr th:only-of-type {\n        vertical-align: middle;\n    }\n\n    .dataframe tbody tr th {\n        vertical-align: top;\n    }\n\n    .dataframe thead th {\n        text-align: right;\n    }\n</style>\n<table border=\"1\" class=\"dataframe\">\n  <thead>\n    <tr style=\"text-align: right;\">\n      <th></th>\n      <th>Age</th>\n      <th>Male</th>\n      <th>City</th>\n      <th>Country</th>\n      <th>Area Income</th>\n      <th>Daily Time Spent on Site</th>\n      <th>Daily Internet Usage</th>\n      <th>Ad Topic Line</th>\n      <th>Clicked on Ad</th>\n    </tr>\n    <tr>\n      <th>Number</th>\n      <th></th>\n      <th></th>\n      <th></th>\n      <th></th>\n      <th></th>\n      <th></th>\n      <th></th>\n      <th></th>\n      <th></th>\n    </tr>\n  </thead>\n  <tbody>\n    <tr>\n      <th>202</th>\n      <td>NaN</td>\n      <td>1.0</td>\n      <td>East Henry</td>\n      <td>Liberia</td>\n      <td>64045.93</td>\n      <td>78.57</td>\n      <td>NaN</td>\n      <td>Exclusive client-driven model</td>\n      <td>0</td>\n    </tr>\n    <tr>\n      <th>211</th>\n      <td>28.0</td>\n      <td>0.0</td>\n      <td>Murphymouth</td>\n      <td>Croatia</td>\n      <td>66107.84</td>\n      <td>76.90</td>\n      <td>212.67</td>\n      <td>Synchronized multimedia model</td>\n      <td>0</td>\n    </tr>\n    <tr>\n      <th>501</th>\n      <td>29.0</td>\n      <td>1.0</td>\n      <td>Port Stacy</td>\n      <td>El Salvador</td>\n      <td>61172.07</td>\n      <td>81.10</td>\n      <td>216.49</td>\n      <td>Front-line dynamic model</td>\n      <td>0</td>\n    </tr>\n    <tr>\n      <th>538</th>\n      <td>39.0</td>\n      <td>1.0</td>\n      <td>West Carmenfurt</td>\n      <td>French Polynesia</td>\n      <td>46964.11</td>\n      <td>91.43</td>\n      <td>209.91</td>\n      <td>Organic motivating model</td>\n      <td>0</td>\n    </tr>\n    <tr>\n      <th>629</th>\n      <td>27.0</td>\n      <td>1.0</td>\n      <td>Portermouth</td>\n      <td>Burundi</td>\n      <td>65227.79</td>\n      <td>78.17</td>\n      <td>192.27</td>\n      <td>Automated mobile model</td>\n      <td>0</td>\n    </tr>\n    <tr>\n      <th>712</th>\n      <td>41.0</td>\n      <td>0.0</td>\n      <td>Garciatown</td>\n      <td>Mauritius</td>\n      <td>66773.83</td>\n      <td>81.90</td>\n      <td>225.47</td>\n      <td>Multi-channeled 3rdgeneration model</td>\n      <td>0</td>\n    </tr>\n    <tr>\n      <th>823</th>\n      <td>34.0</td>\n      <td>0.0</td>\n      <td>Patrickmouth</td>\n      <td>Saint Martin</td>\n      <td>67432.49</td>\n      <td>81.98</td>\n      <td>212.88</td>\n      <td>Up-sized maximized model</td>\n      <td>0</td>\n    </tr>\n  </tbody>\n</table>\n</div>"
     },
     "execution_count": 324,
     "metadata": {},
     "output_type": "execute_result"
    }
   ]
  },
  {
   "cell_type": "code",
   "execution_count": 327,
   "outputs": [
    {
     "data": {
      "text/plain": "71.41727272727272"
     },
     "execution_count": 327,
     "metadata": {},
     "output_type": "execute_result"
    }
   ],
   "source": [
    "model_df['Daily Time Spent on Site'].describe()['mean']"
   ],
   "metadata": {
    "collapsed": false,
    "pycharm": {
     "name": "#%%\n"
    }
   }
  },
  {
   "cell_type": "markdown",
   "metadata": {
    "ExecuteTime": {
     "end_time": "2021-10-24T13:24:06.355148Z",
     "start_time": "2021-10-24T13:24:06.350890Z"
    },
    "id": "7wLZJHOzOjpe"
   },
   "source": [
    "***Задача 22***\n",
    "\n",
    "Для объединённого датафрейма `model_popular_df` выведите строки с данными пользователей, номера которых равны 501, 712 и 823. \n",
    "\n",
    "Для этого вам понадобится метод [`isin`](https://pandas.pydata.org/docs/reference/api/pandas.DataFrame.isin.html).\n",
    "\n",
    "*Подсказка:* Не забудьте, что номера пользователей находятся не в обычной колонке, а в колонке, являющейся индексом, поэтому вам необходимо получить значения индекса, а не обычной колонки."
   ]
  },
  {
   "cell_type": "code",
   "metadata": {
    "id": "Og4623HzOjpe"
   },
   "source": [
    "# Ваш код здесь\n",
    "model_popular_df.loc[[501,712,823]]"
   ],
   "execution_count": 325,
   "outputs": [
    {
     "data": {
      "text/plain": "         Age  Male          City       Country  Area Income  \\\nNumber                                                        \n501     29.0   1.0    Port Stacy   El Salvador     61172.07   \n712     41.0   0.0    Garciatown     Mauritius     66773.83   \n823     34.0   0.0  Patrickmouth  Saint Martin     67432.49   \n\n        Daily Time Spent on Site  Daily Internet Usage  \\\nNumber                                                   \n501                        81.10                216.49   \n712                        81.90                225.47   \n823                        81.98                212.88   \n\n                              Ad Topic Line  Clicked on Ad  \nNumber                                                      \n501                Front-line dynamic model              0  \n712     Multi-channeled 3rdgeneration model              0  \n823                Up-sized maximized model              0  ",
      "text/html": "<div>\n<style scoped>\n    .dataframe tbody tr th:only-of-type {\n        vertical-align: middle;\n    }\n\n    .dataframe tbody tr th {\n        vertical-align: top;\n    }\n\n    .dataframe thead th {\n        text-align: right;\n    }\n</style>\n<table border=\"1\" class=\"dataframe\">\n  <thead>\n    <tr style=\"text-align: right;\">\n      <th></th>\n      <th>Age</th>\n      <th>Male</th>\n      <th>City</th>\n      <th>Country</th>\n      <th>Area Income</th>\n      <th>Daily Time Spent on Site</th>\n      <th>Daily Internet Usage</th>\n      <th>Ad Topic Line</th>\n      <th>Clicked on Ad</th>\n    </tr>\n    <tr>\n      <th>Number</th>\n      <th></th>\n      <th></th>\n      <th></th>\n      <th></th>\n      <th></th>\n      <th></th>\n      <th></th>\n      <th></th>\n      <th></th>\n    </tr>\n  </thead>\n  <tbody>\n    <tr>\n      <th>501</th>\n      <td>29.0</td>\n      <td>1.0</td>\n      <td>Port Stacy</td>\n      <td>El Salvador</td>\n      <td>61172.07</td>\n      <td>81.10</td>\n      <td>216.49</td>\n      <td>Front-line dynamic model</td>\n      <td>0</td>\n    </tr>\n    <tr>\n      <th>712</th>\n      <td>41.0</td>\n      <td>0.0</td>\n      <td>Garciatown</td>\n      <td>Mauritius</td>\n      <td>66773.83</td>\n      <td>81.90</td>\n      <td>225.47</td>\n      <td>Multi-channeled 3rdgeneration model</td>\n      <td>0</td>\n    </tr>\n    <tr>\n      <th>823</th>\n      <td>34.0</td>\n      <td>0.0</td>\n      <td>Patrickmouth</td>\n      <td>Saint Martin</td>\n      <td>67432.49</td>\n      <td>81.98</td>\n      <td>212.88</td>\n      <td>Up-sized maximized model</td>\n      <td>0</td>\n    </tr>\n  </tbody>\n</table>\n</div>"
     },
     "execution_count": 325,
     "metadata": {},
     "output_type": "execute_result"
    }
   ]
  },
  {
   "cell_type": "code",
   "execution_count": null,
   "outputs": [],
   "source": [],
   "metadata": {
    "collapsed": false,
    "pycharm": {
     "name": "#%%\n"
    }
   }
  }
 ]
}