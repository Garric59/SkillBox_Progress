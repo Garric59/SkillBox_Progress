{
 "nbformat": 4,
 "nbformat_minor": 0,
 "metadata": {
  "colab": {
   "name": "10.3_Множества_Практика.ipynb",
   "provenance": [],
   "collapsed_sections": []
  },
  "kernelspec": {
   "name": "python3",
   "display_name": "Python 3"
  },
  "language_info": {
   "name": "python"
  }
 },
 "cells": [
  {
   "cell_type": "markdown",
   "metadata": {
    "id": "1N627HauDORH",
    "pycharm": {
     "name": "#%% md\n"
    }
   },
   "source": [
    "# Множества. Практическое задание\n",
    "\n",
    "В этом практическом задании две обязательные и одна дополнительная задача.\n",
    "\n",
    "*Обязательные задачи* нужно сделать, чтобы проверить, что вы действительно усвоили материал урока. Если у вас всё получилось, вы можете переходить к следующему уроку.\n",
    "\n",
    "*Дополнительные задачи* для тех, кто чувствует, что нужно ещё немного потренироваться и порешать задачки по программированию.\n",
    "\n",
    "Удачи!\n"
   ]
  },
  {
   "cell_type": "markdown",
   "metadata": {
    "id": "d_lOky2oDSS6",
    "pycharm": {
     "name": "#%% md\n"
    }
   },
   "source": [
    "**Цели практического задания:**\n",
    "\n",
    "\n",
    "1.   Попрактиковать работу с типом данных set в Python.\n",
    "2.   Отработать операции над множествами: пересечение, объединение, вычитание.\n",
    "\n"
   ]
  },
  {
   "cell_type": "markdown",
   "metadata": {
    "id": "kSuS0M15DguK",
    "pycharm": {
     "name": "#%% md\n"
    }
   },
   "source": [
    "\n",
    "\n",
    "---\n",
    "\n",
    "\n",
    "---\n",
    "\n"
   ]
  },
  {
   "cell_type": "markdown",
   "metadata": {
    "id": "rZW1xr_ODhmX",
    "pycharm": {
     "name": "#%% md\n"
    }
   },
   "source": [
    "**Обязательные задачи**"
   ]
  },
  {
   "cell_type": "markdown",
   "metadata": {
    "id": "EkIeM_8MDjms",
    "pycharm": {
     "name": "#%% md\n"
    }
   },
   "source": [
    "*Задача 1. Операции над множествами*\n",
    "\n",
    "Есть два списка. В списке `opened` лежат все ID договоров, открытых за прошлую неделю. В списке `closed` лежат все ID договоров, закрытых за прошлую неделю. \n",
    "\n",
    "Найдите с помощью множеств следующие значения:\n",
    "1. ID договоров, которые были открыты, а затем закрыты на прошлой неделе.\n",
    "2. ID договоров, которые были закрыты на прошлой неделе, но открыты ранее прошлой недели.\n",
    "3. ID договоров, которые были открыты на прошлой неделе, но пока не закрылись.\n",
    "4. Все ID договоров, с которыми производили операции закрытия или открытия на прошлой неделе.\n",
    "5. Проверьте, что сумма элементов из 1, 2, 3 равна 4.\n",
    "\n",
    "Проверьте работоспособность программы на разных значениях `opened`, `closed`.\n",
    "\n",
    "\n",
    "\n",
    "\n"
   ]
  },
  {
   "cell_type": "code",
   "metadata": {
    "id": "hAxIBXUr0Sh7",
    "pycharm": {
     "name": "#%%\n"
    }
   },
   "source": [
    "opened = ['123', '156', '189', '201', '222', '256', '266', '287', '289', '300']\n",
    "closed = ['20', '78', '85', '123', '222', '256', '287', '289']"
   ],
   "execution_count": null,
   "outputs": []
  },
  {
   "cell_type": "code",
   "metadata": {
    "id": "0FZ4VRVv1eRd",
    "pycharm": {
     "name": "#%%\n"
    }
   },
   "source": [
    "# Ваш код здесь"
   ],
   "execution_count": null,
   "outputs": []
  },
  {
   "cell_type": "markdown",
   "metadata": {
    "id": "kLOK1abacrz5",
    "pycharm": {
     "name": "#%% md\n"
    }
   },
   "source": [
    "*Проверка на дубли*\n",
    "\n",
    "Дан список `numbers`. Для каждого элемента выведите, встречался он до этого в списке или нет. Используйте множества для решения этой задачи.\n",
    "\n",
    "Проверьте работоспособность программы на разных значениях `numbers`.\n"
   ]
  },
  {
   "cell_type": "markdown",
   "metadata": {
    "id": "H3kfzVSjBmok",
    "pycharm": {
     "name": "#%% md\n"
    }
   },
   "source": [
    "Пример: \n",
    "<br>\n",
    "Input: `numbers = [1, 2, 1, 3, 2]` \n",
    "<br>\n",
    "Output: \n",
    "\n",
    "`1 - не встречалось`\n",
    "\n",
    "`2 - не встречалось`\n",
    "\n",
    "`1 - дубль`\n",
    "\n",
    "`3 - не встречалось`\n",
    "\n",
    "`2 - дубль`"
   ]
  },
  {
   "cell_type": "code",
   "metadata": {
    "id": "VwSgUEvECK8z",
    "pycharm": {
     "name": "#%%\n"
    }
   },
   "source": [
    "numbers = [1, 2, 1, 3, 2]"
   ],
   "execution_count": null,
   "outputs": []
  },
  {
   "cell_type": "code",
   "metadata": {
    "id": "nwpN2SXnDRlg",
    "pycharm": {
     "name": "#%%\n"
    }
   },
   "source": [
    "# Ваш код здесь"
   ],
   "execution_count": null,
   "outputs": []
  },
  {
   "cell_type": "markdown",
   "metadata": {
    "id": "PG32wmrtCDUI",
    "pycharm": {
     "name": "#%% md\n"
    }
   },
   "source": [
    "\n",
    "\n",
    "---\n",
    "\n",
    "\n",
    "---\n",
    "\n"
   ]
  },
  {
   "cell_type": "markdown",
   "metadata": {
    "id": "3R_pNvq8CGVe",
    "pycharm": {
     "name": "#%% md\n"
    }
   },
   "source": [
    "**Дополнительные задачи**"
   ]
  },
  {
   "cell_type": "markdown",
   "metadata": {
    "id": "r5RHqRY-Ngxj",
    "pycharm": {
     "name": "#%% md\n"
    }
   },
   "source": [
    "*Проверка на плагиат*\n",
    "\n",
    "Даны два текста, которые лежат в переменных `text1` и  `text2` соответственно. Найдите схожесть данных текстов. Давайте считать схожестью процент, который можно найти по следующей формуле:\n",
    "\n",
    "схожесть = (количество уникальных одинаковых слов / общее число уникальных слов в двух текстах) * 100%\n",
    "\n",
    "\n",
    "В этом задании слова не нужно приводить в начальную форму. Так, \"цены\" и \"цен\" в текстах ниже мы будем считать разными словами."
   ]
  },
  {
   "cell_type": "markdown",
   "metadata": {
    "id": "0h844tl-PBPZ",
    "pycharm": {
     "name": "#%% md\n"
    }
   },
   "source": [
    "Подсказка:\n",
    "1. От нежелательных знаков препинания можно избавиться с помощью `replace`.\n",
    "2. Символ `\\` удалять не нужно, он позволяет описывать строковую переменную в несколько строк в коде.\n"
   ]
  },
  {
   "cell_type": "code",
   "metadata": {
    "id": "ocdGf-RcCEOL",
    "pycharm": {
     "name": "#%%\n"
    }
   },
   "source": [
    "text1 = 'В первом квартале года отмечался рост цен практически на все сырьевые товары, что отражало сохранение тенденции к заметному росту цен, начавшемуся в середине 2020 года.\\\n",
    " Больше всего подорожали энергоресурсы, что имеет особое значение для российского экспорта топливо-энергетических товаров.'\n",
    "\n",
    "text2 = 'Цены на неэнергетические сырьевые товары в третьем квартале года в среднем выросли на 10% и по итогам года они покажут незначительный рост по сравнению с 2020. \\\n",
    "Это приведет к заметному росту цен на другие ресурсы.'"
   ],
   "execution_count": null,
   "outputs": []
  },
  {
   "cell_type": "code",
   "metadata": {
    "colab": {
     "base_uri": "https://localhost:8080/",
     "height": 52
    },
    "id": "onIqVKnhPmIL",
    "executionInfo": {
     "status": "ok",
     "timestamp": 1634977467816,
     "user_tz": -180,
     "elapsed": 14,
     "user": {
      "displayName": "Yulduz Fattakhova",
      "photoUrl": "https://lh3.googleusercontent.com/a-/AOh14GiMux79i3vxuxKnCVSDClfaXbH-jvsA0woYdDAT=s64",
      "userId": "14698334089562212742"
     }
    },
    "outputId": "107036fe-b03d-4032-88ca-275fda94ef39",
    "pycharm": {
     "name": "#%%\n"
    }
   },
   "source": [
    "text1"
   ],
   "execution_count": null,
   "outputs": [
    {
     "output_type": "execute_result",
     "data": {
      "application/vnd.google.colaboratory.intrinsic+json": {
       "type": "string"
      },
      "text/plain": [
       "'В первом квартале года отмечался рост цен практически на все сырьевые товары, что отражало сохранение тенденции к заметному росту цен, начавшемуся в середине 2020 года. Больше всего подорожали энергоресурсы, что имеет особое значение для российского экспорта топливо-энергетических товаров.'"
      ]
     },
     "metadata": {},
     "execution_count": 5
    }
   ]
  },
  {
   "cell_type": "code",
   "metadata": {
    "colab": {
     "base_uri": "https://localhost:8080/",
     "height": 52
    },
    "id": "h15ANBaQPmQS",
    "executionInfo": {
     "status": "ok",
     "timestamp": 1634977468583,
     "user_tz": -180,
     "elapsed": 360,
     "user": {
      "displayName": "Yulduz Fattakhova",
      "photoUrl": "https://lh3.googleusercontent.com/a-/AOh14GiMux79i3vxuxKnCVSDClfaXbH-jvsA0woYdDAT=s64",
      "userId": "14698334089562212742"
     }
    },
    "outputId": "2e8cd899-4847-426e-97bf-a789e8fb8115",
    "pycharm": {
     "name": "#%%\n"
    }
   },
   "source": [
    "text2"
   ],
   "execution_count": null,
   "outputs": [
    {
     "output_type": "execute_result",
     "data": {
      "application/vnd.google.colaboratory.intrinsic+json": {
       "type": "string"
      },
      "text/plain": [
       "'Цены на неэнергетические сырьевые товары в третьем квартале года в среднем выросли на 10% и по итогам года они покажут незначительный рост по сравнению с 2020. Это приведет к заметному росту цен на другие ресурсы.'"
      ]
     },
     "metadata": {},
     "execution_count": 6
    }
   ]
  },
  {
   "cell_type": "code",
   "metadata": {
    "id": "-cPD4lxpPPQC",
    "pycharm": {
     "name": "#%%\n"
    }
   },
   "source": [
    "# Ваш код здесь"
   ],
   "execution_count": null,
   "outputs": []
  }
 ]
}