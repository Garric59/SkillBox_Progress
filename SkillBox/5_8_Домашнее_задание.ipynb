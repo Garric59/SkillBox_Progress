{
 "nbformat": 4,
 "nbformat_minor": 0,
 "metadata": {
  "colab": {
   "name": "5.8_Домашнее_задание.ipynb",
   "provenance": []
  },
  "kernelspec": {
   "name": "python3",
   "display_name": "Python 3"
  },
  "language_info": {
   "name": "python"
  }
 },
 "cells": [
  {
   "cell_type": "markdown",
   "metadata": {
    "id": "DQMbBvBmCHHB"
   },
   "source": [
    "# Переменные и типы данных. Домашнее задание\n",
    "\n",
    "### Цель домашнего задания\n",
    "Закрепить пройденный материал о переменных, типах данных и булевых значениях.\n",
    "\n",
    "###Что нужно сделать\n",
    "Выполните предложенные ниже задачи.\n",
    "\n",
    "###Что оценивается\n",
    "Для каждой задачи:\n",
    "* Программа выполняет все описанные в задаче действия.\n",
    "* Результаты вычислений и применённых операций корректны.\n",
    "* Вывод производится в том виде, который описан в задаче.\n",
    "* Переменные имеют информативные названия.\n",
    "\n",
    "### Как отправить задание на проверку\n",
    "Выполните предложенные задачи, сохраните изменения, используя опцию Save and Checkpoint из вкладки меню File или кнопку Save and Checkpoint на панели инструментов. Итоговый файл .ipynb (файл Jupyter Notebook) или ссылку на него отправьте на проверку преподавателю.\n",
    "\n"
   ]
  },
  {
   "cell_type": "markdown",
   "metadata": {
    "id": "xC9zfQx09hse"
   },
   "source": [
    "1. В ячейке ниже вы видите пять переменных. Составьте из них осмысленную фразу и выведите на печать, используя конкатенацию."
   ]
  },
  {
   "cell_type": "code",
   "metadata": {
    "id": "_Er7M5A6BOW5"
   },
   "source": [
    "# Переменные\n",
    "inf = \"греться \"\n",
    "noun = \"змеи \"\n",
    "obj = \"солнце \"\n",
    "prep = \"на \"\n",
    "verb = \"любят \""
   ],
   "execution_count": 7,
   "outputs": []
  },
  {
   "cell_type": "code",
   "execution_count": 8,
   "outputs": [
    {
     "name": "stdout",
     "output_type": "stream",
     "text": [
      "змеи любят греться на солнце \n"
     ]
    }
   ],
   "source": [
    "# Выведите на печать фразу\n",
    "print(noun + verb + inf + prep + obj)"
   ],
   "metadata": {
    "collapsed": false,
    "pycharm": {
     "name": "#%%\n"
    }
   }
  },
  {
   "cell_type": "markdown",
   "source": [
    "2. Вы проехали на такси 15,5 километра и заплатили за поездку 520 рублей. Сохраните данные в переменные и посчитайте, сколько стоил километр вашей поездки. Выведите стоимость километра поездки на экран.\n"
   ],
   "metadata": {
    "collapsed": false
   }
  },
  {
   "cell_type": "code",
   "metadata": {
    "id": "8SZO6KwpHx7v"
   },
   "source": [
    "# Переменные\n",
    "distance = 15.5\n",
    "price = 520\n",
    "\n",
    "# Расчёт стоимости на километр\n",
    "cost = distance / price\n",
    "# Вывод на экран\n",
    "print(\"Стоимость километра поездки: ${cost}\")\n"
   ],
   "execution_count": 10,
   "outputs": [
    {
     "name": "stdout",
     "output_type": "stream",
     "text": [
      "Стоимость километра поездки: ${cost}\n"
     ]
    }
   ]
  },
  {
   "cell_type": "markdown",
   "metadata": {
    "id": "xXP2rrn8IOQw"
   },
   "source": [
    "3. В ячейке ниже есть несколько переменных. Проверьте, относятся ли они к типу данных «строка». Выведите для каждого результат проверки на экран.\n"
   ]
  },
  {
   "cell_type": "markdown",
   "metadata": {
    "id": "FctfjX1QIdvB"
   },
   "source": [
    "*Критерии оценки*: задание считается выполненным, если на выводе мы видим проверку для всех трех переменных и результат для каждой из них в виде True или False"
   ]
  },
  {
   "cell_type": "code",
   "metadata": {
    "id": "XaqILybNGQi5"
   },
   "source": [
    "# Переменные для проверки\n",
    "age = 1006\n",
    "town = 'Торжок'\n",
    "beautiful = True\n",
    "\n",
    "# Проверяем и выводим результат\n",
    "print('Переменная age является строкой', type(age) == str)\n",
    "print('Переменная town является строкой', type(town) == str)\n",
    "print('Переменная beautiful является строкой', type(beautiful) == str)\n"
   ],
   "execution_count": 19,
   "outputs": [
    {
     "name": "stdout",
     "output_type": "stream",
     "text": [
      "Переменная age является строкой False\n",
      "Переменная town является строкой True\n",
      "Переменная beautiful является строкой False\n"
     ]
    }
   ]
  },
  {
   "cell_type": "markdown",
   "metadata": {
    "id": "j_D8Y5U6GUHp"
   },
   "source": [
    "4. Посмотрите вокруг. Наверное, вы сидите в помещении (если нет, представьте любое знакомое помещение). Как вы думаете, его площадь больше 15 квадратных метров или меньше? Напишите программу, которая будет сравнивать площадь этого помещения с 15 квадратными метрами. Ширину и длину программа должна запрашивать на ввод с экрана. В итоге программа должна выводить на экран вопрос «Ваша комната больше 15 квадратных метров?» и сама же отвечать на него `True` или `False`.\n"
   ]
  },
  {
   "cell_type": "code",
   "metadata": {
    "id": "nj9JahM_HbvF"
   },
   "source": [
    "# Начинаем с ввода данных с экрана, которые сохраняем в переменные. Помните про тип данных!\n",
    "\n",
    "width = float(input(\"Введите ширину комнаты:\"))\n",
    "higth = float(input(\"Введите длину комнаты:\"))\n",
    "\n",
    "# Вычисляем площадь\n",
    "s = width * higth\n",
    "\n",
    "# Выводим на экран вопрос\n",
    "print(\"Ваша комната больше 15 кв. метров?\")\n",
    "# Сравниваем полученную площадь с 15 квадратными метрами\n",
    "s > 15"
   ],
   "execution_count": 20,
   "outputs": [
    {
     "name": "stdout",
     "output_type": "stream",
     "text": [
      "Ваша комната больше 15 кв. метров?\n"
     ]
    },
    {
     "data": {
      "text/plain": "False"
     },
     "execution_count": 20,
     "metadata": {},
     "output_type": "execute_result"
    }
   ]
  },
  {
   "cell_type": "markdown",
   "metadata": {
    "id": "YfnVuKRuIvdZ"
   },
   "source": [
    "5. Напишите программу, которая запрашивает на ввод какое-то слово или фразу, а потом выводит на печать длину этой фразы.\n"
   ]
  },
  {
   "cell_type": "code",
   "metadata": {
    "id": "pdQSd8RKHzPU"
   },
   "source": [
    "# Запрашиваем фразу\n",
    "strMy = input(\"Введите любое слово или фразу\")\n",
    "\n",
    "# Считаем длину\n",
    "characterCount = len(strMy)\n",
    "print(\"Вы ввели:\", strMy)\n",
    "# Выводим длину фразы на экран\n",
    "print(\"Длина вашего любимого слова или фразы: \", characterCount)\n"
   ],
   "execution_count": 25,
   "outputs": [
    {
     "name": "stdout",
     "output_type": "stream",
     "text": [
      "Вы ввели: от слова совсем\n",
      "Длина вашего любимого слова или фразы:  15\n"
     ]
    }
   ]
  },
  {
   "cell_type": "markdown",
   "metadata": {
    "id": "6g_gZkuHKxJ_"
   },
   "source": [
    "6. Замените вопросительный знак так, чтобы на выводе получилось `True`.\n"
   ]
  },
  {
   "cell_type": "code",
   "metadata": {
    "colab": {
     "base_uri": "https://localhost:8080/"
    },
    "id": "tP6aWWSzKxzJ",
    "executionInfo": {
     "status": "ok",
     "timestamp": 1630882731242,
     "user_tz": -180,
     "elapsed": 405,
     "user": {
      "displayName": "Evgeniya Rakina",
      "photoUrl": "",
      "userId": "02082358283809329905"
     }
    },
    "outputId": "99829aad-152a-4331-8d9f-b3206074b349"
   },
   "source": [
    "len(\"Привет\") < 14 or type(\"Привет\") == float"
   ],
   "execution_count": 27,
   "outputs": [
    {
     "data": {
      "text/plain": "True"
     },
     "execution_count": 27,
     "metadata": {},
     "output_type": "execute_result"
    }
   ]
  },
  {
   "cell_type": "code",
   "metadata": {
    "colab": {
     "base_uri": "https://localhost:8080/"
    },
    "id": "8Uenbo4dLiCW",
    "executionInfo": {
     "status": "ok",
     "timestamp": 1630882995848,
     "user_tz": -180,
     "elapsed": 293,
     "user": {
      "displayName": "Evgeniya Rakina",
      "photoUrl": "",
      "userId": "02082358283809329905"
     }
    },
    "outputId": "0941a29c-9314-4c4e-f331-781b73872f43"
   },
   "source": [
    "not (int(3.5) != 3 and 3 < 5)"
   ],
   "execution_count": 29,
   "outputs": [
    {
     "data": {
      "text/plain": "True"
     },
     "execution_count": 29,
     "metadata": {},
     "output_type": "execute_result"
    }
   ]
  },
  {
   "cell_type": "code",
   "metadata": {
    "colab": {
     "base_uri": "https://localhost:8080/"
    },
    "id": "VP7-FMbCMcKj",
    "executionInfo": {
     "status": "ok",
     "timestamp": 1630883081934,
     "user_tz": -180,
     "elapsed": 339,
     "user": {
      "displayName": "Evgeniya Rakina",
      "photoUrl": "",
      "userId": "02082358283809329905"
     }
    },
    "outputId": "fe1f2679-809b-43bc-9b4d-35f430bd9dac"
   },
   "source": [
    " True * 5 >= 5"
   ],
   "execution_count": 1,
   "outputs": [
    {
     "data": {
      "text/plain": "True"
     },
     "execution_count": 1,
     "metadata": {},
     "output_type": "execute_result"
    }
   ]
  },
  {
   "cell_type": "code",
   "metadata": {
    "colab": {
     "base_uri": "https://localhost:8080/"
    },
    "id": "OsHOg26GNOvT",
    "executionInfo": {
     "status": "ok",
     "timestamp": 1630883127639,
     "user_tz": -180,
     "elapsed": 445,
     "user": {
      "displayName": "Evgeniya Rakina",
      "photoUrl": "",
      "userId": "02082358283809329905"
     }
    },
    "outputId": "d1af4de5-467a-47fc-b6ce-59d3265238e3"
   },
   "source": [
    "float(35) < 77.0"
   ],
   "execution_count": 34,
   "outputs": [
    {
     "data": {
      "text/plain": "True"
     },
     "execution_count": 34,
     "metadata": {},
     "output_type": "execute_result"
    }
   ]
  },
  {
   "cell_type": "code",
   "metadata": {
    "colab": {
     "base_uri": "https://localhost:8080/"
    },
    "id": "k9bJm0thNYHb",
    "executionInfo": {
     "status": "ok",
     "timestamp": 1630883169393,
     "user_tz": -180,
     "elapsed": 273,
     "user": {
      "displayName": "Evgeniya Rakina",
      "photoUrl": "",
      "userId": "02082358283809329905"
     }
    },
    "outputId": "dd9d2ecc-c373-4bfe-b87c-7bc184fbdbf8"
   },
   "source": [
    "77 // 2 == 38 and not False"
   ],
   "execution_count": 37,
   "outputs": [
    {
     "data": {
      "text/plain": "True"
     },
     "execution_count": 37,
     "metadata": {},
     "output_type": "execute_result"
    }
   ]
  },
  {
   "cell_type": "code",
   "metadata": {
    "id": "-FLpMEj3NgEC"
   },
   "source": [
    ""
   ],
   "execution_count": null,
   "outputs": []
  }
 ]
}