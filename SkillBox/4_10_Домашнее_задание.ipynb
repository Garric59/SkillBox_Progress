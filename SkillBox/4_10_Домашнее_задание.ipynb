{
 "cells": [
  {
   "cell_type": "markdown",
   "id": "a46773f4",
   "metadata": {
    "id": "a46773f4"
   },
   "source": [
    "# Цель домашнего задания:\n",
    "## Повторить пройденный в модуле материал:\n",
    "* работа в Jupyter Notebook;\n",
    "* арифметические операции;\n",
    "* работа с функцией print()."
   ]
  },
  {
   "cell_type": "markdown",
   "id": "9523c736",
   "metadata": {
    "id": "9523c736"
   },
   "source": [
    "## Что нужно сделать:"
   ]
  },
  {
   "cell_type": "markdown",
   "id": "edc32e30",
   "metadata": {
    "id": "edc32e30"
   },
   "source": [
    "1. В вашем отделе работает пять человек, их возраст 23, 27, 33, 41 и 62 года. Создайте новую ячейку и напишите в ней выражение, которое рассчитало бы средний возраст сотрудника вашего отдела`"
   ]
  },
  {
   "cell_type": "code",
   "execution_count": 1,
   "id": "452c64b3",
   "metadata": {
    "pycharm": {
     "name": "#%%\n"
    }
   },
   "outputs": [
    {
     "name": "stdout",
     "output_type": "stream",
     "text": [
      "Средний возраст сотрудника отдела 37.2\n",
      "Средний возраст сотрудника отдела 37.2\n"
     ]
    }
   ],
   "source": [
    "#1 способ\n",
    "avgAge = 23 + 27 + 33 + 41 + 62\n",
    "print(\"Средний возраст сотрудника отдела\", avgAge/5)\n",
    "\n",
    "#2 способ\n",
    "from numpy import average\n",
    "lstAvgAge = average([23, 27, 33, 41, 62])\n",
    "print(\"Средний возраст сотрудника отдела\", lstAvgAge)"
   ]
  },
  {
   "cell_type": "markdown",
   "id": "ba0254b5",
   "metadata": {
    "id": "ba0254b5"
   },
   "source": [
    "2. По наследству вам досталась советская кафельная плитка размером 15х15 см, 200 штук. Создайте новую ячейку и напишите в ней выражение, которое рассчитывало бы площадь этой плитки в квадратных метрах."
   ]
  },
  {
   "cell_type": "code",
   "execution_count": 2,
   "id": "b296ec98",
   "metadata": {
    "pycharm": {
     "name": "#%%\n"
    }
   },
   "outputs": [
    {
     "name": "stdout",
     "output_type": "stream",
     "text": [
      "Площадь плитки в квадратных метрах 4.5\n"
     ]
    }
   ],
   "source": [
    "#Переводим сантиметры в метры\n",
    "width = 15/100\n",
    "height = 15/100\n",
    "count = 200\n",
    "#Расчитываем\n",
    "tileSizeSquareMeter = height *  width * count\n",
    "print(\"Площадь плитки в квадратных метрах\", tileSizeSquareMeter)"
   ]
  },
  {
   "cell_type": "markdown",
   "id": "56062770",
   "metadata": {
    "id": "56062770"
   },
   "source": [
    "3. Ваш друг решил заработать на День Святого Валентина. Он купил 5 упаковок роз по 100 штук в каждой и собрал их в букеты по 7 роз. Создайте новую ячейку и напишите выражение, которое рассчитывает, сколько целых букетов получится у вашего друга"
   ]
  },
  {
   "cell_type": "code",
   "execution_count": 3,
   "id": "26bcf50b",
   "metadata": {
    "pycharm": {
     "name": "#%%\n"
    }
   },
   "outputs": [
    {
     "name": "stdout",
     "output_type": "stream",
     "text": [
      "Целых букетов 71\n"
     ]
    }
   ],
   "source": [
    "countRoses = 5 * 100\n",
    "countRosesInBouquet = 7\n",
    "countBouquet = countRoses // countRosesInBouquet\n",
    "print(\"Целых букетов\", countBouquet)"
   ]
  },
  {
   "cell_type": "markdown",
   "id": "4671d6bb",
   "metadata": {
    "id": "4671d6bb"
   },
   "source": [
    "4. Сколько роз останется у вашего друга после того, как он соберет последний полный букет? В новой ячейке напишите выражение, которое рассчитывает это число"
   ]
  },
  {
   "cell_type": "code",
   "execution_count": 4,
   "id": "60ba184c",
   "metadata": {
    "pycharm": {
     "name": "#%%\n"
    }
   },
   "outputs": [
    {
     "name": "stdout",
     "output_type": "stream",
     "text": [
      "Останется роз 3\n"
     ]
    }
   ],
   "source": [
    "remainderRoses = countRoses % countRosesInBouquet\n",
    "print(\"Останется роз\",remainderRoses)"
   ]
  },
  {
   "cell_type": "markdown",
   "id": "cd1c1a60",
   "metadata": {
    "id": "cd1c1a60"
   },
   "source": [
    "5. Используя функцию print() в новой ячейке, напишите команду, которая выведет на экран ваше имя."
   ]
  },
  {
   "cell_type": "code",
   "execution_count": 5,
   "id": "277cd09a",
   "metadata": {
    "pycharm": {
     "name": "#%%\n"
    }
   },
   "outputs": [
    {
     "name": "stdout",
     "output_type": "stream",
     "text": [
      "Мое имя: Igor\n"
     ]
    }
   ],
   "source": [
    "name = \"Igor\"\n",
    "print(\"Мое имя:\", name)"
   ]
  },
  {
   "cell_type": "markdown",
   "id": "3111cf4d",
   "metadata": {
    "id": "3111cf4d"
   },
   "source": [
    "6. Запустите ячейку ниже и посмотрите, что получилось. Добавьте разделитель (аргумент sep), чтобы на выходе получилось, как у Блока в оригинале:"
   ]
  },
  {
   "cell_type": "code",
   "execution_count": 6,
   "id": "43d34899",
   "metadata": {
    "id": "43d34899"
   },
   "outputs": [
    {
     "name": "stdout",
     "output_type": "stream",
     "text": [
      "Ночь, улица, фонарь, аптека\n"
     ]
    }
   ],
   "source": [
    "print('Ночь','улица','фонарь','аптека', sep = \", \")"
   ]
  },
  {
   "cell_type": "markdown",
   "id": "978eb37b",
   "metadata": {
    "id": "978eb37b"
   },
   "source": [
    "7. На бензозаправке вы поняли, что проехав 255 км, вы потратили 19 литров бензина. Дополните команду в следующей ячейке таким образом, чтобы к тексту она выводила ещё и значение расхода:"
   ]
  },
  {
   "cell_type": "code",
   "execution_count": 7,
   "id": "23105d1d",
   "metadata": {
    "id": "23105d1d",
    "pycharm": {
     "name": "#%%\n"
    }
   },
   "outputs": [
    {
     "name": "stdout",
     "output_type": "stream",
     "text": [
      "Расход бензина на 100 км - 7.45\n"
     ]
    }
   ],
   "source": [
    "print('Расход бензина на 100 км -', round(19/(255/100),2))"
   ]
  }
 ],
 "metadata": {
  "colab": {
   "name": "Модуль 4. Домашнее задание (Женя Ракина).ipynb",
   "provenance": []
  },
  "kernelspec": {
   "display_name": "Python 3 (ipykernel)",
   "language": "python",
   "name": "python3"
  },
  "language_info": {
   "codemirror_mode": {
    "name": "ipython",
    "version": 3
   },
   "file_extension": ".py",
   "mimetype": "text/x-python",
   "name": "python",
   "nbconvert_exporter": "python",
   "pygments_lexer": "ipython3",
   "version": "3.8.11"
  }
 },
 "nbformat": 4,
 "nbformat_minor": 5
}